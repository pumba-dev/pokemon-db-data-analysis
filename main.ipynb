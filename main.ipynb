{
 "cells": [
  {
   "cell_type": "markdown",
   "id": "3415ba3d",
   "metadata": {},
   "source": [
    "# POKEMON DATABASE - DATA ANALYSIS\n",
    "\n",
    "> Neste notebook, vamos explorar e analisar uma base de dados completa de Pokémon, extraída de fontes públicas e enriquecida com informações adicionais, como atributos de batalha, habilidades, fraquezas e locais de captura.\n",
    "\n",
    "O objetivo deste trabalho é aplicar técnicas de análise de dados para responder perguntas relevantes, identificar padrões, tendências e insights que possam ser úteis para jogadores, pesquisadores ou entusiastas do universo Pokémon.\n",
    "\n",
    "Ao longo do notebook, você encontrará:\n",
    "- Bibliotecas utilizadas\n",
    "- Extração, limpeza e preparação dos dados \n",
    "- Dicionário de dados\n",
    "- Análise de qualidade e exploratória dos dados\n",
    "- Visualizações para facilitar a compreensão dos dados\n",
    "- Descoberta de relações entre tipos, habilidades, fraquezas e desempenho\n",
    "- Insights sobre distribuição, raridade e características marcantes dos Pokémon"
   ]
  },
  {
   "cell_type": "markdown",
   "id": "7bd7014b",
   "metadata": {},
   "source": [
    "## Bibliotecas Utilizadas\n"
   ]
  },
  {
   "cell_type": "markdown",
   "id": "d217a665",
   "metadata": {},
   "source": [
    "Para realizar a análise e manipulação dos dados neste notebook, utilizamos as seguintes bibliotecas Python:\n",
    "\n",
    "- **pandas**  \n",
    "  Utilizada para manipulação, limpeza e análise de dados em formato tabular (DataFrames). É a principal biblioteca para análise de dados estruturados em Python.\n",
    "\n",
    "- **beautifulsoup4**  \n",
    "  Usada para fazer parsing e extração de informações de arquivos HTML, permitindo coletar dados de páginas web de forma eficiente.\n",
    "\n",
    "- **requests**  \n",
    "  Permite realizar requisições HTTP para acessar APIs e baixar dados diretamente da internet, como a PokeAPI.\n",
    "\n",
    "- **plotly**  \n",
    "  Biblioteca para criação de visualizações interativas e dinâmicas, como gráficos e tabelas, facilitando a exploração visual dos dados.\n",
    "\n",
    "- **nbformat**  \n",
    "  Necessária para o funcionamento correto de notebooks Jupyter, especialmente para renderização de gráficos interativos (como os do Plotly) dentro do ambiente do notebook.\n"
   ]
  },
  {
   "cell_type": "code",
   "execution_count": 1,
   "id": "c49b49bd",
   "metadata": {},
   "outputs": [
    {
     "name": "stdout",
     "output_type": "stream",
     "text": [
      "Requirement already satisfied: pandas in c:\\users\\eduar\\appdata\\local\\programs\\python\\python312\\lib\\site-packages (2.3.0)\n",
      "Requirement already satisfied: numpy>=1.26.0 in c:\\users\\eduar\\appdata\\local\\programs\\python\\python312\\lib\\site-packages (from pandas) (2.0.0)\n",
      "Requirement already satisfied: python-dateutil>=2.8.2 in c:\\users\\eduar\\appdata\\roaming\\python\\python312\\site-packages (from pandas) (2.9.0.post0)\n",
      "Requirement already satisfied: pytz>=2020.1 in c:\\users\\eduar\\appdata\\local\\programs\\python\\python312\\lib\\site-packages (from pandas) (2025.2)\n",
      "Requirement already satisfied: tzdata>=2022.7 in c:\\users\\eduar\\appdata\\local\\programs\\python\\python312\\lib\\site-packages (from pandas) (2025.2)\n",
      "Requirement already satisfied: six>=1.5 in c:\\users\\eduar\\appdata\\local\\programs\\python\\python312\\lib\\site-packages (from python-dateutil>=2.8.2->pandas) (1.16.0)\n",
      "Note: you may need to restart the kernel to use updated packages.\n",
      "Requirement already satisfied: beautifulsoup4 in c:\\users\\eduar\\appdata\\local\\programs\\python\\python312\\lib\\site-packages (4.13.4)\n",
      "Requirement already satisfied: soupsieve>1.2 in c:\\users\\eduar\\appdata\\local\\programs\\python\\python312\\lib\\site-packages (from beautifulsoup4) (2.7)\n",
      "Requirement already satisfied: typing-extensions>=4.0.0 in c:\\users\\eduar\\appdata\\local\\programs\\python\\python312\\lib\\site-packages (from beautifulsoup4) (4.12.2)\n",
      "Note: you may need to restart the kernel to use updated packages.\n",
      "Requirement already satisfied: requests in c:\\users\\eduar\\appdata\\local\\programs\\python\\python312\\lib\\site-packages (2.32.3)\n",
      "Requirement already satisfied: charset-normalizer<4,>=2 in c:\\users\\eduar\\appdata\\local\\programs\\python\\python312\\lib\\site-packages (from requests) (3.4.1)\n",
      "Requirement already satisfied: idna<4,>=2.5 in c:\\users\\eduar\\appdata\\local\\programs\\python\\python312\\lib\\site-packages (from requests) (3.10)\n",
      "Requirement already satisfied: urllib3<3,>=1.21.1 in c:\\users\\eduar\\appdata\\local\\programs\\python\\python312\\lib\\site-packages (from requests) (2.4.0)\n",
      "Requirement already satisfied: certifi>=2017.4.17 in c:\\users\\eduar\\appdata\\local\\programs\\python\\python312\\lib\\site-packages (from requests) (2024.8.30)\n",
      "Note: you may need to restart the kernel to use updated packages.\n",
      "Requirement already satisfied: plotly in c:\\users\\eduar\\appdata\\local\\programs\\python\\python312\\lib\\site-packages (6.1.2)\n",
      "Requirement already satisfied: narwhals>=1.15.1 in c:\\users\\eduar\\appdata\\local\\programs\\python\\python312\\lib\\site-packages (from plotly) (1.43.1)\n",
      "Requirement already satisfied: packaging in c:\\users\\eduar\\appdata\\local\\programs\\python\\python312\\lib\\site-packages (from plotly) (24.1)\n",
      "Note: you may need to restart the kernel to use updated packages.\n",
      "Requirement already satisfied: nbformat in c:\\users\\eduar\\appdata\\local\\programs\\python\\python312\\lib\\site-packages (5.10.4)\n",
      "Requirement already satisfied: fastjsonschema>=2.15 in c:\\users\\eduar\\appdata\\local\\programs\\python\\python312\\lib\\site-packages (from nbformat) (2.21.1)\n",
      "Requirement already satisfied: jsonschema>=2.6 in c:\\users\\eduar\\appdata\\local\\programs\\python\\python312\\lib\\site-packages (from nbformat) (4.24.0)\n",
      "Requirement already satisfied: jupyter-core!=5.0.*,>=4.12 in c:\\users\\eduar\\appdata\\roaming\\python\\python312\\site-packages (from nbformat) (5.8.1)\n",
      "Requirement already satisfied: traitlets>=5.1 in c:\\users\\eduar\\appdata\\roaming\\python\\python312\\site-packages (from nbformat) (5.14.3)\n",
      "Requirement already satisfied: attrs>=22.2.0 in c:\\users\\eduar\\appdata\\local\\programs\\python\\python312\\lib\\site-packages (from jsonschema>=2.6->nbformat) (25.3.0)\n",
      "Requirement already satisfied: jsonschema-specifications>=2023.03.6 in c:\\users\\eduar\\appdata\\local\\programs\\python\\python312\\lib\\site-packages (from jsonschema>=2.6->nbformat) (2025.4.1)\n",
      "Requirement already satisfied: referencing>=0.28.4 in c:\\users\\eduar\\appdata\\local\\programs\\python\\python312\\lib\\site-packages (from jsonschema>=2.6->nbformat) (0.36.2)\n",
      "Requirement already satisfied: rpds-py>=0.7.1 in c:\\users\\eduar\\appdata\\local\\programs\\python\\python312\\lib\\site-packages (from jsonschema>=2.6->nbformat) (0.25.1)\n",
      "Requirement already satisfied: platformdirs>=2.5 in c:\\users\\eduar\\appdata\\roaming\\python\\python312\\site-packages (from jupyter-core!=5.0.*,>=4.12->nbformat) (4.3.8)\n",
      "Requirement already satisfied: pywin32>=300 in c:\\users\\eduar\\appdata\\local\\programs\\python\\python312\\lib\\site-packages (from jupyter-core!=5.0.*,>=4.12->nbformat) (306)\n",
      "Requirement already satisfied: typing-extensions>=4.4.0 in c:\\users\\eduar\\appdata\\local\\programs\\python\\python312\\lib\\site-packages (from referencing>=0.28.4->jsonschema>=2.6->nbformat) (4.12.2)\n",
      "Note: you may need to restart the kernel to use updated packages.\n",
      "Requirement already satisfied: scipy in c:\\users\\eduar\\appdata\\local\\programs\\python\\python312\\lib\\site-packages (1.16.0)\n",
      "Requirement already satisfied: numpy<2.6,>=1.25.2 in c:\\users\\eduar\\appdata\\local\\programs\\python\\python312\\lib\\site-packages (from scipy) (2.0.0)\n",
      "Note: you may need to restart the kernel to use updated packages.\n",
      "Requirement already satisfied: kaleido in c:\\users\\eduar\\appdata\\local\\programs\\python\\python312\\lib\\site-packages (1.0.0)\n",
      "Requirement already satisfied: choreographer>=1.0.5 in c:\\users\\eduar\\appdata\\local\\programs\\python\\python312\\lib\\site-packages (from kaleido) (1.0.9)\n",
      "Requirement already satisfied: logistro>=1.0.8 in c:\\users\\eduar\\appdata\\local\\programs\\python\\python312\\lib\\site-packages (from kaleido) (1.1.0)\n",
      "Requirement already satisfied: orjson>=3.10.15 in c:\\users\\eduar\\appdata\\local\\programs\\python\\python312\\lib\\site-packages (from kaleido) (3.10.18)\n",
      "Requirement already satisfied: packaging in c:\\users\\eduar\\appdata\\local\\programs\\python\\python312\\lib\\site-packages (from kaleido) (24.1)\n",
      "Requirement already satisfied: simplejson>=3.19.3 in c:\\users\\eduar\\appdata\\local\\programs\\python\\python312\\lib\\site-packages (from choreographer>=1.0.5->kaleido) (3.20.1)\n",
      "Note: you may need to restart the kernel to use updated packages.\n",
      "Requirement already satisfied: seaborn in c:\\users\\eduar\\appdata\\local\\programs\\python\\python312\\lib\\site-packages (0.13.2)\n",
      "Requirement already satisfied: numpy!=1.24.0,>=1.20 in c:\\users\\eduar\\appdata\\local\\programs\\python\\python312\\lib\\site-packages (from seaborn) (2.0.0)\n",
      "Requirement already satisfied: pandas>=1.2 in c:\\users\\eduar\\appdata\\local\\programs\\python\\python312\\lib\\site-packages (from seaborn) (2.3.0)\n",
      "Requirement already satisfied: matplotlib!=3.6.1,>=3.4 in c:\\users\\eduar\\appdata\\local\\programs\\python\\python312\\lib\\site-packages (from seaborn) (3.10.3)\n",
      "Requirement already satisfied: contourpy>=1.0.1 in c:\\users\\eduar\\appdata\\local\\programs\\python\\python312\\lib\\site-packages (from matplotlib!=3.6.1,>=3.4->seaborn) (1.3.2)\n",
      "Requirement already satisfied: cycler>=0.10 in c:\\users\\eduar\\appdata\\local\\programs\\python\\python312\\lib\\site-packages (from matplotlib!=3.6.1,>=3.4->seaborn) (0.12.1)\n",
      "Requirement already satisfied: fonttools>=4.22.0 in c:\\users\\eduar\\appdata\\local\\programs\\python\\python312\\lib\\site-packages (from matplotlib!=3.6.1,>=3.4->seaborn) (4.58.4)\n",
      "Requirement already satisfied: kiwisolver>=1.3.1 in c:\\users\\eduar\\appdata\\local\\programs\\python\\python312\\lib\\site-packages (from matplotlib!=3.6.1,>=3.4->seaborn) (1.4.8)\n",
      "Requirement already satisfied: packaging>=20.0 in c:\\users\\eduar\\appdata\\local\\programs\\python\\python312\\lib\\site-packages (from matplotlib!=3.6.1,>=3.4->seaborn) (24.1)\n",
      "Requirement already satisfied: pillow>=8 in c:\\users\\eduar\\appdata\\local\\programs\\python\\python312\\lib\\site-packages (from matplotlib!=3.6.1,>=3.4->seaborn) (10.4.0)\n",
      "Requirement already satisfied: pyparsing>=2.3.1 in c:\\users\\eduar\\appdata\\local\\programs\\python\\python312\\lib\\site-packages (from matplotlib!=3.6.1,>=3.4->seaborn) (3.2.1)\n",
      "Requirement already satisfied: python-dateutil>=2.7 in c:\\users\\eduar\\appdata\\roaming\\python\\python312\\site-packages (from matplotlib!=3.6.1,>=3.4->seaborn) (2.9.0.post0)\n",
      "Requirement already satisfied: pytz>=2020.1 in c:\\users\\eduar\\appdata\\local\\programs\\python\\python312\\lib\\site-packages (from pandas>=1.2->seaborn) (2025.2)\n",
      "Requirement already satisfied: tzdata>=2022.7 in c:\\users\\eduar\\appdata\\local\\programs\\python\\python312\\lib\\site-packages (from pandas>=1.2->seaborn) (2025.2)\n",
      "Requirement already satisfied: six>=1.5 in c:\\users\\eduar\\appdata\\local\\programs\\python\\python312\\lib\\site-packages (from python-dateutil>=2.7->matplotlib!=3.6.1,>=3.4->seaborn) (1.16.0)\n",
      "Note: you may need to restart the kernel to use updated packages.\n",
      "Requirement already satisfied: matplotlib in c:\\users\\eduar\\appdata\\local\\programs\\python\\python312\\lib\\site-packages (3.10.3)\n",
      "Requirement already satisfied: contourpy>=1.0.1 in c:\\users\\eduar\\appdata\\local\\programs\\python\\python312\\lib\\site-packages (from matplotlib) (1.3.2)\n",
      "Requirement already satisfied: cycler>=0.10 in c:\\users\\eduar\\appdata\\local\\programs\\python\\python312\\lib\\site-packages (from matplotlib) (0.12.1)\n",
      "Requirement already satisfied: fonttools>=4.22.0 in c:\\users\\eduar\\appdata\\local\\programs\\python\\python312\\lib\\site-packages (from matplotlib) (4.58.4)\n",
      "Requirement already satisfied: kiwisolver>=1.3.1 in c:\\users\\eduar\\appdata\\local\\programs\\python\\python312\\lib\\site-packages (from matplotlib) (1.4.8)\n",
      "Requirement already satisfied: numpy>=1.23 in c:\\users\\eduar\\appdata\\local\\programs\\python\\python312\\lib\\site-packages (from matplotlib) (2.0.0)\n",
      "Requirement already satisfied: packaging>=20.0 in c:\\users\\eduar\\appdata\\local\\programs\\python\\python312\\lib\\site-packages (from matplotlib) (24.1)\n",
      "Requirement already satisfied: pillow>=8 in c:\\users\\eduar\\appdata\\local\\programs\\python\\python312\\lib\\site-packages (from matplotlib) (10.4.0)\n",
      "Requirement already satisfied: pyparsing>=2.3.1 in c:\\users\\eduar\\appdata\\local\\programs\\python\\python312\\lib\\site-packages (from matplotlib) (3.2.1)\n",
      "Requirement already satisfied: python-dateutil>=2.7 in c:\\users\\eduar\\appdata\\roaming\\python\\python312\\site-packages (from matplotlib) (2.9.0.post0)\n",
      "Requirement already satisfied: six>=1.5 in c:\\users\\eduar\\appdata\\local\\programs\\python\\python312\\lib\\site-packages (from python-dateutil>=2.7->matplotlib) (1.16.0)\n",
      "Note: you may need to restart the kernel to use updated packages.\n"
     ]
    }
   ],
   "source": [
    "\n",
    "%pip install pandas\n",
    "%pip install beautifulsoup4\n",
    "%pip install requests\n",
    "%pip install plotly\n",
    "%pip install nbformat\n",
    "%pip install scipy\n",
    "%pip install kaleido\n",
    "%pip install seaborn\n",
    "%pip install matplotlib"
   ]
  },
  {
   "cell_type": "markdown",
   "id": "197e7927",
   "metadata": {},
   "source": [
    "## Extração, Limpeza e Preparação dos Dados"
   ]
  },
  {
   "cell_type": "markdown",
   "id": "041b702d",
   "metadata": {},
   "source": [
    "O processo de construção da base de dados utilizada nesta análise envolveu diversas etapas de extração, enriquecimento e preparação dos dados, conforme descrito abaixo:\n",
    "\n",
    "- **Extração Inicial:**  \n",
    "  A base principal de Pokémon foi extraída do site oficial [Pokédex Pokémon](https://www.pokemon.com/br/pokedex), contendo informações básicas de cada espécie.\n",
    "\n",
    "- **Enriquecimento com Localização de Captura:**  \n",
    "  Utilizou-se a [PokeAPI](https://pokeapi.co/) para complementar a base, adicionando as localizações de captura de cada Pokémon, tornando a análise mais rica e detalhada.\n",
    "\n",
    "- **Resgate de Dados de Status:**  \n",
    "  Os dados de status dos Pokémon (HP, Attack, Defense, Sp. Attack, Sp. Defense e Speed) foram extraídos do site [Pokémon Database](https://pokemondb.net/pokedex/all) utilizando a biblioteca BeautifulSoup para leitura do HTML.  \n",
    "  - Para Pokémon com diferentes formas, foi considerado o status da forma padrão/normal.\n",
    "\n",
    "- **Normalização dos valores:**  \n",
    "  Para garantir a consistência e facilitar a análise, os valores numéricos de altura (`height`) e peso (`weight`) dos Pokémon foram convertidos para o tipo `float`, representando metros e quilogramas, respectivamente. Além disso, todos os nomes, tipos, habilidades e fraquezas foram padronizados para letras minúsculas, evitando duplicidade de categorias devido a diferenças de capitalização.\n",
    "\n",
    "- **Codificação de Dados Categóricos:**  \n",
    "  Para lidar com atributos que possuem múltiplos valores (como habilidades, tipos, fraquezas e locais de captura), foi aplicada a técnica de One Hot Encoding, facilitando a análise e a modelagem dos dados.\n",
    "\n",
    "Essas etapas garantem uma base de dados consolidada, limpa e pronta para análises mais profundas e visualizações"
   ]
  },
  {
   "cell_type": "code",
   "execution_count": 2,
   "id": "07c06187",
   "metadata": {},
   "outputs": [
    {
     "name": "stdout",
     "output_type": "stream",
     "text": [
      "Tamanho do DataFrame: (1025, 14)\n",
      "Colunas do DataFrame: ['abilities', 'detailPageURL', 'weight', 'weakness', 'number', 'height', 'collectibles_slug', 'featured', 'slug', 'name', 'ThumbnailAltText', 'ThumbnailImage', 'id', 'type']\n"
     ]
    }
   ],
   "source": [
    "import json\n",
    "import pandas as pd\n",
    "\n",
    "# Ler o JSON extraindo do site oficial da pokedex\n",
    "with open('./assets/pokedex-db.json', \"r\", encoding=\"utf-8\") as f:\n",
    "    pokedex_data = json.load(f)\n",
    "\n",
    "# Converter para DataFrame\n",
    "df = pd.DataFrame(pokedex_data)\n",
    "\n",
    "print(f\"Tamanho do DataFrame: {df.shape}\")\n",
    "print(f\"Colunas do DataFrame: {df.columns.tolist()}\")"
   ]
  },
  {
   "cell_type": "code",
   "execution_count": 3,
   "id": "14b36020",
   "metadata": {},
   "outputs": [
    {
     "name": "stdout",
     "output_type": "stream",
     "text": [
      "Tamanho do DataFrame após remoção de colunas: (1025, 7)\n",
      "\n",
      "\n",
      "    abilities  weight                      weakness  height        name  id  \\\n",
      "0  [overgrow]     6.9  [fire, ice, flying, psychic]     0.7   bulbasaur   1   \n",
      "1  [overgrow]    13.0  [fire, ice, flying, psychic]     1.0     ivysaur   2   \n",
      "2  [overgrow]   100.0  [fire, ice, flying, psychic]     2.0    venusaur   3   \n",
      "3     [blaze]     8.5         [water, ground, rock]     0.6  charmander   4   \n",
      "4     [blaze]    19.0         [water, ground, rock]     1.1  charmeleon   5   \n",
      "\n",
      "              type  \n",
      "0  [grass, poison]  \n",
      "1  [grass, poison]  \n",
      "2  [grass, poison]  \n",
      "3           [fire]  \n",
      "4           [fire]  \n"
     ]
    }
   ],
   "source": [
    "\n",
    "# Removendo colunas desnecessárias se existirem\n",
    "if 'number' in df.columns:\n",
    "    df.drop(columns=['number'], inplace=True)\n",
    "if 'detailPageURL' in df.columns:\n",
    "    df.drop(columns=['detailPageURL'], inplace=True)\n",
    "if 'collectibles_slug' in df.columns:\n",
    "    df.drop(columns=['collectibles_slug'], inplace=True)\n",
    "if 'featured' in df.columns:\n",
    "    df.drop(columns=['featured'], inplace=True)\n",
    "if 'slug' in df.columns:\n",
    "    df.drop(columns=['slug'], inplace=True)\n",
    "if 'ThumbnailAltText' in df.columns:\n",
    "    df.drop(columns=['ThumbnailAltText'], inplace=True)\n",
    "if 'ThumbnailImage' in df.columns:\n",
    "    df.drop(columns=['ThumbnailImage'], inplace=True)\n",
    "    \n",
    "# Converter valores das colunas de tipo string para minusculo\n",
    "df['name'] = df['name'].str.lower()\n",
    "for col in ['type', 'abilities', 'weakness']:\n",
    "    df[col] = df[col].apply(lambda x: [i.lower() for i in x] if isinstance(x, list) else x)\n",
    "     \n",
    "print(f\"Tamanho do DataFrame após remoção de colunas: {df.shape}\\n\\n\")\n",
    "print(df.head(5))\n",
    "        "
   ]
  },
  {
   "cell_type": "code",
   "execution_count": 4,
   "id": "9803c4a1",
   "metadata": {},
   "outputs": [
    {
     "name": "stdout",
     "output_type": "stream",
     "text": [
      "Tamanho do DataFrame após atualização: (1025, 14)\n",
      "\n",
      "\n",
      "   id        name             type  height  weight  attack  defense    hp  \\\n",
      "0   1   bulbasaur  [grass, poison]     0.7     6.9    49.0     49.0  45.0   \n",
      "1   2     ivysaur  [grass, poison]     1.0    13.0    62.0     63.0  60.0   \n",
      "2   3    venusaur  [grass, poison]     2.0   100.0    82.0     83.0  80.0   \n",
      "3   4  charmander           [fire]     0.6     8.5    52.0     43.0  39.0   \n",
      "4   5  charmeleon           [fire]     1.1    19.0    64.0     58.0  58.0   \n",
      "\n",
      "   sp_atk  sp_def  speed  total   abilities                      weakness  \n",
      "0    65.0    65.0   45.0  318.0  [overgrow]  [fire, ice, flying, psychic]  \n",
      "1    80.0    80.0   60.0  405.0  [overgrow]  [fire, ice, flying, psychic]  \n",
      "2   100.0   100.0   80.0  525.0  [overgrow]  [fire, ice, flying, psychic]  \n",
      "3    60.0    50.0   65.0  309.0     [blaze]         [water, ground, rock]  \n",
      "4    80.0    65.0   80.0  405.0     [blaze]         [water, ground, rock]  \n"
     ]
    }
   ],
   "source": [
    "from bs4 import BeautifulSoup\n",
    "import json\n",
    "\n",
    "# Abra e leia o arquivo HTML\n",
    "with open('./assets/pokemondb-net.html', 'r', encoding='utf-8') as f:\n",
    "    html = f.read()\n",
    "\n",
    "soup = BeautifulSoup(html, 'html.parser')\n",
    "\n",
    "# Encontre a tabela com id=\"pokedex\"\n",
    "table = soup.find('table', {'id': 'pokedex'})\n",
    "\n",
    "# Pegue o cabeçalho da tabela\n",
    "headers = [th.get_text(strip=True) for th in table.find('thead').find_all('th')]\n",
    "\n",
    "# Descubra o índice da coluna 'Type'\n",
    "type_index = headers.index('Type')\n",
    "\n",
    "# Remova 'Type' dos headers\n",
    "headers.pop(type_index)\n",
    "\n",
    "# Extraia os dados das linhas\n",
    "data = []\n",
    "for row in table.find('tbody').find_all('tr'):\n",
    "    cols = row.find_all('td')\n",
    "    if not cols:\n",
    "        continue\n",
    "\n",
    "    # Extrai os textos das colunas, exceto 'Type'\n",
    "    col_texts = [td.get_text(strip=True) for td in cols]\n",
    "    col_texts.pop(type_index)\n",
    "\n",
    "    # Tratamento especial para a coluna 'Name'\n",
    "    name_td = cols[headers.index('Name')]\n",
    "    name_a = name_td.find('a')\n",
    "    name = name_a.get_text(strip=True) if name_a else name_td.get_text(strip=True)\n",
    "    form_small = name_td.find('small')\n",
    "    form = form_small.get_text(strip=True) if form_small else None\n",
    "\n",
    "    # Substitui o valor da coluna 'Name' pelo nome extraído\n",
    "    col_texts[headers.index('Name')] = name\n",
    "\n",
    "    # Cria o dicionário\n",
    "    item = dict(zip(headers, col_texts))\n",
    "    if form:\n",
    "        item['form'] = form\n",
    "    data.append(item)\n",
    "    \n",
    "# Remover os pokemons repetidos mantendo apenas o que primeiro aparece na lista\n",
    "unique_data = []\n",
    "seen_ids = set()\n",
    "for item in data:\n",
    "    poke_id = item.get(\"#\")\n",
    "    if poke_id and poke_id not in seen_ids:\n",
    "        unique_data.append(item)\n",
    "        seen_ids.add(poke_id)\n",
    " \n",
    "# Salvar em um arquivo JSON\n",
    "with open('./outputs/pokemon-stats-db.json', 'w', encoding='utf-8') as f:\n",
    "    json.dump(unique_data, f, ensure_ascii=False, indent=4)\n",
    "\n",
    "# Concatenar os dados de 'attack', 'defense', 'hp', 'sp_atk', 'sp_def', 'speed' ao DataFrame df comparando o \"id\" do df com o \"#\" do unique_data\n",
    "for item in unique_data:\n",
    "    poke_id = item.get(\"#\")\n",
    "    if poke_id and poke_id.isdigit():\n",
    "        poke_id = int(poke_id)\n",
    "\n",
    "        df.loc[df['id'] == poke_id, ['attack', 'defense', 'hp', 'sp_atk', 'sp_def', 'speed', 'total']] = [\n",
    "            int(item.get('Attack')),\n",
    "            int(item.get('Defense')),\n",
    "            int(item.get('HP')),\n",
    "            int(item.get('Sp. Atk')),\n",
    "            int(item.get('Sp. Def')),\n",
    "            int(item.get('Speed')),\n",
    "            int(item.get('Total'))\n",
    "        ]\n",
    "        \n",
    "    \n",
    "# Ordenando colunas\n",
    "df = df[['id', 'name', 'type', 'height', 'weight', 'attack', 'defense', 'hp', 'sp_atk', 'sp_def', 'speed', 'total', 'abilities', 'weakness']]\n",
    "         \n",
    "print(f\"Tamanho do DataFrame após atualização: {df.shape}\\n\\n\")\n",
    "print(df.head())  # Exibir as primeiras linhas do DataFrame atualizado"
   ]
  },
  {
   "cell_type": "code",
   "execution_count": 5,
   "id": "71b12020",
   "metadata": {},
   "outputs": [
    {
     "name": "stdout",
     "output_type": "stream",
     "text": [
      "Dados de localizações de captura carregados do cache.\n",
      "Tamanho do DataFrame atualizado: (1025, 15)\n",
      "   id        name             type  height  weight  attack  defense    hp  \\\n",
      "0   1   bulbasaur  [grass, poison]     0.7     6.9    49.0     49.0  45.0   \n",
      "1   2     ivysaur  [grass, poison]     1.0    13.0    62.0     63.0  60.0   \n",
      "2   3    venusaur  [grass, poison]     2.0   100.0    82.0     83.0  80.0   \n",
      "3   4  charmander           [fire]     0.6     8.5    52.0     43.0  39.0   \n",
      "4   5  charmeleon           [fire]     1.1    19.0    64.0     58.0  58.0   \n",
      "\n",
      "   sp_atk  sp_def  speed  total   abilities                      weakness  \\\n",
      "0    65.0    65.0   45.0  318.0  [overgrow]  [fire, ice, flying, psychic]   \n",
      "1    80.0    80.0   60.0  405.0  [overgrow]  [fire, ice, flying, psychic]   \n",
      "2   100.0   100.0   80.0  525.0  [overgrow]  [fire, ice, flying, psychic]   \n",
      "3    60.0    50.0   65.0  309.0     [blaze]         [water, ground, rock]   \n",
      "4    80.0    65.0   80.0  405.0     [blaze]         [water, ground, rock]   \n",
      "\n",
      "                                    capture_location  \n",
      "0  [cerulean-city-area, pallet-town-area, lumiose...  \n",
      "1                                                 []  \n",
      "2                                                 []  \n",
      "3  [pallet-town-area, kanto-route-24-area, lumios...  \n",
      "4                                                 []  \n"
     ]
    }
   ],
   "source": [
    "import requests\n",
    "import time\n",
    "import os\n",
    "\n",
    "# Verificando Cache\n",
    "if os.path.exists('./outputs/pokemon_capture_locations.json'):\n",
    "    df_capture_locations = pd.read_json('./outputs/pokemon_capture_locations.json', orient='records')\n",
    "    df = df.merge(df_capture_locations, on='id', how='outer')\n",
    "    print(\"Dados de localizações de captura carregados do cache.\")\n",
    "    \n",
    "# Resgatando Localizações de Captura \n",
    "else:\n",
    "    def get_capture_locations(number):\n",
    "        url = f\"https://pokeapi.co/api/v2/pokemon/{number}/encounters\"\n",
    "        try:\n",
    "            response = requests.get(url, timeout=10)\n",
    "            if response.status_code == 200:\n",
    "                data = response.json()\n",
    "                \n",
    "                # Extrai o nome dos locais de captura\n",
    "                locations = [loc['location_area']['name'] for loc in data]\n",
    "                # Converte os nomes para minúsculas\n",
    "                locations = [loc.lower() for loc in locations]\n",
    "                return locations\n",
    "            else:\n",
    "                return []\n",
    "        except Exception as e:\n",
    "            return []\n",
    "    \n",
    "    # Adicionar coluna para localizações de captura\n",
    "    df['capture_location'] = None\n",
    "        \n",
    "    # Para cada item da base de dados, resgata as localizações de captura\n",
    "    for index, row in df.iterrows():\n",
    "        number = row['id']\n",
    "        locations = get_capture_locations(number)\n",
    "        print(f\"Localizações de captura para o Pokémon número {number}: {locations}\")\n",
    "        df.at[index, 'capture_location'] = locations\n",
    "        # time.sleep(1)  # Respeitar o limite de requisições\n",
    "\n",
    "    # Salvar a base apenas com colunas ID e locations para resgatar e evitar fazer requisição novamente\n",
    "    df_capture_locations = df[['id', 'capture_location']]\n",
    "    df_capture_locations.to_json('./outputs/pokemon_capture_locations.json', orient='records', force_ascii=False, indent=4)\n",
    "    \n",
    "\n",
    "# Salvar \n",
    "basicdf = df\n",
    "df.to_csv('./outputs/pokemon-basic-db.csv', index=False)\n",
    "\n",
    "print(f\"Tamanho do DataFrame atualizado: {df.shape}\")\n",
    "print(df.head())  # Exibir as primeiras linhas do DataFrame atualizado\n"
   ]
  },
  {
   "cell_type": "code",
   "execution_count": 6,
   "id": "f44da374",
   "metadata": {},
   "outputs": [
    {
     "name": "stdout",
     "output_type": "stream",
     "text": [
      "CSV com one-hot encoding gerado com sucesso!\n",
      "Tamanho do DataFrame final: (1025, 1188)\n",
      "\n",
      "\n",
      "   id        name  height  weight  attack  defense    hp  sp_atk  sp_def  \\\n",
      "0   1   bulbasaur     0.7     6.9    49.0     49.0  45.0    65.0    65.0   \n",
      "1   2     ivysaur     1.0    13.0    62.0     63.0  60.0    80.0    80.0   \n",
      "2   3    venusaur     2.0   100.0    82.0     83.0  80.0   100.0   100.0   \n",
      "3   4  charmander     0.6     8.5    52.0     43.0  39.0    60.0    50.0   \n",
      "4   5  charmeleon     1.1    19.0    64.0     58.0  58.0    80.0    65.0   \n",
      "\n",
      "   speed  ...  location_ultra-space-ultra-desert  \\\n",
      "0   45.0  ...                                  0   \n",
      "1   60.0  ...                                  0   \n",
      "2   80.0  ...                                  0   \n",
      "3   65.0  ...                                  0   \n",
      "4   80.0  ...                                  0   \n",
      "\n",
      "   location_verdant-cavern--trial-site-area  location_ultra-space-ultra-plant  \\\n",
      "0                                         0                                 0   \n",
      "1                                         0                                 0   \n",
      "2                                         0                                 0   \n",
      "3                                         0                                 0   \n",
      "4                                         0                                 0   \n",
      "\n",
      "   location_lush-jungle-all-areas  location_ultra-space-ultra-crater  \\\n",
      "0                               0                                  0   \n",
      "1                               0                                  0   \n",
      "2                               0                                  0   \n",
      "3                               0                                  0   \n",
      "4                               0                                  0   \n",
      "\n",
      "   location_ultra-space-ultra-forest  location_alola-route-17-all-areas  \\\n",
      "0                                  0                                  0   \n",
      "1                                  0                                  0   \n",
      "2                                  0                                  0   \n",
      "3                                  0                                  0   \n",
      "4                                  0                                  0   \n",
      "\n",
      "   location_ultra-space-ultra-ruin  location_mount-lanakila-peak  \\\n",
      "0                                0                             0   \n",
      "1                                0                             0   \n",
      "2                                0                             0   \n",
      "3                                0                             0   \n",
      "4                                0                             0   \n",
      "\n",
      "   location_ultra-megalopolis-area  \n",
      "0                                0  \n",
      "1                                0  \n",
      "2                                0  \n",
      "3                                0  \n",
      "4                                0  \n",
      "\n",
      "[5 rows x 1188 columns]\n"
     ]
    }
   ],
   "source": [
    "# One-hot encoding para cada campo de array\n",
    "\n",
    "# Garante que os campos de array estejam como listas (caso estejam ausentes)\n",
    "for col in ['abilities', 'type', 'weakness', 'capture_location']:\n",
    "    df[col] = df[col].apply(lambda x: x if isinstance(x, list) else [])\n",
    "\n",
    "# Extrair valores únicos de habilidades, tipos, fraquezas e localizações de captura\n",
    "abilities_dummies = df['abilities'].explode().str.strip().str.lower().dropna().unique()\n",
    "type_dummies = df['type'].explode().str.strip().str.lower().dropna().unique()\n",
    "weakness_dummies = df['weakness'].explode().str.strip().str.lower().dropna().unique()\n",
    "capture_location_dummies = df['capture_location'].explode().str.strip().str.lower().dropna().unique()\n",
    "\n",
    "# Para cada habilidade, tipo, fraqueza e localização de captura, cria colunas one-hot verificando se o valor está presente\n",
    "df_abilities = df['abilities'].apply(lambda x: pd.Series({f'ability_{a}': int(a in x) for a in abilities_dummies}))\n",
    "df_type = df['type'].apply(lambda x: pd.Series({f'type_{t}': int(t in x) for t in type_dummies}))\n",
    "df_weakness = df['weakness'].apply(lambda x: pd.Series({f'weakness_{w}': int(w in x) for w in weakness_dummies}))\n",
    "df_capture_location = df['capture_location'].apply(lambda x: pd.Series({f'location_{l}': int(l in x) for l in capture_location_dummies}))\n",
    "\n",
    "# Concatenar tudo\n",
    "df_final = pd.concat([\n",
    "    df.drop(['abilities', 'type', 'weakness', 'capture_location'], axis=1),\n",
    "    df_abilities,\n",
    "    df_type,\n",
    "    df_weakness,\n",
    "    df_capture_location\n",
    "], axis=1)\n",
    "\n",
    "# Salvar em CSV\n",
    "df_final.to_csv('./outputs/pokedex-encoded-db.csv', index=False, encoding='utf-8')\n",
    "\n",
    "print(\"CSV com one-hot encoding gerado com sucesso!\")\n",
    "print(f\"Tamanho do DataFrame final: {df_final.shape}\\n\\n\")\n",
    "print(df_final.head(5))"
   ]
  },
  {
   "cell_type": "markdown",
   "id": "2dc85bfa",
   "metadata": {},
   "source": [
    "## Dicionário de dados"
   ]
  },
  {
   "cell_type": "code",
   "execution_count": 7,
   "id": "cce6b5ce",
   "metadata": {},
   "outputs": [
    {
     "data": {
      "application/vnd.plotly.v1+json": {
       "config": {
        "plotlyServerURL": "https://plot.ly"
       },
       "data": [
        {
         "cells": {
          "align": "left",
          "fill": {
           "color": "lavender"
          },
          "values": [
           [
            "id",
            "name",
            "type",
            "height",
            "weight",
            "attack",
            "defense",
            "hp",
            "sp_atk",
            "sp_def",
            "speed",
            "total",
            "abilities",
            "weakness",
            "capture_location"
           ],
           [
            "int",
            "str",
            "list[str]",
            "float",
            "float",
            "int",
            "int",
            "int",
            "int",
            "int",
            "int",
            "int",
            "list[str]",
            "list[str]",
            "list[str]"
           ],
           [
            "Numérico",
            "Categórico",
            "Categórico (lista)",
            "Numérico",
            "Numérico",
            "Numérico",
            "Numérico",
            "Numérico",
            "Numérico",
            "Numérico",
            "Numérico",
            "Numérico",
            "Categórico (lista)",
            "Categórico (lista)",
            "Categórico (lista)"
           ],
           [
            "Identificador único do Pokémon (inteiro, corresponde ao número oficial na Pokédex).",
            "Nome do Pokémon.",
            "Lista de tipos do Pokémon (ex: ['grass', 'poison']). Um Pokémon pode ter um ou dois tipos.",
            "Altura do Pokémon em metros (float, ex: 0.7).",
            "Peso do Pokémon em quilogramas (float, ex: 6.9).",
            "Valor numérico do atributo de ataque base do Pokémon.",
            "Valor numérico do atributo de defesa base do Pokémon.",
            "Valor numérico dos pontos de vida (HP) base do Pokémon.",
            "Valor numérico do ataque especial base do Pokémon.",
            "Valor numérico da defesa especial base do Pokémon.",
            "Valor numérico da velocidade base do Pokémon.",
            "Soma total dos atributos base (attack, defense, hp, sp_atk, sp_def, speed) do Pokémon.",
            "Lista de habilidades do Pokémon (ex: ['Overgrow', 'Chlorophyll']).",
            "Lista de fraquezas do Pokémon, ou seja, tipos contra os quais ele é vulnerável (ex: ['fire', 'ice']).",
            "Lista de locais onde o Pokémon pode ser capturado nos jogos (ex: ['kanto-route-2', 'kanto-viridian-forest'])."
           ]
          ]
         },
         "header": {
          "align": "left",
          "fill": {
           "color": "paleturquoise"
          },
          "values": [
           "Coluna",
           "Tipo",
           "Formato",
           "Descrição"
          ]
         },
         "type": "table"
        }
       ],
       "layout": {
        "height": 600,
        "template": {
         "data": {
          "bar": [
           {
            "error_x": {
             "color": "#2a3f5f"
            },
            "error_y": {
             "color": "#2a3f5f"
            },
            "marker": {
             "line": {
              "color": "#E5ECF6",
              "width": 0.5
             },
             "pattern": {
              "fillmode": "overlay",
              "size": 10,
              "solidity": 0.2
             }
            },
            "type": "bar"
           }
          ],
          "barpolar": [
           {
            "marker": {
             "line": {
              "color": "#E5ECF6",
              "width": 0.5
             },
             "pattern": {
              "fillmode": "overlay",
              "size": 10,
              "solidity": 0.2
             }
            },
            "type": "barpolar"
           }
          ],
          "carpet": [
           {
            "aaxis": {
             "endlinecolor": "#2a3f5f",
             "gridcolor": "white",
             "linecolor": "white",
             "minorgridcolor": "white",
             "startlinecolor": "#2a3f5f"
            },
            "baxis": {
             "endlinecolor": "#2a3f5f",
             "gridcolor": "white",
             "linecolor": "white",
             "minorgridcolor": "white",
             "startlinecolor": "#2a3f5f"
            },
            "type": "carpet"
           }
          ],
          "choropleth": [
           {
            "colorbar": {
             "outlinewidth": 0,
             "ticks": ""
            },
            "type": "choropleth"
           }
          ],
          "contour": [
           {
            "colorbar": {
             "outlinewidth": 0,
             "ticks": ""
            },
            "colorscale": [
             [
              0,
              "#0d0887"
             ],
             [
              0.1111111111111111,
              "#46039f"
             ],
             [
              0.2222222222222222,
              "#7201a8"
             ],
             [
              0.3333333333333333,
              "#9c179e"
             ],
             [
              0.4444444444444444,
              "#bd3786"
             ],
             [
              0.5555555555555556,
              "#d8576b"
             ],
             [
              0.6666666666666666,
              "#ed7953"
             ],
             [
              0.7777777777777778,
              "#fb9f3a"
             ],
             [
              0.8888888888888888,
              "#fdca26"
             ],
             [
              1,
              "#f0f921"
             ]
            ],
            "type": "contour"
           }
          ],
          "contourcarpet": [
           {
            "colorbar": {
             "outlinewidth": 0,
             "ticks": ""
            },
            "type": "contourcarpet"
           }
          ],
          "heatmap": [
           {
            "colorbar": {
             "outlinewidth": 0,
             "ticks": ""
            },
            "colorscale": [
             [
              0,
              "#0d0887"
             ],
             [
              0.1111111111111111,
              "#46039f"
             ],
             [
              0.2222222222222222,
              "#7201a8"
             ],
             [
              0.3333333333333333,
              "#9c179e"
             ],
             [
              0.4444444444444444,
              "#bd3786"
             ],
             [
              0.5555555555555556,
              "#d8576b"
             ],
             [
              0.6666666666666666,
              "#ed7953"
             ],
             [
              0.7777777777777778,
              "#fb9f3a"
             ],
             [
              0.8888888888888888,
              "#fdca26"
             ],
             [
              1,
              "#f0f921"
             ]
            ],
            "type": "heatmap"
           }
          ],
          "histogram": [
           {
            "marker": {
             "pattern": {
              "fillmode": "overlay",
              "size": 10,
              "solidity": 0.2
             }
            },
            "type": "histogram"
           }
          ],
          "histogram2d": [
           {
            "colorbar": {
             "outlinewidth": 0,
             "ticks": ""
            },
            "colorscale": [
             [
              0,
              "#0d0887"
             ],
             [
              0.1111111111111111,
              "#46039f"
             ],
             [
              0.2222222222222222,
              "#7201a8"
             ],
             [
              0.3333333333333333,
              "#9c179e"
             ],
             [
              0.4444444444444444,
              "#bd3786"
             ],
             [
              0.5555555555555556,
              "#d8576b"
             ],
             [
              0.6666666666666666,
              "#ed7953"
             ],
             [
              0.7777777777777778,
              "#fb9f3a"
             ],
             [
              0.8888888888888888,
              "#fdca26"
             ],
             [
              1,
              "#f0f921"
             ]
            ],
            "type": "histogram2d"
           }
          ],
          "histogram2dcontour": [
           {
            "colorbar": {
             "outlinewidth": 0,
             "ticks": ""
            },
            "colorscale": [
             [
              0,
              "#0d0887"
             ],
             [
              0.1111111111111111,
              "#46039f"
             ],
             [
              0.2222222222222222,
              "#7201a8"
             ],
             [
              0.3333333333333333,
              "#9c179e"
             ],
             [
              0.4444444444444444,
              "#bd3786"
             ],
             [
              0.5555555555555556,
              "#d8576b"
             ],
             [
              0.6666666666666666,
              "#ed7953"
             ],
             [
              0.7777777777777778,
              "#fb9f3a"
             ],
             [
              0.8888888888888888,
              "#fdca26"
             ],
             [
              1,
              "#f0f921"
             ]
            ],
            "type": "histogram2dcontour"
           }
          ],
          "mesh3d": [
           {
            "colorbar": {
             "outlinewidth": 0,
             "ticks": ""
            },
            "type": "mesh3d"
           }
          ],
          "parcoords": [
           {
            "line": {
             "colorbar": {
              "outlinewidth": 0,
              "ticks": ""
             }
            },
            "type": "parcoords"
           }
          ],
          "pie": [
           {
            "automargin": true,
            "type": "pie"
           }
          ],
          "scatter": [
           {
            "fillpattern": {
             "fillmode": "overlay",
             "size": 10,
             "solidity": 0.2
            },
            "type": "scatter"
           }
          ],
          "scatter3d": [
           {
            "line": {
             "colorbar": {
              "outlinewidth": 0,
              "ticks": ""
             }
            },
            "marker": {
             "colorbar": {
              "outlinewidth": 0,
              "ticks": ""
             }
            },
            "type": "scatter3d"
           }
          ],
          "scattercarpet": [
           {
            "marker": {
             "colorbar": {
              "outlinewidth": 0,
              "ticks": ""
             }
            },
            "type": "scattercarpet"
           }
          ],
          "scattergeo": [
           {
            "marker": {
             "colorbar": {
              "outlinewidth": 0,
              "ticks": ""
             }
            },
            "type": "scattergeo"
           }
          ],
          "scattergl": [
           {
            "marker": {
             "colorbar": {
              "outlinewidth": 0,
              "ticks": ""
             }
            },
            "type": "scattergl"
           }
          ],
          "scattermap": [
           {
            "marker": {
             "colorbar": {
              "outlinewidth": 0,
              "ticks": ""
             }
            },
            "type": "scattermap"
           }
          ],
          "scattermapbox": [
           {
            "marker": {
             "colorbar": {
              "outlinewidth": 0,
              "ticks": ""
             }
            },
            "type": "scattermapbox"
           }
          ],
          "scatterpolar": [
           {
            "marker": {
             "colorbar": {
              "outlinewidth": 0,
              "ticks": ""
             }
            },
            "type": "scatterpolar"
           }
          ],
          "scatterpolargl": [
           {
            "marker": {
             "colorbar": {
              "outlinewidth": 0,
              "ticks": ""
             }
            },
            "type": "scatterpolargl"
           }
          ],
          "scatterternary": [
           {
            "marker": {
             "colorbar": {
              "outlinewidth": 0,
              "ticks": ""
             }
            },
            "type": "scatterternary"
           }
          ],
          "surface": [
           {
            "colorbar": {
             "outlinewidth": 0,
             "ticks": ""
            },
            "colorscale": [
             [
              0,
              "#0d0887"
             ],
             [
              0.1111111111111111,
              "#46039f"
             ],
             [
              0.2222222222222222,
              "#7201a8"
             ],
             [
              0.3333333333333333,
              "#9c179e"
             ],
             [
              0.4444444444444444,
              "#bd3786"
             ],
             [
              0.5555555555555556,
              "#d8576b"
             ],
             [
              0.6666666666666666,
              "#ed7953"
             ],
             [
              0.7777777777777778,
              "#fb9f3a"
             ],
             [
              0.8888888888888888,
              "#fdca26"
             ],
             [
              1,
              "#f0f921"
             ]
            ],
            "type": "surface"
           }
          ],
          "table": [
           {
            "cells": {
             "fill": {
              "color": "#EBF0F8"
             },
             "line": {
              "color": "white"
             }
            },
            "header": {
             "fill": {
              "color": "#C8D4E3"
             },
             "line": {
              "color": "white"
             }
            },
            "type": "table"
           }
          ]
         },
         "layout": {
          "annotationdefaults": {
           "arrowcolor": "#2a3f5f",
           "arrowhead": 0,
           "arrowwidth": 1
          },
          "autotypenumbers": "strict",
          "coloraxis": {
           "colorbar": {
            "outlinewidth": 0,
            "ticks": ""
           }
          },
          "colorscale": {
           "diverging": [
            [
             0,
             "#8e0152"
            ],
            [
             0.1,
             "#c51b7d"
            ],
            [
             0.2,
             "#de77ae"
            ],
            [
             0.3,
             "#f1b6da"
            ],
            [
             0.4,
             "#fde0ef"
            ],
            [
             0.5,
             "#f7f7f7"
            ],
            [
             0.6,
             "#e6f5d0"
            ],
            [
             0.7,
             "#b8e186"
            ],
            [
             0.8,
             "#7fbc41"
            ],
            [
             0.9,
             "#4d9221"
            ],
            [
             1,
             "#276419"
            ]
           ],
           "sequential": [
            [
             0,
             "#0d0887"
            ],
            [
             0.1111111111111111,
             "#46039f"
            ],
            [
             0.2222222222222222,
             "#7201a8"
            ],
            [
             0.3333333333333333,
             "#9c179e"
            ],
            [
             0.4444444444444444,
             "#bd3786"
            ],
            [
             0.5555555555555556,
             "#d8576b"
            ],
            [
             0.6666666666666666,
             "#ed7953"
            ],
            [
             0.7777777777777778,
             "#fb9f3a"
            ],
            [
             0.8888888888888888,
             "#fdca26"
            ],
            [
             1,
             "#f0f921"
            ]
           ],
           "sequentialminus": [
            [
             0,
             "#0d0887"
            ],
            [
             0.1111111111111111,
             "#46039f"
            ],
            [
             0.2222222222222222,
             "#7201a8"
            ],
            [
             0.3333333333333333,
             "#9c179e"
            ],
            [
             0.4444444444444444,
             "#bd3786"
            ],
            [
             0.5555555555555556,
             "#d8576b"
            ],
            [
             0.6666666666666666,
             "#ed7953"
            ],
            [
             0.7777777777777778,
             "#fb9f3a"
            ],
            [
             0.8888888888888888,
             "#fdca26"
            ],
            [
             1,
             "#f0f921"
            ]
           ]
          },
          "colorway": [
           "#636efa",
           "#EF553B",
           "#00cc96",
           "#ab63fa",
           "#FFA15A",
           "#19d3f3",
           "#FF6692",
           "#B6E880",
           "#FF97FF",
           "#FECB52"
          ],
          "font": {
           "color": "#2a3f5f"
          },
          "geo": {
           "bgcolor": "white",
           "lakecolor": "white",
           "landcolor": "#E5ECF6",
           "showlakes": true,
           "showland": true,
           "subunitcolor": "white"
          },
          "hoverlabel": {
           "align": "left"
          },
          "hovermode": "closest",
          "mapbox": {
           "style": "light"
          },
          "paper_bgcolor": "white",
          "plot_bgcolor": "#E5ECF6",
          "polar": {
           "angularaxis": {
            "gridcolor": "white",
            "linecolor": "white",
            "ticks": ""
           },
           "bgcolor": "#E5ECF6",
           "radialaxis": {
            "gridcolor": "white",
            "linecolor": "white",
            "ticks": ""
           }
          },
          "scene": {
           "xaxis": {
            "backgroundcolor": "#E5ECF6",
            "gridcolor": "white",
            "gridwidth": 2,
            "linecolor": "white",
            "showbackground": true,
            "ticks": "",
            "zerolinecolor": "white"
           },
           "yaxis": {
            "backgroundcolor": "#E5ECF6",
            "gridcolor": "white",
            "gridwidth": 2,
            "linecolor": "white",
            "showbackground": true,
            "ticks": "",
            "zerolinecolor": "white"
           },
           "zaxis": {
            "backgroundcolor": "#E5ECF6",
            "gridcolor": "white",
            "gridwidth": 2,
            "linecolor": "white",
            "showbackground": true,
            "ticks": "",
            "zerolinecolor": "white"
           }
          },
          "shapedefaults": {
           "line": {
            "color": "#2a3f5f"
           }
          },
          "ternary": {
           "aaxis": {
            "gridcolor": "white",
            "linecolor": "white",
            "ticks": ""
           },
           "baxis": {
            "gridcolor": "white",
            "linecolor": "white",
            "ticks": ""
           },
           "bgcolor": "#E5ECF6",
           "caxis": {
            "gridcolor": "white",
            "linecolor": "white",
            "ticks": ""
           }
          },
          "title": {
           "x": 0.05
          },
          "xaxis": {
           "automargin": true,
           "gridcolor": "white",
           "linecolor": "white",
           "ticks": "",
           "title": {
            "standoff": 15
           },
           "zerolinecolor": "white",
           "zerolinewidth": 2
          },
          "yaxis": {
           "automargin": true,
           "gridcolor": "white",
           "linecolor": "white",
           "ticks": "",
           "title": {
            "standoff": 15
           },
           "zerolinecolor": "white",
           "zerolinewidth": 2
          }
         }
        },
        "title": {
         "text": "Dicionário de Dados - DataFrame Básico"
        },
        "width": 1200
       }
      }
     },
     "metadata": {},
     "output_type": "display_data"
    }
   ],
   "source": [
    "import plotly.graph_objects as go\n",
    "\n",
    "# Defina o dicionário de dados\n",
    "data_dictionary = [\n",
    "    {\"Coluna\": \"id\", \"Tipo\": \"int\", \"Formato\": \"Numérico\", \"Descrição\": \"Identificador único do Pokémon (inteiro, corresponde ao número oficial na Pokédex).\"},\n",
    "    {\"Coluna\": \"name\", \"Tipo\": \"str\", \"Formato\": \"Categórico\", \"Descrição\": \"Nome do Pokémon.\"},\n",
    "    {\"Coluna\": \"type\", \"Tipo\": \"list[str]\", \"Formato\": \"Categórico (lista)\", \"Descrição\": \"Lista de tipos do Pokémon (ex: ['grass', 'poison']). Um Pokémon pode ter um ou dois tipos.\"},\n",
    "    {\"Coluna\": \"height\", \"Tipo\": \"float\", \"Formato\": \"Numérico\", \"Descrição\": \"Altura do Pokémon em metros (float, ex: 0.7).\"},\n",
    "    {\"Coluna\": \"weight\", \"Tipo\": \"float\", \"Formato\": \"Numérico\", \"Descrição\": \"Peso do Pokémon em quilogramas (float, ex: 6.9).\"},\n",
    "    {\"Coluna\": \"attack\", \"Tipo\": \"int\", \"Formato\": \"Numérico\", \"Descrição\": \"Valor numérico do atributo de ataque base do Pokémon.\"},\n",
    "    {\"Coluna\": \"defense\", \"Tipo\": \"int\", \"Formato\": \"Numérico\", \"Descrição\": \"Valor numérico do atributo de defesa base do Pokémon.\"},\n",
    "    {\"Coluna\": \"hp\", \"Tipo\": \"int\", \"Formato\": \"Numérico\", \"Descrição\": \"Valor numérico dos pontos de vida (HP) base do Pokémon.\"},\n",
    "    {\"Coluna\": \"sp_atk\", \"Tipo\": \"int\", \"Formato\": \"Numérico\", \"Descrição\": \"Valor numérico do ataque especial base do Pokémon.\"},\n",
    "    {\"Coluna\": \"sp_def\", \"Tipo\": \"int\", \"Formato\": \"Numérico\", \"Descrição\": \"Valor numérico da defesa especial base do Pokémon.\"},\n",
    "    {\"Coluna\": \"speed\", \"Tipo\": \"int\", \"Formato\": \"Numérico\", \"Descrição\": \"Valor numérico da velocidade base do Pokémon.\"},\n",
    "    {\"Coluna\": \"total\", \"Tipo\": \"int\", \"Formato\": \"Numérico\", \"Descrição\": \"Soma total dos atributos base (attack, defense, hp, sp_atk, sp_def, speed) do Pokémon.\"},\n",
    "    {\"Coluna\": \"abilities\", \"Tipo\": \"list[str]\", \"Formato\": \"Categórico (lista)\", \"Descrição\": \"Lista de habilidades do Pokémon (ex: ['Overgrow', 'Chlorophyll']).\"},\n",
    "    {\"Coluna\": \"weakness\", \"Tipo\": \"list[str]\", \"Formato\": \"Categórico (lista)\", \"Descrição\": \"Lista de fraquezas do Pokémon, ou seja, tipos contra os quais ele é vulnerável (ex: ['fire', 'ice']).\"},\n",
    "    {\"Coluna\": \"capture_location\", \"Tipo\": \"list[str]\", \"Formato\": \"Categórico (lista)\", \"Descrição\": \"Lista de locais onde o Pokémon pode ser capturado nos jogos (ex: ['kanto-route-2', 'kanto-viridian-forest']).\"}\n",
    "]\n",
    "\n",
    "# Crie a tabela com plotly\n",
    "fig = go.Figure(data=[go.Table(\n",
    "    header=dict(values=[\"Coluna\", \"Tipo\", \"Formato\", \"Descrição\"], fill_color='paleturquoise', align='left'),\n",
    "    cells=dict(values=[\n",
    "        [d[\"Coluna\"] for d in data_dictionary],\n",
    "        [d[\"Tipo\"] for d in data_dictionary],\n",
    "        [d[\"Formato\"] for d in data_dictionary],\n",
    "        [d[\"Descrição\"] for d in data_dictionary]\n",
    "    ], fill_color='lavender', align='left')\n",
    ")])\n",
    "\n",
    "fig.update_layout(width=1200, height=600, title=\"Dicionário de Dados - DataFrame Básico\")"
   ]
  },
  {
   "cell_type": "markdown",
   "id": "879eb9be",
   "metadata": {},
   "source": [
    "## Análise Descritiva dos Dados"
   ]
  },
  {
   "cell_type": "markdown",
   "id": "29e5a669",
   "metadata": {},
   "source": [
    "### Introdução\n",
    "\n",
    "Nessa sessão serão realizada análises descritivas que  ajudam a entender o comportamento geral dos dados e as relações entre atributos.\n",
    "\n",
    "    - Distribuição estatística das variáveis numéricas\n",
    "    - Histograma e boxplot por atributos\n",
    "    - Tipos de Pokémon mais comuns\n",
    "    - Matriz de correlação entre atributos numéricos\n",
    "    - Quantidade de locais por Pokémon\n",
    "    - Análise por combinação de tipos"
   ]
  },
  {
   "cell_type": "markdown",
   "id": "bdea2acf",
   "metadata": {},
   "source": [
    "### Estatísticas Descritivas das Variáveis Numéricas\n",
    "\n",
    "A análise estatística das variáveis numéricas dos Pokémon revela alguns pontos importantes sobre a base de dados:\n",
    "\n",
    "- **Diversidade física:**  \n",
    "  Os valores de altura (`height`) e peso (`weight`) apresentam grande variação, com desvios padrão elevados. Isso indica que existem Pokémon extremamente pequenos e leves, assim como outros muito grandes e pesados, refletindo a diversidade do universo Pokémon.\n",
    "\n",
    "- **Atributos de batalha equilibrados:**  \n",
    "  As médias dos atributos de batalha (`attack`, `defense`, `hp`, `sp_atk`, `sp_def`, `speed`) estão próximas, sugerindo que a maioria dos Pokémon possui valores relativamente equilibrados nesses quesitos. No entanto, os valores máximos mostram que existem Pokémon com atributos muito acima da média, geralmente lendários ou formas especiais.\n",
    "\n",
    "- **Maior parte dos pokemons são fracos:**  \n",
    "  Para muitos atributos, a moda é menor que a média, indicando que a maior parte dos Pokémon possui valores baixos, mas há alguns com valores muito altos que elevam a média.\n",
    "\n",
    "- **Distribuição assimétrica:**  \n",
    "  A diferença entre média, mediana e moda em algumas variáveis sugere distribuições assimétricas, com cauda para valores altos (presença de outliers)."
   ]
  },
  {
   "cell_type": "code",
   "execution_count": 8,
   "id": "ac18e1b6",
   "metadata": {},
   "outputs": [
    {
     "data": {
      "application/vnd.plotly.v1+json": {
       "config": {
        "plotlyServerURL": "https://plot.ly"
       },
       "data": [
        {
         "cells": {
          "align": "left",
          "fill": {
           "color": "lavender"
          },
          "format": [
           null,
           ".2f",
           ".2f",
           ".2f",
           ".2f",
           ".2f",
           ".2f",
           ".2f",
           ".2f",
           ".2f"
          ],
          "values": [
           [
            "height",
            "weight",
            "attack",
            "defense",
            "hp",
            "sp_atk",
            "sp_def",
            "speed",
            "total"
           ],
           [
            1.2116097560975612,
            66.98185365853658,
            77.52195121951219,
            72.50731707317073,
            70.18439024390244,
            70.0809756097561,
            70.20585365853658,
            67.18634146341464,
            427.6868292682927
           ],
           [
            1,
            28,
            75,
            70,
            68,
            65,
            67,
            65,
            450
           ],
           [
            0.6,
            1,
            80,
            60,
            60,
            40,
            50,
            50,
            600
           ],
           [
            0.1,
            0.1,
            5,
            5,
            1,
            10,
            20,
            5,
            175
           ],
           [
            20,
            999.9,
            181,
            230,
            255,
            173,
            230,
            200,
            720
           ],
           [
            1.2481673455754945,
            121.27541221487857,
            29.782541224919413,
            29.286972411787133,
            26.631054003692025,
            29.65837846393083,
            26.639329420073988,
            28.717226713894135,
            112.77073531008854
           ],
           [
            0.5,
            8.5,
            55,
            50,
            50,
            47,
            50,
            45,
            325
           ],
           [
            1,
            28,
            75,
            70,
            68,
            65,
            67,
            65,
            450
           ],
           [
            1.5,
            70,
            100,
            90,
            85,
            90,
            86,
            88,
            508
           ]
          ]
         },
         "header": {
          "align": "left",
          "fill": {
           "color": "paleturquoise"
          },
          "values": [
           "Atributo",
           "Média",
           "Mediana",
           "Moda",
           "Mínimo",
           "Máximo",
           "Desvio Padrão",
           "Q1 (25%)",
           "Q2 (50%)",
           "Q3 (75%)"
          ]
         },
         "type": "table"
        }
       ],
       "layout": {
        "height": 600,
        "template": {
         "data": {
          "bar": [
           {
            "error_x": {
             "color": "#2a3f5f"
            },
            "error_y": {
             "color": "#2a3f5f"
            },
            "marker": {
             "line": {
              "color": "#E5ECF6",
              "width": 0.5
             },
             "pattern": {
              "fillmode": "overlay",
              "size": 10,
              "solidity": 0.2
             }
            },
            "type": "bar"
           }
          ],
          "barpolar": [
           {
            "marker": {
             "line": {
              "color": "#E5ECF6",
              "width": 0.5
             },
             "pattern": {
              "fillmode": "overlay",
              "size": 10,
              "solidity": 0.2
             }
            },
            "type": "barpolar"
           }
          ],
          "carpet": [
           {
            "aaxis": {
             "endlinecolor": "#2a3f5f",
             "gridcolor": "white",
             "linecolor": "white",
             "minorgridcolor": "white",
             "startlinecolor": "#2a3f5f"
            },
            "baxis": {
             "endlinecolor": "#2a3f5f",
             "gridcolor": "white",
             "linecolor": "white",
             "minorgridcolor": "white",
             "startlinecolor": "#2a3f5f"
            },
            "type": "carpet"
           }
          ],
          "choropleth": [
           {
            "colorbar": {
             "outlinewidth": 0,
             "ticks": ""
            },
            "type": "choropleth"
           }
          ],
          "contour": [
           {
            "colorbar": {
             "outlinewidth": 0,
             "ticks": ""
            },
            "colorscale": [
             [
              0,
              "#0d0887"
             ],
             [
              0.1111111111111111,
              "#46039f"
             ],
             [
              0.2222222222222222,
              "#7201a8"
             ],
             [
              0.3333333333333333,
              "#9c179e"
             ],
             [
              0.4444444444444444,
              "#bd3786"
             ],
             [
              0.5555555555555556,
              "#d8576b"
             ],
             [
              0.6666666666666666,
              "#ed7953"
             ],
             [
              0.7777777777777778,
              "#fb9f3a"
             ],
             [
              0.8888888888888888,
              "#fdca26"
             ],
             [
              1,
              "#f0f921"
             ]
            ],
            "type": "contour"
           }
          ],
          "contourcarpet": [
           {
            "colorbar": {
             "outlinewidth": 0,
             "ticks": ""
            },
            "type": "contourcarpet"
           }
          ],
          "heatmap": [
           {
            "colorbar": {
             "outlinewidth": 0,
             "ticks": ""
            },
            "colorscale": [
             [
              0,
              "#0d0887"
             ],
             [
              0.1111111111111111,
              "#46039f"
             ],
             [
              0.2222222222222222,
              "#7201a8"
             ],
             [
              0.3333333333333333,
              "#9c179e"
             ],
             [
              0.4444444444444444,
              "#bd3786"
             ],
             [
              0.5555555555555556,
              "#d8576b"
             ],
             [
              0.6666666666666666,
              "#ed7953"
             ],
             [
              0.7777777777777778,
              "#fb9f3a"
             ],
             [
              0.8888888888888888,
              "#fdca26"
             ],
             [
              1,
              "#f0f921"
             ]
            ],
            "type": "heatmap"
           }
          ],
          "histogram": [
           {
            "marker": {
             "pattern": {
              "fillmode": "overlay",
              "size": 10,
              "solidity": 0.2
             }
            },
            "type": "histogram"
           }
          ],
          "histogram2d": [
           {
            "colorbar": {
             "outlinewidth": 0,
             "ticks": ""
            },
            "colorscale": [
             [
              0,
              "#0d0887"
             ],
             [
              0.1111111111111111,
              "#46039f"
             ],
             [
              0.2222222222222222,
              "#7201a8"
             ],
             [
              0.3333333333333333,
              "#9c179e"
             ],
             [
              0.4444444444444444,
              "#bd3786"
             ],
             [
              0.5555555555555556,
              "#d8576b"
             ],
             [
              0.6666666666666666,
              "#ed7953"
             ],
             [
              0.7777777777777778,
              "#fb9f3a"
             ],
             [
              0.8888888888888888,
              "#fdca26"
             ],
             [
              1,
              "#f0f921"
             ]
            ],
            "type": "histogram2d"
           }
          ],
          "histogram2dcontour": [
           {
            "colorbar": {
             "outlinewidth": 0,
             "ticks": ""
            },
            "colorscale": [
             [
              0,
              "#0d0887"
             ],
             [
              0.1111111111111111,
              "#46039f"
             ],
             [
              0.2222222222222222,
              "#7201a8"
             ],
             [
              0.3333333333333333,
              "#9c179e"
             ],
             [
              0.4444444444444444,
              "#bd3786"
             ],
             [
              0.5555555555555556,
              "#d8576b"
             ],
             [
              0.6666666666666666,
              "#ed7953"
             ],
             [
              0.7777777777777778,
              "#fb9f3a"
             ],
             [
              0.8888888888888888,
              "#fdca26"
             ],
             [
              1,
              "#f0f921"
             ]
            ],
            "type": "histogram2dcontour"
           }
          ],
          "mesh3d": [
           {
            "colorbar": {
             "outlinewidth": 0,
             "ticks": ""
            },
            "type": "mesh3d"
           }
          ],
          "parcoords": [
           {
            "line": {
             "colorbar": {
              "outlinewidth": 0,
              "ticks": ""
             }
            },
            "type": "parcoords"
           }
          ],
          "pie": [
           {
            "automargin": true,
            "type": "pie"
           }
          ],
          "scatter": [
           {
            "fillpattern": {
             "fillmode": "overlay",
             "size": 10,
             "solidity": 0.2
            },
            "type": "scatter"
           }
          ],
          "scatter3d": [
           {
            "line": {
             "colorbar": {
              "outlinewidth": 0,
              "ticks": ""
             }
            },
            "marker": {
             "colorbar": {
              "outlinewidth": 0,
              "ticks": ""
             }
            },
            "type": "scatter3d"
           }
          ],
          "scattercarpet": [
           {
            "marker": {
             "colorbar": {
              "outlinewidth": 0,
              "ticks": ""
             }
            },
            "type": "scattercarpet"
           }
          ],
          "scattergeo": [
           {
            "marker": {
             "colorbar": {
              "outlinewidth": 0,
              "ticks": ""
             }
            },
            "type": "scattergeo"
           }
          ],
          "scattergl": [
           {
            "marker": {
             "colorbar": {
              "outlinewidth": 0,
              "ticks": ""
             }
            },
            "type": "scattergl"
           }
          ],
          "scattermap": [
           {
            "marker": {
             "colorbar": {
              "outlinewidth": 0,
              "ticks": ""
             }
            },
            "type": "scattermap"
           }
          ],
          "scattermapbox": [
           {
            "marker": {
             "colorbar": {
              "outlinewidth": 0,
              "ticks": ""
             }
            },
            "type": "scattermapbox"
           }
          ],
          "scatterpolar": [
           {
            "marker": {
             "colorbar": {
              "outlinewidth": 0,
              "ticks": ""
             }
            },
            "type": "scatterpolar"
           }
          ],
          "scatterpolargl": [
           {
            "marker": {
             "colorbar": {
              "outlinewidth": 0,
              "ticks": ""
             }
            },
            "type": "scatterpolargl"
           }
          ],
          "scatterternary": [
           {
            "marker": {
             "colorbar": {
              "outlinewidth": 0,
              "ticks": ""
             }
            },
            "type": "scatterternary"
           }
          ],
          "surface": [
           {
            "colorbar": {
             "outlinewidth": 0,
             "ticks": ""
            },
            "colorscale": [
             [
              0,
              "#0d0887"
             ],
             [
              0.1111111111111111,
              "#46039f"
             ],
             [
              0.2222222222222222,
              "#7201a8"
             ],
             [
              0.3333333333333333,
              "#9c179e"
             ],
             [
              0.4444444444444444,
              "#bd3786"
             ],
             [
              0.5555555555555556,
              "#d8576b"
             ],
             [
              0.6666666666666666,
              "#ed7953"
             ],
             [
              0.7777777777777778,
              "#fb9f3a"
             ],
             [
              0.8888888888888888,
              "#fdca26"
             ],
             [
              1,
              "#f0f921"
             ]
            ],
            "type": "surface"
           }
          ],
          "table": [
           {
            "cells": {
             "fill": {
              "color": "#EBF0F8"
             },
             "line": {
              "color": "white"
             }
            },
            "header": {
             "fill": {
              "color": "#C8D4E3"
             },
             "line": {
              "color": "white"
             }
            },
            "type": "table"
           }
          ]
         },
         "layout": {
          "annotationdefaults": {
           "arrowcolor": "#2a3f5f",
           "arrowhead": 0,
           "arrowwidth": 1
          },
          "autotypenumbers": "strict",
          "coloraxis": {
           "colorbar": {
            "outlinewidth": 0,
            "ticks": ""
           }
          },
          "colorscale": {
           "diverging": [
            [
             0,
             "#8e0152"
            ],
            [
             0.1,
             "#c51b7d"
            ],
            [
             0.2,
             "#de77ae"
            ],
            [
             0.3,
             "#f1b6da"
            ],
            [
             0.4,
             "#fde0ef"
            ],
            [
             0.5,
             "#f7f7f7"
            ],
            [
             0.6,
             "#e6f5d0"
            ],
            [
             0.7,
             "#b8e186"
            ],
            [
             0.8,
             "#7fbc41"
            ],
            [
             0.9,
             "#4d9221"
            ],
            [
             1,
             "#276419"
            ]
           ],
           "sequential": [
            [
             0,
             "#0d0887"
            ],
            [
             0.1111111111111111,
             "#46039f"
            ],
            [
             0.2222222222222222,
             "#7201a8"
            ],
            [
             0.3333333333333333,
             "#9c179e"
            ],
            [
             0.4444444444444444,
             "#bd3786"
            ],
            [
             0.5555555555555556,
             "#d8576b"
            ],
            [
             0.6666666666666666,
             "#ed7953"
            ],
            [
             0.7777777777777778,
             "#fb9f3a"
            ],
            [
             0.8888888888888888,
             "#fdca26"
            ],
            [
             1,
             "#f0f921"
            ]
           ],
           "sequentialminus": [
            [
             0,
             "#0d0887"
            ],
            [
             0.1111111111111111,
             "#46039f"
            ],
            [
             0.2222222222222222,
             "#7201a8"
            ],
            [
             0.3333333333333333,
             "#9c179e"
            ],
            [
             0.4444444444444444,
             "#bd3786"
            ],
            [
             0.5555555555555556,
             "#d8576b"
            ],
            [
             0.6666666666666666,
             "#ed7953"
            ],
            [
             0.7777777777777778,
             "#fb9f3a"
            ],
            [
             0.8888888888888888,
             "#fdca26"
            ],
            [
             1,
             "#f0f921"
            ]
           ]
          },
          "colorway": [
           "#636efa",
           "#EF553B",
           "#00cc96",
           "#ab63fa",
           "#FFA15A",
           "#19d3f3",
           "#FF6692",
           "#B6E880",
           "#FF97FF",
           "#FECB52"
          ],
          "font": {
           "color": "#2a3f5f"
          },
          "geo": {
           "bgcolor": "white",
           "lakecolor": "white",
           "landcolor": "#E5ECF6",
           "showlakes": true,
           "showland": true,
           "subunitcolor": "white"
          },
          "hoverlabel": {
           "align": "left"
          },
          "hovermode": "closest",
          "mapbox": {
           "style": "light"
          },
          "paper_bgcolor": "white",
          "plot_bgcolor": "#E5ECF6",
          "polar": {
           "angularaxis": {
            "gridcolor": "white",
            "linecolor": "white",
            "ticks": ""
           },
           "bgcolor": "#E5ECF6",
           "radialaxis": {
            "gridcolor": "white",
            "linecolor": "white",
            "ticks": ""
           }
          },
          "scene": {
           "xaxis": {
            "backgroundcolor": "#E5ECF6",
            "gridcolor": "white",
            "gridwidth": 2,
            "linecolor": "white",
            "showbackground": true,
            "ticks": "",
            "zerolinecolor": "white"
           },
           "yaxis": {
            "backgroundcolor": "#E5ECF6",
            "gridcolor": "white",
            "gridwidth": 2,
            "linecolor": "white",
            "showbackground": true,
            "ticks": "",
            "zerolinecolor": "white"
           },
           "zaxis": {
            "backgroundcolor": "#E5ECF6",
            "gridcolor": "white",
            "gridwidth": 2,
            "linecolor": "white",
            "showbackground": true,
            "ticks": "",
            "zerolinecolor": "white"
           }
          },
          "shapedefaults": {
           "line": {
            "color": "#2a3f5f"
           }
          },
          "ternary": {
           "aaxis": {
            "gridcolor": "white",
            "linecolor": "white",
            "ticks": ""
           },
           "baxis": {
            "gridcolor": "white",
            "linecolor": "white",
            "ticks": ""
           },
           "bgcolor": "#E5ECF6",
           "caxis": {
            "gridcolor": "white",
            "linecolor": "white",
            "ticks": ""
           }
          },
          "title": {
           "x": 0.05
          },
          "xaxis": {
           "automargin": true,
           "gridcolor": "white",
           "linecolor": "white",
           "ticks": "",
           "title": {
            "standoff": 15
           },
           "zerolinecolor": "white",
           "zerolinewidth": 2
          },
          "yaxis": {
           "automargin": true,
           "gridcolor": "white",
           "linecolor": "white",
           "ticks": "",
           "title": {
            "standoff": 15
           },
           "zerolinecolor": "white",
           "zerolinewidth": 2
          }
         }
        },
        "title": {
         "text": "Tabela de Estatísticas Descritivas das Variáveis Numéricas"
        },
        "width": 1400
       }
      }
     },
     "metadata": {},
     "output_type": "display_data"
    }
   ],
   "source": [
    "import numpy as np\n",
    "from scipy import stats\n",
    "\n",
    "# Seleciona as colunas numéricas\n",
    "numeric_cols = ['height', 'weight', 'attack', 'defense', 'hp', 'sp_atk', 'sp_def', 'speed', 'total']\n",
    "\n",
    "# Calcula as estatísticas manualmente\n",
    "stats_dict = {\n",
    "    \"Média\": [df[col].mean() for col in numeric_cols],\n",
    "    \"Mediana\": [df[col].median() for col in numeric_cols],\n",
    "    \"Moda\": [stats.mode(df[col], nan_policy='omit').mode.item() for col in numeric_cols],\n",
    "    \"Mínimo\": [df[col].min() for col in numeric_cols],\n",
    "    \"Máximo\": [df[col].max() for col in numeric_cols],\n",
    "    \"Desvio Padrão\": [df[col].std() for col in numeric_cols],\n",
    "    \"Q1 (25%)\": [df[col].quantile(0.25) for col in numeric_cols],\n",
    "    \"Q2 (50%)\": [df[col].quantile(0.5) for col in numeric_cols],   # igual à mediana\n",
    "    \"Q3 (75%)\": [df[col].quantile(0.75) for col in numeric_cols]\n",
    "}\n",
    "\n",
    "# Cria a tabela com plotly\n",
    "fig = go.Figure(data=[go.Table(\n",
    "    header=dict(values=[\"Atributo\"] + list(stats_dict.keys()), fill_color='paleturquoise', align='left'),\n",
    "    cells=dict(values=[\n",
    "        numeric_cols,\n",
    "        stats_dict[\"Média\"],\n",
    "        stats_dict[\"Mediana\"],\n",
    "        stats_dict[\"Moda\"],\n",
    "        stats_dict[\"Mínimo\"],\n",
    "        stats_dict[\"Máximo\"],\n",
    "        stats_dict[\"Desvio Padrão\"],\n",
    "        stats_dict[\"Q1 (25%)\"],\n",
    "        stats_dict[\"Q2 (50%)\"],\n",
    "        stats_dict[\"Q3 (75%)\"]\n",
    "    ], fill_color='lavender', align='left', format=[None] + [\".2f\"]*9)\n",
    ")])\n",
    "\n",
    "fig.update_layout(\n",
    "    width=1400,\n",
    "    height=600,\n",
    "    title=\"Tabela de Estatísticas Descritivas das Variáveis Numéricas\"\n",
    ")\n",
    "\n",
    "# Salvar a tabela como imagem na pasta ./charts\n",
    "os.makedirs('./charts', exist_ok=True)\n",
    "os.makedirs('./charts/descritive', exist_ok=True)\n",
    "fig.write_image('./charts/descritive/estatisticas_descritivas_pokemon.png')\n",
    "\n",
    "fig.show()"
   ]
  },
  {
   "cell_type": "markdown",
   "id": "edf0c9fa",
   "metadata": {},
   "source": [
    "### Análise da Frequência dos Tipos de Pokémon\n",
    "\n",
    "A distribuição dos tipos de Pokémon é um dos aspectos mais importantes para entender a diversidade e o equilíbrio do universo Pokémon. A seguir, analisamos a frequência dos tipos considerando três cenários:\n",
    "\n",
    "- **Tipos Primários:**  \n",
    "  O histograma dos tipos primários mostra quais tipos são mais comuns como o primeiro tipo atribuído a cada Pokémon. Isso reflete a identidade principal de cada espécie e revela tendências de design ao longo das gerações. Tipos como \"water\", \"normal\" e \"grass\" costumam aparecer entre os mais frequentes, enquanto tipos como \"ice\" e \"dragon\" são mais raros como primários.\n",
    "\n",
    "- **Tipos Secundários:**  \n",
    "  O histograma dos tipos secundários considera apenas o segundo tipo dos Pokémon que possuem dupla tipagem. Aqui, é possível observar quais tipos são mais utilizados para complementar a tipagem principal, trazendo versatilidade e estratégias diferenciadas para as batalhas. Alguns tipos aparecem com mais frequência como secundários do que como primários, indicando seu papel de suporte ou especialização.\n",
    "\n",
    "- **Todos os Tipos (Primário + Secundário):**  \n",
    "  Ao contabilizar todos os tipos presentes em cada Pokémon, temos uma visão geral da popularidade de cada tipo no universo Pokémon. Essa análise evidencia a predominância de certos tipos e a raridade de outros, além de mostrar o impacto da dupla tipagem na diversidade do jogo."
   ]
  },
  {
   "cell_type": "code",
   "execution_count": 9,
   "id": "440d4a7d",
   "metadata": {},
   "outputs": [
    {
     "data": {
      "application/vnd.plotly.v1+json": {
       "config": {
        "plotlyServerURL": "https://plot.ly"
       },
       "data": [
        {
         "hovertemplate": "Tipo Primário=%{x}<br>Frequência=%{y}<extra></extra>",
         "legendgroup": "water",
         "marker": {
          "color": "#636efa",
          "pattern": {
           "shape": ""
          }
         },
         "name": "water",
         "orientation": "v",
         "showlegend": true,
         "textposition": "auto",
         "type": "bar",
         "x": [
          "water"
         ],
         "xaxis": "x",
         "y": {
          "bdata": "hgA=",
          "dtype": "i2"
         },
         "yaxis": "y"
        },
        {
         "hovertemplate": "Tipo Primário=%{x}<br>Frequência=%{y}<extra></extra>",
         "legendgroup": "normal",
         "marker": {
          "color": "#EF553B",
          "pattern": {
           "shape": ""
          }
         },
         "name": "normal",
         "orientation": "v",
         "showlegend": true,
         "textposition": "auto",
         "type": "bar",
         "x": [
          "normal"
         ],
         "xaxis": "x",
         "y": {
          "bdata": "dg==",
          "dtype": "i1"
         },
         "yaxis": "y"
        },
        {
         "hovertemplate": "Tipo Primário=%{x}<br>Frequência=%{y}<extra></extra>",
         "legendgroup": "grass",
         "marker": {
          "color": "#00cc96",
          "pattern": {
           "shape": ""
          }
         },
         "name": "grass",
         "orientation": "v",
         "showlegend": true,
         "textposition": "auto",
         "type": "bar",
         "x": [
          "grass"
         ],
         "xaxis": "x",
         "y": {
          "bdata": "Zw==",
          "dtype": "i1"
         },
         "yaxis": "y"
        },
        {
         "hovertemplate": "Tipo Primário=%{x}<br>Frequência=%{y}<extra></extra>",
         "legendgroup": "bug",
         "marker": {
          "color": "#ab63fa",
          "pattern": {
           "shape": ""
          }
         },
         "name": "bug",
         "orientation": "v",
         "showlegend": true,
         "textposition": "auto",
         "type": "bar",
         "x": [
          "bug"
         ],
         "xaxis": "x",
         "y": {
          "bdata": "Uw==",
          "dtype": "i1"
         },
         "yaxis": "y"
        },
        {
         "hovertemplate": "Tipo Primário=%{x}<br>Frequência=%{y}<extra></extra>",
         "legendgroup": "fire",
         "marker": {
          "color": "#FFA15A",
          "pattern": {
           "shape": ""
          }
         },
         "name": "fire",
         "orientation": "v",
         "showlegend": true,
         "textposition": "auto",
         "type": "bar",
         "x": [
          "fire"
         ],
         "xaxis": "x",
         "y": {
          "bdata": "Qg==",
          "dtype": "i1"
         },
         "yaxis": "y"
        },
        {
         "hovertemplate": "Tipo Primário=%{x}<br>Frequência=%{y}<extra></extra>",
         "legendgroup": "psychic",
         "marker": {
          "color": "#19d3f3",
          "pattern": {
           "shape": ""
          }
         },
         "name": "psychic",
         "orientation": "v",
         "showlegend": true,
         "textposition": "auto",
         "type": "bar",
         "x": [
          "psychic"
         ],
         "xaxis": "x",
         "y": {
          "bdata": "PA==",
          "dtype": "i1"
         },
         "yaxis": "y"
        },
        {
         "hovertemplate": "Tipo Primário=%{x}<br>Frequência=%{y}<extra></extra>",
         "legendgroup": "electric",
         "marker": {
          "color": "#FF6692",
          "pattern": {
           "shape": ""
          }
         },
         "name": "electric",
         "orientation": "v",
         "showlegend": true,
         "textposition": "auto",
         "type": "bar",
         "x": [
          "electric"
         ],
         "xaxis": "x",
         "y": {
          "bdata": "Ow==",
          "dtype": "i1"
         },
         "yaxis": "y"
        },
        {
         "hovertemplate": "Tipo Primário=%{x}<br>Frequência=%{y}<extra></extra>",
         "legendgroup": "rock",
         "marker": {
          "color": "#B6E880",
          "pattern": {
           "shape": ""
          }
         },
         "name": "rock",
         "orientation": "v",
         "showlegend": true,
         "textposition": "auto",
         "type": "bar",
         "x": [
          "rock"
         ],
         "xaxis": "x",
         "y": {
          "bdata": "Og==",
          "dtype": "i1"
         },
         "yaxis": "y"
        },
        {
         "hovertemplate": "Tipo Primário=%{x}<br>Frequência=%{y}<extra></extra>",
         "legendgroup": "dark",
         "marker": {
          "color": "#FF97FF",
          "pattern": {
           "shape": ""
          }
         },
         "name": "dark",
         "orientation": "v",
         "showlegend": true,
         "textposition": "auto",
         "type": "bar",
         "x": [
          "dark"
         ],
         "xaxis": "x",
         "y": {
          "bdata": "LQ==",
          "dtype": "i1"
         },
         "yaxis": "y"
        },
        {
         "hovertemplate": "Tipo Primário=%{x}<br>Frequência=%{y}<extra></extra>",
         "legendgroup": "poison",
         "marker": {
          "color": "#FECB52",
          "pattern": {
           "shape": ""
          }
         },
         "name": "poison",
         "orientation": "v",
         "showlegend": true,
         "textposition": "auto",
         "type": "bar",
         "x": [
          "poison"
         ],
         "xaxis": "x",
         "y": {
          "bdata": "Kg==",
          "dtype": "i1"
         },
         "yaxis": "y"
        },
        {
         "hovertemplate": "Tipo Primário=%{x}<br>Frequência=%{y}<extra></extra>",
         "legendgroup": "ground",
         "marker": {
          "color": "#636efa",
          "pattern": {
           "shape": ""
          }
         },
         "name": "ground",
         "orientation": "v",
         "showlegend": true,
         "textposition": "auto",
         "type": "bar",
         "x": [
          "ground"
         ],
         "xaxis": "x",
         "y": {
          "bdata": "KA==",
          "dtype": "i1"
         },
         "yaxis": "y"
        },
        {
         "hovertemplate": "Tipo Primário=%{x}<br>Frequência=%{y}<extra></extra>",
         "legendgroup": "fighting",
         "marker": {
          "color": "#EF553B",
          "pattern": {
           "shape": ""
          }
         },
         "name": "fighting",
         "orientation": "v",
         "showlegend": true,
         "textposition": "auto",
         "type": "bar",
         "x": [
          "fighting"
         ],
         "xaxis": "x",
         "y": {
          "bdata": "KA==",
          "dtype": "i1"
         },
         "yaxis": "y"
        },
        {
         "hovertemplate": "Tipo Primário=%{x}<br>Frequência=%{y}<extra></extra>",
         "legendgroup": "dragon",
         "marker": {
          "color": "#00cc96",
          "pattern": {
           "shape": ""
          }
         },
         "name": "dragon",
         "orientation": "v",
         "showlegend": true,
         "textposition": "auto",
         "type": "bar",
         "x": [
          "dragon"
         ],
         "xaxis": "x",
         "y": {
          "bdata": "JQ==",
          "dtype": "i1"
         },
         "yaxis": "y"
        },
        {
         "hovertemplate": "Tipo Primário=%{x}<br>Frequência=%{y}<extra></extra>",
         "legendgroup": "steel",
         "marker": {
          "color": "#ab63fa",
          "pattern": {
           "shape": ""
          }
         },
         "name": "steel",
         "orientation": "v",
         "showlegend": true,
         "textposition": "auto",
         "type": "bar",
         "x": [
          "steel"
         ],
         "xaxis": "x",
         "y": {
          "bdata": "JA==",
          "dtype": "i1"
         },
         "yaxis": "y"
        },
        {
         "hovertemplate": "Tipo Primário=%{x}<br>Frequência=%{y}<extra></extra>",
         "legendgroup": "ghost",
         "marker": {
          "color": "#FFA15A",
          "pattern": {
           "shape": ""
          }
         },
         "name": "ghost",
         "orientation": "v",
         "showlegend": true,
         "textposition": "auto",
         "type": "bar",
         "x": [
          "ghost"
         ],
         "xaxis": "x",
         "y": {
          "bdata": "Iw==",
          "dtype": "i1"
         },
         "yaxis": "y"
        },
        {
         "hovertemplate": "Tipo Primário=%{x}<br>Frequência=%{y}<extra></extra>",
         "legendgroup": "ice",
         "marker": {
          "color": "#19d3f3",
          "pattern": {
           "shape": ""
          }
         },
         "name": "ice",
         "orientation": "v",
         "showlegend": true,
         "textposition": "auto",
         "type": "bar",
         "x": [
          "ice"
         ],
         "xaxis": "x",
         "y": {
          "bdata": "Hw==",
          "dtype": "i1"
         },
         "yaxis": "y"
        },
        {
         "hovertemplate": "Tipo Primário=%{x}<br>Frequência=%{y}<extra></extra>",
         "legendgroup": "fairy",
         "marker": {
          "color": "#FF6692",
          "pattern": {
           "shape": ""
          }
         },
         "name": "fairy",
         "orientation": "v",
         "showlegend": true,
         "textposition": "auto",
         "type": "bar",
         "x": [
          "fairy"
         ],
         "xaxis": "x",
         "y": {
          "bdata": "HQ==",
          "dtype": "i1"
         },
         "yaxis": "y"
        },
        {
         "hovertemplate": "Tipo Primário=%{x}<br>Frequência=%{y}<extra></extra>",
         "legendgroup": "flying",
         "marker": {
          "color": "#B6E880",
          "pattern": {
           "shape": ""
          }
         },
         "name": "flying",
         "orientation": "v",
         "showlegend": true,
         "textposition": "auto",
         "type": "bar",
         "x": [
          "flying"
         ],
         "xaxis": "x",
         "y": {
          "bdata": "CQ==",
          "dtype": "i1"
         },
         "yaxis": "y"
        }
       ],
       "layout": {
        "barmode": "relative",
        "legend": {
         "title": {
          "text": "Tipo Primário"
         },
         "tracegroupgap": 0
        },
        "template": {
         "data": {
          "bar": [
           {
            "error_x": {
             "color": "#2a3f5f"
            },
            "error_y": {
             "color": "#2a3f5f"
            },
            "marker": {
             "line": {
              "color": "#E5ECF6",
              "width": 0.5
             },
             "pattern": {
              "fillmode": "overlay",
              "size": 10,
              "solidity": 0.2
             }
            },
            "type": "bar"
           }
          ],
          "barpolar": [
           {
            "marker": {
             "line": {
              "color": "#E5ECF6",
              "width": 0.5
             },
             "pattern": {
              "fillmode": "overlay",
              "size": 10,
              "solidity": 0.2
             }
            },
            "type": "barpolar"
           }
          ],
          "carpet": [
           {
            "aaxis": {
             "endlinecolor": "#2a3f5f",
             "gridcolor": "white",
             "linecolor": "white",
             "minorgridcolor": "white",
             "startlinecolor": "#2a3f5f"
            },
            "baxis": {
             "endlinecolor": "#2a3f5f",
             "gridcolor": "white",
             "linecolor": "white",
             "minorgridcolor": "white",
             "startlinecolor": "#2a3f5f"
            },
            "type": "carpet"
           }
          ],
          "choropleth": [
           {
            "colorbar": {
             "outlinewidth": 0,
             "ticks": ""
            },
            "type": "choropleth"
           }
          ],
          "contour": [
           {
            "colorbar": {
             "outlinewidth": 0,
             "ticks": ""
            },
            "colorscale": [
             [
              0,
              "#0d0887"
             ],
             [
              0.1111111111111111,
              "#46039f"
             ],
             [
              0.2222222222222222,
              "#7201a8"
             ],
             [
              0.3333333333333333,
              "#9c179e"
             ],
             [
              0.4444444444444444,
              "#bd3786"
             ],
             [
              0.5555555555555556,
              "#d8576b"
             ],
             [
              0.6666666666666666,
              "#ed7953"
             ],
             [
              0.7777777777777778,
              "#fb9f3a"
             ],
             [
              0.8888888888888888,
              "#fdca26"
             ],
             [
              1,
              "#f0f921"
             ]
            ],
            "type": "contour"
           }
          ],
          "contourcarpet": [
           {
            "colorbar": {
             "outlinewidth": 0,
             "ticks": ""
            },
            "type": "contourcarpet"
           }
          ],
          "heatmap": [
           {
            "colorbar": {
             "outlinewidth": 0,
             "ticks": ""
            },
            "colorscale": [
             [
              0,
              "#0d0887"
             ],
             [
              0.1111111111111111,
              "#46039f"
             ],
             [
              0.2222222222222222,
              "#7201a8"
             ],
             [
              0.3333333333333333,
              "#9c179e"
             ],
             [
              0.4444444444444444,
              "#bd3786"
             ],
             [
              0.5555555555555556,
              "#d8576b"
             ],
             [
              0.6666666666666666,
              "#ed7953"
             ],
             [
              0.7777777777777778,
              "#fb9f3a"
             ],
             [
              0.8888888888888888,
              "#fdca26"
             ],
             [
              1,
              "#f0f921"
             ]
            ],
            "type": "heatmap"
           }
          ],
          "histogram": [
           {
            "marker": {
             "pattern": {
              "fillmode": "overlay",
              "size": 10,
              "solidity": 0.2
             }
            },
            "type": "histogram"
           }
          ],
          "histogram2d": [
           {
            "colorbar": {
             "outlinewidth": 0,
             "ticks": ""
            },
            "colorscale": [
             [
              0,
              "#0d0887"
             ],
             [
              0.1111111111111111,
              "#46039f"
             ],
             [
              0.2222222222222222,
              "#7201a8"
             ],
             [
              0.3333333333333333,
              "#9c179e"
             ],
             [
              0.4444444444444444,
              "#bd3786"
             ],
             [
              0.5555555555555556,
              "#d8576b"
             ],
             [
              0.6666666666666666,
              "#ed7953"
             ],
             [
              0.7777777777777778,
              "#fb9f3a"
             ],
             [
              0.8888888888888888,
              "#fdca26"
             ],
             [
              1,
              "#f0f921"
             ]
            ],
            "type": "histogram2d"
           }
          ],
          "histogram2dcontour": [
           {
            "colorbar": {
             "outlinewidth": 0,
             "ticks": ""
            },
            "colorscale": [
             [
              0,
              "#0d0887"
             ],
             [
              0.1111111111111111,
              "#46039f"
             ],
             [
              0.2222222222222222,
              "#7201a8"
             ],
             [
              0.3333333333333333,
              "#9c179e"
             ],
             [
              0.4444444444444444,
              "#bd3786"
             ],
             [
              0.5555555555555556,
              "#d8576b"
             ],
             [
              0.6666666666666666,
              "#ed7953"
             ],
             [
              0.7777777777777778,
              "#fb9f3a"
             ],
             [
              0.8888888888888888,
              "#fdca26"
             ],
             [
              1,
              "#f0f921"
             ]
            ],
            "type": "histogram2dcontour"
           }
          ],
          "mesh3d": [
           {
            "colorbar": {
             "outlinewidth": 0,
             "ticks": ""
            },
            "type": "mesh3d"
           }
          ],
          "parcoords": [
           {
            "line": {
             "colorbar": {
              "outlinewidth": 0,
              "ticks": ""
             }
            },
            "type": "parcoords"
           }
          ],
          "pie": [
           {
            "automargin": true,
            "type": "pie"
           }
          ],
          "scatter": [
           {
            "fillpattern": {
             "fillmode": "overlay",
             "size": 10,
             "solidity": 0.2
            },
            "type": "scatter"
           }
          ],
          "scatter3d": [
           {
            "line": {
             "colorbar": {
              "outlinewidth": 0,
              "ticks": ""
             }
            },
            "marker": {
             "colorbar": {
              "outlinewidth": 0,
              "ticks": ""
             }
            },
            "type": "scatter3d"
           }
          ],
          "scattercarpet": [
           {
            "marker": {
             "colorbar": {
              "outlinewidth": 0,
              "ticks": ""
             }
            },
            "type": "scattercarpet"
           }
          ],
          "scattergeo": [
           {
            "marker": {
             "colorbar": {
              "outlinewidth": 0,
              "ticks": ""
             }
            },
            "type": "scattergeo"
           }
          ],
          "scattergl": [
           {
            "marker": {
             "colorbar": {
              "outlinewidth": 0,
              "ticks": ""
             }
            },
            "type": "scattergl"
           }
          ],
          "scattermap": [
           {
            "marker": {
             "colorbar": {
              "outlinewidth": 0,
              "ticks": ""
             }
            },
            "type": "scattermap"
           }
          ],
          "scattermapbox": [
           {
            "marker": {
             "colorbar": {
              "outlinewidth": 0,
              "ticks": ""
             }
            },
            "type": "scattermapbox"
           }
          ],
          "scatterpolar": [
           {
            "marker": {
             "colorbar": {
              "outlinewidth": 0,
              "ticks": ""
             }
            },
            "type": "scatterpolar"
           }
          ],
          "scatterpolargl": [
           {
            "marker": {
             "colorbar": {
              "outlinewidth": 0,
              "ticks": ""
             }
            },
            "type": "scatterpolargl"
           }
          ],
          "scatterternary": [
           {
            "marker": {
             "colorbar": {
              "outlinewidth": 0,
              "ticks": ""
             }
            },
            "type": "scatterternary"
           }
          ],
          "surface": [
           {
            "colorbar": {
             "outlinewidth": 0,
             "ticks": ""
            },
            "colorscale": [
             [
              0,
              "#0d0887"
             ],
             [
              0.1111111111111111,
              "#46039f"
             ],
             [
              0.2222222222222222,
              "#7201a8"
             ],
             [
              0.3333333333333333,
              "#9c179e"
             ],
             [
              0.4444444444444444,
              "#bd3786"
             ],
             [
              0.5555555555555556,
              "#d8576b"
             ],
             [
              0.6666666666666666,
              "#ed7953"
             ],
             [
              0.7777777777777778,
              "#fb9f3a"
             ],
             [
              0.8888888888888888,
              "#fdca26"
             ],
             [
              1,
              "#f0f921"
             ]
            ],
            "type": "surface"
           }
          ],
          "table": [
           {
            "cells": {
             "fill": {
              "color": "#EBF0F8"
             },
             "line": {
              "color": "white"
             }
            },
            "header": {
             "fill": {
              "color": "#C8D4E3"
             },
             "line": {
              "color": "white"
             }
            },
            "type": "table"
           }
          ]
         },
         "layout": {
          "annotationdefaults": {
           "arrowcolor": "#2a3f5f",
           "arrowhead": 0,
           "arrowwidth": 1
          },
          "autotypenumbers": "strict",
          "coloraxis": {
           "colorbar": {
            "outlinewidth": 0,
            "ticks": ""
           }
          },
          "colorscale": {
           "diverging": [
            [
             0,
             "#8e0152"
            ],
            [
             0.1,
             "#c51b7d"
            ],
            [
             0.2,
             "#de77ae"
            ],
            [
             0.3,
             "#f1b6da"
            ],
            [
             0.4,
             "#fde0ef"
            ],
            [
             0.5,
             "#f7f7f7"
            ],
            [
             0.6,
             "#e6f5d0"
            ],
            [
             0.7,
             "#b8e186"
            ],
            [
             0.8,
             "#7fbc41"
            ],
            [
             0.9,
             "#4d9221"
            ],
            [
             1,
             "#276419"
            ]
           ],
           "sequential": [
            [
             0,
             "#0d0887"
            ],
            [
             0.1111111111111111,
             "#46039f"
            ],
            [
             0.2222222222222222,
             "#7201a8"
            ],
            [
             0.3333333333333333,
             "#9c179e"
            ],
            [
             0.4444444444444444,
             "#bd3786"
            ],
            [
             0.5555555555555556,
             "#d8576b"
            ],
            [
             0.6666666666666666,
             "#ed7953"
            ],
            [
             0.7777777777777778,
             "#fb9f3a"
            ],
            [
             0.8888888888888888,
             "#fdca26"
            ],
            [
             1,
             "#f0f921"
            ]
           ],
           "sequentialminus": [
            [
             0,
             "#0d0887"
            ],
            [
             0.1111111111111111,
             "#46039f"
            ],
            [
             0.2222222222222222,
             "#7201a8"
            ],
            [
             0.3333333333333333,
             "#9c179e"
            ],
            [
             0.4444444444444444,
             "#bd3786"
            ],
            [
             0.5555555555555556,
             "#d8576b"
            ],
            [
             0.6666666666666666,
             "#ed7953"
            ],
            [
             0.7777777777777778,
             "#fb9f3a"
            ],
            [
             0.8888888888888888,
             "#fdca26"
            ],
            [
             1,
             "#f0f921"
            ]
           ]
          },
          "colorway": [
           "#636efa",
           "#EF553B",
           "#00cc96",
           "#ab63fa",
           "#FFA15A",
           "#19d3f3",
           "#FF6692",
           "#B6E880",
           "#FF97FF",
           "#FECB52"
          ],
          "font": {
           "color": "#2a3f5f"
          },
          "geo": {
           "bgcolor": "white",
           "lakecolor": "white",
           "landcolor": "#E5ECF6",
           "showlakes": true,
           "showland": true,
           "subunitcolor": "white"
          },
          "hoverlabel": {
           "align": "left"
          },
          "hovermode": "closest",
          "mapbox": {
           "style": "light"
          },
          "paper_bgcolor": "white",
          "plot_bgcolor": "#E5ECF6",
          "polar": {
           "angularaxis": {
            "gridcolor": "white",
            "linecolor": "white",
            "ticks": ""
           },
           "bgcolor": "#E5ECF6",
           "radialaxis": {
            "gridcolor": "white",
            "linecolor": "white",
            "ticks": ""
           }
          },
          "scene": {
           "xaxis": {
            "backgroundcolor": "#E5ECF6",
            "gridcolor": "white",
            "gridwidth": 2,
            "linecolor": "white",
            "showbackground": true,
            "ticks": "",
            "zerolinecolor": "white"
           },
           "yaxis": {
            "backgroundcolor": "#E5ECF6",
            "gridcolor": "white",
            "gridwidth": 2,
            "linecolor": "white",
            "showbackground": true,
            "ticks": "",
            "zerolinecolor": "white"
           },
           "zaxis": {
            "backgroundcolor": "#E5ECF6",
            "gridcolor": "white",
            "gridwidth": 2,
            "linecolor": "white",
            "showbackground": true,
            "ticks": "",
            "zerolinecolor": "white"
           }
          },
          "shapedefaults": {
           "line": {
            "color": "#2a3f5f"
           }
          },
          "ternary": {
           "aaxis": {
            "gridcolor": "white",
            "linecolor": "white",
            "ticks": ""
           },
           "baxis": {
            "gridcolor": "white",
            "linecolor": "white",
            "ticks": ""
           },
           "bgcolor": "#E5ECF6",
           "caxis": {
            "gridcolor": "white",
            "linecolor": "white",
            "ticks": ""
           }
          },
          "title": {
           "x": 0.05
          },
          "xaxis": {
           "automargin": true,
           "gridcolor": "white",
           "linecolor": "white",
           "ticks": "",
           "title": {
            "standoff": 15
           },
           "zerolinecolor": "white",
           "zerolinewidth": 2
          },
          "yaxis": {
           "automargin": true,
           "gridcolor": "white",
           "linecolor": "white",
           "ticks": "",
           "title": {
            "standoff": 15
           },
           "zerolinecolor": "white",
           "zerolinewidth": 2
          }
         }
        },
        "title": {
         "text": "Frequência dos Tipos Primários dos Pokémon"
        },
        "xaxis": {
         "anchor": "y",
         "categoryarray": [
          "water",
          "normal",
          "grass",
          "bug",
          "fire",
          "psychic",
          "electric",
          "rock",
          "dark",
          "poison",
          "ground",
          "fighting",
          "dragon",
          "steel",
          "ghost",
          "ice",
          "fairy",
          "flying"
         ],
         "categoryorder": "array",
         "domain": [
          0,
          1
         ],
         "title": {
          "text": "Tipo Primário"
         }
        },
        "yaxis": {
         "anchor": "x",
         "domain": [
          0,
          1
         ],
         "title": {
          "text": "Frequência"
         }
        }
       }
      }
     },
     "metadata": {},
     "output_type": "display_data"
    },
    {
     "data": {
      "application/vnd.plotly.v1+json": {
       "config": {
        "plotlyServerURL": "https://plot.ly"
       },
       "data": [
        {
         "hovertemplate": "Tipo Secundário=%{x}<br>Frequência=%{y}<extra></extra>",
         "legendgroup": "flying",
         "marker": {
          "color": "#636efa",
          "pattern": {
           "shape": ""
          }
         },
         "name": "flying",
         "orientation": "v",
         "showlegend": true,
         "textposition": "auto",
         "type": "bar",
         "x": [
          "flying"
         ],
         "xaxis": "x",
         "y": {
          "bdata": "ZA==",
          "dtype": "i1"
         },
         "yaxis": "y"
        },
        {
         "hovertemplate": "Tipo Secundário=%{x}<br>Frequência=%{y}<extra></extra>",
         "legendgroup": "psychic",
         "marker": {
          "color": "#EF553B",
          "pattern": {
           "shape": ""
          }
         },
         "name": "psychic",
         "orientation": "v",
         "showlegend": true,
         "textposition": "auto",
         "type": "bar",
         "x": [
          "psychic"
         ],
         "xaxis": "x",
         "y": {
          "bdata": "Kg==",
          "dtype": "i1"
         },
         "yaxis": "y"
        },
        {
         "hovertemplate": "Tipo Secundário=%{x}<br>Frequência=%{y}<extra></extra>",
         "legendgroup": "poison",
         "marker": {
          "color": "#00cc96",
          "pattern": {
           "shape": ""
          }
         },
         "name": "poison",
         "orientation": "v",
         "showlegend": true,
         "textposition": "auto",
         "type": "bar",
         "x": [
          "poison"
         ],
         "xaxis": "x",
         "y": {
          "bdata": "KQ==",
          "dtype": "i1"
         },
         "yaxis": "y"
        },
        {
         "hovertemplate": "Tipo Secundário=%{x}<br>Frequência=%{y}<extra></extra>",
         "legendgroup": "ground",
         "marker": {
          "color": "#ab63fa",
          "pattern": {
           "shape": ""
          }
         },
         "name": "ground",
         "orientation": "v",
         "showlegend": true,
         "textposition": "auto",
         "type": "bar",
         "x": [
          "ground"
         ],
         "xaxis": "x",
         "y": {
          "bdata": "Iw==",
          "dtype": "i1"
         },
         "yaxis": "y"
        },
        {
         "hovertemplate": "Tipo Secundário=%{x}<br>Frequência=%{y}<extra></extra>",
         "legendgroup": "fairy",
         "marker": {
          "color": "#FFA15A",
          "pattern": {
           "shape": ""
          }
         },
         "name": "fairy",
         "orientation": "v",
         "showlegend": true,
         "textposition": "auto",
         "type": "bar",
         "x": [
          "fairy"
         ],
         "xaxis": "x",
         "y": {
          "bdata": "Iw==",
          "dtype": "i1"
         },
         "yaxis": "y"
        },
        {
         "hovertemplate": "Tipo Secundário=%{x}<br>Frequência=%{y}<extra></extra>",
         "legendgroup": "fighting",
         "marker": {
          "color": "#19d3f3",
          "pattern": {
           "shape": ""
          }
         },
         "name": "fighting",
         "orientation": "v",
         "showlegend": true,
         "textposition": "auto",
         "type": "bar",
         "x": [
          "fighting"
         ],
         "xaxis": "x",
         "y": {
          "bdata": "IQ==",
          "dtype": "i1"
         },
         "yaxis": "y"
        },
        {
         "hovertemplate": "Tipo Secundário=%{x}<br>Frequência=%{y}<extra></extra>",
         "legendgroup": "dragon",
         "marker": {
          "color": "#FF6692",
          "pattern": {
           "shape": ""
          }
         },
         "name": "dragon",
         "orientation": "v",
         "showlegend": true,
         "textposition": "auto",
         "type": "bar",
         "x": [
          "dragon"
         ],
         "xaxis": "x",
         "y": {
          "bdata": "IQ==",
          "dtype": "i1"
         },
         "yaxis": "y"
        },
        {
         "hovertemplate": "Tipo Secundário=%{x}<br>Frequência=%{y}<extra></extra>",
         "legendgroup": "ghost",
         "marker": {
          "color": "#B6E880",
          "pattern": {
           "shape": ""
          }
         },
         "name": "ghost",
         "orientation": "v",
         "showlegend": true,
         "textposition": "auto",
         "type": "bar",
         "x": [
          "ghost"
         ],
         "xaxis": "x",
         "y": {
          "bdata": "Hg==",
          "dtype": "i1"
         },
         "yaxis": "y"
        },
        {
         "hovertemplate": "Tipo Secundário=%{x}<br>Frequência=%{y}<extra></extra>",
         "legendgroup": "steel",
         "marker": {
          "color": "#FF97FF",
          "pattern": {
           "shape": ""
          }
         },
         "name": "steel",
         "orientation": "v",
         "showlegend": true,
         "textposition": "auto",
         "type": "bar",
         "x": [
          "steel"
         ],
         "xaxis": "x",
         "y": {
          "bdata": "HQ==",
          "dtype": "i1"
         },
         "yaxis": "y"
        },
        {
         "hovertemplate": "Tipo Secundário=%{x}<br>Frequência=%{y}<extra></extra>",
         "legendgroup": "grass",
         "marker": {
          "color": "#FECB52",
          "pattern": {
           "shape": ""
          }
         },
         "name": "grass",
         "orientation": "v",
         "showlegend": true,
         "textposition": "auto",
         "type": "bar",
         "x": [
          "grass"
         ],
         "xaxis": "x",
         "y": {
          "bdata": "GA==",
          "dtype": "i1"
         },
         "yaxis": "y"
        },
        {
         "hovertemplate": "Tipo Secundário=%{x}<br>Frequência=%{y}<extra></extra>",
         "legendgroup": "dark",
         "marker": {
          "color": "#636efa",
          "pattern": {
           "shape": ""
          }
         },
         "name": "dark",
         "orientation": "v",
         "showlegend": true,
         "textposition": "auto",
         "type": "bar",
         "x": [
          "dark"
         ],
         "xaxis": "x",
         "y": {
          "bdata": "GA==",
          "dtype": "i1"
         },
         "yaxis": "y"
        },
        {
         "hovertemplate": "Tipo Secundário=%{x}<br>Frequência=%{y}<extra></extra>",
         "legendgroup": "water",
         "marker": {
          "color": "#EF553B",
          "pattern": {
           "shape": ""
          }
         },
         "name": "water",
         "orientation": "v",
         "showlegend": true,
         "textposition": "auto",
         "type": "bar",
         "x": [
          "water"
         ],
         "xaxis": "x",
         "y": {
          "bdata": "FA==",
          "dtype": "i1"
         },
         "yaxis": "y"
        },
        {
         "hovertemplate": "Tipo Secundário=%{x}<br>Frequência=%{y}<extra></extra>",
         "legendgroup": "ice",
         "marker": {
          "color": "#00cc96",
          "pattern": {
           "shape": ""
          }
         },
         "name": "ice",
         "orientation": "v",
         "showlegend": true,
         "textposition": "auto",
         "type": "bar",
         "x": [
          "ice"
         ],
         "xaxis": "x",
         "y": {
          "bdata": "EQ==",
          "dtype": "i1"
         },
         "yaxis": "y"
        },
        {
         "hovertemplate": "Tipo Secundário=%{x}<br>Frequência=%{y}<extra></extra>",
         "legendgroup": "rock",
         "marker": {
          "color": "#ab63fa",
          "pattern": {
           "shape": ""
          }
         },
         "name": "rock",
         "orientation": "v",
         "showlegend": true,
         "textposition": "auto",
         "type": "bar",
         "x": [
          "rock"
         ],
         "xaxis": "x",
         "y": {
          "bdata": "EA==",
          "dtype": "i1"
         },
         "yaxis": "y"
        },
        {
         "hovertemplate": "Tipo Secundário=%{x}<br>Frequência=%{y}<extra></extra>",
         "legendgroup": "fire",
         "marker": {
          "color": "#FFA15A",
          "pattern": {
           "shape": ""
          }
         },
         "name": "fire",
         "orientation": "v",
         "showlegend": true,
         "textposition": "auto",
         "type": "bar",
         "x": [
          "fire"
         ],
         "xaxis": "x",
         "y": {
          "bdata": "Dw==",
          "dtype": "i1"
         },
         "yaxis": "y"
        },
        {
         "hovertemplate": "Tipo Secundário=%{x}<br>Frequência=%{y}<extra></extra>",
         "legendgroup": "normal",
         "marker": {
          "color": "#19d3f3",
          "pattern": {
           "shape": ""
          }
         },
         "name": "normal",
         "orientation": "v",
         "showlegend": true,
         "textposition": "auto",
         "type": "bar",
         "x": [
          "normal"
         ],
         "xaxis": "x",
         "y": {
          "bdata": "DQ==",
          "dtype": "i1"
         },
         "yaxis": "y"
        },
        {
         "hovertemplate": "Tipo Secundário=%{x}<br>Frequência=%{y}<extra></extra>",
         "legendgroup": "electric",
         "marker": {
          "color": "#FF6692",
          "pattern": {
           "shape": ""
          }
         },
         "name": "electric",
         "orientation": "v",
         "showlegend": true,
         "textposition": "auto",
         "type": "bar",
         "x": [
          "electric"
         ],
         "xaxis": "x",
         "y": {
          "bdata": "Cg==",
          "dtype": "i1"
         },
         "yaxis": "y"
        },
        {
         "hovertemplate": "Tipo Secundário=%{x}<br>Frequência=%{y}<extra></extra>",
         "legendgroup": "bug",
         "marker": {
          "color": "#B6E880",
          "pattern": {
           "shape": ""
          }
         },
         "name": "bug",
         "orientation": "v",
         "showlegend": true,
         "textposition": "auto",
         "type": "bar",
         "x": [
          "bug"
         ],
         "xaxis": "x",
         "y": {
          "bdata": "CQ==",
          "dtype": "i1"
         },
         "yaxis": "y"
        }
       ],
       "layout": {
        "barmode": "relative",
        "legend": {
         "title": {
          "text": "Tipo Secundário"
         },
         "tracegroupgap": 0
        },
        "template": {
         "data": {
          "bar": [
           {
            "error_x": {
             "color": "#2a3f5f"
            },
            "error_y": {
             "color": "#2a3f5f"
            },
            "marker": {
             "line": {
              "color": "#E5ECF6",
              "width": 0.5
             },
             "pattern": {
              "fillmode": "overlay",
              "size": 10,
              "solidity": 0.2
             }
            },
            "type": "bar"
           }
          ],
          "barpolar": [
           {
            "marker": {
             "line": {
              "color": "#E5ECF6",
              "width": 0.5
             },
             "pattern": {
              "fillmode": "overlay",
              "size": 10,
              "solidity": 0.2
             }
            },
            "type": "barpolar"
           }
          ],
          "carpet": [
           {
            "aaxis": {
             "endlinecolor": "#2a3f5f",
             "gridcolor": "white",
             "linecolor": "white",
             "minorgridcolor": "white",
             "startlinecolor": "#2a3f5f"
            },
            "baxis": {
             "endlinecolor": "#2a3f5f",
             "gridcolor": "white",
             "linecolor": "white",
             "minorgridcolor": "white",
             "startlinecolor": "#2a3f5f"
            },
            "type": "carpet"
           }
          ],
          "choropleth": [
           {
            "colorbar": {
             "outlinewidth": 0,
             "ticks": ""
            },
            "type": "choropleth"
           }
          ],
          "contour": [
           {
            "colorbar": {
             "outlinewidth": 0,
             "ticks": ""
            },
            "colorscale": [
             [
              0,
              "#0d0887"
             ],
             [
              0.1111111111111111,
              "#46039f"
             ],
             [
              0.2222222222222222,
              "#7201a8"
             ],
             [
              0.3333333333333333,
              "#9c179e"
             ],
             [
              0.4444444444444444,
              "#bd3786"
             ],
             [
              0.5555555555555556,
              "#d8576b"
             ],
             [
              0.6666666666666666,
              "#ed7953"
             ],
             [
              0.7777777777777778,
              "#fb9f3a"
             ],
             [
              0.8888888888888888,
              "#fdca26"
             ],
             [
              1,
              "#f0f921"
             ]
            ],
            "type": "contour"
           }
          ],
          "contourcarpet": [
           {
            "colorbar": {
             "outlinewidth": 0,
             "ticks": ""
            },
            "type": "contourcarpet"
           }
          ],
          "heatmap": [
           {
            "colorbar": {
             "outlinewidth": 0,
             "ticks": ""
            },
            "colorscale": [
             [
              0,
              "#0d0887"
             ],
             [
              0.1111111111111111,
              "#46039f"
             ],
             [
              0.2222222222222222,
              "#7201a8"
             ],
             [
              0.3333333333333333,
              "#9c179e"
             ],
             [
              0.4444444444444444,
              "#bd3786"
             ],
             [
              0.5555555555555556,
              "#d8576b"
             ],
             [
              0.6666666666666666,
              "#ed7953"
             ],
             [
              0.7777777777777778,
              "#fb9f3a"
             ],
             [
              0.8888888888888888,
              "#fdca26"
             ],
             [
              1,
              "#f0f921"
             ]
            ],
            "type": "heatmap"
           }
          ],
          "histogram": [
           {
            "marker": {
             "pattern": {
              "fillmode": "overlay",
              "size": 10,
              "solidity": 0.2
             }
            },
            "type": "histogram"
           }
          ],
          "histogram2d": [
           {
            "colorbar": {
             "outlinewidth": 0,
             "ticks": ""
            },
            "colorscale": [
             [
              0,
              "#0d0887"
             ],
             [
              0.1111111111111111,
              "#46039f"
             ],
             [
              0.2222222222222222,
              "#7201a8"
             ],
             [
              0.3333333333333333,
              "#9c179e"
             ],
             [
              0.4444444444444444,
              "#bd3786"
             ],
             [
              0.5555555555555556,
              "#d8576b"
             ],
             [
              0.6666666666666666,
              "#ed7953"
             ],
             [
              0.7777777777777778,
              "#fb9f3a"
             ],
             [
              0.8888888888888888,
              "#fdca26"
             ],
             [
              1,
              "#f0f921"
             ]
            ],
            "type": "histogram2d"
           }
          ],
          "histogram2dcontour": [
           {
            "colorbar": {
             "outlinewidth": 0,
             "ticks": ""
            },
            "colorscale": [
             [
              0,
              "#0d0887"
             ],
             [
              0.1111111111111111,
              "#46039f"
             ],
             [
              0.2222222222222222,
              "#7201a8"
             ],
             [
              0.3333333333333333,
              "#9c179e"
             ],
             [
              0.4444444444444444,
              "#bd3786"
             ],
             [
              0.5555555555555556,
              "#d8576b"
             ],
             [
              0.6666666666666666,
              "#ed7953"
             ],
             [
              0.7777777777777778,
              "#fb9f3a"
             ],
             [
              0.8888888888888888,
              "#fdca26"
             ],
             [
              1,
              "#f0f921"
             ]
            ],
            "type": "histogram2dcontour"
           }
          ],
          "mesh3d": [
           {
            "colorbar": {
             "outlinewidth": 0,
             "ticks": ""
            },
            "type": "mesh3d"
           }
          ],
          "parcoords": [
           {
            "line": {
             "colorbar": {
              "outlinewidth": 0,
              "ticks": ""
             }
            },
            "type": "parcoords"
           }
          ],
          "pie": [
           {
            "automargin": true,
            "type": "pie"
           }
          ],
          "scatter": [
           {
            "fillpattern": {
             "fillmode": "overlay",
             "size": 10,
             "solidity": 0.2
            },
            "type": "scatter"
           }
          ],
          "scatter3d": [
           {
            "line": {
             "colorbar": {
              "outlinewidth": 0,
              "ticks": ""
             }
            },
            "marker": {
             "colorbar": {
              "outlinewidth": 0,
              "ticks": ""
             }
            },
            "type": "scatter3d"
           }
          ],
          "scattercarpet": [
           {
            "marker": {
             "colorbar": {
              "outlinewidth": 0,
              "ticks": ""
             }
            },
            "type": "scattercarpet"
           }
          ],
          "scattergeo": [
           {
            "marker": {
             "colorbar": {
              "outlinewidth": 0,
              "ticks": ""
             }
            },
            "type": "scattergeo"
           }
          ],
          "scattergl": [
           {
            "marker": {
             "colorbar": {
              "outlinewidth": 0,
              "ticks": ""
             }
            },
            "type": "scattergl"
           }
          ],
          "scattermap": [
           {
            "marker": {
             "colorbar": {
              "outlinewidth": 0,
              "ticks": ""
             }
            },
            "type": "scattermap"
           }
          ],
          "scattermapbox": [
           {
            "marker": {
             "colorbar": {
              "outlinewidth": 0,
              "ticks": ""
             }
            },
            "type": "scattermapbox"
           }
          ],
          "scatterpolar": [
           {
            "marker": {
             "colorbar": {
              "outlinewidth": 0,
              "ticks": ""
             }
            },
            "type": "scatterpolar"
           }
          ],
          "scatterpolargl": [
           {
            "marker": {
             "colorbar": {
              "outlinewidth": 0,
              "ticks": ""
             }
            },
            "type": "scatterpolargl"
           }
          ],
          "scatterternary": [
           {
            "marker": {
             "colorbar": {
              "outlinewidth": 0,
              "ticks": ""
             }
            },
            "type": "scatterternary"
           }
          ],
          "surface": [
           {
            "colorbar": {
             "outlinewidth": 0,
             "ticks": ""
            },
            "colorscale": [
             [
              0,
              "#0d0887"
             ],
             [
              0.1111111111111111,
              "#46039f"
             ],
             [
              0.2222222222222222,
              "#7201a8"
             ],
             [
              0.3333333333333333,
              "#9c179e"
             ],
             [
              0.4444444444444444,
              "#bd3786"
             ],
             [
              0.5555555555555556,
              "#d8576b"
             ],
             [
              0.6666666666666666,
              "#ed7953"
             ],
             [
              0.7777777777777778,
              "#fb9f3a"
             ],
             [
              0.8888888888888888,
              "#fdca26"
             ],
             [
              1,
              "#f0f921"
             ]
            ],
            "type": "surface"
           }
          ],
          "table": [
           {
            "cells": {
             "fill": {
              "color": "#EBF0F8"
             },
             "line": {
              "color": "white"
             }
            },
            "header": {
             "fill": {
              "color": "#C8D4E3"
             },
             "line": {
              "color": "white"
             }
            },
            "type": "table"
           }
          ]
         },
         "layout": {
          "annotationdefaults": {
           "arrowcolor": "#2a3f5f",
           "arrowhead": 0,
           "arrowwidth": 1
          },
          "autotypenumbers": "strict",
          "coloraxis": {
           "colorbar": {
            "outlinewidth": 0,
            "ticks": ""
           }
          },
          "colorscale": {
           "diverging": [
            [
             0,
             "#8e0152"
            ],
            [
             0.1,
             "#c51b7d"
            ],
            [
             0.2,
             "#de77ae"
            ],
            [
             0.3,
             "#f1b6da"
            ],
            [
             0.4,
             "#fde0ef"
            ],
            [
             0.5,
             "#f7f7f7"
            ],
            [
             0.6,
             "#e6f5d0"
            ],
            [
             0.7,
             "#b8e186"
            ],
            [
             0.8,
             "#7fbc41"
            ],
            [
             0.9,
             "#4d9221"
            ],
            [
             1,
             "#276419"
            ]
           ],
           "sequential": [
            [
             0,
             "#0d0887"
            ],
            [
             0.1111111111111111,
             "#46039f"
            ],
            [
             0.2222222222222222,
             "#7201a8"
            ],
            [
             0.3333333333333333,
             "#9c179e"
            ],
            [
             0.4444444444444444,
             "#bd3786"
            ],
            [
             0.5555555555555556,
             "#d8576b"
            ],
            [
             0.6666666666666666,
             "#ed7953"
            ],
            [
             0.7777777777777778,
             "#fb9f3a"
            ],
            [
             0.8888888888888888,
             "#fdca26"
            ],
            [
             1,
             "#f0f921"
            ]
           ],
           "sequentialminus": [
            [
             0,
             "#0d0887"
            ],
            [
             0.1111111111111111,
             "#46039f"
            ],
            [
             0.2222222222222222,
             "#7201a8"
            ],
            [
             0.3333333333333333,
             "#9c179e"
            ],
            [
             0.4444444444444444,
             "#bd3786"
            ],
            [
             0.5555555555555556,
             "#d8576b"
            ],
            [
             0.6666666666666666,
             "#ed7953"
            ],
            [
             0.7777777777777778,
             "#fb9f3a"
            ],
            [
             0.8888888888888888,
             "#fdca26"
            ],
            [
             1,
             "#f0f921"
            ]
           ]
          },
          "colorway": [
           "#636efa",
           "#EF553B",
           "#00cc96",
           "#ab63fa",
           "#FFA15A",
           "#19d3f3",
           "#FF6692",
           "#B6E880",
           "#FF97FF",
           "#FECB52"
          ],
          "font": {
           "color": "#2a3f5f"
          },
          "geo": {
           "bgcolor": "white",
           "lakecolor": "white",
           "landcolor": "#E5ECF6",
           "showlakes": true,
           "showland": true,
           "subunitcolor": "white"
          },
          "hoverlabel": {
           "align": "left"
          },
          "hovermode": "closest",
          "mapbox": {
           "style": "light"
          },
          "paper_bgcolor": "white",
          "plot_bgcolor": "#E5ECF6",
          "polar": {
           "angularaxis": {
            "gridcolor": "white",
            "linecolor": "white",
            "ticks": ""
           },
           "bgcolor": "#E5ECF6",
           "radialaxis": {
            "gridcolor": "white",
            "linecolor": "white",
            "ticks": ""
           }
          },
          "scene": {
           "xaxis": {
            "backgroundcolor": "#E5ECF6",
            "gridcolor": "white",
            "gridwidth": 2,
            "linecolor": "white",
            "showbackground": true,
            "ticks": "",
            "zerolinecolor": "white"
           },
           "yaxis": {
            "backgroundcolor": "#E5ECF6",
            "gridcolor": "white",
            "gridwidth": 2,
            "linecolor": "white",
            "showbackground": true,
            "ticks": "",
            "zerolinecolor": "white"
           },
           "zaxis": {
            "backgroundcolor": "#E5ECF6",
            "gridcolor": "white",
            "gridwidth": 2,
            "linecolor": "white",
            "showbackground": true,
            "ticks": "",
            "zerolinecolor": "white"
           }
          },
          "shapedefaults": {
           "line": {
            "color": "#2a3f5f"
           }
          },
          "ternary": {
           "aaxis": {
            "gridcolor": "white",
            "linecolor": "white",
            "ticks": ""
           },
           "baxis": {
            "gridcolor": "white",
            "linecolor": "white",
            "ticks": ""
           },
           "bgcolor": "#E5ECF6",
           "caxis": {
            "gridcolor": "white",
            "linecolor": "white",
            "ticks": ""
           }
          },
          "title": {
           "x": 0.05
          },
          "xaxis": {
           "automargin": true,
           "gridcolor": "white",
           "linecolor": "white",
           "ticks": "",
           "title": {
            "standoff": 15
           },
           "zerolinecolor": "white",
           "zerolinewidth": 2
          },
          "yaxis": {
           "automargin": true,
           "gridcolor": "white",
           "linecolor": "white",
           "ticks": "",
           "title": {
            "standoff": 15
           },
           "zerolinecolor": "white",
           "zerolinewidth": 2
          }
         }
        },
        "title": {
         "text": "Frequência dos Tipos Secundários dos Pokémon"
        },
        "xaxis": {
         "anchor": "y",
         "categoryarray": [
          "flying",
          "psychic",
          "poison",
          "ground",
          "fairy",
          "fighting",
          "dragon",
          "ghost",
          "steel",
          "grass",
          "dark",
          "water",
          "ice",
          "rock",
          "fire",
          "normal",
          "electric",
          "bug"
         ],
         "categoryorder": "array",
         "domain": [
          0,
          1
         ],
         "title": {
          "text": "Tipo Secundário"
         }
        },
        "yaxis": {
         "anchor": "x",
         "domain": [
          0,
          1
         ],
         "title": {
          "text": "Frequência"
         }
        }
       }
      }
     },
     "metadata": {},
     "output_type": "display_data"
    },
    {
     "data": {
      "application/vnd.plotly.v1+json": {
       "config": {
        "plotlyServerURL": "https://plot.ly"
       },
       "data": [
        {
         "hovertemplate": "Tipo=%{x}<br>Frequência=%{y}<extra></extra>",
         "legendgroup": "water",
         "marker": {
          "color": "#636efa",
          "pattern": {
           "shape": ""
          }
         },
         "name": "water",
         "orientation": "v",
         "showlegend": true,
         "textposition": "auto",
         "type": "bar",
         "x": [
          "water"
         ],
         "xaxis": "x",
         "y": {
          "bdata": "mgA=",
          "dtype": "i2"
         },
         "yaxis": "y"
        },
        {
         "hovertemplate": "Tipo=%{x}<br>Frequência=%{y}<extra></extra>",
         "legendgroup": "normal",
         "marker": {
          "color": "#EF553B",
          "pattern": {
           "shape": ""
          }
         },
         "name": "normal",
         "orientation": "v",
         "showlegend": true,
         "textposition": "auto",
         "type": "bar",
         "x": [
          "normal"
         ],
         "xaxis": "x",
         "y": {
          "bdata": "gwA=",
          "dtype": "i2"
         },
         "yaxis": "y"
        },
        {
         "hovertemplate": "Tipo=%{x}<br>Frequência=%{y}<extra></extra>",
         "legendgroup": "grass",
         "marker": {
          "color": "#00cc96",
          "pattern": {
           "shape": ""
          }
         },
         "name": "grass",
         "orientation": "v",
         "showlegend": true,
         "textposition": "auto",
         "type": "bar",
         "x": [
          "grass"
         ],
         "xaxis": "x",
         "y": {
          "bdata": "fw==",
          "dtype": "i1"
         },
         "yaxis": "y"
        },
        {
         "hovertemplate": "Tipo=%{x}<br>Frequência=%{y}<extra></extra>",
         "legendgroup": "flying",
         "marker": {
          "color": "#ab63fa",
          "pattern": {
           "shape": ""
          }
         },
         "name": "flying",
         "orientation": "v",
         "showlegend": true,
         "textposition": "auto",
         "type": "bar",
         "x": [
          "flying"
         ],
         "xaxis": "x",
         "y": {
          "bdata": "bQ==",
          "dtype": "i1"
         },
         "yaxis": "y"
        },
        {
         "hovertemplate": "Tipo=%{x}<br>Frequência=%{y}<extra></extra>",
         "legendgroup": "psychic",
         "marker": {
          "color": "#FFA15A",
          "pattern": {
           "shape": ""
          }
         },
         "name": "psychic",
         "orientation": "v",
         "showlegend": true,
         "textposition": "auto",
         "type": "bar",
         "x": [
          "psychic"
         ],
         "xaxis": "x",
         "y": {
          "bdata": "Zg==",
          "dtype": "i1"
         },
         "yaxis": "y"
        },
        {
         "hovertemplate": "Tipo=%{x}<br>Frequência=%{y}<extra></extra>",
         "legendgroup": "bug",
         "marker": {
          "color": "#19d3f3",
          "pattern": {
           "shape": ""
          }
         },
         "name": "bug",
         "orientation": "v",
         "showlegend": true,
         "textposition": "auto",
         "type": "bar",
         "x": [
          "bug"
         ],
         "xaxis": "x",
         "y": {
          "bdata": "XA==",
          "dtype": "i1"
         },
         "yaxis": "y"
        },
        {
         "hovertemplate": "Tipo=%{x}<br>Frequência=%{y}<extra></extra>",
         "legendgroup": "poison",
         "marker": {
          "color": "#FF6692",
          "pattern": {
           "shape": ""
          }
         },
         "name": "poison",
         "orientation": "v",
         "showlegend": true,
         "textposition": "auto",
         "type": "bar",
         "x": [
          "poison"
         ],
         "xaxis": "x",
         "y": {
          "bdata": "Uw==",
          "dtype": "i1"
         },
         "yaxis": "y"
        },
        {
         "hovertemplate": "Tipo=%{x}<br>Frequência=%{y}<extra></extra>",
         "legendgroup": "fire",
         "marker": {
          "color": "#B6E880",
          "pattern": {
           "shape": ""
          }
         },
         "name": "fire",
         "orientation": "v",
         "showlegend": true,
         "textposition": "auto",
         "type": "bar",
         "x": [
          "fire"
         ],
         "xaxis": "x",
         "y": {
          "bdata": "UQ==",
          "dtype": "i1"
         },
         "yaxis": "y"
        },
        {
         "hovertemplate": "Tipo=%{x}<br>Frequência=%{y}<extra></extra>",
         "legendgroup": "ground",
         "marker": {
          "color": "#FF97FF",
          "pattern": {
           "shape": ""
          }
         },
         "name": "ground",
         "orientation": "v",
         "showlegend": true,
         "textposition": "auto",
         "type": "bar",
         "x": [
          "ground"
         ],
         "xaxis": "x",
         "y": {
          "bdata": "Sw==",
          "dtype": "i1"
         },
         "yaxis": "y"
        },
        {
         "hovertemplate": "Tipo=%{x}<br>Frequência=%{y}<extra></extra>",
         "legendgroup": "rock",
         "marker": {
          "color": "#FECB52",
          "pattern": {
           "shape": ""
          }
         },
         "name": "rock",
         "orientation": "v",
         "showlegend": true,
         "textposition": "auto",
         "type": "bar",
         "x": [
          "rock"
         ],
         "xaxis": "x",
         "y": {
          "bdata": "Sg==",
          "dtype": "i1"
         },
         "yaxis": "y"
        },
        {
         "hovertemplate": "Tipo=%{x}<br>Frequência=%{y}<extra></extra>",
         "legendgroup": "fighting",
         "marker": {
          "color": "#636efa",
          "pattern": {
           "shape": ""
          }
         },
         "name": "fighting",
         "orientation": "v",
         "showlegend": true,
         "textposition": "auto",
         "type": "bar",
         "x": [
          "fighting"
         ],
         "xaxis": "x",
         "y": {
          "bdata": "SQ==",
          "dtype": "i1"
         },
         "yaxis": "y"
        },
        {
         "hovertemplate": "Tipo=%{x}<br>Frequência=%{y}<extra></extra>",
         "legendgroup": "dragon",
         "marker": {
          "color": "#EF553B",
          "pattern": {
           "shape": ""
          }
         },
         "name": "dragon",
         "orientation": "v",
         "showlegend": true,
         "textposition": "auto",
         "type": "bar",
         "x": [
          "dragon"
         ],
         "xaxis": "x",
         "y": {
          "bdata": "Rg==",
          "dtype": "i1"
         },
         "yaxis": "y"
        },
        {
         "hovertemplate": "Tipo=%{x}<br>Frequência=%{y}<extra></extra>",
         "legendgroup": "dark",
         "marker": {
          "color": "#00cc96",
          "pattern": {
           "shape": ""
          }
         },
         "name": "dark",
         "orientation": "v",
         "showlegend": true,
         "textposition": "auto",
         "type": "bar",
         "x": [
          "dark"
         ],
         "xaxis": "x",
         "y": {
          "bdata": "RQ==",
          "dtype": "i1"
         },
         "yaxis": "y"
        },
        {
         "hovertemplate": "Tipo=%{x}<br>Frequência=%{y}<extra></extra>",
         "legendgroup": "electric",
         "marker": {
          "color": "#ab63fa",
          "pattern": {
           "shape": ""
          }
         },
         "name": "electric",
         "orientation": "v",
         "showlegend": true,
         "textposition": "auto",
         "type": "bar",
         "x": [
          "electric"
         ],
         "xaxis": "x",
         "y": {
          "bdata": "RQ==",
          "dtype": "i1"
         },
         "yaxis": "y"
        },
        {
         "hovertemplate": "Tipo=%{x}<br>Frequência=%{y}<extra></extra>",
         "legendgroup": "ghost",
         "marker": {
          "color": "#FFA15A",
          "pattern": {
           "shape": ""
          }
         },
         "name": "ghost",
         "orientation": "v",
         "showlegend": true,
         "textposition": "auto",
         "type": "bar",
         "x": [
          "ghost"
         ],
         "xaxis": "x",
         "y": {
          "bdata": "QQ==",
          "dtype": "i1"
         },
         "yaxis": "y"
        },
        {
         "hovertemplate": "Tipo=%{x}<br>Frequência=%{y}<extra></extra>",
         "legendgroup": "steel",
         "marker": {
          "color": "#19d3f3",
          "pattern": {
           "shape": ""
          }
         },
         "name": "steel",
         "orientation": "v",
         "showlegend": true,
         "textposition": "auto",
         "type": "bar",
         "x": [
          "steel"
         ],
         "xaxis": "x",
         "y": {
          "bdata": "QQ==",
          "dtype": "i1"
         },
         "yaxis": "y"
        },
        {
         "hovertemplate": "Tipo=%{x}<br>Frequência=%{y}<extra></extra>",
         "legendgroup": "fairy",
         "marker": {
          "color": "#FF6692",
          "pattern": {
           "shape": ""
          }
         },
         "name": "fairy",
         "orientation": "v",
         "showlegend": true,
         "textposition": "auto",
         "type": "bar",
         "x": [
          "fairy"
         ],
         "xaxis": "x",
         "y": {
          "bdata": "QA==",
          "dtype": "i1"
         },
         "yaxis": "y"
        },
        {
         "hovertemplate": "Tipo=%{x}<br>Frequência=%{y}<extra></extra>",
         "legendgroup": "ice",
         "marker": {
          "color": "#B6E880",
          "pattern": {
           "shape": ""
          }
         },
         "name": "ice",
         "orientation": "v",
         "showlegend": true,
         "textposition": "auto",
         "type": "bar",
         "x": [
          "ice"
         ],
         "xaxis": "x",
         "y": {
          "bdata": "MA==",
          "dtype": "i1"
         },
         "yaxis": "y"
        }
       ],
       "layout": {
        "barmode": "relative",
        "legend": {
         "title": {
          "text": "Tipo"
         },
         "tracegroupgap": 0
        },
        "template": {
         "data": {
          "bar": [
           {
            "error_x": {
             "color": "#2a3f5f"
            },
            "error_y": {
             "color": "#2a3f5f"
            },
            "marker": {
             "line": {
              "color": "#E5ECF6",
              "width": 0.5
             },
             "pattern": {
              "fillmode": "overlay",
              "size": 10,
              "solidity": 0.2
             }
            },
            "type": "bar"
           }
          ],
          "barpolar": [
           {
            "marker": {
             "line": {
              "color": "#E5ECF6",
              "width": 0.5
             },
             "pattern": {
              "fillmode": "overlay",
              "size": 10,
              "solidity": 0.2
             }
            },
            "type": "barpolar"
           }
          ],
          "carpet": [
           {
            "aaxis": {
             "endlinecolor": "#2a3f5f",
             "gridcolor": "white",
             "linecolor": "white",
             "minorgridcolor": "white",
             "startlinecolor": "#2a3f5f"
            },
            "baxis": {
             "endlinecolor": "#2a3f5f",
             "gridcolor": "white",
             "linecolor": "white",
             "minorgridcolor": "white",
             "startlinecolor": "#2a3f5f"
            },
            "type": "carpet"
           }
          ],
          "choropleth": [
           {
            "colorbar": {
             "outlinewidth": 0,
             "ticks": ""
            },
            "type": "choropleth"
           }
          ],
          "contour": [
           {
            "colorbar": {
             "outlinewidth": 0,
             "ticks": ""
            },
            "colorscale": [
             [
              0,
              "#0d0887"
             ],
             [
              0.1111111111111111,
              "#46039f"
             ],
             [
              0.2222222222222222,
              "#7201a8"
             ],
             [
              0.3333333333333333,
              "#9c179e"
             ],
             [
              0.4444444444444444,
              "#bd3786"
             ],
             [
              0.5555555555555556,
              "#d8576b"
             ],
             [
              0.6666666666666666,
              "#ed7953"
             ],
             [
              0.7777777777777778,
              "#fb9f3a"
             ],
             [
              0.8888888888888888,
              "#fdca26"
             ],
             [
              1,
              "#f0f921"
             ]
            ],
            "type": "contour"
           }
          ],
          "contourcarpet": [
           {
            "colorbar": {
             "outlinewidth": 0,
             "ticks": ""
            },
            "type": "contourcarpet"
           }
          ],
          "heatmap": [
           {
            "colorbar": {
             "outlinewidth": 0,
             "ticks": ""
            },
            "colorscale": [
             [
              0,
              "#0d0887"
             ],
             [
              0.1111111111111111,
              "#46039f"
             ],
             [
              0.2222222222222222,
              "#7201a8"
             ],
             [
              0.3333333333333333,
              "#9c179e"
             ],
             [
              0.4444444444444444,
              "#bd3786"
             ],
             [
              0.5555555555555556,
              "#d8576b"
             ],
             [
              0.6666666666666666,
              "#ed7953"
             ],
             [
              0.7777777777777778,
              "#fb9f3a"
             ],
             [
              0.8888888888888888,
              "#fdca26"
             ],
             [
              1,
              "#f0f921"
             ]
            ],
            "type": "heatmap"
           }
          ],
          "histogram": [
           {
            "marker": {
             "pattern": {
              "fillmode": "overlay",
              "size": 10,
              "solidity": 0.2
             }
            },
            "type": "histogram"
           }
          ],
          "histogram2d": [
           {
            "colorbar": {
             "outlinewidth": 0,
             "ticks": ""
            },
            "colorscale": [
             [
              0,
              "#0d0887"
             ],
             [
              0.1111111111111111,
              "#46039f"
             ],
             [
              0.2222222222222222,
              "#7201a8"
             ],
             [
              0.3333333333333333,
              "#9c179e"
             ],
             [
              0.4444444444444444,
              "#bd3786"
             ],
             [
              0.5555555555555556,
              "#d8576b"
             ],
             [
              0.6666666666666666,
              "#ed7953"
             ],
             [
              0.7777777777777778,
              "#fb9f3a"
             ],
             [
              0.8888888888888888,
              "#fdca26"
             ],
             [
              1,
              "#f0f921"
             ]
            ],
            "type": "histogram2d"
           }
          ],
          "histogram2dcontour": [
           {
            "colorbar": {
             "outlinewidth": 0,
             "ticks": ""
            },
            "colorscale": [
             [
              0,
              "#0d0887"
             ],
             [
              0.1111111111111111,
              "#46039f"
             ],
             [
              0.2222222222222222,
              "#7201a8"
             ],
             [
              0.3333333333333333,
              "#9c179e"
             ],
             [
              0.4444444444444444,
              "#bd3786"
             ],
             [
              0.5555555555555556,
              "#d8576b"
             ],
             [
              0.6666666666666666,
              "#ed7953"
             ],
             [
              0.7777777777777778,
              "#fb9f3a"
             ],
             [
              0.8888888888888888,
              "#fdca26"
             ],
             [
              1,
              "#f0f921"
             ]
            ],
            "type": "histogram2dcontour"
           }
          ],
          "mesh3d": [
           {
            "colorbar": {
             "outlinewidth": 0,
             "ticks": ""
            },
            "type": "mesh3d"
           }
          ],
          "parcoords": [
           {
            "line": {
             "colorbar": {
              "outlinewidth": 0,
              "ticks": ""
             }
            },
            "type": "parcoords"
           }
          ],
          "pie": [
           {
            "automargin": true,
            "type": "pie"
           }
          ],
          "scatter": [
           {
            "fillpattern": {
             "fillmode": "overlay",
             "size": 10,
             "solidity": 0.2
            },
            "type": "scatter"
           }
          ],
          "scatter3d": [
           {
            "line": {
             "colorbar": {
              "outlinewidth": 0,
              "ticks": ""
             }
            },
            "marker": {
             "colorbar": {
              "outlinewidth": 0,
              "ticks": ""
             }
            },
            "type": "scatter3d"
           }
          ],
          "scattercarpet": [
           {
            "marker": {
             "colorbar": {
              "outlinewidth": 0,
              "ticks": ""
             }
            },
            "type": "scattercarpet"
           }
          ],
          "scattergeo": [
           {
            "marker": {
             "colorbar": {
              "outlinewidth": 0,
              "ticks": ""
             }
            },
            "type": "scattergeo"
           }
          ],
          "scattergl": [
           {
            "marker": {
             "colorbar": {
              "outlinewidth": 0,
              "ticks": ""
             }
            },
            "type": "scattergl"
           }
          ],
          "scattermap": [
           {
            "marker": {
             "colorbar": {
              "outlinewidth": 0,
              "ticks": ""
             }
            },
            "type": "scattermap"
           }
          ],
          "scattermapbox": [
           {
            "marker": {
             "colorbar": {
              "outlinewidth": 0,
              "ticks": ""
             }
            },
            "type": "scattermapbox"
           }
          ],
          "scatterpolar": [
           {
            "marker": {
             "colorbar": {
              "outlinewidth": 0,
              "ticks": ""
             }
            },
            "type": "scatterpolar"
           }
          ],
          "scatterpolargl": [
           {
            "marker": {
             "colorbar": {
              "outlinewidth": 0,
              "ticks": ""
             }
            },
            "type": "scatterpolargl"
           }
          ],
          "scatterternary": [
           {
            "marker": {
             "colorbar": {
              "outlinewidth": 0,
              "ticks": ""
             }
            },
            "type": "scatterternary"
           }
          ],
          "surface": [
           {
            "colorbar": {
             "outlinewidth": 0,
             "ticks": ""
            },
            "colorscale": [
             [
              0,
              "#0d0887"
             ],
             [
              0.1111111111111111,
              "#46039f"
             ],
             [
              0.2222222222222222,
              "#7201a8"
             ],
             [
              0.3333333333333333,
              "#9c179e"
             ],
             [
              0.4444444444444444,
              "#bd3786"
             ],
             [
              0.5555555555555556,
              "#d8576b"
             ],
             [
              0.6666666666666666,
              "#ed7953"
             ],
             [
              0.7777777777777778,
              "#fb9f3a"
             ],
             [
              0.8888888888888888,
              "#fdca26"
             ],
             [
              1,
              "#f0f921"
             ]
            ],
            "type": "surface"
           }
          ],
          "table": [
           {
            "cells": {
             "fill": {
              "color": "#EBF0F8"
             },
             "line": {
              "color": "white"
             }
            },
            "header": {
             "fill": {
              "color": "#C8D4E3"
             },
             "line": {
              "color": "white"
             }
            },
            "type": "table"
           }
          ]
         },
         "layout": {
          "annotationdefaults": {
           "arrowcolor": "#2a3f5f",
           "arrowhead": 0,
           "arrowwidth": 1
          },
          "autotypenumbers": "strict",
          "coloraxis": {
           "colorbar": {
            "outlinewidth": 0,
            "ticks": ""
           }
          },
          "colorscale": {
           "diverging": [
            [
             0,
             "#8e0152"
            ],
            [
             0.1,
             "#c51b7d"
            ],
            [
             0.2,
             "#de77ae"
            ],
            [
             0.3,
             "#f1b6da"
            ],
            [
             0.4,
             "#fde0ef"
            ],
            [
             0.5,
             "#f7f7f7"
            ],
            [
             0.6,
             "#e6f5d0"
            ],
            [
             0.7,
             "#b8e186"
            ],
            [
             0.8,
             "#7fbc41"
            ],
            [
             0.9,
             "#4d9221"
            ],
            [
             1,
             "#276419"
            ]
           ],
           "sequential": [
            [
             0,
             "#0d0887"
            ],
            [
             0.1111111111111111,
             "#46039f"
            ],
            [
             0.2222222222222222,
             "#7201a8"
            ],
            [
             0.3333333333333333,
             "#9c179e"
            ],
            [
             0.4444444444444444,
             "#bd3786"
            ],
            [
             0.5555555555555556,
             "#d8576b"
            ],
            [
             0.6666666666666666,
             "#ed7953"
            ],
            [
             0.7777777777777778,
             "#fb9f3a"
            ],
            [
             0.8888888888888888,
             "#fdca26"
            ],
            [
             1,
             "#f0f921"
            ]
           ],
           "sequentialminus": [
            [
             0,
             "#0d0887"
            ],
            [
             0.1111111111111111,
             "#46039f"
            ],
            [
             0.2222222222222222,
             "#7201a8"
            ],
            [
             0.3333333333333333,
             "#9c179e"
            ],
            [
             0.4444444444444444,
             "#bd3786"
            ],
            [
             0.5555555555555556,
             "#d8576b"
            ],
            [
             0.6666666666666666,
             "#ed7953"
            ],
            [
             0.7777777777777778,
             "#fb9f3a"
            ],
            [
             0.8888888888888888,
             "#fdca26"
            ],
            [
             1,
             "#f0f921"
            ]
           ]
          },
          "colorway": [
           "#636efa",
           "#EF553B",
           "#00cc96",
           "#ab63fa",
           "#FFA15A",
           "#19d3f3",
           "#FF6692",
           "#B6E880",
           "#FF97FF",
           "#FECB52"
          ],
          "font": {
           "color": "#2a3f5f"
          },
          "geo": {
           "bgcolor": "white",
           "lakecolor": "white",
           "landcolor": "#E5ECF6",
           "showlakes": true,
           "showland": true,
           "subunitcolor": "white"
          },
          "hoverlabel": {
           "align": "left"
          },
          "hovermode": "closest",
          "mapbox": {
           "style": "light"
          },
          "paper_bgcolor": "white",
          "plot_bgcolor": "#E5ECF6",
          "polar": {
           "angularaxis": {
            "gridcolor": "white",
            "linecolor": "white",
            "ticks": ""
           },
           "bgcolor": "#E5ECF6",
           "radialaxis": {
            "gridcolor": "white",
            "linecolor": "white",
            "ticks": ""
           }
          },
          "scene": {
           "xaxis": {
            "backgroundcolor": "#E5ECF6",
            "gridcolor": "white",
            "gridwidth": 2,
            "linecolor": "white",
            "showbackground": true,
            "ticks": "",
            "zerolinecolor": "white"
           },
           "yaxis": {
            "backgroundcolor": "#E5ECF6",
            "gridcolor": "white",
            "gridwidth": 2,
            "linecolor": "white",
            "showbackground": true,
            "ticks": "",
            "zerolinecolor": "white"
           },
           "zaxis": {
            "backgroundcolor": "#E5ECF6",
            "gridcolor": "white",
            "gridwidth": 2,
            "linecolor": "white",
            "showbackground": true,
            "ticks": "",
            "zerolinecolor": "white"
           }
          },
          "shapedefaults": {
           "line": {
            "color": "#2a3f5f"
           }
          },
          "ternary": {
           "aaxis": {
            "gridcolor": "white",
            "linecolor": "white",
            "ticks": ""
           },
           "baxis": {
            "gridcolor": "white",
            "linecolor": "white",
            "ticks": ""
           },
           "bgcolor": "#E5ECF6",
           "caxis": {
            "gridcolor": "white",
            "linecolor": "white",
            "ticks": ""
           }
          },
          "title": {
           "x": 0.05
          },
          "xaxis": {
           "automargin": true,
           "gridcolor": "white",
           "linecolor": "white",
           "ticks": "",
           "title": {
            "standoff": 15
           },
           "zerolinecolor": "white",
           "zerolinewidth": 2
          },
          "yaxis": {
           "automargin": true,
           "gridcolor": "white",
           "linecolor": "white",
           "ticks": "",
           "title": {
            "standoff": 15
           },
           "zerolinecolor": "white",
           "zerolinewidth": 2
          }
         }
        },
        "title": {
         "text": "Frequência de Todos os Tipos dos Pokémon (Primário + Secundário)"
        },
        "xaxis": {
         "anchor": "y",
         "categoryarray": [
          "water",
          "normal",
          "grass",
          "flying",
          "psychic",
          "bug",
          "poison",
          "fire",
          "ground",
          "rock",
          "fighting",
          "dragon",
          "dark",
          "electric",
          "ghost",
          "steel",
          "fairy",
          "ice"
         ],
         "categoryorder": "array",
         "domain": [
          0,
          1
         ],
         "title": {
          "text": "Tipo"
         }
        },
        "yaxis": {
         "anchor": "x",
         "domain": [
          0,
          1
         ],
         "title": {
          "text": "Frequência"
         }
        }
       }
      }
     },
     "metadata": {},
     "output_type": "display_data"
    }
   ],
   "source": [
    "import plotly.express as px\n",
    "import os\n",
    "\n",
    "# Garante que a coluna 'type' está como lista\n",
    "basicdf['type'] = basicdf['type'].apply(lambda x: x if isinstance(x, list) else [])\n",
    "\n",
    "# Histograma considerando apenas o primeiro tipo de cada Pokémon\n",
    "basicdf['type_primario'] = basicdf['type'].apply(lambda x: x[0] if len(x) > 0 else None)\n",
    "freq_primario = basicdf['type_primario'].value_counts().reset_index()\n",
    "freq_primario.columns = ['Tipo Primário', 'Frequência']\n",
    "\n",
    "fig1 = px.bar(\n",
    "    freq_primario,\n",
    "    x='Tipo Primário',\n",
    "    y='Frequência',\n",
    "    title='Frequência dos Tipos Primários dos Pokémon',\n",
    "    color='Tipo Primário'\n",
    ")\n",
    "os.makedirs('./charts/type-frequency', exist_ok=True)\n",
    "fig1.write_image('./charts/type-frequency/histograma_tipo_primario.png')\n",
    "fig1.show()\n",
    "\n",
    "# Histograma considerando apenas o segundo tipo de cada Pokémon (tipos secundários)\n",
    "basicdf['type_secundario'] = basicdf['type'].apply(lambda x: x[1] if len(x) > 1 else None)\n",
    "freq_secundario = basicdf['type_secundario'].value_counts().reset_index()\n",
    "freq_secundario = freq_secundario[freq_secundario['type_secundario'].notnull()]\n",
    "freq_secundario.columns = ['Tipo Secundário', 'Frequência']\n",
    "\n",
    "fig2 = px.bar(\n",
    "    freq_secundario,\n",
    "    x='Tipo Secundário',\n",
    "    y='Frequência',\n",
    "    title='Frequência dos Tipos Secundários dos Pokémon',\n",
    "    color='Tipo Secundário'\n",
    ")\n",
    "fig2.write_image('./charts/type-frequency/histograma_tipo_secundario.png')\n",
    "fig2.show()\n",
    "\n",
    "# Histograma considerando todos os tipos (explode)\n",
    "df_types_exploded = basicdf.explode('type')\n",
    "freq_todos = df_types_exploded['type'].value_counts().reset_index()\n",
    "freq_todos.columns = ['Tipo', 'Frequência']\n",
    "\n",
    "fig3 = px.bar(\n",
    "    freq_todos,\n",
    "    x='Tipo',\n",
    "    y='Frequência',\n",
    "    title='Frequência de Todos os Tipos dos Pokémon (Primário + Secundário)',\n",
    "    color='Tipo'\n",
    ")\n",
    "fig3.write_image('./charts/type-frequency/histograma_todos_tipos.png')\n",
    "fig3.show()"
   ]
  },
  {
   "cell_type": "markdown",
   "id": "76dcdd5f",
   "metadata": {},
   "source": [
    "### Análise dos Status Médios por Tipo de Pokémon\n",
    "\n",
    "A seguir, apresentamos os três tipos de Pokémon com as maiores médias em cada atributo de status, acompanhados da respectiva margem de erro (intervalo de confiança de 95%). Esses dados ajudam a identificar quais tipos se destacam em cada aspecto de batalha.\n",
    "\n",
    "#### Top 3 Tipos por Status\n",
    "\n",
    "| Status         | 1º Tipo   | Média   | Margem de Erro | 2º Tipo   | Média   | Margem de Erro | 3º Tipo   | Média   | Margem de Erro |\n",
    "|----------------|-----------|---------|----------------|-----------|---------|----------------|-----------|---------|----------------|\n",
    "| **Attack**     | Fighting  | 104.33  | ±5.81          | Dragon    | 94.00   | ±6.34          | Dark      | 93.59   | ±6.07          |\n",
    "| **Defense**    | Steel     | 107.88  | ±8.25          | Rock      | 103.53  | ±8.96          | Ground    | 85.45   | ±7.53          |\n",
    "| **HP**         | Dragon    | 84.07   | ±7.69          | Ice       | 80.08   | ±7.72          | Fighting  | 77.75   | ±5.43          |\n",
    "| **Sp. Atk**    | Psychic   | 88.04   | ±6.11          | Dragon    | 87.20   | ±8.04          | Fire      | 86.31   | ±6.25          |\n",
    "| **Sp. Def**    | Psychic   | 84.20   | ±5.13          | Fairy     | 83.92   | ±7.87          | Ghost     | 79.09   | ±6.88          |\n",
    "| **Speed**      | Flying    | 82.43   | ±4.29          | Electric  | 81.87   | ±7.96          | Dragon    | 78.17   | ±6.66          |\n",
    "\n",
    "- **Fighting** lidera em ataque, enquanto **Steel** domina em defesa.\n",
    "- **Dragon** aparece entre os três melhores em ataque, HP, ataque especial e velocidade, mostrando sua versatilidade.\n",
    "- **Psychic** é destaque em ataque especial e defesa especial.\n",
    "- **Flying** e **Electric** são os tipos mais rápidos, com médias de velocidade superiores aos"
   ]
  },
  {
   "cell_type": "code",
   "execution_count": 10,
   "id": "3be35cb9",
   "metadata": {},
   "outputs": [
    {
     "data": {
      "application/vnd.plotly.v1+json": {
       "config": {
        "plotlyServerURL": "https://plot.ly"
       },
       "data": [
        {
         "alignmentgroup": "True",
         "boxpoints": "all",
         "hovertemplate": "Tipo=%{x}<br>Attack=%{y}<extra></extra>",
         "legendgroup": "",
         "marker": {
          "color": "#636efa"
         },
         "name": "",
         "notched": false,
         "offsetgroup": "",
         "orientation": "v",
         "showlegend": false,
         "type": "box",
         "x": [
          "grass",
          "poison",
          "grass",
          "poison",
          "grass",
          "poison",
          "fire",
          "fire",
          "fire",
          "flying",
          "water",
          "water",
          "water",
          "bug",
          "bug",
          "bug",
          "flying",
          "bug",
          "poison",
          "bug",
          "poison",
          "bug",
          "poison",
          "normal",
          "flying",
          "normal",
          "flying",
          "normal",
          "flying",
          "normal",
          "normal",
          "normal",
          "flying",
          "normal",
          "flying",
          "poison",
          "poison",
          "electric",
          "electric",
          "ground",
          "ground",
          "poison",
          "poison",
          "poison",
          "ground",
          "poison",
          "poison",
          "poison",
          "ground",
          "fairy",
          "fairy",
          "fire",
          "fire",
          "normal",
          "fairy",
          "normal",
          "fairy",
          "poison",
          "flying",
          "poison",
          "flying",
          "grass",
          "poison",
          "grass",
          "poison",
          "grass",
          "poison",
          "bug",
          "grass",
          "bug",
          "grass",
          "bug",
          "poison",
          "bug",
          "poison",
          "ground",
          "ground",
          "normal",
          "normal",
          "water",
          "water",
          "fighting",
          "fighting",
          "fire",
          "fire",
          "water",
          "water",
          "water",
          "fighting",
          "psychic",
          "psychic",
          "psychic",
          "fighting",
          "fighting",
          "fighting",
          "grass",
          "poison",
          "grass",
          "poison",
          "grass",
          "poison",
          "water",
          "poison",
          "water",
          "poison",
          "rock",
          "ground",
          "rock",
          "ground",
          "rock",
          "ground",
          "fire",
          "fire",
          "water",
          "psychic",
          "water",
          "psychic",
          "electric",
          "steel",
          "electric",
          "steel",
          "normal",
          "flying",
          "normal",
          "flying",
          "normal",
          "flying",
          "water",
          "water",
          "ice",
          "poison",
          "poison",
          "water",
          "water",
          "ice",
          "ghost",
          "poison",
          "ghost",
          "poison",
          "ghost",
          "poison",
          "rock",
          "ground",
          "psychic",
          "psychic",
          "water",
          "water",
          "electric",
          "electric",
          "grass",
          "psychic",
          "grass",
          "psychic",
          "ground",
          "ground",
          "fighting",
          "fighting",
          "normal",
          "poison",
          "poison",
          "ground",
          "rock",
          "ground",
          "rock",
          "normal",
          "grass",
          "normal",
          "water",
          "water",
          "water",
          "water",
          "water",
          "water",
          "psychic",
          "psychic",
          "fairy",
          "bug",
          "flying",
          "ice",
          "psychic",
          "electric",
          "fire",
          "bug",
          "normal",
          "water",
          "water",
          "flying",
          "water",
          "ice",
          "normal",
          "normal",
          "water",
          "electric",
          "fire",
          "normal",
          "rock",
          "water",
          "rock",
          "water",
          "rock",
          "water",
          "rock",
          "water",
          "rock",
          "flying",
          "normal",
          "ice",
          "flying",
          "electric",
          "flying",
          "fire",
          "flying",
          "dragon",
          "dragon",
          "dragon",
          "flying",
          "psychic",
          "psychic",
          "grass",
          "grass",
          "grass",
          "fire",
          "fire",
          "fire",
          "water",
          "water",
          "water",
          "normal",
          "normal",
          "normal",
          "flying",
          "normal",
          "flying",
          "bug",
          "flying",
          "bug",
          "flying",
          "bug",
          "poison",
          "bug",
          "poison",
          "poison",
          "flying",
          "water",
          "electric",
          "water",
          "electric",
          "electric",
          "fairy",
          "normal",
          "fairy",
          "fairy",
          "fairy",
          "flying",
          "psychic",
          "flying",
          "psychic",
          "flying",
          "electric",
          "electric",
          "electric",
          "grass",
          "water",
          "fairy",
          "water",
          "fairy",
          "rock",
          "water",
          "grass",
          "flying",
          "grass",
          "flying",
          "grass",
          "flying",
          "normal",
          "grass",
          "grass",
          "bug",
          "flying",
          "water",
          "ground",
          "water",
          "ground",
          "psychic",
          "dark",
          "dark",
          "flying",
          "water",
          "psychic",
          "ghost",
          "psychic",
          "psychic",
          "normal",
          "psychic",
          "bug",
          "bug",
          "steel",
          "normal",
          "ground",
          "flying",
          "steel",
          "ground",
          "fairy",
          "fairy",
          "water",
          "poison",
          "bug",
          "steel",
          "bug",
          "rock",
          "bug",
          "fighting",
          "dark",
          "ice",
          "normal",
          "normal",
          "fire",
          "fire",
          "rock",
          "ice",
          "ground",
          "ice",
          "ground",
          "water",
          "rock",
          "water",
          "water",
          "ice",
          "flying",
          "water",
          "flying",
          "steel",
          "flying",
          "dark",
          "fire",
          "dark",
          "fire",
          "water",
          "dragon",
          "ground",
          "ground",
          "normal",
          "normal",
          "normal",
          "fighting",
          "fighting",
          "ice",
          "psychic",
          "electric",
          "fire",
          "normal",
          "normal",
          "electric",
          "fire",
          "water",
          "rock",
          "ground",
          "rock",
          "ground",
          "rock",
          "dark",
          "psychic",
          "flying",
          "fire",
          "flying",
          "psychic",
          "grass",
          "grass",
          "grass",
          "grass",
          "fire",
          "fire",
          "fighting",
          "fire",
          "fighting",
          "water",
          "water",
          "ground",
          "water",
          "ground",
          "dark",
          "dark",
          "normal",
          "normal",
          "bug",
          "bug",
          "bug",
          "flying",
          "bug",
          "bug",
          "poison",
          "water",
          "grass",
          "water",
          "grass",
          "water",
          "grass",
          "grass",
          "grass",
          "dark",
          "grass",
          "dark",
          "normal",
          "flying",
          "normal",
          "flying",
          "water",
          "flying",
          "water",
          "flying",
          "psychic",
          "fairy",
          "psychic",
          "fairy",
          "psychic",
          "fairy",
          "bug",
          "water",
          "bug",
          "flying",
          "grass",
          "grass",
          "fighting",
          "normal",
          "normal",
          "normal",
          "bug",
          "ground",
          "bug",
          "flying",
          "bug",
          "ghost",
          "normal",
          "normal",
          "normal",
          "fighting",
          "fighting",
          "normal",
          "fairy",
          "rock",
          "normal",
          "normal",
          "dark",
          "ghost",
          "steel",
          "fairy",
          "steel",
          "rock",
          "steel",
          "rock",
          "steel",
          "rock",
          "fighting",
          "psychic",
          "fighting",
          "psychic",
          "electric",
          "electric",
          "electric",
          "electric",
          "bug",
          "bug",
          "grass",
          "poison",
          "poison",
          "poison",
          "water",
          "dark",
          "water",
          "dark",
          "water",
          "water",
          "fire",
          "ground",
          "fire",
          "ground",
          "fire",
          "psychic",
          "psychic",
          "normal",
          "ground",
          "ground",
          "dragon",
          "ground",
          "dragon",
          "grass",
          "grass",
          "dark",
          "normal",
          "flying",
          "dragon",
          "flying",
          "normal",
          "poison",
          "rock",
          "psychic",
          "rock",
          "psychic",
          "water",
          "ground",
          "water",
          "ground",
          "water",
          "water",
          "dark",
          "ground",
          "psychic",
          "ground",
          "psychic",
          "rock",
          "grass",
          "rock",
          "grass",
          "rock",
          "bug",
          "rock",
          "bug",
          "water",
          "water",
          "normal",
          "normal",
          "ghost",
          "ghost",
          "ghost",
          "ghost",
          "grass",
          "flying",
          "psychic",
          "dark",
          "psychic",
          "ice",
          "ice",
          "ice",
          "water",
          "ice",
          "water",
          "ice",
          "water",
          "water",
          "water",
          "water",
          "water",
          "rock",
          "water",
          "dragon",
          "dragon",
          "dragon",
          "flying",
          "steel",
          "psychic",
          "steel",
          "psychic",
          "steel",
          "psychic",
          "rock",
          "ice",
          "steel",
          "dragon",
          "psychic",
          "dragon",
          "psychic",
          "water",
          "ground",
          "dragon",
          "flying",
          "steel",
          "psychic",
          "psychic",
          "grass",
          "grass",
          "grass",
          "ground",
          "fire",
          "fire",
          "fighting",
          "fire",
          "fighting",
          "water",
          "water",
          "water",
          "steel",
          "normal",
          "flying",
          "normal",
          "flying",
          "normal",
          "flying",
          "normal",
          "normal",
          "water",
          "bug",
          "bug",
          "electric",
          "electric",
          "electric",
          "grass",
          "poison",
          "grass",
          "poison",
          "rock",
          "rock",
          "rock",
          "steel",
          "rock",
          "steel",
          "bug",
          "bug",
          "grass",
          "bug",
          "flying",
          "bug",
          "flying",
          "bug",
          "flying",
          "electric",
          "water",
          "water",
          "grass",
          "grass",
          "water",
          "water",
          "ground",
          "normal",
          "ghost",
          "flying",
          "ghost",
          "flying",
          "normal",
          "normal",
          "ghost",
          "dark",
          "flying",
          "normal",
          "normal",
          "psychic",
          "poison",
          "dark",
          "poison",
          "dark",
          "steel",
          "psychic",
          "steel",
          "psychic",
          "rock",
          "psychic",
          "fairy",
          "normal",
          "normal",
          "flying",
          "ghost",
          "dark",
          "dragon",
          "ground",
          "dragon",
          "ground",
          "dragon",
          "ground",
          "normal",
          "fighting",
          "fighting",
          "steel",
          "ground",
          "ground",
          "poison",
          "bug",
          "poison",
          "dark",
          "poison",
          "fighting",
          "poison",
          "fighting",
          "grass",
          "water",
          "water",
          "water",
          "flying",
          "grass",
          "ice",
          "grass",
          "ice",
          "dark",
          "ice",
          "electric",
          "steel",
          "normal",
          "ground",
          "rock",
          "grass",
          "electric",
          "fire",
          "fairy",
          "flying",
          "bug",
          "flying",
          "grass",
          "ice",
          "ground",
          "flying",
          "ice",
          "ground",
          "normal",
          "psychic",
          "fighting",
          "rock",
          "steel",
          "ghost",
          "ice",
          "ghost",
          "electric",
          "ghost",
          "psychic",
          "psychic",
          "psychic",
          "steel",
          "dragon",
          "water",
          "dragon",
          "fire",
          "steel",
          "normal",
          "ghost",
          "dragon",
          "psychic",
          "water",
          "water",
          "dark",
          "grass",
          "normal",
          "psychic",
          "fire",
          "grass",
          "grass",
          "grass",
          "fire",
          "fire",
          "fighting",
          "fire",
          "fighting",
          "water",
          "water",
          "water",
          "normal",
          "normal",
          "normal",
          "normal",
          "normal",
          "dark",
          "dark",
          "grass",
          "grass",
          "fire",
          "fire",
          "water",
          "water",
          "psychic",
          "psychic",
          "normal",
          "flying",
          "normal",
          "flying",
          "normal",
          "flying",
          "electric",
          "electric",
          "rock",
          "rock",
          "rock",
          "psychic",
          "flying",
          "psychic",
          "flying",
          "ground",
          "ground",
          "steel",
          "normal",
          "fighting",
          "fighting",
          "fighting",
          "water",
          "water",
          "ground",
          "water",
          "ground",
          "fighting",
          "fighting",
          "bug",
          "grass",
          "bug",
          "grass",
          "bug",
          "grass",
          "bug",
          "poison",
          "bug",
          "poison",
          "bug",
          "poison",
          "grass",
          "fairy",
          "grass",
          "fairy",
          "grass",
          "grass",
          "water",
          "ground",
          "dark",
          "ground",
          "dark",
          "ground",
          "dark",
          "fire",
          "fire",
          "grass",
          "bug",
          "rock",
          "bug",
          "rock",
          "dark",
          "fighting",
          "dark",
          "fighting",
          "psychic",
          "flying",
          "ghost",
          "ghost",
          "water",
          "rock",
          "water",
          "rock",
          "rock",
          "flying",
          "rock",
          "flying",
          "poison",
          "poison",
          "dark",
          "dark",
          "normal",
          "normal",
          "psychic",
          "psychic",
          "psychic",
          "psychic",
          "psychic",
          "psychic",
          "water",
          "flying",
          "water",
          "flying",
          "ice",
          "ice",
          "ice",
          "normal",
          "grass",
          "normal",
          "grass",
          "electric",
          "flying",
          "bug",
          "bug",
          "steel",
          "grass",
          "poison",
          "grass",
          "poison",
          "water",
          "ghost",
          "water",
          "ghost",
          "water",
          "bug",
          "electric",
          "bug",
          "electric",
          "grass",
          "steel",
          "grass",
          "steel",
          "steel",
          "steel",
          "steel",
          "electric",
          "electric",
          "electric",
          "psychic",
          "psychic",
          "ghost",
          "fire",
          "ghost",
          "fire",
          "ghost",
          "fire",
          "dragon",
          "dragon",
          "dragon",
          "ice",
          "ice",
          "ice",
          "bug",
          "bug",
          "ground",
          "electric",
          "fighting",
          "fighting",
          "dragon",
          "ground",
          "ghost",
          "ground",
          "ghost",
          "dark",
          "steel",
          "dark",
          "steel",
          "normal",
          "normal",
          "flying",
          "normal",
          "flying",
          "dark",
          "flying",
          "dark",
          "flying",
          "fire",
          "bug",
          "steel",
          "dark",
          "dragon",
          "dark",
          "dragon",
          "dark",
          "dragon",
          "bug",
          "fire",
          "bug",
          "fire",
          "steel",
          "fighting",
          "rock",
          "fighting",
          "grass",
          "fighting",
          "flying",
          "electric",
          "flying",
          "dragon",
          "fire",
          "dragon",
          "electric",
          "ground",
          "flying",
          "dragon",
          "ice",
          "water",
          "fighting",
          "normal",
          "psychic",
          "bug",
          "steel",
          "grass",
          "grass",
          "grass",
          "fighting",
          "fire",
          "fire",
          "fire",
          "psychic",
          "water",
          "water",
          "water",
          "dark",
          "normal",
          "normal",
          "ground",
          "normal",
          "flying",
          "fire",
          "flying",
          "fire",
          "flying",
          "bug",
          "bug",
          "bug",
          "flying",
          "fire",
          "normal",
          "fire",
          "normal",
          "fairy",
          "fairy",
          "fairy",
          "grass",
          "grass",
          "fighting",
          "fighting",
          "dark",
          "normal",
          "psychic",
          "psychic",
          "steel",
          "ghost",
          "steel",
          "ghost",
          "steel",
          "ghost",
          "fairy",
          "fairy",
          "fairy",
          "fairy",
          "dark",
          "psychic",
          "dark",
          "psychic",
          "rock",
          "water",
          "rock",
          "water",
          "poison",
          "water",
          "poison",
          "dragon",
          "water",
          "water",
          "electric",
          "normal",
          "electric",
          "normal",
          "rock",
          "dragon",
          "rock",
          "dragon",
          "rock",
          "ice",
          "rock",
          "ice",
          "fairy",
          "fighting",
          "flying",
          "electric",
          "fairy",
          "rock",
          "fairy",
          "dragon",
          "dragon",
          "dragon",
          "steel",
          "fairy",
          "ghost",
          "grass",
          "ghost",
          "grass",
          "ghost",
          "grass",
          "ghost",
          "grass",
          "ice",
          "ice",
          "flying",
          "dragon",
          "flying",
          "dragon",
          "fairy",
          "dark",
          "flying",
          "dragon",
          "ground",
          "rock",
          "fairy",
          "psychic",
          "ghost",
          "fire",
          "water",
          "grass",
          "flying",
          "grass",
          "flying",
          "grass",
          "ghost",
          "fire",
          "fire",
          "fire",
          "dark",
          "water",
          "water",
          "water",
          "fairy",
          "normal",
          "flying",
          "normal",
          "flying",
          "normal",
          "flying",
          "normal",
          "normal",
          "bug",
          "bug",
          "electric",
          "bug",
          "electric",
          "fighting",
          "fighting",
          "ice",
          "fire",
          "flying",
          "bug",
          "fairy",
          "bug",
          "fairy",
          "rock",
          "rock",
          "water",
          "poison",
          "water",
          "poison",
          "water",
          "ground",
          "ground",
          "water",
          "bug",
          "water",
          "bug",
          "grass",
          "grass",
          "grass",
          "fairy",
          "grass",
          "fairy",
          "poison",
          "fire",
          "poison",
          "fire",
          "normal",
          "fighting",
          "normal",
          "fighting",
          "grass",
          "grass",
          "grass",
          "fairy",
          "normal",
          "psychic",
          "fighting",
          "bug",
          "water",
          "bug",
          "water",
          "ghost",
          "ground",
          "ghost",
          "ground",
          "water",
          "normal",
          "normal",
          "rock",
          "flying",
          "normal",
          "fire",
          "dragon",
          "electric",
          "steel",
          "ghost",
          "fairy",
          "water",
          "psychic",
          "normal",
          "dragon",
          "ghost",
          "grass",
          "dragon",
          "dragon",
          "fighting",
          "dragon",
          "fighting",
          "electric",
          "fairy",
          "psychic",
          "fairy",
          "grass",
          "fairy",
          "water",
          "fairy",
          "psychic",
          "psychic",
          "psychic",
          "steel",
          "psychic",
          "ghost",
          "rock",
          "poison",
          "bug",
          "fighting",
          "bug",
          "fighting",
          "electric",
          "steel",
          "flying",
          "grass",
          "steel",
          "dark",
          "dragon",
          "psychic",
          "steel",
          "fairy",
          "fighting",
          "ghost",
          "poison",
          "poison",
          "dragon",
          "rock",
          "steel",
          "fire",
          "ghost",
          "electric",
          "steel",
          "steel",
          "grass",
          "grass",
          "grass",
          "fire",
          "fire",
          "fire",
          "water",
          "water",
          "water",
          "normal",
          "normal",
          "flying",
          "flying",
          "flying",
          "steel",
          "bug",
          "bug",
          "psychic",
          "bug",
          "psychic",
          "dark",
          "dark",
          "grass",
          "grass",
          "normal",
          "normal",
          "water",
          "water",
          "rock",
          "electric",
          "electric",
          "rock",
          "rock",
          "fire",
          "rock",
          "fire",
          "grass",
          "dragon",
          "grass",
          "dragon",
          "grass",
          "dragon",
          "ground",
          "ground",
          "flying",
          "water",
          "water",
          "water",
          "electric",
          "poison",
          "electric",
          "poison",
          "fire",
          "bug",
          "fire",
          "bug",
          "fighting",
          "fighting",
          "ghost",
          "ghost",
          "psychic",
          "psychic",
          "psychic",
          "fairy",
          "dark",
          "fairy",
          "dark",
          "fairy",
          "dark",
          "fairy",
          "dark",
          "normal",
          "steel",
          "ghost",
          "fighting",
          "ice",
          "psychic",
          "ground",
          "ghost",
          "fairy",
          "fairy",
          "fighting",
          "electric",
          "ice",
          "bug",
          "ice",
          "bug",
          "rock",
          "ice",
          "psychic",
          "normal",
          "electric",
          "dark",
          "steel",
          "steel",
          "electric",
          "dragon",
          "electric",
          "ice",
          "water",
          "dragon",
          "water",
          "ice",
          "steel",
          "dragon",
          "dragon",
          "ghost",
          "dragon",
          "ghost",
          "dragon",
          "ghost",
          "fairy",
          "fighting",
          "poison",
          "dragon",
          "fighting",
          "fighting",
          "dark",
          "dark",
          "grass",
          "electric",
          "dragon",
          "ice",
          "ghost",
          "psychic",
          "grass",
          "normal",
          "psychic",
          "bug",
          "rock",
          "ground",
          "normal",
          "water",
          "ghost",
          "fighting",
          "poison",
          "dark",
          "poison",
          "fairy",
          "flying",
          "grass",
          "grass",
          "grass",
          "dark",
          "fire",
          "fire",
          "fire",
          "ghost",
          "water",
          "water",
          "water",
          "fighting",
          "normal",
          "normal",
          "bug",
          "bug",
          "bug",
          "bug",
          "dark",
          "electric",
          "electric",
          "fighting",
          "electric",
          "fighting",
          "normal",
          "normal",
          "fairy",
          "fairy",
          "grass",
          "normal",
          "grass",
          "normal",
          "grass",
          "normal",
          "normal",
          "flying",
          "rock",
          "rock",
          "rock",
          "fire",
          "fire",
          "psychic",
          "fire",
          "ghost",
          "electric",
          "electric",
          "electric",
          "flying",
          "electric",
          "flying",
          "dark",
          "dark",
          "poison",
          "normal",
          "poison",
          "normal",
          "grass",
          "ghost",
          "grass",
          "ghost",
          "ground",
          "grass",
          "ground",
          "grass",
          "rock",
          "grass",
          "grass",
          "fire",
          "bug",
          "bug",
          "psychic",
          "psychic",
          "psychic",
          "fairy",
          "steel",
          "fairy",
          "steel",
          "fairy",
          "steel",
          "water",
          "water",
          "flying",
          "dark",
          "water",
          "water",
          "steel",
          "poison",
          "steel",
          "poison",
          "dragon",
          "normal",
          "steel",
          "rock",
          "poison",
          "rock",
          "poison",
          "ghost",
          "ghost",
          "flying",
          "fighting",
          "ice",
          "ice",
          "water",
          "psychic",
          "water",
          "dragon",
          "water",
          "fighting",
          "ghost",
          "poison",
          "ground",
          "normal",
          "psychic",
          "normal",
          "dark",
          "steel",
          "ground",
          "fighting",
          "fairy",
          "psychic",
          "grass",
          "dark",
          "ghost",
          "fairy",
          "bug",
          "fighting",
          "electric",
          "ground",
          "ground",
          "steel",
          "ice",
          "water",
          "fighting",
          "electric",
          "dark",
          "flying",
          "fire",
          "poison",
          "rock",
          "electric",
          "dragon",
          "ice",
          "dragon",
          "ice",
          "dragon",
          "ice",
          "ghost",
          "steel",
          "ghost",
          "dark",
          "grass",
          "dark",
          "ice",
          "dark",
          "ground",
          "dark",
          "fire",
          "dragon",
          "dark",
          "fairy",
          "fighting",
          "fighting",
          "dragon",
          "electric",
          "dragon",
          "water",
          "dragon",
          "grass",
          "psychic",
          "grass",
          "dragon",
          "grass",
          "ghost",
          "grass",
          "ghost",
          "poison",
          "fighting",
          "poison",
          "psychic",
          "poison",
          "fairy",
          "grass",
          "steel",
          "dragon",
          "grass",
          "dragon",
          "fire",
          "dragon",
          "electric",
          "dragon",
          "rock",
          "psychic",
          "steel",
          "psychic",
          "normal",
          "poison",
          "ghost"
         ],
         "x0": " ",
         "xaxis": "x",
         "y": {
          "bdata": "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",
          "dtype": "f8"
         },
         "y0": " ",
         "yaxis": "y"
        }
       ],
       "layout": {
        "boxmode": "group",
        "height": 500,
        "legend": {
         "tracegroupgap": 0
        },
        "template": {
         "data": {
          "bar": [
           {
            "error_x": {
             "color": "#2a3f5f"
            },
            "error_y": {
             "color": "#2a3f5f"
            },
            "marker": {
             "line": {
              "color": "#E5ECF6",
              "width": 0.5
             },
             "pattern": {
              "fillmode": "overlay",
              "size": 10,
              "solidity": 0.2
             }
            },
            "type": "bar"
           }
          ],
          "barpolar": [
           {
            "marker": {
             "line": {
              "color": "#E5ECF6",
              "width": 0.5
             },
             "pattern": {
              "fillmode": "overlay",
              "size": 10,
              "solidity": 0.2
             }
            },
            "type": "barpolar"
           }
          ],
          "carpet": [
           {
            "aaxis": {
             "endlinecolor": "#2a3f5f",
             "gridcolor": "white",
             "linecolor": "white",
             "minorgridcolor": "white",
             "startlinecolor": "#2a3f5f"
            },
            "baxis": {
             "endlinecolor": "#2a3f5f",
             "gridcolor": "white",
             "linecolor": "white",
             "minorgridcolor": "white",
             "startlinecolor": "#2a3f5f"
            },
            "type": "carpet"
           }
          ],
          "choropleth": [
           {
            "colorbar": {
             "outlinewidth": 0,
             "ticks": ""
            },
            "type": "choropleth"
           }
          ],
          "contour": [
           {
            "colorbar": {
             "outlinewidth": 0,
             "ticks": ""
            },
            "colorscale": [
             [
              0,
              "#0d0887"
             ],
             [
              0.1111111111111111,
              "#46039f"
             ],
             [
              0.2222222222222222,
              "#7201a8"
             ],
             [
              0.3333333333333333,
              "#9c179e"
             ],
             [
              0.4444444444444444,
              "#bd3786"
             ],
             [
              0.5555555555555556,
              "#d8576b"
             ],
             [
              0.6666666666666666,
              "#ed7953"
             ],
             [
              0.7777777777777778,
              "#fb9f3a"
             ],
             [
              0.8888888888888888,
              "#fdca26"
             ],
             [
              1,
              "#f0f921"
             ]
            ],
            "type": "contour"
           }
          ],
          "contourcarpet": [
           {
            "colorbar": {
             "outlinewidth": 0,
             "ticks": ""
            },
            "type": "contourcarpet"
           }
          ],
          "heatmap": [
           {
            "colorbar": {
             "outlinewidth": 0,
             "ticks": ""
            },
            "colorscale": [
             [
              0,
              "#0d0887"
             ],
             [
              0.1111111111111111,
              "#46039f"
             ],
             [
              0.2222222222222222,
              "#7201a8"
             ],
             [
              0.3333333333333333,
              "#9c179e"
             ],
             [
              0.4444444444444444,
              "#bd3786"
             ],
             [
              0.5555555555555556,
              "#d8576b"
             ],
             [
              0.6666666666666666,
              "#ed7953"
             ],
             [
              0.7777777777777778,
              "#fb9f3a"
             ],
             [
              0.8888888888888888,
              "#fdca26"
             ],
             [
              1,
              "#f0f921"
             ]
            ],
            "type": "heatmap"
           }
          ],
          "histogram": [
           {
            "marker": {
             "pattern": {
              "fillmode": "overlay",
              "size": 10,
              "solidity": 0.2
             }
            },
            "type": "histogram"
           }
          ],
          "histogram2d": [
           {
            "colorbar": {
             "outlinewidth": 0,
             "ticks": ""
            },
            "colorscale": [
             [
              0,
              "#0d0887"
             ],
             [
              0.1111111111111111,
              "#46039f"
             ],
             [
              0.2222222222222222,
              "#7201a8"
             ],
             [
              0.3333333333333333,
              "#9c179e"
             ],
             [
              0.4444444444444444,
              "#bd3786"
             ],
             [
              0.5555555555555556,
              "#d8576b"
             ],
             [
              0.6666666666666666,
              "#ed7953"
             ],
             [
              0.7777777777777778,
              "#fb9f3a"
             ],
             [
              0.8888888888888888,
              "#fdca26"
             ],
             [
              1,
              "#f0f921"
             ]
            ],
            "type": "histogram2d"
           }
          ],
          "histogram2dcontour": [
           {
            "colorbar": {
             "outlinewidth": 0,
             "ticks": ""
            },
            "colorscale": [
             [
              0,
              "#0d0887"
             ],
             [
              0.1111111111111111,
              "#46039f"
             ],
             [
              0.2222222222222222,
              "#7201a8"
             ],
             [
              0.3333333333333333,
              "#9c179e"
             ],
             [
              0.4444444444444444,
              "#bd3786"
             ],
             [
              0.5555555555555556,
              "#d8576b"
             ],
             [
              0.6666666666666666,
              "#ed7953"
             ],
             [
              0.7777777777777778,
              "#fb9f3a"
             ],
             [
              0.8888888888888888,
              "#fdca26"
             ],
             [
              1,
              "#f0f921"
             ]
            ],
            "type": "histogram2dcontour"
           }
          ],
          "mesh3d": [
           {
            "colorbar": {
             "outlinewidth": 0,
             "ticks": ""
            },
            "type": "mesh3d"
           }
          ],
          "parcoords": [
           {
            "line": {
             "colorbar": {
              "outlinewidth": 0,
              "ticks": ""
             }
            },
            "type": "parcoords"
           }
          ],
          "pie": [
           {
            "automargin": true,
            "type": "pie"
           }
          ],
          "scatter": [
           {
            "fillpattern": {
             "fillmode": "overlay",
             "size": 10,
             "solidity": 0.2
            },
            "type": "scatter"
           }
          ],
          "scatter3d": [
           {
            "line": {
             "colorbar": {
              "outlinewidth": 0,
              "ticks": ""
             }
            },
            "marker": {
             "colorbar": {
              "outlinewidth": 0,
              "ticks": ""
             }
            },
            "type": "scatter3d"
           }
          ],
          "scattercarpet": [
           {
            "marker": {
             "colorbar": {
              "outlinewidth": 0,
              "ticks": ""
             }
            },
            "type": "scattercarpet"
           }
          ],
          "scattergeo": [
           {
            "marker": {
             "colorbar": {
              "outlinewidth": 0,
              "ticks": ""
             }
            },
            "type": "scattergeo"
           }
          ],
          "scattergl": [
           {
            "marker": {
             "colorbar": {
              "outlinewidth": 0,
              "ticks": ""
             }
            },
            "type": "scattergl"
           }
          ],
          "scattermap": [
           {
            "marker": {
             "colorbar": {
              "outlinewidth": 0,
              "ticks": ""
             }
            },
            "type": "scattermap"
           }
          ],
          "scattermapbox": [
           {
            "marker": {
             "colorbar": {
              "outlinewidth": 0,
              "ticks": ""
             }
            },
            "type": "scattermapbox"
           }
          ],
          "scatterpolar": [
           {
            "marker": {
             "colorbar": {
              "outlinewidth": 0,
              "ticks": ""
             }
            },
            "type": "scatterpolar"
           }
          ],
          "scatterpolargl": [
           {
            "marker": {
             "colorbar": {
              "outlinewidth": 0,
              "ticks": ""
             }
            },
            "type": "scatterpolargl"
           }
          ],
          "scatterternary": [
           {
            "marker": {
             "colorbar": {
              "outlinewidth": 0,
              "ticks": ""
             }
            },
            "type": "scatterternary"
           }
          ],
          "surface": [
           {
            "colorbar": {
             "outlinewidth": 0,
             "ticks": ""
            },
            "colorscale": [
             [
              0,
              "#0d0887"
             ],
             [
              0.1111111111111111,
              "#46039f"
             ],
             [
              0.2222222222222222,
              "#7201a8"
             ],
             [
              0.3333333333333333,
              "#9c179e"
             ],
             [
              0.4444444444444444,
              "#bd3786"
             ],
             [
              0.5555555555555556,
              "#d8576b"
             ],
             [
              0.6666666666666666,
              "#ed7953"
             ],
             [
              0.7777777777777778,
              "#fb9f3a"
             ],
             [
              0.8888888888888888,
              "#fdca26"
             ],
             [
              1,
              "#f0f921"
             ]
            ],
            "type": "surface"
           }
          ],
          "table": [
           {
            "cells": {
             "fill": {
              "color": "#EBF0F8"
             },
             "line": {
              "color": "white"
             }
            },
            "header": {
             "fill": {
              "color": "#C8D4E3"
             },
             "line": {
              "color": "white"
             }
            },
            "type": "table"
           }
          ]
         },
         "layout": {
          "annotationdefaults": {
           "arrowcolor": "#2a3f5f",
           "arrowhead": 0,
           "arrowwidth": 1
          },
          "autotypenumbers": "strict",
          "coloraxis": {
           "colorbar": {
            "outlinewidth": 0,
            "ticks": ""
           }
          },
          "colorscale": {
           "diverging": [
            [
             0,
             "#8e0152"
            ],
            [
             0.1,
             "#c51b7d"
            ],
            [
             0.2,
             "#de77ae"
            ],
            [
             0.3,
             "#f1b6da"
            ],
            [
             0.4,
             "#fde0ef"
            ],
            [
             0.5,
             "#f7f7f7"
            ],
            [
             0.6,
             "#e6f5d0"
            ],
            [
             0.7,
             "#b8e186"
            ],
            [
             0.8,
             "#7fbc41"
            ],
            [
             0.9,
             "#4d9221"
            ],
            [
             1,
             "#276419"
            ]
           ],
           "sequential": [
            [
             0,
             "#0d0887"
            ],
            [
             0.1111111111111111,
             "#46039f"
            ],
            [
             0.2222222222222222,
             "#7201a8"
            ],
            [
             0.3333333333333333,
             "#9c179e"
            ],
            [
             0.4444444444444444,
             "#bd3786"
            ],
            [
             0.5555555555555556,
             "#d8576b"
            ],
            [
             0.6666666666666666,
             "#ed7953"
            ],
            [
             0.7777777777777778,
             "#fb9f3a"
            ],
            [
             0.8888888888888888,
             "#fdca26"
            ],
            [
             1,
             "#f0f921"
            ]
           ],
           "sequentialminus": [
            [
             0,
             "#0d0887"
            ],
            [
             0.1111111111111111,
             "#46039f"
            ],
            [
             0.2222222222222222,
             "#7201a8"
            ],
            [
             0.3333333333333333,
             "#9c179e"
            ],
            [
             0.4444444444444444,
             "#bd3786"
            ],
            [
             0.5555555555555556,
             "#d8576b"
            ],
            [
             0.6666666666666666,
             "#ed7953"
            ],
            [
             0.7777777777777778,
             "#fb9f3a"
            ],
            [
             0.8888888888888888,
             "#fdca26"
            ],
            [
             1,
             "#f0f921"
            ]
           ]
          },
          "colorway": [
           "#636efa",
           "#EF553B",
           "#00cc96",
           "#ab63fa",
           "#FFA15A",
           "#19d3f3",
           "#FF6692",
           "#B6E880",
           "#FF97FF",
           "#FECB52"
          ],
          "font": {
           "color": "#2a3f5f"
          },
          "geo": {
           "bgcolor": "white",
           "lakecolor": "white",
           "landcolor": "#E5ECF6",
           "showlakes": true,
           "showland": true,
           "subunitcolor": "white"
          },
          "hoverlabel": {
           "align": "left"
          },
          "hovermode": "closest",
          "mapbox": {
           "style": "light"
          },
          "paper_bgcolor": "white",
          "plot_bgcolor": "#E5ECF6",
          "polar": {
           "angularaxis": {
            "gridcolor": "white",
            "linecolor": "white",
            "ticks": ""
           },
           "bgcolor": "#E5ECF6",
           "radialaxis": {
            "gridcolor": "white",
            "linecolor": "white",
            "ticks": ""
           }
          },
          "scene": {
           "xaxis": {
            "backgroundcolor": "#E5ECF6",
            "gridcolor": "white",
            "gridwidth": 2,
            "linecolor": "white",
            "showbackground": true,
            "ticks": "",
            "zerolinecolor": "white"
           },
           "yaxis": {
            "backgroundcolor": "#E5ECF6",
            "gridcolor": "white",
            "gridwidth": 2,
            "linecolor": "white",
            "showbackground": true,
            "ticks": "",
            "zerolinecolor": "white"
           },
           "zaxis": {
            "backgroundcolor": "#E5ECF6",
            "gridcolor": "white",
            "gridwidth": 2,
            "linecolor": "white",
            "showbackground": true,
            "ticks": "",
            "zerolinecolor": "white"
           }
          },
          "shapedefaults": {
           "line": {
            "color": "#2a3f5f"
           }
          },
          "ternary": {
           "aaxis": {
            "gridcolor": "white",
            "linecolor": "white",
            "ticks": ""
           },
           "baxis": {
            "gridcolor": "white",
            "linecolor": "white",
            "ticks": ""
           },
           "bgcolor": "#E5ECF6",
           "caxis": {
            "gridcolor": "white",
            "linecolor": "white",
            "ticks": ""
           }
          },
          "title": {
           "x": 0.05
          },
          "xaxis": {
           "automargin": true,
           "gridcolor": "white",
           "linecolor": "white",
           "ticks": "",
           "title": {
            "standoff": 15
           },
           "zerolinecolor": "white",
           "zerolinewidth": 2
          },
          "yaxis": {
           "automargin": true,
           "gridcolor": "white",
           "linecolor": "white",
           "ticks": "",
           "title": {
            "standoff": 15
           },
           "zerolinecolor": "white",
           "zerolinewidth": 2
          }
         }
        },
        "title": {
         "text": "Distribuição de Attack por Tipo de Pokémon"
        },
        "width": 1000,
        "xaxis": {
         "anchor": "y",
         "categoryarray": [
          "fighting",
          "dragon",
          "dark",
          "steel",
          "ground",
          "rock",
          "ice",
          "fire",
          "ghost",
          "flying",
          "electric",
          "grass",
          "normal",
          "water",
          "poison",
          "bug",
          "psychic",
          "fairy"
         ],
         "categoryorder": "array",
         "domain": [
          0,
          1
         ],
         "title": {
          "text": "Tipo"
         }
        },
        "yaxis": {
         "anchor": "x",
         "domain": [
          0,
          1
         ],
         "title": {
          "text": "Attack"
         }
        }
       }
      }
     },
     "metadata": {},
     "output_type": "display_data"
    },
    {
     "data": {
      "application/vnd.plotly.v1+json": {
       "config": {
        "plotlyServerURL": "https://plot.ly"
       },
       "data": [
        {
         "alignmentgroup": "True",
         "boxpoints": "all",
         "hovertemplate": "Tipo=%{x}<br>Defense=%{y}<extra></extra>",
         "legendgroup": "",
         "marker": {
          "color": "#636efa"
         },
         "name": "",
         "notched": false,
         "offsetgroup": "",
         "orientation": "v",
         "showlegend": false,
         "type": "box",
         "x": [
          "grass",
          "poison",
          "grass",
          "poison",
          "grass",
          "poison",
          "fire",
          "fire",
          "fire",
          "flying",
          "water",
          "water",
          "water",
          "bug",
          "bug",
          "bug",
          "flying",
          "bug",
          "poison",
          "bug",
          "poison",
          "bug",
          "poison",
          "normal",
          "flying",
          "normal",
          "flying",
          "normal",
          "flying",
          "normal",
          "normal",
          "normal",
          "flying",
          "normal",
          "flying",
          "poison",
          "poison",
          "electric",
          "electric",
          "ground",
          "ground",
          "poison",
          "poison",
          "poison",
          "ground",
          "poison",
          "poison",
          "poison",
          "ground",
          "fairy",
          "fairy",
          "fire",
          "fire",
          "normal",
          "fairy",
          "normal",
          "fairy",
          "poison",
          "flying",
          "poison",
          "flying",
          "grass",
          "poison",
          "grass",
          "poison",
          "grass",
          "poison",
          "bug",
          "grass",
          "bug",
          "grass",
          "bug",
          "poison",
          "bug",
          "poison",
          "ground",
          "ground",
          "normal",
          "normal",
          "water",
          "water",
          "fighting",
          "fighting",
          "fire",
          "fire",
          "water",
          "water",
          "water",
          "fighting",
          "psychic",
          "psychic",
          "psychic",
          "fighting",
          "fighting",
          "fighting",
          "grass",
          "poison",
          "grass",
          "poison",
          "grass",
          "poison",
          "water",
          "poison",
          "water",
          "poison",
          "rock",
          "ground",
          "rock",
          "ground",
          "rock",
          "ground",
          "fire",
          "fire",
          "water",
          "psychic",
          "water",
          "psychic",
          "electric",
          "steel",
          "electric",
          "steel",
          "normal",
          "flying",
          "normal",
          "flying",
          "normal",
          "flying",
          "water",
          "water",
          "ice",
          "poison",
          "poison",
          "water",
          "water",
          "ice",
          "ghost",
          "poison",
          "ghost",
          "poison",
          "ghost",
          "poison",
          "rock",
          "ground",
          "psychic",
          "psychic",
          "water",
          "water",
          "electric",
          "electric",
          "grass",
          "psychic",
          "grass",
          "psychic",
          "ground",
          "ground",
          "fighting",
          "fighting",
          "normal",
          "poison",
          "poison",
          "ground",
          "rock",
          "ground",
          "rock",
          "normal",
          "grass",
          "normal",
          "water",
          "water",
          "water",
          "water",
          "water",
          "water",
          "psychic",
          "psychic",
          "fairy",
          "bug",
          "flying",
          "ice",
          "psychic",
          "electric",
          "fire",
          "bug",
          "normal",
          "water",
          "water",
          "flying",
          "water",
          "ice",
          "normal",
          "normal",
          "water",
          "electric",
          "fire",
          "normal",
          "rock",
          "water",
          "rock",
          "water",
          "rock",
          "water",
          "rock",
          "water",
          "rock",
          "flying",
          "normal",
          "ice",
          "flying",
          "electric",
          "flying",
          "fire",
          "flying",
          "dragon",
          "dragon",
          "dragon",
          "flying",
          "psychic",
          "psychic",
          "grass",
          "grass",
          "grass",
          "fire",
          "fire",
          "fire",
          "water",
          "water",
          "water",
          "normal",
          "normal",
          "normal",
          "flying",
          "normal",
          "flying",
          "bug",
          "flying",
          "bug",
          "flying",
          "bug",
          "poison",
          "bug",
          "poison",
          "poison",
          "flying",
          "water",
          "electric",
          "water",
          "electric",
          "electric",
          "fairy",
          "normal",
          "fairy",
          "fairy",
          "fairy",
          "flying",
          "psychic",
          "flying",
          "psychic",
          "flying",
          "electric",
          "electric",
          "electric",
          "grass",
          "water",
          "fairy",
          "water",
          "fairy",
          "rock",
          "water",
          "grass",
          "flying",
          "grass",
          "flying",
          "grass",
          "flying",
          "normal",
          "grass",
          "grass",
          "bug",
          "flying",
          "water",
          "ground",
          "water",
          "ground",
          "psychic",
          "dark",
          "dark",
          "flying",
          "water",
          "psychic",
          "ghost",
          "psychic",
          "psychic",
          "normal",
          "psychic",
          "bug",
          "bug",
          "steel",
          "normal",
          "ground",
          "flying",
          "steel",
          "ground",
          "fairy",
          "fairy",
          "water",
          "poison",
          "bug",
          "steel",
          "bug",
          "rock",
          "bug",
          "fighting",
          "dark",
          "ice",
          "normal",
          "normal",
          "fire",
          "fire",
          "rock",
          "ice",
          "ground",
          "ice",
          "ground",
          "water",
          "rock",
          "water",
          "water",
          "ice",
          "flying",
          "water",
          "flying",
          "steel",
          "flying",
          "dark",
          "fire",
          "dark",
          "fire",
          "water",
          "dragon",
          "ground",
          "ground",
          "normal",
          "normal",
          "normal",
          "fighting",
          "fighting",
          "ice",
          "psychic",
          "electric",
          "fire",
          "normal",
          "normal",
          "electric",
          "fire",
          "water",
          "rock",
          "ground",
          "rock",
          "ground",
          "rock",
          "dark",
          "psychic",
          "flying",
          "fire",
          "flying",
          "psychic",
          "grass",
          "grass",
          "grass",
          "grass",
          "fire",
          "fire",
          "fighting",
          "fire",
          "fighting",
          "water",
          "water",
          "ground",
          "water",
          "ground",
          "dark",
          "dark",
          "normal",
          "normal",
          "bug",
          "bug",
          "bug",
          "flying",
          "bug",
          "bug",
          "poison",
          "water",
          "grass",
          "water",
          "grass",
          "water",
          "grass",
          "grass",
          "grass",
          "dark",
          "grass",
          "dark",
          "normal",
          "flying",
          "normal",
          "flying",
          "water",
          "flying",
          "water",
          "flying",
          "psychic",
          "fairy",
          "psychic",
          "fairy",
          "psychic",
          "fairy",
          "bug",
          "water",
          "bug",
          "flying",
          "grass",
          "grass",
          "fighting",
          "normal",
          "normal",
          "normal",
          "bug",
          "ground",
          "bug",
          "flying",
          "bug",
          "ghost",
          "normal",
          "normal",
          "normal",
          "fighting",
          "fighting",
          "normal",
          "fairy",
          "rock",
          "normal",
          "normal",
          "dark",
          "ghost",
          "steel",
          "fairy",
          "steel",
          "rock",
          "steel",
          "rock",
          "steel",
          "rock",
          "fighting",
          "psychic",
          "fighting",
          "psychic",
          "electric",
          "electric",
          "electric",
          "electric",
          "bug",
          "bug",
          "grass",
          "poison",
          "poison",
          "poison",
          "water",
          "dark",
          "water",
          "dark",
          "water",
          "water",
          "fire",
          "ground",
          "fire",
          "ground",
          "fire",
          "psychic",
          "psychic",
          "normal",
          "ground",
          "ground",
          "dragon",
          "ground",
          "dragon",
          "grass",
          "grass",
          "dark",
          "normal",
          "flying",
          "dragon",
          "flying",
          "normal",
          "poison",
          "rock",
          "psychic",
          "rock",
          "psychic",
          "water",
          "ground",
          "water",
          "ground",
          "water",
          "water",
          "dark",
          "ground",
          "psychic",
          "ground",
          "psychic",
          "rock",
          "grass",
          "rock",
          "grass",
          "rock",
          "bug",
          "rock",
          "bug",
          "water",
          "water",
          "normal",
          "normal",
          "ghost",
          "ghost",
          "ghost",
          "ghost",
          "grass",
          "flying",
          "psychic",
          "dark",
          "psychic",
          "ice",
          "ice",
          "ice",
          "water",
          "ice",
          "water",
          "ice",
          "water",
          "water",
          "water",
          "water",
          "water",
          "rock",
          "water",
          "dragon",
          "dragon",
          "dragon",
          "flying",
          "steel",
          "psychic",
          "steel",
          "psychic",
          "steel",
          "psychic",
          "rock",
          "ice",
          "steel",
          "dragon",
          "psychic",
          "dragon",
          "psychic",
          "water",
          "ground",
          "dragon",
          "flying",
          "steel",
          "psychic",
          "psychic",
          "grass",
          "grass",
          "grass",
          "ground",
          "fire",
          "fire",
          "fighting",
          "fire",
          "fighting",
          "water",
          "water",
          "water",
          "steel",
          "normal",
          "flying",
          "normal",
          "flying",
          "normal",
          "flying",
          "normal",
          "normal",
          "water",
          "bug",
          "bug",
          "electric",
          "electric",
          "electric",
          "grass",
          "poison",
          "grass",
          "poison",
          "rock",
          "rock",
          "rock",
          "steel",
          "rock",
          "steel",
          "bug",
          "bug",
          "grass",
          "bug",
          "flying",
          "bug",
          "flying",
          "bug",
          "flying",
          "electric",
          "water",
          "water",
          "grass",
          "grass",
          "water",
          "water",
          "ground",
          "normal",
          "ghost",
          "flying",
          "ghost",
          "flying",
          "normal",
          "normal",
          "ghost",
          "dark",
          "flying",
          "normal",
          "normal",
          "psychic",
          "poison",
          "dark",
          "poison",
          "dark",
          "steel",
          "psychic",
          "steel",
          "psychic",
          "rock",
          "psychic",
          "fairy",
          "normal",
          "normal",
          "flying",
          "ghost",
          "dark",
          "dragon",
          "ground",
          "dragon",
          "ground",
          "dragon",
          "ground",
          "normal",
          "fighting",
          "fighting",
          "steel",
          "ground",
          "ground",
          "poison",
          "bug",
          "poison",
          "dark",
          "poison",
          "fighting",
          "poison",
          "fighting",
          "grass",
          "water",
          "water",
          "water",
          "flying",
          "grass",
          "ice",
          "grass",
          "ice",
          "dark",
          "ice",
          "electric",
          "steel",
          "normal",
          "ground",
          "rock",
          "grass",
          "electric",
          "fire",
          "fairy",
          "flying",
          "bug",
          "flying",
          "grass",
          "ice",
          "ground",
          "flying",
          "ice",
          "ground",
          "normal",
          "psychic",
          "fighting",
          "rock",
          "steel",
          "ghost",
          "ice",
          "ghost",
          "electric",
          "ghost",
          "psychic",
          "psychic",
          "psychic",
          "steel",
          "dragon",
          "water",
          "dragon",
          "fire",
          "steel",
          "normal",
          "ghost",
          "dragon",
          "psychic",
          "water",
          "water",
          "dark",
          "grass",
          "normal",
          "psychic",
          "fire",
          "grass",
          "grass",
          "grass",
          "fire",
          "fire",
          "fighting",
          "fire",
          "fighting",
          "water",
          "water",
          "water",
          "normal",
          "normal",
          "normal",
          "normal",
          "normal",
          "dark",
          "dark",
          "grass",
          "grass",
          "fire",
          "fire",
          "water",
          "water",
          "psychic",
          "psychic",
          "normal",
          "flying",
          "normal",
          "flying",
          "normal",
          "flying",
          "electric",
          "electric",
          "rock",
          "rock",
          "rock",
          "psychic",
          "flying",
          "psychic",
          "flying",
          "ground",
          "ground",
          "steel",
          "normal",
          "fighting",
          "fighting",
          "fighting",
          "water",
          "water",
          "ground",
          "water",
          "ground",
          "fighting",
          "fighting",
          "bug",
          "grass",
          "bug",
          "grass",
          "bug",
          "grass",
          "bug",
          "poison",
          "bug",
          "poison",
          "bug",
          "poison",
          "grass",
          "fairy",
          "grass",
          "fairy",
          "grass",
          "grass",
          "water",
          "ground",
          "dark",
          "ground",
          "dark",
          "ground",
          "dark",
          "fire",
          "fire",
          "grass",
          "bug",
          "rock",
          "bug",
          "rock",
          "dark",
          "fighting",
          "dark",
          "fighting",
          "psychic",
          "flying",
          "ghost",
          "ghost",
          "water",
          "rock",
          "water",
          "rock",
          "rock",
          "flying",
          "rock",
          "flying",
          "poison",
          "poison",
          "dark",
          "dark",
          "normal",
          "normal",
          "psychic",
          "psychic",
          "psychic",
          "psychic",
          "psychic",
          "psychic",
          "water",
          "flying",
          "water",
          "flying",
          "ice",
          "ice",
          "ice",
          "normal",
          "grass",
          "normal",
          "grass",
          "electric",
          "flying",
          "bug",
          "bug",
          "steel",
          "grass",
          "poison",
          "grass",
          "poison",
          "water",
          "ghost",
          "water",
          "ghost",
          "water",
          "bug",
          "electric",
          "bug",
          "electric",
          "grass",
          "steel",
          "grass",
          "steel",
          "steel",
          "steel",
          "steel",
          "electric",
          "electric",
          "electric",
          "psychic",
          "psychic",
          "ghost",
          "fire",
          "ghost",
          "fire",
          "ghost",
          "fire",
          "dragon",
          "dragon",
          "dragon",
          "ice",
          "ice",
          "ice",
          "bug",
          "bug",
          "ground",
          "electric",
          "fighting",
          "fighting",
          "dragon",
          "ground",
          "ghost",
          "ground",
          "ghost",
          "dark",
          "steel",
          "dark",
          "steel",
          "normal",
          "normal",
          "flying",
          "normal",
          "flying",
          "dark",
          "flying",
          "dark",
          "flying",
          "fire",
          "bug",
          "steel",
          "dark",
          "dragon",
          "dark",
          "dragon",
          "dark",
          "dragon",
          "bug",
          "fire",
          "bug",
          "fire",
          "steel",
          "fighting",
          "rock",
          "fighting",
          "grass",
          "fighting",
          "flying",
          "electric",
          "flying",
          "dragon",
          "fire",
          "dragon",
          "electric",
          "ground",
          "flying",
          "dragon",
          "ice",
          "water",
          "fighting",
          "normal",
          "psychic",
          "bug",
          "steel",
          "grass",
          "grass",
          "grass",
          "fighting",
          "fire",
          "fire",
          "fire",
          "psychic",
          "water",
          "water",
          "water",
          "dark",
          "normal",
          "normal",
          "ground",
          "normal",
          "flying",
          "fire",
          "flying",
          "fire",
          "flying",
          "bug",
          "bug",
          "bug",
          "flying",
          "fire",
          "normal",
          "fire",
          "normal",
          "fairy",
          "fairy",
          "fairy",
          "grass",
          "grass",
          "fighting",
          "fighting",
          "dark",
          "normal",
          "psychic",
          "psychic",
          "steel",
          "ghost",
          "steel",
          "ghost",
          "steel",
          "ghost",
          "fairy",
          "fairy",
          "fairy",
          "fairy",
          "dark",
          "psychic",
          "dark",
          "psychic",
          "rock",
          "water",
          "rock",
          "water",
          "poison",
          "water",
          "poison",
          "dragon",
          "water",
          "water",
          "electric",
          "normal",
          "electric",
          "normal",
          "rock",
          "dragon",
          "rock",
          "dragon",
          "rock",
          "ice",
          "rock",
          "ice",
          "fairy",
          "fighting",
          "flying",
          "electric",
          "fairy",
          "rock",
          "fairy",
          "dragon",
          "dragon",
          "dragon",
          "steel",
          "fairy",
          "ghost",
          "grass",
          "ghost",
          "grass",
          "ghost",
          "grass",
          "ghost",
          "grass",
          "ice",
          "ice",
          "flying",
          "dragon",
          "flying",
          "dragon",
          "fairy",
          "dark",
          "flying",
          "dragon",
          "ground",
          "rock",
          "fairy",
          "psychic",
          "ghost",
          "fire",
          "water",
          "grass",
          "flying",
          "grass",
          "flying",
          "grass",
          "ghost",
          "fire",
          "fire",
          "fire",
          "dark",
          "water",
          "water",
          "water",
          "fairy",
          "normal",
          "flying",
          "normal",
          "flying",
          "normal",
          "flying",
          "normal",
          "normal",
          "bug",
          "bug",
          "electric",
          "bug",
          "electric",
          "fighting",
          "fighting",
          "ice",
          "fire",
          "flying",
          "bug",
          "fairy",
          "bug",
          "fairy",
          "rock",
          "rock",
          "water",
          "poison",
          "water",
          "poison",
          "water",
          "ground",
          "ground",
          "water",
          "bug",
          "water",
          "bug",
          "grass",
          "grass",
          "grass",
          "fairy",
          "grass",
          "fairy",
          "poison",
          "fire",
          "poison",
          "fire",
          "normal",
          "fighting",
          "normal",
          "fighting",
          "grass",
          "grass",
          "grass",
          "fairy",
          "normal",
          "psychic",
          "fighting",
          "bug",
          "water",
          "bug",
          "water",
          "ghost",
          "ground",
          "ghost",
          "ground",
          "water",
          "normal",
          "normal",
          "rock",
          "flying",
          "normal",
          "fire",
          "dragon",
          "electric",
          "steel",
          "ghost",
          "fairy",
          "water",
          "psychic",
          "normal",
          "dragon",
          "ghost",
          "grass",
          "dragon",
          "dragon",
          "fighting",
          "dragon",
          "fighting",
          "electric",
          "fairy",
          "psychic",
          "fairy",
          "grass",
          "fairy",
          "water",
          "fairy",
          "psychic",
          "psychic",
          "psychic",
          "steel",
          "psychic",
          "ghost",
          "rock",
          "poison",
          "bug",
          "fighting",
          "bug",
          "fighting",
          "electric",
          "steel",
          "flying",
          "grass",
          "steel",
          "dark",
          "dragon",
          "psychic",
          "steel",
          "fairy",
          "fighting",
          "ghost",
          "poison",
          "poison",
          "dragon",
          "rock",
          "steel",
          "fire",
          "ghost",
          "electric",
          "steel",
          "steel",
          "grass",
          "grass",
          "grass",
          "fire",
          "fire",
          "fire",
          "water",
          "water",
          "water",
          "normal",
          "normal",
          "flying",
          "flying",
          "flying",
          "steel",
          "bug",
          "bug",
          "psychic",
          "bug",
          "psychic",
          "dark",
          "dark",
          "grass",
          "grass",
          "normal",
          "normal",
          "water",
          "water",
          "rock",
          "electric",
          "electric",
          "rock",
          "rock",
          "fire",
          "rock",
          "fire",
          "grass",
          "dragon",
          "grass",
          "dragon",
          "grass",
          "dragon",
          "ground",
          "ground",
          "flying",
          "water",
          "water",
          "water",
          "electric",
          "poison",
          "electric",
          "poison",
          "fire",
          "bug",
          "fire",
          "bug",
          "fighting",
          "fighting",
          "ghost",
          "ghost",
          "psychic",
          "psychic",
          "psychic",
          "fairy",
          "dark",
          "fairy",
          "dark",
          "fairy",
          "dark",
          "fairy",
          "dark",
          "normal",
          "steel",
          "ghost",
          "fighting",
          "ice",
          "psychic",
          "ground",
          "ghost",
          "fairy",
          "fairy",
          "fighting",
          "electric",
          "ice",
          "bug",
          "ice",
          "bug",
          "rock",
          "ice",
          "psychic",
          "normal",
          "electric",
          "dark",
          "steel",
          "steel",
          "electric",
          "dragon",
          "electric",
          "ice",
          "water",
          "dragon",
          "water",
          "ice",
          "steel",
          "dragon",
          "dragon",
          "ghost",
          "dragon",
          "ghost",
          "dragon",
          "ghost",
          "fairy",
          "fighting",
          "poison",
          "dragon",
          "fighting",
          "fighting",
          "dark",
          "dark",
          "grass",
          "electric",
          "dragon",
          "ice",
          "ghost",
          "psychic",
          "grass",
          "normal",
          "psychic",
          "bug",
          "rock",
          "ground",
          "normal",
          "water",
          "ghost",
          "fighting",
          "poison",
          "dark",
          "poison",
          "fairy",
          "flying",
          "grass",
          "grass",
          "grass",
          "dark",
          "fire",
          "fire",
          "fire",
          "ghost",
          "water",
          "water",
          "water",
          "fighting",
          "normal",
          "normal",
          "bug",
          "bug",
          "bug",
          "bug",
          "dark",
          "electric",
          "electric",
          "fighting",
          "electric",
          "fighting",
          "normal",
          "normal",
          "fairy",
          "fairy",
          "grass",
          "normal",
          "grass",
          "normal",
          "grass",
          "normal",
          "normal",
          "flying",
          "rock",
          "rock",
          "rock",
          "fire",
          "fire",
          "psychic",
          "fire",
          "ghost",
          "electric",
          "electric",
          "electric",
          "flying",
          "electric",
          "flying",
          "dark",
          "dark",
          "poison",
          "normal",
          "poison",
          "normal",
          "grass",
          "ghost",
          "grass",
          "ghost",
          "ground",
          "grass",
          "ground",
          "grass",
          "rock",
          "grass",
          "grass",
          "fire",
          "bug",
          "bug",
          "psychic",
          "psychic",
          "psychic",
          "fairy",
          "steel",
          "fairy",
          "steel",
          "fairy",
          "steel",
          "water",
          "water",
          "flying",
          "dark",
          "water",
          "water",
          "steel",
          "poison",
          "steel",
          "poison",
          "dragon",
          "normal",
          "steel",
          "rock",
          "poison",
          "rock",
          "poison",
          "ghost",
          "ghost",
          "flying",
          "fighting",
          "ice",
          "ice",
          "water",
          "psychic",
          "water",
          "dragon",
          "water",
          "fighting",
          "ghost",
          "poison",
          "ground",
          "normal",
          "psychic",
          "normal",
          "dark",
          "steel",
          "ground",
          "fighting",
          "fairy",
          "psychic",
          "grass",
          "dark",
          "ghost",
          "fairy",
          "bug",
          "fighting",
          "electric",
          "ground",
          "ground",
          "steel",
          "ice",
          "water",
          "fighting",
          "electric",
          "dark",
          "flying",
          "fire",
          "poison",
          "rock",
          "electric",
          "dragon",
          "ice",
          "dragon",
          "ice",
          "dragon",
          "ice",
          "ghost",
          "steel",
          "ghost",
          "dark",
          "grass",
          "dark",
          "ice",
          "dark",
          "ground",
          "dark",
          "fire",
          "dragon",
          "dark",
          "fairy",
          "fighting",
          "fighting",
          "dragon",
          "electric",
          "dragon",
          "water",
          "dragon",
          "grass",
          "psychic",
          "grass",
          "dragon",
          "grass",
          "ghost",
          "grass",
          "ghost",
          "poison",
          "fighting",
          "poison",
          "psychic",
          "poison",
          "fairy",
          "grass",
          "steel",
          "dragon",
          "grass",
          "dragon",
          "fire",
          "dragon",
          "electric",
          "dragon",
          "rock",
          "psychic",
          "steel",
          "psychic",
          "normal",
          "poison",
          "ghost"
         ],
         "x0": " ",
         "xaxis": "x",
         "y": {
          "bdata": "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",
          "dtype": "f8"
         },
         "y0": " ",
         "yaxis": "y"
        }
       ],
       "layout": {
        "boxmode": "group",
        "height": 500,
        "legend": {
         "tracegroupgap": 0
        },
        "template": {
         "data": {
          "bar": [
           {
            "error_x": {
             "color": "#2a3f5f"
            },
            "error_y": {
             "color": "#2a3f5f"
            },
            "marker": {
             "line": {
              "color": "#E5ECF6",
              "width": 0.5
             },
             "pattern": {
              "fillmode": "overlay",
              "size": 10,
              "solidity": 0.2
             }
            },
            "type": "bar"
           }
          ],
          "barpolar": [
           {
            "marker": {
             "line": {
              "color": "#E5ECF6",
              "width": 0.5
             },
             "pattern": {
              "fillmode": "overlay",
              "size": 10,
              "solidity": 0.2
             }
            },
            "type": "barpolar"
           }
          ],
          "carpet": [
           {
            "aaxis": {
             "endlinecolor": "#2a3f5f",
             "gridcolor": "white",
             "linecolor": "white",
             "minorgridcolor": "white",
             "startlinecolor": "#2a3f5f"
            },
            "baxis": {
             "endlinecolor": "#2a3f5f",
             "gridcolor": "white",
             "linecolor": "white",
             "minorgridcolor": "white",
             "startlinecolor": "#2a3f5f"
            },
            "type": "carpet"
           }
          ],
          "choropleth": [
           {
            "colorbar": {
             "outlinewidth": 0,
             "ticks": ""
            },
            "type": "choropleth"
           }
          ],
          "contour": [
           {
            "colorbar": {
             "outlinewidth": 0,
             "ticks": ""
            },
            "colorscale": [
             [
              0,
              "#0d0887"
             ],
             [
              0.1111111111111111,
              "#46039f"
             ],
             [
              0.2222222222222222,
              "#7201a8"
             ],
             [
              0.3333333333333333,
              "#9c179e"
             ],
             [
              0.4444444444444444,
              "#bd3786"
             ],
             [
              0.5555555555555556,
              "#d8576b"
             ],
             [
              0.6666666666666666,
              "#ed7953"
             ],
             [
              0.7777777777777778,
              "#fb9f3a"
             ],
             [
              0.8888888888888888,
              "#fdca26"
             ],
             [
              1,
              "#f0f921"
             ]
            ],
            "type": "contour"
           }
          ],
          "contourcarpet": [
           {
            "colorbar": {
             "outlinewidth": 0,
             "ticks": ""
            },
            "type": "contourcarpet"
           }
          ],
          "heatmap": [
           {
            "colorbar": {
             "outlinewidth": 0,
             "ticks": ""
            },
            "colorscale": [
             [
              0,
              "#0d0887"
             ],
             [
              0.1111111111111111,
              "#46039f"
             ],
             [
              0.2222222222222222,
              "#7201a8"
             ],
             [
              0.3333333333333333,
              "#9c179e"
             ],
             [
              0.4444444444444444,
              "#bd3786"
             ],
             [
              0.5555555555555556,
              "#d8576b"
             ],
             [
              0.6666666666666666,
              "#ed7953"
             ],
             [
              0.7777777777777778,
              "#fb9f3a"
             ],
             [
              0.8888888888888888,
              "#fdca26"
             ],
             [
              1,
              "#f0f921"
             ]
            ],
            "type": "heatmap"
           }
          ],
          "histogram": [
           {
            "marker": {
             "pattern": {
              "fillmode": "overlay",
              "size": 10,
              "solidity": 0.2
             }
            },
            "type": "histogram"
           }
          ],
          "histogram2d": [
           {
            "colorbar": {
             "outlinewidth": 0,
             "ticks": ""
            },
            "colorscale": [
             [
              0,
              "#0d0887"
             ],
             [
              0.1111111111111111,
              "#46039f"
             ],
             [
              0.2222222222222222,
              "#7201a8"
             ],
             [
              0.3333333333333333,
              "#9c179e"
             ],
             [
              0.4444444444444444,
              "#bd3786"
             ],
             [
              0.5555555555555556,
              "#d8576b"
             ],
             [
              0.6666666666666666,
              "#ed7953"
             ],
             [
              0.7777777777777778,
              "#fb9f3a"
             ],
             [
              0.8888888888888888,
              "#fdca26"
             ],
             [
              1,
              "#f0f921"
             ]
            ],
            "type": "histogram2d"
           }
          ],
          "histogram2dcontour": [
           {
            "colorbar": {
             "outlinewidth": 0,
             "ticks": ""
            },
            "colorscale": [
             [
              0,
              "#0d0887"
             ],
             [
              0.1111111111111111,
              "#46039f"
             ],
             [
              0.2222222222222222,
              "#7201a8"
             ],
             [
              0.3333333333333333,
              "#9c179e"
             ],
             [
              0.4444444444444444,
              "#bd3786"
             ],
             [
              0.5555555555555556,
              "#d8576b"
             ],
             [
              0.6666666666666666,
              "#ed7953"
             ],
             [
              0.7777777777777778,
              "#fb9f3a"
             ],
             [
              0.8888888888888888,
              "#fdca26"
             ],
             [
              1,
              "#f0f921"
             ]
            ],
            "type": "histogram2dcontour"
           }
          ],
          "mesh3d": [
           {
            "colorbar": {
             "outlinewidth": 0,
             "ticks": ""
            },
            "type": "mesh3d"
           }
          ],
          "parcoords": [
           {
            "line": {
             "colorbar": {
              "outlinewidth": 0,
              "ticks": ""
             }
            },
            "type": "parcoords"
           }
          ],
          "pie": [
           {
            "automargin": true,
            "type": "pie"
           }
          ],
          "scatter": [
           {
            "fillpattern": {
             "fillmode": "overlay",
             "size": 10,
             "solidity": 0.2
            },
            "type": "scatter"
           }
          ],
          "scatter3d": [
           {
            "line": {
             "colorbar": {
              "outlinewidth": 0,
              "ticks": ""
             }
            },
            "marker": {
             "colorbar": {
              "outlinewidth": 0,
              "ticks": ""
             }
            },
            "type": "scatter3d"
           }
          ],
          "scattercarpet": [
           {
            "marker": {
             "colorbar": {
              "outlinewidth": 0,
              "ticks": ""
             }
            },
            "type": "scattercarpet"
           }
          ],
          "scattergeo": [
           {
            "marker": {
             "colorbar": {
              "outlinewidth": 0,
              "ticks": ""
             }
            },
            "type": "scattergeo"
           }
          ],
          "scattergl": [
           {
            "marker": {
             "colorbar": {
              "outlinewidth": 0,
              "ticks": ""
             }
            },
            "type": "scattergl"
           }
          ],
          "scattermap": [
           {
            "marker": {
             "colorbar": {
              "outlinewidth": 0,
              "ticks": ""
             }
            },
            "type": "scattermap"
           }
          ],
          "scattermapbox": [
           {
            "marker": {
             "colorbar": {
              "outlinewidth": 0,
              "ticks": ""
             }
            },
            "type": "scattermapbox"
           }
          ],
          "scatterpolar": [
           {
            "marker": {
             "colorbar": {
              "outlinewidth": 0,
              "ticks": ""
             }
            },
            "type": "scatterpolar"
           }
          ],
          "scatterpolargl": [
           {
            "marker": {
             "colorbar": {
              "outlinewidth": 0,
              "ticks": ""
             }
            },
            "type": "scatterpolargl"
           }
          ],
          "scatterternary": [
           {
            "marker": {
             "colorbar": {
              "outlinewidth": 0,
              "ticks": ""
             }
            },
            "type": "scatterternary"
           }
          ],
          "surface": [
           {
            "colorbar": {
             "outlinewidth": 0,
             "ticks": ""
            },
            "colorscale": [
             [
              0,
              "#0d0887"
             ],
             [
              0.1111111111111111,
              "#46039f"
             ],
             [
              0.2222222222222222,
              "#7201a8"
             ],
             [
              0.3333333333333333,
              "#9c179e"
             ],
             [
              0.4444444444444444,
              "#bd3786"
             ],
             [
              0.5555555555555556,
              "#d8576b"
             ],
             [
              0.6666666666666666,
              "#ed7953"
             ],
             [
              0.7777777777777778,
              "#fb9f3a"
             ],
             [
              0.8888888888888888,
              "#fdca26"
             ],
             [
              1,
              "#f0f921"
             ]
            ],
            "type": "surface"
           }
          ],
          "table": [
           {
            "cells": {
             "fill": {
              "color": "#EBF0F8"
             },
             "line": {
              "color": "white"
             }
            },
            "header": {
             "fill": {
              "color": "#C8D4E3"
             },
             "line": {
              "color": "white"
             }
            },
            "type": "table"
           }
          ]
         },
         "layout": {
          "annotationdefaults": {
           "arrowcolor": "#2a3f5f",
           "arrowhead": 0,
           "arrowwidth": 1
          },
          "autotypenumbers": "strict",
          "coloraxis": {
           "colorbar": {
            "outlinewidth": 0,
            "ticks": ""
           }
          },
          "colorscale": {
           "diverging": [
            [
             0,
             "#8e0152"
            ],
            [
             0.1,
             "#c51b7d"
            ],
            [
             0.2,
             "#de77ae"
            ],
            [
             0.3,
             "#f1b6da"
            ],
            [
             0.4,
             "#fde0ef"
            ],
            [
             0.5,
             "#f7f7f7"
            ],
            [
             0.6,
             "#e6f5d0"
            ],
            [
             0.7,
             "#b8e186"
            ],
            [
             0.8,
             "#7fbc41"
            ],
            [
             0.9,
             "#4d9221"
            ],
            [
             1,
             "#276419"
            ]
           ],
           "sequential": [
            [
             0,
             "#0d0887"
            ],
            [
             0.1111111111111111,
             "#46039f"
            ],
            [
             0.2222222222222222,
             "#7201a8"
            ],
            [
             0.3333333333333333,
             "#9c179e"
            ],
            [
             0.4444444444444444,
             "#bd3786"
            ],
            [
             0.5555555555555556,
             "#d8576b"
            ],
            [
             0.6666666666666666,
             "#ed7953"
            ],
            [
             0.7777777777777778,
             "#fb9f3a"
            ],
            [
             0.8888888888888888,
             "#fdca26"
            ],
            [
             1,
             "#f0f921"
            ]
           ],
           "sequentialminus": [
            [
             0,
             "#0d0887"
            ],
            [
             0.1111111111111111,
             "#46039f"
            ],
            [
             0.2222222222222222,
             "#7201a8"
            ],
            [
             0.3333333333333333,
             "#9c179e"
            ],
            [
             0.4444444444444444,
             "#bd3786"
            ],
            [
             0.5555555555555556,
             "#d8576b"
            ],
            [
             0.6666666666666666,
             "#ed7953"
            ],
            [
             0.7777777777777778,
             "#fb9f3a"
            ],
            [
             0.8888888888888888,
             "#fdca26"
            ],
            [
             1,
             "#f0f921"
            ]
           ]
          },
          "colorway": [
           "#636efa",
           "#EF553B",
           "#00cc96",
           "#ab63fa",
           "#FFA15A",
           "#19d3f3",
           "#FF6692",
           "#B6E880",
           "#FF97FF",
           "#FECB52"
          ],
          "font": {
           "color": "#2a3f5f"
          },
          "geo": {
           "bgcolor": "white",
           "lakecolor": "white",
           "landcolor": "#E5ECF6",
           "showlakes": true,
           "showland": true,
           "subunitcolor": "white"
          },
          "hoverlabel": {
           "align": "left"
          },
          "hovermode": "closest",
          "mapbox": {
           "style": "light"
          },
          "paper_bgcolor": "white",
          "plot_bgcolor": "#E5ECF6",
          "polar": {
           "angularaxis": {
            "gridcolor": "white",
            "linecolor": "white",
            "ticks": ""
           },
           "bgcolor": "#E5ECF6",
           "radialaxis": {
            "gridcolor": "white",
            "linecolor": "white",
            "ticks": ""
           }
          },
          "scene": {
           "xaxis": {
            "backgroundcolor": "#E5ECF6",
            "gridcolor": "white",
            "gridwidth": 2,
            "linecolor": "white",
            "showbackground": true,
            "ticks": "",
            "zerolinecolor": "white"
           },
           "yaxis": {
            "backgroundcolor": "#E5ECF6",
            "gridcolor": "white",
            "gridwidth": 2,
            "linecolor": "white",
            "showbackground": true,
            "ticks": "",
            "zerolinecolor": "white"
           },
           "zaxis": {
            "backgroundcolor": "#E5ECF6",
            "gridcolor": "white",
            "gridwidth": 2,
            "linecolor": "white",
            "showbackground": true,
            "ticks": "",
            "zerolinecolor": "white"
           }
          },
          "shapedefaults": {
           "line": {
            "color": "#2a3f5f"
           }
          },
          "ternary": {
           "aaxis": {
            "gridcolor": "white",
            "linecolor": "white",
            "ticks": ""
           },
           "baxis": {
            "gridcolor": "white",
            "linecolor": "white",
            "ticks": ""
           },
           "bgcolor": "#E5ECF6",
           "caxis": {
            "gridcolor": "white",
            "linecolor": "white",
            "ticks": ""
           }
          },
          "title": {
           "x": 0.05
          },
          "xaxis": {
           "automargin": true,
           "gridcolor": "white",
           "linecolor": "white",
           "ticks": "",
           "title": {
            "standoff": 15
           },
           "zerolinecolor": "white",
           "zerolinewidth": 2
          },
          "yaxis": {
           "automargin": true,
           "gridcolor": "white",
           "linecolor": "white",
           "ticks": "",
           "title": {
            "standoff": 15
           },
           "zerolinecolor": "white",
           "zerolinewidth": 2
          }
         }
        },
        "title": {
         "text": "Distribuição de Defense por Tipo de Pokémon"
        },
        "width": 1000,
        "xaxis": {
         "anchor": "y",
         "categoryarray": [
          "steel",
          "rock",
          "ground",
          "dragon",
          "ghost",
          "fighting",
          "ice",
          "psychic",
          "water",
          "grass",
          "dark",
          "fairy",
          "bug",
          "fire",
          "poison",
          "flying",
          "electric",
          "normal"
         ],
         "categoryorder": "array",
         "domain": [
          0,
          1
         ],
         "title": {
          "text": "Tipo"
         }
        },
        "yaxis": {
         "anchor": "x",
         "domain": [
          0,
          1
         ],
         "title": {
          "text": "Defense"
         }
        }
       }
      }
     },
     "metadata": {},
     "output_type": "display_data"
    },
    {
     "data": {
      "application/vnd.plotly.v1+json": {
       "config": {
        "plotlyServerURL": "https://plot.ly"
       },
       "data": [
        {
         "alignmentgroup": "True",
         "boxpoints": "all",
         "hovertemplate": "Tipo=%{x}<br>Hp=%{y}<extra></extra>",
         "legendgroup": "",
         "marker": {
          "color": "#636efa"
         },
         "name": "",
         "notched": false,
         "offsetgroup": "",
         "orientation": "v",
         "showlegend": false,
         "type": "box",
         "x": [
          "grass",
          "poison",
          "grass",
          "poison",
          "grass",
          "poison",
          "fire",
          "fire",
          "fire",
          "flying",
          "water",
          "water",
          "water",
          "bug",
          "bug",
          "bug",
          "flying",
          "bug",
          "poison",
          "bug",
          "poison",
          "bug",
          "poison",
          "normal",
          "flying",
          "normal",
          "flying",
          "normal",
          "flying",
          "normal",
          "normal",
          "normal",
          "flying",
          "normal",
          "flying",
          "poison",
          "poison",
          "electric",
          "electric",
          "ground",
          "ground",
          "poison",
          "poison",
          "poison",
          "ground",
          "poison",
          "poison",
          "poison",
          "ground",
          "fairy",
          "fairy",
          "fire",
          "fire",
          "normal",
          "fairy",
          "normal",
          "fairy",
          "poison",
          "flying",
          "poison",
          "flying",
          "grass",
          "poison",
          "grass",
          "poison",
          "grass",
          "poison",
          "bug",
          "grass",
          "bug",
          "grass",
          "bug",
          "poison",
          "bug",
          "poison",
          "ground",
          "ground",
          "normal",
          "normal",
          "water",
          "water",
          "fighting",
          "fighting",
          "fire",
          "fire",
          "water",
          "water",
          "water",
          "fighting",
          "psychic",
          "psychic",
          "psychic",
          "fighting",
          "fighting",
          "fighting",
          "grass",
          "poison",
          "grass",
          "poison",
          "grass",
          "poison",
          "water",
          "poison",
          "water",
          "poison",
          "rock",
          "ground",
          "rock",
          "ground",
          "rock",
          "ground",
          "fire",
          "fire",
          "water",
          "psychic",
          "water",
          "psychic",
          "electric",
          "steel",
          "electric",
          "steel",
          "normal",
          "flying",
          "normal",
          "flying",
          "normal",
          "flying",
          "water",
          "water",
          "ice",
          "poison",
          "poison",
          "water",
          "water",
          "ice",
          "ghost",
          "poison",
          "ghost",
          "poison",
          "ghost",
          "poison",
          "rock",
          "ground",
          "psychic",
          "psychic",
          "water",
          "water",
          "electric",
          "electric",
          "grass",
          "psychic",
          "grass",
          "psychic",
          "ground",
          "ground",
          "fighting",
          "fighting",
          "normal",
          "poison",
          "poison",
          "ground",
          "rock",
          "ground",
          "rock",
          "normal",
          "grass",
          "normal",
          "water",
          "water",
          "water",
          "water",
          "water",
          "water",
          "psychic",
          "psychic",
          "fairy",
          "bug",
          "flying",
          "ice",
          "psychic",
          "electric",
          "fire",
          "bug",
          "normal",
          "water",
          "water",
          "flying",
          "water",
          "ice",
          "normal",
          "normal",
          "water",
          "electric",
          "fire",
          "normal",
          "rock",
          "water",
          "rock",
          "water",
          "rock",
          "water",
          "rock",
          "water",
          "rock",
          "flying",
          "normal",
          "ice",
          "flying",
          "electric",
          "flying",
          "fire",
          "flying",
          "dragon",
          "dragon",
          "dragon",
          "flying",
          "psychic",
          "psychic",
          "grass",
          "grass",
          "grass",
          "fire",
          "fire",
          "fire",
          "water",
          "water",
          "water",
          "normal",
          "normal",
          "normal",
          "flying",
          "normal",
          "flying",
          "bug",
          "flying",
          "bug",
          "flying",
          "bug",
          "poison",
          "bug",
          "poison",
          "poison",
          "flying",
          "water",
          "electric",
          "water",
          "electric",
          "electric",
          "fairy",
          "normal",
          "fairy",
          "fairy",
          "fairy",
          "flying",
          "psychic",
          "flying",
          "psychic",
          "flying",
          "electric",
          "electric",
          "electric",
          "grass",
          "water",
          "fairy",
          "water",
          "fairy",
          "rock",
          "water",
          "grass",
          "flying",
          "grass",
          "flying",
          "grass",
          "flying",
          "normal",
          "grass",
          "grass",
          "bug",
          "flying",
          "water",
          "ground",
          "water",
          "ground",
          "psychic",
          "dark",
          "dark",
          "flying",
          "water",
          "psychic",
          "ghost",
          "psychic",
          "psychic",
          "normal",
          "psychic",
          "bug",
          "bug",
          "steel",
          "normal",
          "ground",
          "flying",
          "steel",
          "ground",
          "fairy",
          "fairy",
          "water",
          "poison",
          "bug",
          "steel",
          "bug",
          "rock",
          "bug",
          "fighting",
          "dark",
          "ice",
          "normal",
          "normal",
          "fire",
          "fire",
          "rock",
          "ice",
          "ground",
          "ice",
          "ground",
          "water",
          "rock",
          "water",
          "water",
          "ice",
          "flying",
          "water",
          "flying",
          "steel",
          "flying",
          "dark",
          "fire",
          "dark",
          "fire",
          "water",
          "dragon",
          "ground",
          "ground",
          "normal",
          "normal",
          "normal",
          "fighting",
          "fighting",
          "ice",
          "psychic",
          "electric",
          "fire",
          "normal",
          "normal",
          "electric",
          "fire",
          "water",
          "rock",
          "ground",
          "rock",
          "ground",
          "rock",
          "dark",
          "psychic",
          "flying",
          "fire",
          "flying",
          "psychic",
          "grass",
          "grass",
          "grass",
          "grass",
          "fire",
          "fire",
          "fighting",
          "fire",
          "fighting",
          "water",
          "water",
          "ground",
          "water",
          "ground",
          "dark",
          "dark",
          "normal",
          "normal",
          "bug",
          "bug",
          "bug",
          "flying",
          "bug",
          "bug",
          "poison",
          "water",
          "grass",
          "water",
          "grass",
          "water",
          "grass",
          "grass",
          "grass",
          "dark",
          "grass",
          "dark",
          "normal",
          "flying",
          "normal",
          "flying",
          "water",
          "flying",
          "water",
          "flying",
          "psychic",
          "fairy",
          "psychic",
          "fairy",
          "psychic",
          "fairy",
          "bug",
          "water",
          "bug",
          "flying",
          "grass",
          "grass",
          "fighting",
          "normal",
          "normal",
          "normal",
          "bug",
          "ground",
          "bug",
          "flying",
          "bug",
          "ghost",
          "normal",
          "normal",
          "normal",
          "fighting",
          "fighting",
          "normal",
          "fairy",
          "rock",
          "normal",
          "normal",
          "dark",
          "ghost",
          "steel",
          "fairy",
          "steel",
          "rock",
          "steel",
          "rock",
          "steel",
          "rock",
          "fighting",
          "psychic",
          "fighting",
          "psychic",
          "electric",
          "electric",
          "electric",
          "electric",
          "bug",
          "bug",
          "grass",
          "poison",
          "poison",
          "poison",
          "water",
          "dark",
          "water",
          "dark",
          "water",
          "water",
          "fire",
          "ground",
          "fire",
          "ground",
          "fire",
          "psychic",
          "psychic",
          "normal",
          "ground",
          "ground",
          "dragon",
          "ground",
          "dragon",
          "grass",
          "grass",
          "dark",
          "normal",
          "flying",
          "dragon",
          "flying",
          "normal",
          "poison",
          "rock",
          "psychic",
          "rock",
          "psychic",
          "water",
          "ground",
          "water",
          "ground",
          "water",
          "water",
          "dark",
          "ground",
          "psychic",
          "ground",
          "psychic",
          "rock",
          "grass",
          "rock",
          "grass",
          "rock",
          "bug",
          "rock",
          "bug",
          "water",
          "water",
          "normal",
          "normal",
          "ghost",
          "ghost",
          "ghost",
          "ghost",
          "grass",
          "flying",
          "psychic",
          "dark",
          "psychic",
          "ice",
          "ice",
          "ice",
          "water",
          "ice",
          "water",
          "ice",
          "water",
          "water",
          "water",
          "water",
          "water",
          "rock",
          "water",
          "dragon",
          "dragon",
          "dragon",
          "flying",
          "steel",
          "psychic",
          "steel",
          "psychic",
          "steel",
          "psychic",
          "rock",
          "ice",
          "steel",
          "dragon",
          "psychic",
          "dragon",
          "psychic",
          "water",
          "ground",
          "dragon",
          "flying",
          "steel",
          "psychic",
          "psychic",
          "grass",
          "grass",
          "grass",
          "ground",
          "fire",
          "fire",
          "fighting",
          "fire",
          "fighting",
          "water",
          "water",
          "water",
          "steel",
          "normal",
          "flying",
          "normal",
          "flying",
          "normal",
          "flying",
          "normal",
          "normal",
          "water",
          "bug",
          "bug",
          "electric",
          "electric",
          "electric",
          "grass",
          "poison",
          "grass",
          "poison",
          "rock",
          "rock",
          "rock",
          "steel",
          "rock",
          "steel",
          "bug",
          "bug",
          "grass",
          "bug",
          "flying",
          "bug",
          "flying",
          "bug",
          "flying",
          "electric",
          "water",
          "water",
          "grass",
          "grass",
          "water",
          "water",
          "ground",
          "normal",
          "ghost",
          "flying",
          "ghost",
          "flying",
          "normal",
          "normal",
          "ghost",
          "dark",
          "flying",
          "normal",
          "normal",
          "psychic",
          "poison",
          "dark",
          "poison",
          "dark",
          "steel",
          "psychic",
          "steel",
          "psychic",
          "rock",
          "psychic",
          "fairy",
          "normal",
          "normal",
          "flying",
          "ghost",
          "dark",
          "dragon",
          "ground",
          "dragon",
          "ground",
          "dragon",
          "ground",
          "normal",
          "fighting",
          "fighting",
          "steel",
          "ground",
          "ground",
          "poison",
          "bug",
          "poison",
          "dark",
          "poison",
          "fighting",
          "poison",
          "fighting",
          "grass",
          "water",
          "water",
          "water",
          "flying",
          "grass",
          "ice",
          "grass",
          "ice",
          "dark",
          "ice",
          "electric",
          "steel",
          "normal",
          "ground",
          "rock",
          "grass",
          "electric",
          "fire",
          "fairy",
          "flying",
          "bug",
          "flying",
          "grass",
          "ice",
          "ground",
          "flying",
          "ice",
          "ground",
          "normal",
          "psychic",
          "fighting",
          "rock",
          "steel",
          "ghost",
          "ice",
          "ghost",
          "electric",
          "ghost",
          "psychic",
          "psychic",
          "psychic",
          "steel",
          "dragon",
          "water",
          "dragon",
          "fire",
          "steel",
          "normal",
          "ghost",
          "dragon",
          "psychic",
          "water",
          "water",
          "dark",
          "grass",
          "normal",
          "psychic",
          "fire",
          "grass",
          "grass",
          "grass",
          "fire",
          "fire",
          "fighting",
          "fire",
          "fighting",
          "water",
          "water",
          "water",
          "normal",
          "normal",
          "normal",
          "normal",
          "normal",
          "dark",
          "dark",
          "grass",
          "grass",
          "fire",
          "fire",
          "water",
          "water",
          "psychic",
          "psychic",
          "normal",
          "flying",
          "normal",
          "flying",
          "normal",
          "flying",
          "electric",
          "electric",
          "rock",
          "rock",
          "rock",
          "psychic",
          "flying",
          "psychic",
          "flying",
          "ground",
          "ground",
          "steel",
          "normal",
          "fighting",
          "fighting",
          "fighting",
          "water",
          "water",
          "ground",
          "water",
          "ground",
          "fighting",
          "fighting",
          "bug",
          "grass",
          "bug",
          "grass",
          "bug",
          "grass",
          "bug",
          "poison",
          "bug",
          "poison",
          "bug",
          "poison",
          "grass",
          "fairy",
          "grass",
          "fairy",
          "grass",
          "grass",
          "water",
          "ground",
          "dark",
          "ground",
          "dark",
          "ground",
          "dark",
          "fire",
          "fire",
          "grass",
          "bug",
          "rock",
          "bug",
          "rock",
          "dark",
          "fighting",
          "dark",
          "fighting",
          "psychic",
          "flying",
          "ghost",
          "ghost",
          "water",
          "rock",
          "water",
          "rock",
          "rock",
          "flying",
          "rock",
          "flying",
          "poison",
          "poison",
          "dark",
          "dark",
          "normal",
          "normal",
          "psychic",
          "psychic",
          "psychic",
          "psychic",
          "psychic",
          "psychic",
          "water",
          "flying",
          "water",
          "flying",
          "ice",
          "ice",
          "ice",
          "normal",
          "grass",
          "normal",
          "grass",
          "electric",
          "flying",
          "bug",
          "bug",
          "steel",
          "grass",
          "poison",
          "grass",
          "poison",
          "water",
          "ghost",
          "water",
          "ghost",
          "water",
          "bug",
          "electric",
          "bug",
          "electric",
          "grass",
          "steel",
          "grass",
          "steel",
          "steel",
          "steel",
          "steel",
          "electric",
          "electric",
          "electric",
          "psychic",
          "psychic",
          "ghost",
          "fire",
          "ghost",
          "fire",
          "ghost",
          "fire",
          "dragon",
          "dragon",
          "dragon",
          "ice",
          "ice",
          "ice",
          "bug",
          "bug",
          "ground",
          "electric",
          "fighting",
          "fighting",
          "dragon",
          "ground",
          "ghost",
          "ground",
          "ghost",
          "dark",
          "steel",
          "dark",
          "steel",
          "normal",
          "normal",
          "flying",
          "normal",
          "flying",
          "dark",
          "flying",
          "dark",
          "flying",
          "fire",
          "bug",
          "steel",
          "dark",
          "dragon",
          "dark",
          "dragon",
          "dark",
          "dragon",
          "bug",
          "fire",
          "bug",
          "fire",
          "steel",
          "fighting",
          "rock",
          "fighting",
          "grass",
          "fighting",
          "flying",
          "electric",
          "flying",
          "dragon",
          "fire",
          "dragon",
          "electric",
          "ground",
          "flying",
          "dragon",
          "ice",
          "water",
          "fighting",
          "normal",
          "psychic",
          "bug",
          "steel",
          "grass",
          "grass",
          "grass",
          "fighting",
          "fire",
          "fire",
          "fire",
          "psychic",
          "water",
          "water",
          "water",
          "dark",
          "normal",
          "normal",
          "ground",
          "normal",
          "flying",
          "fire",
          "flying",
          "fire",
          "flying",
          "bug",
          "bug",
          "bug",
          "flying",
          "fire",
          "normal",
          "fire",
          "normal",
          "fairy",
          "fairy",
          "fairy",
          "grass",
          "grass",
          "fighting",
          "fighting",
          "dark",
          "normal",
          "psychic",
          "psychic",
          "steel",
          "ghost",
          "steel",
          "ghost",
          "steel",
          "ghost",
          "fairy",
          "fairy",
          "fairy",
          "fairy",
          "dark",
          "psychic",
          "dark",
          "psychic",
          "rock",
          "water",
          "rock",
          "water",
          "poison",
          "water",
          "poison",
          "dragon",
          "water",
          "water",
          "electric",
          "normal",
          "electric",
          "normal",
          "rock",
          "dragon",
          "rock",
          "dragon",
          "rock",
          "ice",
          "rock",
          "ice",
          "fairy",
          "fighting",
          "flying",
          "electric",
          "fairy",
          "rock",
          "fairy",
          "dragon",
          "dragon",
          "dragon",
          "steel",
          "fairy",
          "ghost",
          "grass",
          "ghost",
          "grass",
          "ghost",
          "grass",
          "ghost",
          "grass",
          "ice",
          "ice",
          "flying",
          "dragon",
          "flying",
          "dragon",
          "fairy",
          "dark",
          "flying",
          "dragon",
          "ground",
          "rock",
          "fairy",
          "psychic",
          "ghost",
          "fire",
          "water",
          "grass",
          "flying",
          "grass",
          "flying",
          "grass",
          "ghost",
          "fire",
          "fire",
          "fire",
          "dark",
          "water",
          "water",
          "water",
          "fairy",
          "normal",
          "flying",
          "normal",
          "flying",
          "normal",
          "flying",
          "normal",
          "normal",
          "bug",
          "bug",
          "electric",
          "bug",
          "electric",
          "fighting",
          "fighting",
          "ice",
          "fire",
          "flying",
          "bug",
          "fairy",
          "bug",
          "fairy",
          "rock",
          "rock",
          "water",
          "poison",
          "water",
          "poison",
          "water",
          "ground",
          "ground",
          "water",
          "bug",
          "water",
          "bug",
          "grass",
          "grass",
          "grass",
          "fairy",
          "grass",
          "fairy",
          "poison",
          "fire",
          "poison",
          "fire",
          "normal",
          "fighting",
          "normal",
          "fighting",
          "grass",
          "grass",
          "grass",
          "fairy",
          "normal",
          "psychic",
          "fighting",
          "bug",
          "water",
          "bug",
          "water",
          "ghost",
          "ground",
          "ghost",
          "ground",
          "water",
          "normal",
          "normal",
          "rock",
          "flying",
          "normal",
          "fire",
          "dragon",
          "electric",
          "steel",
          "ghost",
          "fairy",
          "water",
          "psychic",
          "normal",
          "dragon",
          "ghost",
          "grass",
          "dragon",
          "dragon",
          "fighting",
          "dragon",
          "fighting",
          "electric",
          "fairy",
          "psychic",
          "fairy",
          "grass",
          "fairy",
          "water",
          "fairy",
          "psychic",
          "psychic",
          "psychic",
          "steel",
          "psychic",
          "ghost",
          "rock",
          "poison",
          "bug",
          "fighting",
          "bug",
          "fighting",
          "electric",
          "steel",
          "flying",
          "grass",
          "steel",
          "dark",
          "dragon",
          "psychic",
          "steel",
          "fairy",
          "fighting",
          "ghost",
          "poison",
          "poison",
          "dragon",
          "rock",
          "steel",
          "fire",
          "ghost",
          "electric",
          "steel",
          "steel",
          "grass",
          "grass",
          "grass",
          "fire",
          "fire",
          "fire",
          "water",
          "water",
          "water",
          "normal",
          "normal",
          "flying",
          "flying",
          "flying",
          "steel",
          "bug",
          "bug",
          "psychic",
          "bug",
          "psychic",
          "dark",
          "dark",
          "grass",
          "grass",
          "normal",
          "normal",
          "water",
          "water",
          "rock",
          "electric",
          "electric",
          "rock",
          "rock",
          "fire",
          "rock",
          "fire",
          "grass",
          "dragon",
          "grass",
          "dragon",
          "grass",
          "dragon",
          "ground",
          "ground",
          "flying",
          "water",
          "water",
          "water",
          "electric",
          "poison",
          "electric",
          "poison",
          "fire",
          "bug",
          "fire",
          "bug",
          "fighting",
          "fighting",
          "ghost",
          "ghost",
          "psychic",
          "psychic",
          "psychic",
          "fairy",
          "dark",
          "fairy",
          "dark",
          "fairy",
          "dark",
          "fairy",
          "dark",
          "normal",
          "steel",
          "ghost",
          "fighting",
          "ice",
          "psychic",
          "ground",
          "ghost",
          "fairy",
          "fairy",
          "fighting",
          "electric",
          "ice",
          "bug",
          "ice",
          "bug",
          "rock",
          "ice",
          "psychic",
          "normal",
          "electric",
          "dark",
          "steel",
          "steel",
          "electric",
          "dragon",
          "electric",
          "ice",
          "water",
          "dragon",
          "water",
          "ice",
          "steel",
          "dragon",
          "dragon",
          "ghost",
          "dragon",
          "ghost",
          "dragon",
          "ghost",
          "fairy",
          "fighting",
          "poison",
          "dragon",
          "fighting",
          "fighting",
          "dark",
          "dark",
          "grass",
          "electric",
          "dragon",
          "ice",
          "ghost",
          "psychic",
          "grass",
          "normal",
          "psychic",
          "bug",
          "rock",
          "ground",
          "normal",
          "water",
          "ghost",
          "fighting",
          "poison",
          "dark",
          "poison",
          "fairy",
          "flying",
          "grass",
          "grass",
          "grass",
          "dark",
          "fire",
          "fire",
          "fire",
          "ghost",
          "water",
          "water",
          "water",
          "fighting",
          "normal",
          "normal",
          "bug",
          "bug",
          "bug",
          "bug",
          "dark",
          "electric",
          "electric",
          "fighting",
          "electric",
          "fighting",
          "normal",
          "normal",
          "fairy",
          "fairy",
          "grass",
          "normal",
          "grass",
          "normal",
          "grass",
          "normal",
          "normal",
          "flying",
          "rock",
          "rock",
          "rock",
          "fire",
          "fire",
          "psychic",
          "fire",
          "ghost",
          "electric",
          "electric",
          "electric",
          "flying",
          "electric",
          "flying",
          "dark",
          "dark",
          "poison",
          "normal",
          "poison",
          "normal",
          "grass",
          "ghost",
          "grass",
          "ghost",
          "ground",
          "grass",
          "ground",
          "grass",
          "rock",
          "grass",
          "grass",
          "fire",
          "bug",
          "bug",
          "psychic",
          "psychic",
          "psychic",
          "fairy",
          "steel",
          "fairy",
          "steel",
          "fairy",
          "steel",
          "water",
          "water",
          "flying",
          "dark",
          "water",
          "water",
          "steel",
          "poison",
          "steel",
          "poison",
          "dragon",
          "normal",
          "steel",
          "rock",
          "poison",
          "rock",
          "poison",
          "ghost",
          "ghost",
          "flying",
          "fighting",
          "ice",
          "ice",
          "water",
          "psychic",
          "water",
          "dragon",
          "water",
          "fighting",
          "ghost",
          "poison",
          "ground",
          "normal",
          "psychic",
          "normal",
          "dark",
          "steel",
          "ground",
          "fighting",
          "fairy",
          "psychic",
          "grass",
          "dark",
          "ghost",
          "fairy",
          "bug",
          "fighting",
          "electric",
          "ground",
          "ground",
          "steel",
          "ice",
          "water",
          "fighting",
          "electric",
          "dark",
          "flying",
          "fire",
          "poison",
          "rock",
          "electric",
          "dragon",
          "ice",
          "dragon",
          "ice",
          "dragon",
          "ice",
          "ghost",
          "steel",
          "ghost",
          "dark",
          "grass",
          "dark",
          "ice",
          "dark",
          "ground",
          "dark",
          "fire",
          "dragon",
          "dark",
          "fairy",
          "fighting",
          "fighting",
          "dragon",
          "electric",
          "dragon",
          "water",
          "dragon",
          "grass",
          "psychic",
          "grass",
          "dragon",
          "grass",
          "ghost",
          "grass",
          "ghost",
          "poison",
          "fighting",
          "poison",
          "psychic",
          "poison",
          "fairy",
          "grass",
          "steel",
          "dragon",
          "grass",
          "dragon",
          "fire",
          "dragon",
          "electric",
          "dragon",
          "rock",
          "psychic",
          "steel",
          "psychic",
          "normal",
          "poison",
          "ghost"
         ],
         "x0": " ",
         "xaxis": "x",
         "y": {
          "bdata": "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",
          "dtype": "f8"
         },
         "y0": " ",
         "yaxis": "y"
        }
       ],
       "layout": {
        "boxmode": "group",
        "height": 500,
        "legend": {
         "tracegroupgap": 0
        },
        "template": {
         "data": {
          "bar": [
           {
            "error_x": {
             "color": "#2a3f5f"
            },
            "error_y": {
             "color": "#2a3f5f"
            },
            "marker": {
             "line": {
              "color": "#E5ECF6",
              "width": 0.5
             },
             "pattern": {
              "fillmode": "overlay",
              "size": 10,
              "solidity": 0.2
             }
            },
            "type": "bar"
           }
          ],
          "barpolar": [
           {
            "marker": {
             "line": {
              "color": "#E5ECF6",
              "width": 0.5
             },
             "pattern": {
              "fillmode": "overlay",
              "size": 10,
              "solidity": 0.2
             }
            },
            "type": "barpolar"
           }
          ],
          "carpet": [
           {
            "aaxis": {
             "endlinecolor": "#2a3f5f",
             "gridcolor": "white",
             "linecolor": "white",
             "minorgridcolor": "white",
             "startlinecolor": "#2a3f5f"
            },
            "baxis": {
             "endlinecolor": "#2a3f5f",
             "gridcolor": "white",
             "linecolor": "white",
             "minorgridcolor": "white",
             "startlinecolor": "#2a3f5f"
            },
            "type": "carpet"
           }
          ],
          "choropleth": [
           {
            "colorbar": {
             "outlinewidth": 0,
             "ticks": ""
            },
            "type": "choropleth"
           }
          ],
          "contour": [
           {
            "colorbar": {
             "outlinewidth": 0,
             "ticks": ""
            },
            "colorscale": [
             [
              0,
              "#0d0887"
             ],
             [
              0.1111111111111111,
              "#46039f"
             ],
             [
              0.2222222222222222,
              "#7201a8"
             ],
             [
              0.3333333333333333,
              "#9c179e"
             ],
             [
              0.4444444444444444,
              "#bd3786"
             ],
             [
              0.5555555555555556,
              "#d8576b"
             ],
             [
              0.6666666666666666,
              "#ed7953"
             ],
             [
              0.7777777777777778,
              "#fb9f3a"
             ],
             [
              0.8888888888888888,
              "#fdca26"
             ],
             [
              1,
              "#f0f921"
             ]
            ],
            "type": "contour"
           }
          ],
          "contourcarpet": [
           {
            "colorbar": {
             "outlinewidth": 0,
             "ticks": ""
            },
            "type": "contourcarpet"
           }
          ],
          "heatmap": [
           {
            "colorbar": {
             "outlinewidth": 0,
             "ticks": ""
            },
            "colorscale": [
             [
              0,
              "#0d0887"
             ],
             [
              0.1111111111111111,
              "#46039f"
             ],
             [
              0.2222222222222222,
              "#7201a8"
             ],
             [
              0.3333333333333333,
              "#9c179e"
             ],
             [
              0.4444444444444444,
              "#bd3786"
             ],
             [
              0.5555555555555556,
              "#d8576b"
             ],
             [
              0.6666666666666666,
              "#ed7953"
             ],
             [
              0.7777777777777778,
              "#fb9f3a"
             ],
             [
              0.8888888888888888,
              "#fdca26"
             ],
             [
              1,
              "#f0f921"
             ]
            ],
            "type": "heatmap"
           }
          ],
          "histogram": [
           {
            "marker": {
             "pattern": {
              "fillmode": "overlay",
              "size": 10,
              "solidity": 0.2
             }
            },
            "type": "histogram"
           }
          ],
          "histogram2d": [
           {
            "colorbar": {
             "outlinewidth": 0,
             "ticks": ""
            },
            "colorscale": [
             [
              0,
              "#0d0887"
             ],
             [
              0.1111111111111111,
              "#46039f"
             ],
             [
              0.2222222222222222,
              "#7201a8"
             ],
             [
              0.3333333333333333,
              "#9c179e"
             ],
             [
              0.4444444444444444,
              "#bd3786"
             ],
             [
              0.5555555555555556,
              "#d8576b"
             ],
             [
              0.6666666666666666,
              "#ed7953"
             ],
             [
              0.7777777777777778,
              "#fb9f3a"
             ],
             [
              0.8888888888888888,
              "#fdca26"
             ],
             [
              1,
              "#f0f921"
             ]
            ],
            "type": "histogram2d"
           }
          ],
          "histogram2dcontour": [
           {
            "colorbar": {
             "outlinewidth": 0,
             "ticks": ""
            },
            "colorscale": [
             [
              0,
              "#0d0887"
             ],
             [
              0.1111111111111111,
              "#46039f"
             ],
             [
              0.2222222222222222,
              "#7201a8"
             ],
             [
              0.3333333333333333,
              "#9c179e"
             ],
             [
              0.4444444444444444,
              "#bd3786"
             ],
             [
              0.5555555555555556,
              "#d8576b"
             ],
             [
              0.6666666666666666,
              "#ed7953"
             ],
             [
              0.7777777777777778,
              "#fb9f3a"
             ],
             [
              0.8888888888888888,
              "#fdca26"
             ],
             [
              1,
              "#f0f921"
             ]
            ],
            "type": "histogram2dcontour"
           }
          ],
          "mesh3d": [
           {
            "colorbar": {
             "outlinewidth": 0,
             "ticks": ""
            },
            "type": "mesh3d"
           }
          ],
          "parcoords": [
           {
            "line": {
             "colorbar": {
              "outlinewidth": 0,
              "ticks": ""
             }
            },
            "type": "parcoords"
           }
          ],
          "pie": [
           {
            "automargin": true,
            "type": "pie"
           }
          ],
          "scatter": [
           {
            "fillpattern": {
             "fillmode": "overlay",
             "size": 10,
             "solidity": 0.2
            },
            "type": "scatter"
           }
          ],
          "scatter3d": [
           {
            "line": {
             "colorbar": {
              "outlinewidth": 0,
              "ticks": ""
             }
            },
            "marker": {
             "colorbar": {
              "outlinewidth": 0,
              "ticks": ""
             }
            },
            "type": "scatter3d"
           }
          ],
          "scattercarpet": [
           {
            "marker": {
             "colorbar": {
              "outlinewidth": 0,
              "ticks": ""
             }
            },
            "type": "scattercarpet"
           }
          ],
          "scattergeo": [
           {
            "marker": {
             "colorbar": {
              "outlinewidth": 0,
              "ticks": ""
             }
            },
            "type": "scattergeo"
           }
          ],
          "scattergl": [
           {
            "marker": {
             "colorbar": {
              "outlinewidth": 0,
              "ticks": ""
             }
            },
            "type": "scattergl"
           }
          ],
          "scattermap": [
           {
            "marker": {
             "colorbar": {
              "outlinewidth": 0,
              "ticks": ""
             }
            },
            "type": "scattermap"
           }
          ],
          "scattermapbox": [
           {
            "marker": {
             "colorbar": {
              "outlinewidth": 0,
              "ticks": ""
             }
            },
            "type": "scattermapbox"
           }
          ],
          "scatterpolar": [
           {
            "marker": {
             "colorbar": {
              "outlinewidth": 0,
              "ticks": ""
             }
            },
            "type": "scatterpolar"
           }
          ],
          "scatterpolargl": [
           {
            "marker": {
             "colorbar": {
              "outlinewidth": 0,
              "ticks": ""
             }
            },
            "type": "scatterpolargl"
           }
          ],
          "scatterternary": [
           {
            "marker": {
             "colorbar": {
              "outlinewidth": 0,
              "ticks": ""
             }
            },
            "type": "scatterternary"
           }
          ],
          "surface": [
           {
            "colorbar": {
             "outlinewidth": 0,
             "ticks": ""
            },
            "colorscale": [
             [
              0,
              "#0d0887"
             ],
             [
              0.1111111111111111,
              "#46039f"
             ],
             [
              0.2222222222222222,
              "#7201a8"
             ],
             [
              0.3333333333333333,
              "#9c179e"
             ],
             [
              0.4444444444444444,
              "#bd3786"
             ],
             [
              0.5555555555555556,
              "#d8576b"
             ],
             [
              0.6666666666666666,
              "#ed7953"
             ],
             [
              0.7777777777777778,
              "#fb9f3a"
             ],
             [
              0.8888888888888888,
              "#fdca26"
             ],
             [
              1,
              "#f0f921"
             ]
            ],
            "type": "surface"
           }
          ],
          "table": [
           {
            "cells": {
             "fill": {
              "color": "#EBF0F8"
             },
             "line": {
              "color": "white"
             }
            },
            "header": {
             "fill": {
              "color": "#C8D4E3"
             },
             "line": {
              "color": "white"
             }
            },
            "type": "table"
           }
          ]
         },
         "layout": {
          "annotationdefaults": {
           "arrowcolor": "#2a3f5f",
           "arrowhead": 0,
           "arrowwidth": 1
          },
          "autotypenumbers": "strict",
          "coloraxis": {
           "colorbar": {
            "outlinewidth": 0,
            "ticks": ""
           }
          },
          "colorscale": {
           "diverging": [
            [
             0,
             "#8e0152"
            ],
            [
             0.1,
             "#c51b7d"
            ],
            [
             0.2,
             "#de77ae"
            ],
            [
             0.3,
             "#f1b6da"
            ],
            [
             0.4,
             "#fde0ef"
            ],
            [
             0.5,
             "#f7f7f7"
            ],
            [
             0.6,
             "#e6f5d0"
            ],
            [
             0.7,
             "#b8e186"
            ],
            [
             0.8,
             "#7fbc41"
            ],
            [
             0.9,
             "#4d9221"
            ],
            [
             1,
             "#276419"
            ]
           ],
           "sequential": [
            [
             0,
             "#0d0887"
            ],
            [
             0.1111111111111111,
             "#46039f"
            ],
            [
             0.2222222222222222,
             "#7201a8"
            ],
            [
             0.3333333333333333,
             "#9c179e"
            ],
            [
             0.4444444444444444,
             "#bd3786"
            ],
            [
             0.5555555555555556,
             "#d8576b"
            ],
            [
             0.6666666666666666,
             "#ed7953"
            ],
            [
             0.7777777777777778,
             "#fb9f3a"
            ],
            [
             0.8888888888888888,
             "#fdca26"
            ],
            [
             1,
             "#f0f921"
            ]
           ],
           "sequentialminus": [
            [
             0,
             "#0d0887"
            ],
            [
             0.1111111111111111,
             "#46039f"
            ],
            [
             0.2222222222222222,
             "#7201a8"
            ],
            [
             0.3333333333333333,
             "#9c179e"
            ],
            [
             0.4444444444444444,
             "#bd3786"
            ],
            [
             0.5555555555555556,
             "#d8576b"
            ],
            [
             0.6666666666666666,
             "#ed7953"
            ],
            [
             0.7777777777777778,
             "#fb9f3a"
            ],
            [
             0.8888888888888888,
             "#fdca26"
            ],
            [
             1,
             "#f0f921"
            ]
           ]
          },
          "colorway": [
           "#636efa",
           "#EF553B",
           "#00cc96",
           "#ab63fa",
           "#FFA15A",
           "#19d3f3",
           "#FF6692",
           "#B6E880",
           "#FF97FF",
           "#FECB52"
          ],
          "font": {
           "color": "#2a3f5f"
          },
          "geo": {
           "bgcolor": "white",
           "lakecolor": "white",
           "landcolor": "#E5ECF6",
           "showlakes": true,
           "showland": true,
           "subunitcolor": "white"
          },
          "hoverlabel": {
           "align": "left"
          },
          "hovermode": "closest",
          "mapbox": {
           "style": "light"
          },
          "paper_bgcolor": "white",
          "plot_bgcolor": "#E5ECF6",
          "polar": {
           "angularaxis": {
            "gridcolor": "white",
            "linecolor": "white",
            "ticks": ""
           },
           "bgcolor": "#E5ECF6",
           "radialaxis": {
            "gridcolor": "white",
            "linecolor": "white",
            "ticks": ""
           }
          },
          "scene": {
           "xaxis": {
            "backgroundcolor": "#E5ECF6",
            "gridcolor": "white",
            "gridwidth": 2,
            "linecolor": "white",
            "showbackground": true,
            "ticks": "",
            "zerolinecolor": "white"
           },
           "yaxis": {
            "backgroundcolor": "#E5ECF6",
            "gridcolor": "white",
            "gridwidth": 2,
            "linecolor": "white",
            "showbackground": true,
            "ticks": "",
            "zerolinecolor": "white"
           },
           "zaxis": {
            "backgroundcolor": "#E5ECF6",
            "gridcolor": "white",
            "gridwidth": 2,
            "linecolor": "white",
            "showbackground": true,
            "ticks": "",
            "zerolinecolor": "white"
           }
          },
          "shapedefaults": {
           "line": {
            "color": "#2a3f5f"
           }
          },
          "ternary": {
           "aaxis": {
            "gridcolor": "white",
            "linecolor": "white",
            "ticks": ""
           },
           "baxis": {
            "gridcolor": "white",
            "linecolor": "white",
            "ticks": ""
           },
           "bgcolor": "#E5ECF6",
           "caxis": {
            "gridcolor": "white",
            "linecolor": "white",
            "ticks": ""
           }
          },
          "title": {
           "x": 0.05
          },
          "xaxis": {
           "automargin": true,
           "gridcolor": "white",
           "linecolor": "white",
           "ticks": "",
           "title": {
            "standoff": 15
           },
           "zerolinecolor": "white",
           "zerolinewidth": 2
          },
          "yaxis": {
           "automargin": true,
           "gridcolor": "white",
           "linecolor": "white",
           "ticks": "",
           "title": {
            "standoff": 15
           },
           "zerolinecolor": "white",
           "zerolinewidth": 2
          }
         }
        },
        "title": {
         "text": "Distribuição de Hp por Tipo de Pokémon"
        },
        "width": 1000,
        "xaxis": {
         "anchor": "y",
         "categoryarray": [
          "dragon",
          "ice",
          "fighting",
          "ground",
          "normal",
          "dark",
          "psychic",
          "steel",
          "flying",
          "fire",
          "water",
          "rock",
          "electric",
          "fairy",
          "grass",
          "poison",
          "ghost",
          "bug"
         ],
         "categoryorder": "array",
         "domain": [
          0,
          1
         ],
         "title": {
          "text": "Tipo"
         }
        },
        "yaxis": {
         "anchor": "x",
         "domain": [
          0,
          1
         ],
         "title": {
          "text": "Hp"
         }
        }
       }
      }
     },
     "metadata": {},
     "output_type": "display_data"
    },
    {
     "data": {
      "application/vnd.plotly.v1+json": {
       "config": {
        "plotlyServerURL": "https://plot.ly"
       },
       "data": [
        {
         "alignmentgroup": "True",
         "boxpoints": "all",
         "hovertemplate": "Tipo=%{x}<br>Sp_atk=%{y}<extra></extra>",
         "legendgroup": "",
         "marker": {
          "color": "#636efa"
         },
         "name": "",
         "notched": false,
         "offsetgroup": "",
         "orientation": "v",
         "showlegend": false,
         "type": "box",
         "x": [
          "grass",
          "poison",
          "grass",
          "poison",
          "grass",
          "poison",
          "fire",
          "fire",
          "fire",
          "flying",
          "water",
          "water",
          "water",
          "bug",
          "bug",
          "bug",
          "flying",
          "bug",
          "poison",
          "bug",
          "poison",
          "bug",
          "poison",
          "normal",
          "flying",
          "normal",
          "flying",
          "normal",
          "flying",
          "normal",
          "normal",
          "normal",
          "flying",
          "normal",
          "flying",
          "poison",
          "poison",
          "electric",
          "electric",
          "ground",
          "ground",
          "poison",
          "poison",
          "poison",
          "ground",
          "poison",
          "poison",
          "poison",
          "ground",
          "fairy",
          "fairy",
          "fire",
          "fire",
          "normal",
          "fairy",
          "normal",
          "fairy",
          "poison",
          "flying",
          "poison",
          "flying",
          "grass",
          "poison",
          "grass",
          "poison",
          "grass",
          "poison",
          "bug",
          "grass",
          "bug",
          "grass",
          "bug",
          "poison",
          "bug",
          "poison",
          "ground",
          "ground",
          "normal",
          "normal",
          "water",
          "water",
          "fighting",
          "fighting",
          "fire",
          "fire",
          "water",
          "water",
          "water",
          "fighting",
          "psychic",
          "psychic",
          "psychic",
          "fighting",
          "fighting",
          "fighting",
          "grass",
          "poison",
          "grass",
          "poison",
          "grass",
          "poison",
          "water",
          "poison",
          "water",
          "poison",
          "rock",
          "ground",
          "rock",
          "ground",
          "rock",
          "ground",
          "fire",
          "fire",
          "water",
          "psychic",
          "water",
          "psychic",
          "electric",
          "steel",
          "electric",
          "steel",
          "normal",
          "flying",
          "normal",
          "flying",
          "normal",
          "flying",
          "water",
          "water",
          "ice",
          "poison",
          "poison",
          "water",
          "water",
          "ice",
          "ghost",
          "poison",
          "ghost",
          "poison",
          "ghost",
          "poison",
          "rock",
          "ground",
          "psychic",
          "psychic",
          "water",
          "water",
          "electric",
          "electric",
          "grass",
          "psychic",
          "grass",
          "psychic",
          "ground",
          "ground",
          "fighting",
          "fighting",
          "normal",
          "poison",
          "poison",
          "ground",
          "rock",
          "ground",
          "rock",
          "normal",
          "grass",
          "normal",
          "water",
          "water",
          "water",
          "water",
          "water",
          "water",
          "psychic",
          "psychic",
          "fairy",
          "bug",
          "flying",
          "ice",
          "psychic",
          "electric",
          "fire",
          "bug",
          "normal",
          "water",
          "water",
          "flying",
          "water",
          "ice",
          "normal",
          "normal",
          "water",
          "electric",
          "fire",
          "normal",
          "rock",
          "water",
          "rock",
          "water",
          "rock",
          "water",
          "rock",
          "water",
          "rock",
          "flying",
          "normal",
          "ice",
          "flying",
          "electric",
          "flying",
          "fire",
          "flying",
          "dragon",
          "dragon",
          "dragon",
          "flying",
          "psychic",
          "psychic",
          "grass",
          "grass",
          "grass",
          "fire",
          "fire",
          "fire",
          "water",
          "water",
          "water",
          "normal",
          "normal",
          "normal",
          "flying",
          "normal",
          "flying",
          "bug",
          "flying",
          "bug",
          "flying",
          "bug",
          "poison",
          "bug",
          "poison",
          "poison",
          "flying",
          "water",
          "electric",
          "water",
          "electric",
          "electric",
          "fairy",
          "normal",
          "fairy",
          "fairy",
          "fairy",
          "flying",
          "psychic",
          "flying",
          "psychic",
          "flying",
          "electric",
          "electric",
          "electric",
          "grass",
          "water",
          "fairy",
          "water",
          "fairy",
          "rock",
          "water",
          "grass",
          "flying",
          "grass",
          "flying",
          "grass",
          "flying",
          "normal",
          "grass",
          "grass",
          "bug",
          "flying",
          "water",
          "ground",
          "water",
          "ground",
          "psychic",
          "dark",
          "dark",
          "flying",
          "water",
          "psychic",
          "ghost",
          "psychic",
          "psychic",
          "normal",
          "psychic",
          "bug",
          "bug",
          "steel",
          "normal",
          "ground",
          "flying",
          "steel",
          "ground",
          "fairy",
          "fairy",
          "water",
          "poison",
          "bug",
          "steel",
          "bug",
          "rock",
          "bug",
          "fighting",
          "dark",
          "ice",
          "normal",
          "normal",
          "fire",
          "fire",
          "rock",
          "ice",
          "ground",
          "ice",
          "ground",
          "water",
          "rock",
          "water",
          "water",
          "ice",
          "flying",
          "water",
          "flying",
          "steel",
          "flying",
          "dark",
          "fire",
          "dark",
          "fire",
          "water",
          "dragon",
          "ground",
          "ground",
          "normal",
          "normal",
          "normal",
          "fighting",
          "fighting",
          "ice",
          "psychic",
          "electric",
          "fire",
          "normal",
          "normal",
          "electric",
          "fire",
          "water",
          "rock",
          "ground",
          "rock",
          "ground",
          "rock",
          "dark",
          "psychic",
          "flying",
          "fire",
          "flying",
          "psychic",
          "grass",
          "grass",
          "grass",
          "grass",
          "fire",
          "fire",
          "fighting",
          "fire",
          "fighting",
          "water",
          "water",
          "ground",
          "water",
          "ground",
          "dark",
          "dark",
          "normal",
          "normal",
          "bug",
          "bug",
          "bug",
          "flying",
          "bug",
          "bug",
          "poison",
          "water",
          "grass",
          "water",
          "grass",
          "water",
          "grass",
          "grass",
          "grass",
          "dark",
          "grass",
          "dark",
          "normal",
          "flying",
          "normal",
          "flying",
          "water",
          "flying",
          "water",
          "flying",
          "psychic",
          "fairy",
          "psychic",
          "fairy",
          "psychic",
          "fairy",
          "bug",
          "water",
          "bug",
          "flying",
          "grass",
          "grass",
          "fighting",
          "normal",
          "normal",
          "normal",
          "bug",
          "ground",
          "bug",
          "flying",
          "bug",
          "ghost",
          "normal",
          "normal",
          "normal",
          "fighting",
          "fighting",
          "normal",
          "fairy",
          "rock",
          "normal",
          "normal",
          "dark",
          "ghost",
          "steel",
          "fairy",
          "steel",
          "rock",
          "steel",
          "rock",
          "steel",
          "rock",
          "fighting",
          "psychic",
          "fighting",
          "psychic",
          "electric",
          "electric",
          "electric",
          "electric",
          "bug",
          "bug",
          "grass",
          "poison",
          "poison",
          "poison",
          "water",
          "dark",
          "water",
          "dark",
          "water",
          "water",
          "fire",
          "ground",
          "fire",
          "ground",
          "fire",
          "psychic",
          "psychic",
          "normal",
          "ground",
          "ground",
          "dragon",
          "ground",
          "dragon",
          "grass",
          "grass",
          "dark",
          "normal",
          "flying",
          "dragon",
          "flying",
          "normal",
          "poison",
          "rock",
          "psychic",
          "rock",
          "psychic",
          "water",
          "ground",
          "water",
          "ground",
          "water",
          "water",
          "dark",
          "ground",
          "psychic",
          "ground",
          "psychic",
          "rock",
          "grass",
          "rock",
          "grass",
          "rock",
          "bug",
          "rock",
          "bug",
          "water",
          "water",
          "normal",
          "normal",
          "ghost",
          "ghost",
          "ghost",
          "ghost",
          "grass",
          "flying",
          "psychic",
          "dark",
          "psychic",
          "ice",
          "ice",
          "ice",
          "water",
          "ice",
          "water",
          "ice",
          "water",
          "water",
          "water",
          "water",
          "water",
          "rock",
          "water",
          "dragon",
          "dragon",
          "dragon",
          "flying",
          "steel",
          "psychic",
          "steel",
          "psychic",
          "steel",
          "psychic",
          "rock",
          "ice",
          "steel",
          "dragon",
          "psychic",
          "dragon",
          "psychic",
          "water",
          "ground",
          "dragon",
          "flying",
          "steel",
          "psychic",
          "psychic",
          "grass",
          "grass",
          "grass",
          "ground",
          "fire",
          "fire",
          "fighting",
          "fire",
          "fighting",
          "water",
          "water",
          "water",
          "steel",
          "normal",
          "flying",
          "normal",
          "flying",
          "normal",
          "flying",
          "normal",
          "normal",
          "water",
          "bug",
          "bug",
          "electric",
          "electric",
          "electric",
          "grass",
          "poison",
          "grass",
          "poison",
          "rock",
          "rock",
          "rock",
          "steel",
          "rock",
          "steel",
          "bug",
          "bug",
          "grass",
          "bug",
          "flying",
          "bug",
          "flying",
          "bug",
          "flying",
          "electric",
          "water",
          "water",
          "grass",
          "grass",
          "water",
          "water",
          "ground",
          "normal",
          "ghost",
          "flying",
          "ghost",
          "flying",
          "normal",
          "normal",
          "ghost",
          "dark",
          "flying",
          "normal",
          "normal",
          "psychic",
          "poison",
          "dark",
          "poison",
          "dark",
          "steel",
          "psychic",
          "steel",
          "psychic",
          "rock",
          "psychic",
          "fairy",
          "normal",
          "normal",
          "flying",
          "ghost",
          "dark",
          "dragon",
          "ground",
          "dragon",
          "ground",
          "dragon",
          "ground",
          "normal",
          "fighting",
          "fighting",
          "steel",
          "ground",
          "ground",
          "poison",
          "bug",
          "poison",
          "dark",
          "poison",
          "fighting",
          "poison",
          "fighting",
          "grass",
          "water",
          "water",
          "water",
          "flying",
          "grass",
          "ice",
          "grass",
          "ice",
          "dark",
          "ice",
          "electric",
          "steel",
          "normal",
          "ground",
          "rock",
          "grass",
          "electric",
          "fire",
          "fairy",
          "flying",
          "bug",
          "flying",
          "grass",
          "ice",
          "ground",
          "flying",
          "ice",
          "ground",
          "normal",
          "psychic",
          "fighting",
          "rock",
          "steel",
          "ghost",
          "ice",
          "ghost",
          "electric",
          "ghost",
          "psychic",
          "psychic",
          "psychic",
          "steel",
          "dragon",
          "water",
          "dragon",
          "fire",
          "steel",
          "normal",
          "ghost",
          "dragon",
          "psychic",
          "water",
          "water",
          "dark",
          "grass",
          "normal",
          "psychic",
          "fire",
          "grass",
          "grass",
          "grass",
          "fire",
          "fire",
          "fighting",
          "fire",
          "fighting",
          "water",
          "water",
          "water",
          "normal",
          "normal",
          "normal",
          "normal",
          "normal",
          "dark",
          "dark",
          "grass",
          "grass",
          "fire",
          "fire",
          "water",
          "water",
          "psychic",
          "psychic",
          "normal",
          "flying",
          "normal",
          "flying",
          "normal",
          "flying",
          "electric",
          "electric",
          "rock",
          "rock",
          "rock",
          "psychic",
          "flying",
          "psychic",
          "flying",
          "ground",
          "ground",
          "steel",
          "normal",
          "fighting",
          "fighting",
          "fighting",
          "water",
          "water",
          "ground",
          "water",
          "ground",
          "fighting",
          "fighting",
          "bug",
          "grass",
          "bug",
          "grass",
          "bug",
          "grass",
          "bug",
          "poison",
          "bug",
          "poison",
          "bug",
          "poison",
          "grass",
          "fairy",
          "grass",
          "fairy",
          "grass",
          "grass",
          "water",
          "ground",
          "dark",
          "ground",
          "dark",
          "ground",
          "dark",
          "fire",
          "fire",
          "grass",
          "bug",
          "rock",
          "bug",
          "rock",
          "dark",
          "fighting",
          "dark",
          "fighting",
          "psychic",
          "flying",
          "ghost",
          "ghost",
          "water",
          "rock",
          "water",
          "rock",
          "rock",
          "flying",
          "rock",
          "flying",
          "poison",
          "poison",
          "dark",
          "dark",
          "normal",
          "normal",
          "psychic",
          "psychic",
          "psychic",
          "psychic",
          "psychic",
          "psychic",
          "water",
          "flying",
          "water",
          "flying",
          "ice",
          "ice",
          "ice",
          "normal",
          "grass",
          "normal",
          "grass",
          "electric",
          "flying",
          "bug",
          "bug",
          "steel",
          "grass",
          "poison",
          "grass",
          "poison",
          "water",
          "ghost",
          "water",
          "ghost",
          "water",
          "bug",
          "electric",
          "bug",
          "electric",
          "grass",
          "steel",
          "grass",
          "steel",
          "steel",
          "steel",
          "steel",
          "electric",
          "electric",
          "electric",
          "psychic",
          "psychic",
          "ghost",
          "fire",
          "ghost",
          "fire",
          "ghost",
          "fire",
          "dragon",
          "dragon",
          "dragon",
          "ice",
          "ice",
          "ice",
          "bug",
          "bug",
          "ground",
          "electric",
          "fighting",
          "fighting",
          "dragon",
          "ground",
          "ghost",
          "ground",
          "ghost",
          "dark",
          "steel",
          "dark",
          "steel",
          "normal",
          "normal",
          "flying",
          "normal",
          "flying",
          "dark",
          "flying",
          "dark",
          "flying",
          "fire",
          "bug",
          "steel",
          "dark",
          "dragon",
          "dark",
          "dragon",
          "dark",
          "dragon",
          "bug",
          "fire",
          "bug",
          "fire",
          "steel",
          "fighting",
          "rock",
          "fighting",
          "grass",
          "fighting",
          "flying",
          "electric",
          "flying",
          "dragon",
          "fire",
          "dragon",
          "electric",
          "ground",
          "flying",
          "dragon",
          "ice",
          "water",
          "fighting",
          "normal",
          "psychic",
          "bug",
          "steel",
          "grass",
          "grass",
          "grass",
          "fighting",
          "fire",
          "fire",
          "fire",
          "psychic",
          "water",
          "water",
          "water",
          "dark",
          "normal",
          "normal",
          "ground",
          "normal",
          "flying",
          "fire",
          "flying",
          "fire",
          "flying",
          "bug",
          "bug",
          "bug",
          "flying",
          "fire",
          "normal",
          "fire",
          "normal",
          "fairy",
          "fairy",
          "fairy",
          "grass",
          "grass",
          "fighting",
          "fighting",
          "dark",
          "normal",
          "psychic",
          "psychic",
          "steel",
          "ghost",
          "steel",
          "ghost",
          "steel",
          "ghost",
          "fairy",
          "fairy",
          "fairy",
          "fairy",
          "dark",
          "psychic",
          "dark",
          "psychic",
          "rock",
          "water",
          "rock",
          "water",
          "poison",
          "water",
          "poison",
          "dragon",
          "water",
          "water",
          "electric",
          "normal",
          "electric",
          "normal",
          "rock",
          "dragon",
          "rock",
          "dragon",
          "rock",
          "ice",
          "rock",
          "ice",
          "fairy",
          "fighting",
          "flying",
          "electric",
          "fairy",
          "rock",
          "fairy",
          "dragon",
          "dragon",
          "dragon",
          "steel",
          "fairy",
          "ghost",
          "grass",
          "ghost",
          "grass",
          "ghost",
          "grass",
          "ghost",
          "grass",
          "ice",
          "ice",
          "flying",
          "dragon",
          "flying",
          "dragon",
          "fairy",
          "dark",
          "flying",
          "dragon",
          "ground",
          "rock",
          "fairy",
          "psychic",
          "ghost",
          "fire",
          "water",
          "grass",
          "flying",
          "grass",
          "flying",
          "grass",
          "ghost",
          "fire",
          "fire",
          "fire",
          "dark",
          "water",
          "water",
          "water",
          "fairy",
          "normal",
          "flying",
          "normal",
          "flying",
          "normal",
          "flying",
          "normal",
          "normal",
          "bug",
          "bug",
          "electric",
          "bug",
          "electric",
          "fighting",
          "fighting",
          "ice",
          "fire",
          "flying",
          "bug",
          "fairy",
          "bug",
          "fairy",
          "rock",
          "rock",
          "water",
          "poison",
          "water",
          "poison",
          "water",
          "ground",
          "ground",
          "water",
          "bug",
          "water",
          "bug",
          "grass",
          "grass",
          "grass",
          "fairy",
          "grass",
          "fairy",
          "poison",
          "fire",
          "poison",
          "fire",
          "normal",
          "fighting",
          "normal",
          "fighting",
          "grass",
          "grass",
          "grass",
          "fairy",
          "normal",
          "psychic",
          "fighting",
          "bug",
          "water",
          "bug",
          "water",
          "ghost",
          "ground",
          "ghost",
          "ground",
          "water",
          "normal",
          "normal",
          "rock",
          "flying",
          "normal",
          "fire",
          "dragon",
          "electric",
          "steel",
          "ghost",
          "fairy",
          "water",
          "psychic",
          "normal",
          "dragon",
          "ghost",
          "grass",
          "dragon",
          "dragon",
          "fighting",
          "dragon",
          "fighting",
          "electric",
          "fairy",
          "psychic",
          "fairy",
          "grass",
          "fairy",
          "water",
          "fairy",
          "psychic",
          "psychic",
          "psychic",
          "steel",
          "psychic",
          "ghost",
          "rock",
          "poison",
          "bug",
          "fighting",
          "bug",
          "fighting",
          "electric",
          "steel",
          "flying",
          "grass",
          "steel",
          "dark",
          "dragon",
          "psychic",
          "steel",
          "fairy",
          "fighting",
          "ghost",
          "poison",
          "poison",
          "dragon",
          "rock",
          "steel",
          "fire",
          "ghost",
          "electric",
          "steel",
          "steel",
          "grass",
          "grass",
          "grass",
          "fire",
          "fire",
          "fire",
          "water",
          "water",
          "water",
          "normal",
          "normal",
          "flying",
          "flying",
          "flying",
          "steel",
          "bug",
          "bug",
          "psychic",
          "bug",
          "psychic",
          "dark",
          "dark",
          "grass",
          "grass",
          "normal",
          "normal",
          "water",
          "water",
          "rock",
          "electric",
          "electric",
          "rock",
          "rock",
          "fire",
          "rock",
          "fire",
          "grass",
          "dragon",
          "grass",
          "dragon",
          "grass",
          "dragon",
          "ground",
          "ground",
          "flying",
          "water",
          "water",
          "water",
          "electric",
          "poison",
          "electric",
          "poison",
          "fire",
          "bug",
          "fire",
          "bug",
          "fighting",
          "fighting",
          "ghost",
          "ghost",
          "psychic",
          "psychic",
          "psychic",
          "fairy",
          "dark",
          "fairy",
          "dark",
          "fairy",
          "dark",
          "fairy",
          "dark",
          "normal",
          "steel",
          "ghost",
          "fighting",
          "ice",
          "psychic",
          "ground",
          "ghost",
          "fairy",
          "fairy",
          "fighting",
          "electric",
          "ice",
          "bug",
          "ice",
          "bug",
          "rock",
          "ice",
          "psychic",
          "normal",
          "electric",
          "dark",
          "steel",
          "steel",
          "electric",
          "dragon",
          "electric",
          "ice",
          "water",
          "dragon",
          "water",
          "ice",
          "steel",
          "dragon",
          "dragon",
          "ghost",
          "dragon",
          "ghost",
          "dragon",
          "ghost",
          "fairy",
          "fighting",
          "poison",
          "dragon",
          "fighting",
          "fighting",
          "dark",
          "dark",
          "grass",
          "electric",
          "dragon",
          "ice",
          "ghost",
          "psychic",
          "grass",
          "normal",
          "psychic",
          "bug",
          "rock",
          "ground",
          "normal",
          "water",
          "ghost",
          "fighting",
          "poison",
          "dark",
          "poison",
          "fairy",
          "flying",
          "grass",
          "grass",
          "grass",
          "dark",
          "fire",
          "fire",
          "fire",
          "ghost",
          "water",
          "water",
          "water",
          "fighting",
          "normal",
          "normal",
          "bug",
          "bug",
          "bug",
          "bug",
          "dark",
          "electric",
          "electric",
          "fighting",
          "electric",
          "fighting",
          "normal",
          "normal",
          "fairy",
          "fairy",
          "grass",
          "normal",
          "grass",
          "normal",
          "grass",
          "normal",
          "normal",
          "flying",
          "rock",
          "rock",
          "rock",
          "fire",
          "fire",
          "psychic",
          "fire",
          "ghost",
          "electric",
          "electric",
          "electric",
          "flying",
          "electric",
          "flying",
          "dark",
          "dark",
          "poison",
          "normal",
          "poison",
          "normal",
          "grass",
          "ghost",
          "grass",
          "ghost",
          "ground",
          "grass",
          "ground",
          "grass",
          "rock",
          "grass",
          "grass",
          "fire",
          "bug",
          "bug",
          "psychic",
          "psychic",
          "psychic",
          "fairy",
          "steel",
          "fairy",
          "steel",
          "fairy",
          "steel",
          "water",
          "water",
          "flying",
          "dark",
          "water",
          "water",
          "steel",
          "poison",
          "steel",
          "poison",
          "dragon",
          "normal",
          "steel",
          "rock",
          "poison",
          "rock",
          "poison",
          "ghost",
          "ghost",
          "flying",
          "fighting",
          "ice",
          "ice",
          "water",
          "psychic",
          "water",
          "dragon",
          "water",
          "fighting",
          "ghost",
          "poison",
          "ground",
          "normal",
          "psychic",
          "normal",
          "dark",
          "steel",
          "ground",
          "fighting",
          "fairy",
          "psychic",
          "grass",
          "dark",
          "ghost",
          "fairy",
          "bug",
          "fighting",
          "electric",
          "ground",
          "ground",
          "steel",
          "ice",
          "water",
          "fighting",
          "electric",
          "dark",
          "flying",
          "fire",
          "poison",
          "rock",
          "electric",
          "dragon",
          "ice",
          "dragon",
          "ice",
          "dragon",
          "ice",
          "ghost",
          "steel",
          "ghost",
          "dark",
          "grass",
          "dark",
          "ice",
          "dark",
          "ground",
          "dark",
          "fire",
          "dragon",
          "dark",
          "fairy",
          "fighting",
          "fighting",
          "dragon",
          "electric",
          "dragon",
          "water",
          "dragon",
          "grass",
          "psychic",
          "grass",
          "dragon",
          "grass",
          "ghost",
          "grass",
          "ghost",
          "poison",
          "fighting",
          "poison",
          "psychic",
          "poison",
          "fairy",
          "grass",
          "steel",
          "dragon",
          "grass",
          "dragon",
          "fire",
          "dragon",
          "electric",
          "dragon",
          "rock",
          "psychic",
          "steel",
          "psychic",
          "normal",
          "poison",
          "ghost"
         ],
         "x0": " ",
         "xaxis": "x",
         "y": {
          "bdata": "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",
          "dtype": "f8"
         },
         "y0": " ",
         "yaxis": "y"
        }
       ],
       "layout": {
        "boxmode": "group",
        "height": 500,
        "legend": {
         "tracegroupgap": 0
        },
        "template": {
         "data": {
          "bar": [
           {
            "error_x": {
             "color": "#2a3f5f"
            },
            "error_y": {
             "color": "#2a3f5f"
            },
            "marker": {
             "line": {
              "color": "#E5ECF6",
              "width": 0.5
             },
             "pattern": {
              "fillmode": "overlay",
              "size": 10,
              "solidity": 0.2
             }
            },
            "type": "bar"
           }
          ],
          "barpolar": [
           {
            "marker": {
             "line": {
              "color": "#E5ECF6",
              "width": 0.5
             },
             "pattern": {
              "fillmode": "overlay",
              "size": 10,
              "solidity": 0.2
             }
            },
            "type": "barpolar"
           }
          ],
          "carpet": [
           {
            "aaxis": {
             "endlinecolor": "#2a3f5f",
             "gridcolor": "white",
             "linecolor": "white",
             "minorgridcolor": "white",
             "startlinecolor": "#2a3f5f"
            },
            "baxis": {
             "endlinecolor": "#2a3f5f",
             "gridcolor": "white",
             "linecolor": "white",
             "minorgridcolor": "white",
             "startlinecolor": "#2a3f5f"
            },
            "type": "carpet"
           }
          ],
          "choropleth": [
           {
            "colorbar": {
             "outlinewidth": 0,
             "ticks": ""
            },
            "type": "choropleth"
           }
          ],
          "contour": [
           {
            "colorbar": {
             "outlinewidth": 0,
             "ticks": ""
            },
            "colorscale": [
             [
              0,
              "#0d0887"
             ],
             [
              0.1111111111111111,
              "#46039f"
             ],
             [
              0.2222222222222222,
              "#7201a8"
             ],
             [
              0.3333333333333333,
              "#9c179e"
             ],
             [
              0.4444444444444444,
              "#bd3786"
             ],
             [
              0.5555555555555556,
              "#d8576b"
             ],
             [
              0.6666666666666666,
              "#ed7953"
             ],
             [
              0.7777777777777778,
              "#fb9f3a"
             ],
             [
              0.8888888888888888,
              "#fdca26"
             ],
             [
              1,
              "#f0f921"
             ]
            ],
            "type": "contour"
           }
          ],
          "contourcarpet": [
           {
            "colorbar": {
             "outlinewidth": 0,
             "ticks": ""
            },
            "type": "contourcarpet"
           }
          ],
          "heatmap": [
           {
            "colorbar": {
             "outlinewidth": 0,
             "ticks": ""
            },
            "colorscale": [
             [
              0,
              "#0d0887"
             ],
             [
              0.1111111111111111,
              "#46039f"
             ],
             [
              0.2222222222222222,
              "#7201a8"
             ],
             [
              0.3333333333333333,
              "#9c179e"
             ],
             [
              0.4444444444444444,
              "#bd3786"
             ],
             [
              0.5555555555555556,
              "#d8576b"
             ],
             [
              0.6666666666666666,
              "#ed7953"
             ],
             [
              0.7777777777777778,
              "#fb9f3a"
             ],
             [
              0.8888888888888888,
              "#fdca26"
             ],
             [
              1,
              "#f0f921"
             ]
            ],
            "type": "heatmap"
           }
          ],
          "histogram": [
           {
            "marker": {
             "pattern": {
              "fillmode": "overlay",
              "size": 10,
              "solidity": 0.2
             }
            },
            "type": "histogram"
           }
          ],
          "histogram2d": [
           {
            "colorbar": {
             "outlinewidth": 0,
             "ticks": ""
            },
            "colorscale": [
             [
              0,
              "#0d0887"
             ],
             [
              0.1111111111111111,
              "#46039f"
             ],
             [
              0.2222222222222222,
              "#7201a8"
             ],
             [
              0.3333333333333333,
              "#9c179e"
             ],
             [
              0.4444444444444444,
              "#bd3786"
             ],
             [
              0.5555555555555556,
              "#d8576b"
             ],
             [
              0.6666666666666666,
              "#ed7953"
             ],
             [
              0.7777777777777778,
              "#fb9f3a"
             ],
             [
              0.8888888888888888,
              "#fdca26"
             ],
             [
              1,
              "#f0f921"
             ]
            ],
            "type": "histogram2d"
           }
          ],
          "histogram2dcontour": [
           {
            "colorbar": {
             "outlinewidth": 0,
             "ticks": ""
            },
            "colorscale": [
             [
              0,
              "#0d0887"
             ],
             [
              0.1111111111111111,
              "#46039f"
             ],
             [
              0.2222222222222222,
              "#7201a8"
             ],
             [
              0.3333333333333333,
              "#9c179e"
             ],
             [
              0.4444444444444444,
              "#bd3786"
             ],
             [
              0.5555555555555556,
              "#d8576b"
             ],
             [
              0.6666666666666666,
              "#ed7953"
             ],
             [
              0.7777777777777778,
              "#fb9f3a"
             ],
             [
              0.8888888888888888,
              "#fdca26"
             ],
             [
              1,
              "#f0f921"
             ]
            ],
            "type": "histogram2dcontour"
           }
          ],
          "mesh3d": [
           {
            "colorbar": {
             "outlinewidth": 0,
             "ticks": ""
            },
            "type": "mesh3d"
           }
          ],
          "parcoords": [
           {
            "line": {
             "colorbar": {
              "outlinewidth": 0,
              "ticks": ""
             }
            },
            "type": "parcoords"
           }
          ],
          "pie": [
           {
            "automargin": true,
            "type": "pie"
           }
          ],
          "scatter": [
           {
            "fillpattern": {
             "fillmode": "overlay",
             "size": 10,
             "solidity": 0.2
            },
            "type": "scatter"
           }
          ],
          "scatter3d": [
           {
            "line": {
             "colorbar": {
              "outlinewidth": 0,
              "ticks": ""
             }
            },
            "marker": {
             "colorbar": {
              "outlinewidth": 0,
              "ticks": ""
             }
            },
            "type": "scatter3d"
           }
          ],
          "scattercarpet": [
           {
            "marker": {
             "colorbar": {
              "outlinewidth": 0,
              "ticks": ""
             }
            },
            "type": "scattercarpet"
           }
          ],
          "scattergeo": [
           {
            "marker": {
             "colorbar": {
              "outlinewidth": 0,
              "ticks": ""
             }
            },
            "type": "scattergeo"
           }
          ],
          "scattergl": [
           {
            "marker": {
             "colorbar": {
              "outlinewidth": 0,
              "ticks": ""
             }
            },
            "type": "scattergl"
           }
          ],
          "scattermap": [
           {
            "marker": {
             "colorbar": {
              "outlinewidth": 0,
              "ticks": ""
             }
            },
            "type": "scattermap"
           }
          ],
          "scattermapbox": [
           {
            "marker": {
             "colorbar": {
              "outlinewidth": 0,
              "ticks": ""
             }
            },
            "type": "scattermapbox"
           }
          ],
          "scatterpolar": [
           {
            "marker": {
             "colorbar": {
              "outlinewidth": 0,
              "ticks": ""
             }
            },
            "type": "scatterpolar"
           }
          ],
          "scatterpolargl": [
           {
            "marker": {
             "colorbar": {
              "outlinewidth": 0,
              "ticks": ""
             }
            },
            "type": "scatterpolargl"
           }
          ],
          "scatterternary": [
           {
            "marker": {
             "colorbar": {
              "outlinewidth": 0,
              "ticks": ""
             }
            },
            "type": "scatterternary"
           }
          ],
          "surface": [
           {
            "colorbar": {
             "outlinewidth": 0,
             "ticks": ""
            },
            "colorscale": [
             [
              0,
              "#0d0887"
             ],
             [
              0.1111111111111111,
              "#46039f"
             ],
             [
              0.2222222222222222,
              "#7201a8"
             ],
             [
              0.3333333333333333,
              "#9c179e"
             ],
             [
              0.4444444444444444,
              "#bd3786"
             ],
             [
              0.5555555555555556,
              "#d8576b"
             ],
             [
              0.6666666666666666,
              "#ed7953"
             ],
             [
              0.7777777777777778,
              "#fb9f3a"
             ],
             [
              0.8888888888888888,
              "#fdca26"
             ],
             [
              1,
              "#f0f921"
             ]
            ],
            "type": "surface"
           }
          ],
          "table": [
           {
            "cells": {
             "fill": {
              "color": "#EBF0F8"
             },
             "line": {
              "color": "white"
             }
            },
            "header": {
             "fill": {
              "color": "#C8D4E3"
             },
             "line": {
              "color": "white"
             }
            },
            "type": "table"
           }
          ]
         },
         "layout": {
          "annotationdefaults": {
           "arrowcolor": "#2a3f5f",
           "arrowhead": 0,
           "arrowwidth": 1
          },
          "autotypenumbers": "strict",
          "coloraxis": {
           "colorbar": {
            "outlinewidth": 0,
            "ticks": ""
           }
          },
          "colorscale": {
           "diverging": [
            [
             0,
             "#8e0152"
            ],
            [
             0.1,
             "#c51b7d"
            ],
            [
             0.2,
             "#de77ae"
            ],
            [
             0.3,
             "#f1b6da"
            ],
            [
             0.4,
             "#fde0ef"
            ],
            [
             0.5,
             "#f7f7f7"
            ],
            [
             0.6,
             "#e6f5d0"
            ],
            [
             0.7,
             "#b8e186"
            ],
            [
             0.8,
             "#7fbc41"
            ],
            [
             0.9,
             "#4d9221"
            ],
            [
             1,
             "#276419"
            ]
           ],
           "sequential": [
            [
             0,
             "#0d0887"
            ],
            [
             0.1111111111111111,
             "#46039f"
            ],
            [
             0.2222222222222222,
             "#7201a8"
            ],
            [
             0.3333333333333333,
             "#9c179e"
            ],
            [
             0.4444444444444444,
             "#bd3786"
            ],
            [
             0.5555555555555556,
             "#d8576b"
            ],
            [
             0.6666666666666666,
             "#ed7953"
            ],
            [
             0.7777777777777778,
             "#fb9f3a"
            ],
            [
             0.8888888888888888,
             "#fdca26"
            ],
            [
             1,
             "#f0f921"
            ]
           ],
           "sequentialminus": [
            [
             0,
             "#0d0887"
            ],
            [
             0.1111111111111111,
             "#46039f"
            ],
            [
             0.2222222222222222,
             "#7201a8"
            ],
            [
             0.3333333333333333,
             "#9c179e"
            ],
            [
             0.4444444444444444,
             "#bd3786"
            ],
            [
             0.5555555555555556,
             "#d8576b"
            ],
            [
             0.6666666666666666,
             "#ed7953"
            ],
            [
             0.7777777777777778,
             "#fb9f3a"
            ],
            [
             0.8888888888888888,
             "#fdca26"
            ],
            [
             1,
             "#f0f921"
            ]
           ]
          },
          "colorway": [
           "#636efa",
           "#EF553B",
           "#00cc96",
           "#ab63fa",
           "#FFA15A",
           "#19d3f3",
           "#FF6692",
           "#B6E880",
           "#FF97FF",
           "#FECB52"
          ],
          "font": {
           "color": "#2a3f5f"
          },
          "geo": {
           "bgcolor": "white",
           "lakecolor": "white",
           "landcolor": "#E5ECF6",
           "showlakes": true,
           "showland": true,
           "subunitcolor": "white"
          },
          "hoverlabel": {
           "align": "left"
          },
          "hovermode": "closest",
          "mapbox": {
           "style": "light"
          },
          "paper_bgcolor": "white",
          "plot_bgcolor": "#E5ECF6",
          "polar": {
           "angularaxis": {
            "gridcolor": "white",
            "linecolor": "white",
            "ticks": ""
           },
           "bgcolor": "#E5ECF6",
           "radialaxis": {
            "gridcolor": "white",
            "linecolor": "white",
            "ticks": ""
           }
          },
          "scene": {
           "xaxis": {
            "backgroundcolor": "#E5ECF6",
            "gridcolor": "white",
            "gridwidth": 2,
            "linecolor": "white",
            "showbackground": true,
            "ticks": "",
            "zerolinecolor": "white"
           },
           "yaxis": {
            "backgroundcolor": "#E5ECF6",
            "gridcolor": "white",
            "gridwidth": 2,
            "linecolor": "white",
            "showbackground": true,
            "ticks": "",
            "zerolinecolor": "white"
           },
           "zaxis": {
            "backgroundcolor": "#E5ECF6",
            "gridcolor": "white",
            "gridwidth": 2,
            "linecolor": "white",
            "showbackground": true,
            "ticks": "",
            "zerolinecolor": "white"
           }
          },
          "shapedefaults": {
           "line": {
            "color": "#2a3f5f"
           }
          },
          "ternary": {
           "aaxis": {
            "gridcolor": "white",
            "linecolor": "white",
            "ticks": ""
           },
           "baxis": {
            "gridcolor": "white",
            "linecolor": "white",
            "ticks": ""
           },
           "bgcolor": "#E5ECF6",
           "caxis": {
            "gridcolor": "white",
            "linecolor": "white",
            "ticks": ""
           }
          },
          "title": {
           "x": 0.05
          },
          "xaxis": {
           "automargin": true,
           "gridcolor": "white",
           "linecolor": "white",
           "ticks": "",
           "title": {
            "standoff": 15
           },
           "zerolinecolor": "white",
           "zerolinewidth": 2
          },
          "yaxis": {
           "automargin": true,
           "gridcolor": "white",
           "linecolor": "white",
           "ticks": "",
           "title": {
            "standoff": 15
           },
           "zerolinecolor": "white",
           "zerolinewidth": 2
          }
         }
        },
        "title": {
         "text": "Distribuição de Sp_atk por Tipo de Pokémon"
        },
        "width": 1000,
        "xaxis": {
         "anchor": "y",
         "categoryarray": [
          "psychic",
          "dragon",
          "fire",
          "electric",
          "ghost",
          "fairy",
          "ice",
          "dark",
          "grass",
          "flying",
          "steel",
          "poison",
          "water",
          "fighting",
          "normal",
          "rock",
          "ground",
          "bug"
         ],
         "categoryorder": "array",
         "domain": [
          0,
          1
         ],
         "title": {
          "text": "Tipo"
         }
        },
        "yaxis": {
         "anchor": "x",
         "domain": [
          0,
          1
         ],
         "title": {
          "text": "Sp_atk"
         }
        }
       }
      }
     },
     "metadata": {},
     "output_type": "display_data"
    },
    {
     "data": {
      "application/vnd.plotly.v1+json": {
       "config": {
        "plotlyServerURL": "https://plot.ly"
       },
       "data": [
        {
         "alignmentgroup": "True",
         "boxpoints": "all",
         "hovertemplate": "Tipo=%{x}<br>Sp_def=%{y}<extra></extra>",
         "legendgroup": "",
         "marker": {
          "color": "#636efa"
         },
         "name": "",
         "notched": false,
         "offsetgroup": "",
         "orientation": "v",
         "showlegend": false,
         "type": "box",
         "x": [
          "grass",
          "poison",
          "grass",
          "poison",
          "grass",
          "poison",
          "fire",
          "fire",
          "fire",
          "flying",
          "water",
          "water",
          "water",
          "bug",
          "bug",
          "bug",
          "flying",
          "bug",
          "poison",
          "bug",
          "poison",
          "bug",
          "poison",
          "normal",
          "flying",
          "normal",
          "flying",
          "normal",
          "flying",
          "normal",
          "normal",
          "normal",
          "flying",
          "normal",
          "flying",
          "poison",
          "poison",
          "electric",
          "electric",
          "ground",
          "ground",
          "poison",
          "poison",
          "poison",
          "ground",
          "poison",
          "poison",
          "poison",
          "ground",
          "fairy",
          "fairy",
          "fire",
          "fire",
          "normal",
          "fairy",
          "normal",
          "fairy",
          "poison",
          "flying",
          "poison",
          "flying",
          "grass",
          "poison",
          "grass",
          "poison",
          "grass",
          "poison",
          "bug",
          "grass",
          "bug",
          "grass",
          "bug",
          "poison",
          "bug",
          "poison",
          "ground",
          "ground",
          "normal",
          "normal",
          "water",
          "water",
          "fighting",
          "fighting",
          "fire",
          "fire",
          "water",
          "water",
          "water",
          "fighting",
          "psychic",
          "psychic",
          "psychic",
          "fighting",
          "fighting",
          "fighting",
          "grass",
          "poison",
          "grass",
          "poison",
          "grass",
          "poison",
          "water",
          "poison",
          "water",
          "poison",
          "rock",
          "ground",
          "rock",
          "ground",
          "rock",
          "ground",
          "fire",
          "fire",
          "water",
          "psychic",
          "water",
          "psychic",
          "electric",
          "steel",
          "electric",
          "steel",
          "normal",
          "flying",
          "normal",
          "flying",
          "normal",
          "flying",
          "water",
          "water",
          "ice",
          "poison",
          "poison",
          "water",
          "water",
          "ice",
          "ghost",
          "poison",
          "ghost",
          "poison",
          "ghost",
          "poison",
          "rock",
          "ground",
          "psychic",
          "psychic",
          "water",
          "water",
          "electric",
          "electric",
          "grass",
          "psychic",
          "grass",
          "psychic",
          "ground",
          "ground",
          "fighting",
          "fighting",
          "normal",
          "poison",
          "poison",
          "ground",
          "rock",
          "ground",
          "rock",
          "normal",
          "grass",
          "normal",
          "water",
          "water",
          "water",
          "water",
          "water",
          "water",
          "psychic",
          "psychic",
          "fairy",
          "bug",
          "flying",
          "ice",
          "psychic",
          "electric",
          "fire",
          "bug",
          "normal",
          "water",
          "water",
          "flying",
          "water",
          "ice",
          "normal",
          "normal",
          "water",
          "electric",
          "fire",
          "normal",
          "rock",
          "water",
          "rock",
          "water",
          "rock",
          "water",
          "rock",
          "water",
          "rock",
          "flying",
          "normal",
          "ice",
          "flying",
          "electric",
          "flying",
          "fire",
          "flying",
          "dragon",
          "dragon",
          "dragon",
          "flying",
          "psychic",
          "psychic",
          "grass",
          "grass",
          "grass",
          "fire",
          "fire",
          "fire",
          "water",
          "water",
          "water",
          "normal",
          "normal",
          "normal",
          "flying",
          "normal",
          "flying",
          "bug",
          "flying",
          "bug",
          "flying",
          "bug",
          "poison",
          "bug",
          "poison",
          "poison",
          "flying",
          "water",
          "electric",
          "water",
          "electric",
          "electric",
          "fairy",
          "normal",
          "fairy",
          "fairy",
          "fairy",
          "flying",
          "psychic",
          "flying",
          "psychic",
          "flying",
          "electric",
          "electric",
          "electric",
          "grass",
          "water",
          "fairy",
          "water",
          "fairy",
          "rock",
          "water",
          "grass",
          "flying",
          "grass",
          "flying",
          "grass",
          "flying",
          "normal",
          "grass",
          "grass",
          "bug",
          "flying",
          "water",
          "ground",
          "water",
          "ground",
          "psychic",
          "dark",
          "dark",
          "flying",
          "water",
          "psychic",
          "ghost",
          "psychic",
          "psychic",
          "normal",
          "psychic",
          "bug",
          "bug",
          "steel",
          "normal",
          "ground",
          "flying",
          "steel",
          "ground",
          "fairy",
          "fairy",
          "water",
          "poison",
          "bug",
          "steel",
          "bug",
          "rock",
          "bug",
          "fighting",
          "dark",
          "ice",
          "normal",
          "normal",
          "fire",
          "fire",
          "rock",
          "ice",
          "ground",
          "ice",
          "ground",
          "water",
          "rock",
          "water",
          "water",
          "ice",
          "flying",
          "water",
          "flying",
          "steel",
          "flying",
          "dark",
          "fire",
          "dark",
          "fire",
          "water",
          "dragon",
          "ground",
          "ground",
          "normal",
          "normal",
          "normal",
          "fighting",
          "fighting",
          "ice",
          "psychic",
          "electric",
          "fire",
          "normal",
          "normal",
          "electric",
          "fire",
          "water",
          "rock",
          "ground",
          "rock",
          "ground",
          "rock",
          "dark",
          "psychic",
          "flying",
          "fire",
          "flying",
          "psychic",
          "grass",
          "grass",
          "grass",
          "grass",
          "fire",
          "fire",
          "fighting",
          "fire",
          "fighting",
          "water",
          "water",
          "ground",
          "water",
          "ground",
          "dark",
          "dark",
          "normal",
          "normal",
          "bug",
          "bug",
          "bug",
          "flying",
          "bug",
          "bug",
          "poison",
          "water",
          "grass",
          "water",
          "grass",
          "water",
          "grass",
          "grass",
          "grass",
          "dark",
          "grass",
          "dark",
          "normal",
          "flying",
          "normal",
          "flying",
          "water",
          "flying",
          "water",
          "flying",
          "psychic",
          "fairy",
          "psychic",
          "fairy",
          "psychic",
          "fairy",
          "bug",
          "water",
          "bug",
          "flying",
          "grass",
          "grass",
          "fighting",
          "normal",
          "normal",
          "normal",
          "bug",
          "ground",
          "bug",
          "flying",
          "bug",
          "ghost",
          "normal",
          "normal",
          "normal",
          "fighting",
          "fighting",
          "normal",
          "fairy",
          "rock",
          "normal",
          "normal",
          "dark",
          "ghost",
          "steel",
          "fairy",
          "steel",
          "rock",
          "steel",
          "rock",
          "steel",
          "rock",
          "fighting",
          "psychic",
          "fighting",
          "psychic",
          "electric",
          "electric",
          "electric",
          "electric",
          "bug",
          "bug",
          "grass",
          "poison",
          "poison",
          "poison",
          "water",
          "dark",
          "water",
          "dark",
          "water",
          "water",
          "fire",
          "ground",
          "fire",
          "ground",
          "fire",
          "psychic",
          "psychic",
          "normal",
          "ground",
          "ground",
          "dragon",
          "ground",
          "dragon",
          "grass",
          "grass",
          "dark",
          "normal",
          "flying",
          "dragon",
          "flying",
          "normal",
          "poison",
          "rock",
          "psychic",
          "rock",
          "psychic",
          "water",
          "ground",
          "water",
          "ground",
          "water",
          "water",
          "dark",
          "ground",
          "psychic",
          "ground",
          "psychic",
          "rock",
          "grass",
          "rock",
          "grass",
          "rock",
          "bug",
          "rock",
          "bug",
          "water",
          "water",
          "normal",
          "normal",
          "ghost",
          "ghost",
          "ghost",
          "ghost",
          "grass",
          "flying",
          "psychic",
          "dark",
          "psychic",
          "ice",
          "ice",
          "ice",
          "water",
          "ice",
          "water",
          "ice",
          "water",
          "water",
          "water",
          "water",
          "water",
          "rock",
          "water",
          "dragon",
          "dragon",
          "dragon",
          "flying",
          "steel",
          "psychic",
          "steel",
          "psychic",
          "steel",
          "psychic",
          "rock",
          "ice",
          "steel",
          "dragon",
          "psychic",
          "dragon",
          "psychic",
          "water",
          "ground",
          "dragon",
          "flying",
          "steel",
          "psychic",
          "psychic",
          "grass",
          "grass",
          "grass",
          "ground",
          "fire",
          "fire",
          "fighting",
          "fire",
          "fighting",
          "water",
          "water",
          "water",
          "steel",
          "normal",
          "flying",
          "normal",
          "flying",
          "normal",
          "flying",
          "normal",
          "normal",
          "water",
          "bug",
          "bug",
          "electric",
          "electric",
          "electric",
          "grass",
          "poison",
          "grass",
          "poison",
          "rock",
          "rock",
          "rock",
          "steel",
          "rock",
          "steel",
          "bug",
          "bug",
          "grass",
          "bug",
          "flying",
          "bug",
          "flying",
          "bug",
          "flying",
          "electric",
          "water",
          "water",
          "grass",
          "grass",
          "water",
          "water",
          "ground",
          "normal",
          "ghost",
          "flying",
          "ghost",
          "flying",
          "normal",
          "normal",
          "ghost",
          "dark",
          "flying",
          "normal",
          "normal",
          "psychic",
          "poison",
          "dark",
          "poison",
          "dark",
          "steel",
          "psychic",
          "steel",
          "psychic",
          "rock",
          "psychic",
          "fairy",
          "normal",
          "normal",
          "flying",
          "ghost",
          "dark",
          "dragon",
          "ground",
          "dragon",
          "ground",
          "dragon",
          "ground",
          "normal",
          "fighting",
          "fighting",
          "steel",
          "ground",
          "ground",
          "poison",
          "bug",
          "poison",
          "dark",
          "poison",
          "fighting",
          "poison",
          "fighting",
          "grass",
          "water",
          "water",
          "water",
          "flying",
          "grass",
          "ice",
          "grass",
          "ice",
          "dark",
          "ice",
          "electric",
          "steel",
          "normal",
          "ground",
          "rock",
          "grass",
          "electric",
          "fire",
          "fairy",
          "flying",
          "bug",
          "flying",
          "grass",
          "ice",
          "ground",
          "flying",
          "ice",
          "ground",
          "normal",
          "psychic",
          "fighting",
          "rock",
          "steel",
          "ghost",
          "ice",
          "ghost",
          "electric",
          "ghost",
          "psychic",
          "psychic",
          "psychic",
          "steel",
          "dragon",
          "water",
          "dragon",
          "fire",
          "steel",
          "normal",
          "ghost",
          "dragon",
          "psychic",
          "water",
          "water",
          "dark",
          "grass",
          "normal",
          "psychic",
          "fire",
          "grass",
          "grass",
          "grass",
          "fire",
          "fire",
          "fighting",
          "fire",
          "fighting",
          "water",
          "water",
          "water",
          "normal",
          "normal",
          "normal",
          "normal",
          "normal",
          "dark",
          "dark",
          "grass",
          "grass",
          "fire",
          "fire",
          "water",
          "water",
          "psychic",
          "psychic",
          "normal",
          "flying",
          "normal",
          "flying",
          "normal",
          "flying",
          "electric",
          "electric",
          "rock",
          "rock",
          "rock",
          "psychic",
          "flying",
          "psychic",
          "flying",
          "ground",
          "ground",
          "steel",
          "normal",
          "fighting",
          "fighting",
          "fighting",
          "water",
          "water",
          "ground",
          "water",
          "ground",
          "fighting",
          "fighting",
          "bug",
          "grass",
          "bug",
          "grass",
          "bug",
          "grass",
          "bug",
          "poison",
          "bug",
          "poison",
          "bug",
          "poison",
          "grass",
          "fairy",
          "grass",
          "fairy",
          "grass",
          "grass",
          "water",
          "ground",
          "dark",
          "ground",
          "dark",
          "ground",
          "dark",
          "fire",
          "fire",
          "grass",
          "bug",
          "rock",
          "bug",
          "rock",
          "dark",
          "fighting",
          "dark",
          "fighting",
          "psychic",
          "flying",
          "ghost",
          "ghost",
          "water",
          "rock",
          "water",
          "rock",
          "rock",
          "flying",
          "rock",
          "flying",
          "poison",
          "poison",
          "dark",
          "dark",
          "normal",
          "normal",
          "psychic",
          "psychic",
          "psychic",
          "psychic",
          "psychic",
          "psychic",
          "water",
          "flying",
          "water",
          "flying",
          "ice",
          "ice",
          "ice",
          "normal",
          "grass",
          "normal",
          "grass",
          "electric",
          "flying",
          "bug",
          "bug",
          "steel",
          "grass",
          "poison",
          "grass",
          "poison",
          "water",
          "ghost",
          "water",
          "ghost",
          "water",
          "bug",
          "electric",
          "bug",
          "electric",
          "grass",
          "steel",
          "grass",
          "steel",
          "steel",
          "steel",
          "steel",
          "electric",
          "electric",
          "electric",
          "psychic",
          "psychic",
          "ghost",
          "fire",
          "ghost",
          "fire",
          "ghost",
          "fire",
          "dragon",
          "dragon",
          "dragon",
          "ice",
          "ice",
          "ice",
          "bug",
          "bug",
          "ground",
          "electric",
          "fighting",
          "fighting",
          "dragon",
          "ground",
          "ghost",
          "ground",
          "ghost",
          "dark",
          "steel",
          "dark",
          "steel",
          "normal",
          "normal",
          "flying",
          "normal",
          "flying",
          "dark",
          "flying",
          "dark",
          "flying",
          "fire",
          "bug",
          "steel",
          "dark",
          "dragon",
          "dark",
          "dragon",
          "dark",
          "dragon",
          "bug",
          "fire",
          "bug",
          "fire",
          "steel",
          "fighting",
          "rock",
          "fighting",
          "grass",
          "fighting",
          "flying",
          "electric",
          "flying",
          "dragon",
          "fire",
          "dragon",
          "electric",
          "ground",
          "flying",
          "dragon",
          "ice",
          "water",
          "fighting",
          "normal",
          "psychic",
          "bug",
          "steel",
          "grass",
          "grass",
          "grass",
          "fighting",
          "fire",
          "fire",
          "fire",
          "psychic",
          "water",
          "water",
          "water",
          "dark",
          "normal",
          "normal",
          "ground",
          "normal",
          "flying",
          "fire",
          "flying",
          "fire",
          "flying",
          "bug",
          "bug",
          "bug",
          "flying",
          "fire",
          "normal",
          "fire",
          "normal",
          "fairy",
          "fairy",
          "fairy",
          "grass",
          "grass",
          "fighting",
          "fighting",
          "dark",
          "normal",
          "psychic",
          "psychic",
          "steel",
          "ghost",
          "steel",
          "ghost",
          "steel",
          "ghost",
          "fairy",
          "fairy",
          "fairy",
          "fairy",
          "dark",
          "psychic",
          "dark",
          "psychic",
          "rock",
          "water",
          "rock",
          "water",
          "poison",
          "water",
          "poison",
          "dragon",
          "water",
          "water",
          "electric",
          "normal",
          "electric",
          "normal",
          "rock",
          "dragon",
          "rock",
          "dragon",
          "rock",
          "ice",
          "rock",
          "ice",
          "fairy",
          "fighting",
          "flying",
          "electric",
          "fairy",
          "rock",
          "fairy",
          "dragon",
          "dragon",
          "dragon",
          "steel",
          "fairy",
          "ghost",
          "grass",
          "ghost",
          "grass",
          "ghost",
          "grass",
          "ghost",
          "grass",
          "ice",
          "ice",
          "flying",
          "dragon",
          "flying",
          "dragon",
          "fairy",
          "dark",
          "flying",
          "dragon",
          "ground",
          "rock",
          "fairy",
          "psychic",
          "ghost",
          "fire",
          "water",
          "grass",
          "flying",
          "grass",
          "flying",
          "grass",
          "ghost",
          "fire",
          "fire",
          "fire",
          "dark",
          "water",
          "water",
          "water",
          "fairy",
          "normal",
          "flying",
          "normal",
          "flying",
          "normal",
          "flying",
          "normal",
          "normal",
          "bug",
          "bug",
          "electric",
          "bug",
          "electric",
          "fighting",
          "fighting",
          "ice",
          "fire",
          "flying",
          "bug",
          "fairy",
          "bug",
          "fairy",
          "rock",
          "rock",
          "water",
          "poison",
          "water",
          "poison",
          "water",
          "ground",
          "ground",
          "water",
          "bug",
          "water",
          "bug",
          "grass",
          "grass",
          "grass",
          "fairy",
          "grass",
          "fairy",
          "poison",
          "fire",
          "poison",
          "fire",
          "normal",
          "fighting",
          "normal",
          "fighting",
          "grass",
          "grass",
          "grass",
          "fairy",
          "normal",
          "psychic",
          "fighting",
          "bug",
          "water",
          "bug",
          "water",
          "ghost",
          "ground",
          "ghost",
          "ground",
          "water",
          "normal",
          "normal",
          "rock",
          "flying",
          "normal",
          "fire",
          "dragon",
          "electric",
          "steel",
          "ghost",
          "fairy",
          "water",
          "psychic",
          "normal",
          "dragon",
          "ghost",
          "grass",
          "dragon",
          "dragon",
          "fighting",
          "dragon",
          "fighting",
          "electric",
          "fairy",
          "psychic",
          "fairy",
          "grass",
          "fairy",
          "water",
          "fairy",
          "psychic",
          "psychic",
          "psychic",
          "steel",
          "psychic",
          "ghost",
          "rock",
          "poison",
          "bug",
          "fighting",
          "bug",
          "fighting",
          "electric",
          "steel",
          "flying",
          "grass",
          "steel",
          "dark",
          "dragon",
          "psychic",
          "steel",
          "fairy",
          "fighting",
          "ghost",
          "poison",
          "poison",
          "dragon",
          "rock",
          "steel",
          "fire",
          "ghost",
          "electric",
          "steel",
          "steel",
          "grass",
          "grass",
          "grass",
          "fire",
          "fire",
          "fire",
          "water",
          "water",
          "water",
          "normal",
          "normal",
          "flying",
          "flying",
          "flying",
          "steel",
          "bug",
          "bug",
          "psychic",
          "bug",
          "psychic",
          "dark",
          "dark",
          "grass",
          "grass",
          "normal",
          "normal",
          "water",
          "water",
          "rock",
          "electric",
          "electric",
          "rock",
          "rock",
          "fire",
          "rock",
          "fire",
          "grass",
          "dragon",
          "grass",
          "dragon",
          "grass",
          "dragon",
          "ground",
          "ground",
          "flying",
          "water",
          "water",
          "water",
          "electric",
          "poison",
          "electric",
          "poison",
          "fire",
          "bug",
          "fire",
          "bug",
          "fighting",
          "fighting",
          "ghost",
          "ghost",
          "psychic",
          "psychic",
          "psychic",
          "fairy",
          "dark",
          "fairy",
          "dark",
          "fairy",
          "dark",
          "fairy",
          "dark",
          "normal",
          "steel",
          "ghost",
          "fighting",
          "ice",
          "psychic",
          "ground",
          "ghost",
          "fairy",
          "fairy",
          "fighting",
          "electric",
          "ice",
          "bug",
          "ice",
          "bug",
          "rock",
          "ice",
          "psychic",
          "normal",
          "electric",
          "dark",
          "steel",
          "steel",
          "electric",
          "dragon",
          "electric",
          "ice",
          "water",
          "dragon",
          "water",
          "ice",
          "steel",
          "dragon",
          "dragon",
          "ghost",
          "dragon",
          "ghost",
          "dragon",
          "ghost",
          "fairy",
          "fighting",
          "poison",
          "dragon",
          "fighting",
          "fighting",
          "dark",
          "dark",
          "grass",
          "electric",
          "dragon",
          "ice",
          "ghost",
          "psychic",
          "grass",
          "normal",
          "psychic",
          "bug",
          "rock",
          "ground",
          "normal",
          "water",
          "ghost",
          "fighting",
          "poison",
          "dark",
          "poison",
          "fairy",
          "flying",
          "grass",
          "grass",
          "grass",
          "dark",
          "fire",
          "fire",
          "fire",
          "ghost",
          "water",
          "water",
          "water",
          "fighting",
          "normal",
          "normal",
          "bug",
          "bug",
          "bug",
          "bug",
          "dark",
          "electric",
          "electric",
          "fighting",
          "electric",
          "fighting",
          "normal",
          "normal",
          "fairy",
          "fairy",
          "grass",
          "normal",
          "grass",
          "normal",
          "grass",
          "normal",
          "normal",
          "flying",
          "rock",
          "rock",
          "rock",
          "fire",
          "fire",
          "psychic",
          "fire",
          "ghost",
          "electric",
          "electric",
          "electric",
          "flying",
          "electric",
          "flying",
          "dark",
          "dark",
          "poison",
          "normal",
          "poison",
          "normal",
          "grass",
          "ghost",
          "grass",
          "ghost",
          "ground",
          "grass",
          "ground",
          "grass",
          "rock",
          "grass",
          "grass",
          "fire",
          "bug",
          "bug",
          "psychic",
          "psychic",
          "psychic",
          "fairy",
          "steel",
          "fairy",
          "steel",
          "fairy",
          "steel",
          "water",
          "water",
          "flying",
          "dark",
          "water",
          "water",
          "steel",
          "poison",
          "steel",
          "poison",
          "dragon",
          "normal",
          "steel",
          "rock",
          "poison",
          "rock",
          "poison",
          "ghost",
          "ghost",
          "flying",
          "fighting",
          "ice",
          "ice",
          "water",
          "psychic",
          "water",
          "dragon",
          "water",
          "fighting",
          "ghost",
          "poison",
          "ground",
          "normal",
          "psychic",
          "normal",
          "dark",
          "steel",
          "ground",
          "fighting",
          "fairy",
          "psychic",
          "grass",
          "dark",
          "ghost",
          "fairy",
          "bug",
          "fighting",
          "electric",
          "ground",
          "ground",
          "steel",
          "ice",
          "water",
          "fighting",
          "electric",
          "dark",
          "flying",
          "fire",
          "poison",
          "rock",
          "electric",
          "dragon",
          "ice",
          "dragon",
          "ice",
          "dragon",
          "ice",
          "ghost",
          "steel",
          "ghost",
          "dark",
          "grass",
          "dark",
          "ice",
          "dark",
          "ground",
          "dark",
          "fire",
          "dragon",
          "dark",
          "fairy",
          "fighting",
          "fighting",
          "dragon",
          "electric",
          "dragon",
          "water",
          "dragon",
          "grass",
          "psychic",
          "grass",
          "dragon",
          "grass",
          "ghost",
          "grass",
          "ghost",
          "poison",
          "fighting",
          "poison",
          "psychic",
          "poison",
          "fairy",
          "grass",
          "steel",
          "dragon",
          "grass",
          "dragon",
          "fire",
          "dragon",
          "electric",
          "dragon",
          "rock",
          "psychic",
          "steel",
          "psychic",
          "normal",
          "poison",
          "ghost"
         ],
         "x0": " ",
         "xaxis": "x",
         "y": {
          "bdata": "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",
          "dtype": "f8"
         },
         "y0": " ",
         "yaxis": "y"
        }
       ],
       "layout": {
        "boxmode": "group",
        "height": 500,
        "legend": {
         "tracegroupgap": 0
        },
        "template": {
         "data": {
          "bar": [
           {
            "error_x": {
             "color": "#2a3f5f"
            },
            "error_y": {
             "color": "#2a3f5f"
            },
            "marker": {
             "line": {
              "color": "#E5ECF6",
              "width": 0.5
             },
             "pattern": {
              "fillmode": "overlay",
              "size": 10,
              "solidity": 0.2
             }
            },
            "type": "bar"
           }
          ],
          "barpolar": [
           {
            "marker": {
             "line": {
              "color": "#E5ECF6",
              "width": 0.5
             },
             "pattern": {
              "fillmode": "overlay",
              "size": 10,
              "solidity": 0.2
             }
            },
            "type": "barpolar"
           }
          ],
          "carpet": [
           {
            "aaxis": {
             "endlinecolor": "#2a3f5f",
             "gridcolor": "white",
             "linecolor": "white",
             "minorgridcolor": "white",
             "startlinecolor": "#2a3f5f"
            },
            "baxis": {
             "endlinecolor": "#2a3f5f",
             "gridcolor": "white",
             "linecolor": "white",
             "minorgridcolor": "white",
             "startlinecolor": "#2a3f5f"
            },
            "type": "carpet"
           }
          ],
          "choropleth": [
           {
            "colorbar": {
             "outlinewidth": 0,
             "ticks": ""
            },
            "type": "choropleth"
           }
          ],
          "contour": [
           {
            "colorbar": {
             "outlinewidth": 0,
             "ticks": ""
            },
            "colorscale": [
             [
              0,
              "#0d0887"
             ],
             [
              0.1111111111111111,
              "#46039f"
             ],
             [
              0.2222222222222222,
              "#7201a8"
             ],
             [
              0.3333333333333333,
              "#9c179e"
             ],
             [
              0.4444444444444444,
              "#bd3786"
             ],
             [
              0.5555555555555556,
              "#d8576b"
             ],
             [
              0.6666666666666666,
              "#ed7953"
             ],
             [
              0.7777777777777778,
              "#fb9f3a"
             ],
             [
              0.8888888888888888,
              "#fdca26"
             ],
             [
              1,
              "#f0f921"
             ]
            ],
            "type": "contour"
           }
          ],
          "contourcarpet": [
           {
            "colorbar": {
             "outlinewidth": 0,
             "ticks": ""
            },
            "type": "contourcarpet"
           }
          ],
          "heatmap": [
           {
            "colorbar": {
             "outlinewidth": 0,
             "ticks": ""
            },
            "colorscale": [
             [
              0,
              "#0d0887"
             ],
             [
              0.1111111111111111,
              "#46039f"
             ],
             [
              0.2222222222222222,
              "#7201a8"
             ],
             [
              0.3333333333333333,
              "#9c179e"
             ],
             [
              0.4444444444444444,
              "#bd3786"
             ],
             [
              0.5555555555555556,
              "#d8576b"
             ],
             [
              0.6666666666666666,
              "#ed7953"
             ],
             [
              0.7777777777777778,
              "#fb9f3a"
             ],
             [
              0.8888888888888888,
              "#fdca26"
             ],
             [
              1,
              "#f0f921"
             ]
            ],
            "type": "heatmap"
           }
          ],
          "histogram": [
           {
            "marker": {
             "pattern": {
              "fillmode": "overlay",
              "size": 10,
              "solidity": 0.2
             }
            },
            "type": "histogram"
           }
          ],
          "histogram2d": [
           {
            "colorbar": {
             "outlinewidth": 0,
             "ticks": ""
            },
            "colorscale": [
             [
              0,
              "#0d0887"
             ],
             [
              0.1111111111111111,
              "#46039f"
             ],
             [
              0.2222222222222222,
              "#7201a8"
             ],
             [
              0.3333333333333333,
              "#9c179e"
             ],
             [
              0.4444444444444444,
              "#bd3786"
             ],
             [
              0.5555555555555556,
              "#d8576b"
             ],
             [
              0.6666666666666666,
              "#ed7953"
             ],
             [
              0.7777777777777778,
              "#fb9f3a"
             ],
             [
              0.8888888888888888,
              "#fdca26"
             ],
             [
              1,
              "#f0f921"
             ]
            ],
            "type": "histogram2d"
           }
          ],
          "histogram2dcontour": [
           {
            "colorbar": {
             "outlinewidth": 0,
             "ticks": ""
            },
            "colorscale": [
             [
              0,
              "#0d0887"
             ],
             [
              0.1111111111111111,
              "#46039f"
             ],
             [
              0.2222222222222222,
              "#7201a8"
             ],
             [
              0.3333333333333333,
              "#9c179e"
             ],
             [
              0.4444444444444444,
              "#bd3786"
             ],
             [
              0.5555555555555556,
              "#d8576b"
             ],
             [
              0.6666666666666666,
              "#ed7953"
             ],
             [
              0.7777777777777778,
              "#fb9f3a"
             ],
             [
              0.8888888888888888,
              "#fdca26"
             ],
             [
              1,
              "#f0f921"
             ]
            ],
            "type": "histogram2dcontour"
           }
          ],
          "mesh3d": [
           {
            "colorbar": {
             "outlinewidth": 0,
             "ticks": ""
            },
            "type": "mesh3d"
           }
          ],
          "parcoords": [
           {
            "line": {
             "colorbar": {
              "outlinewidth": 0,
              "ticks": ""
             }
            },
            "type": "parcoords"
           }
          ],
          "pie": [
           {
            "automargin": true,
            "type": "pie"
           }
          ],
          "scatter": [
           {
            "fillpattern": {
             "fillmode": "overlay",
             "size": 10,
             "solidity": 0.2
            },
            "type": "scatter"
           }
          ],
          "scatter3d": [
           {
            "line": {
             "colorbar": {
              "outlinewidth": 0,
              "ticks": ""
             }
            },
            "marker": {
             "colorbar": {
              "outlinewidth": 0,
              "ticks": ""
             }
            },
            "type": "scatter3d"
           }
          ],
          "scattercarpet": [
           {
            "marker": {
             "colorbar": {
              "outlinewidth": 0,
              "ticks": ""
             }
            },
            "type": "scattercarpet"
           }
          ],
          "scattergeo": [
           {
            "marker": {
             "colorbar": {
              "outlinewidth": 0,
              "ticks": ""
             }
            },
            "type": "scattergeo"
           }
          ],
          "scattergl": [
           {
            "marker": {
             "colorbar": {
              "outlinewidth": 0,
              "ticks": ""
             }
            },
            "type": "scattergl"
           }
          ],
          "scattermap": [
           {
            "marker": {
             "colorbar": {
              "outlinewidth": 0,
              "ticks": ""
             }
            },
            "type": "scattermap"
           }
          ],
          "scattermapbox": [
           {
            "marker": {
             "colorbar": {
              "outlinewidth": 0,
              "ticks": ""
             }
            },
            "type": "scattermapbox"
           }
          ],
          "scatterpolar": [
           {
            "marker": {
             "colorbar": {
              "outlinewidth": 0,
              "ticks": ""
             }
            },
            "type": "scatterpolar"
           }
          ],
          "scatterpolargl": [
           {
            "marker": {
             "colorbar": {
              "outlinewidth": 0,
              "ticks": ""
             }
            },
            "type": "scatterpolargl"
           }
          ],
          "scatterternary": [
           {
            "marker": {
             "colorbar": {
              "outlinewidth": 0,
              "ticks": ""
             }
            },
            "type": "scatterternary"
           }
          ],
          "surface": [
           {
            "colorbar": {
             "outlinewidth": 0,
             "ticks": ""
            },
            "colorscale": [
             [
              0,
              "#0d0887"
             ],
             [
              0.1111111111111111,
              "#46039f"
             ],
             [
              0.2222222222222222,
              "#7201a8"
             ],
             [
              0.3333333333333333,
              "#9c179e"
             ],
             [
              0.4444444444444444,
              "#bd3786"
             ],
             [
              0.5555555555555556,
              "#d8576b"
             ],
             [
              0.6666666666666666,
              "#ed7953"
             ],
             [
              0.7777777777777778,
              "#fb9f3a"
             ],
             [
              0.8888888888888888,
              "#fdca26"
             ],
             [
              1,
              "#f0f921"
             ]
            ],
            "type": "surface"
           }
          ],
          "table": [
           {
            "cells": {
             "fill": {
              "color": "#EBF0F8"
             },
             "line": {
              "color": "white"
             }
            },
            "header": {
             "fill": {
              "color": "#C8D4E3"
             },
             "line": {
              "color": "white"
             }
            },
            "type": "table"
           }
          ]
         },
         "layout": {
          "annotationdefaults": {
           "arrowcolor": "#2a3f5f",
           "arrowhead": 0,
           "arrowwidth": 1
          },
          "autotypenumbers": "strict",
          "coloraxis": {
           "colorbar": {
            "outlinewidth": 0,
            "ticks": ""
           }
          },
          "colorscale": {
           "diverging": [
            [
             0,
             "#8e0152"
            ],
            [
             0.1,
             "#c51b7d"
            ],
            [
             0.2,
             "#de77ae"
            ],
            [
             0.3,
             "#f1b6da"
            ],
            [
             0.4,
             "#fde0ef"
            ],
            [
             0.5,
             "#f7f7f7"
            ],
            [
             0.6,
             "#e6f5d0"
            ],
            [
             0.7,
             "#b8e186"
            ],
            [
             0.8,
             "#7fbc41"
            ],
            [
             0.9,
             "#4d9221"
            ],
            [
             1,
             "#276419"
            ]
           ],
           "sequential": [
            [
             0,
             "#0d0887"
            ],
            [
             0.1111111111111111,
             "#46039f"
            ],
            [
             0.2222222222222222,
             "#7201a8"
            ],
            [
             0.3333333333333333,
             "#9c179e"
            ],
            [
             0.4444444444444444,
             "#bd3786"
            ],
            [
             0.5555555555555556,
             "#d8576b"
            ],
            [
             0.6666666666666666,
             "#ed7953"
            ],
            [
             0.7777777777777778,
             "#fb9f3a"
            ],
            [
             0.8888888888888888,
             "#fdca26"
            ],
            [
             1,
             "#f0f921"
            ]
           ],
           "sequentialminus": [
            [
             0,
             "#0d0887"
            ],
            [
             0.1111111111111111,
             "#46039f"
            ],
            [
             0.2222222222222222,
             "#7201a8"
            ],
            [
             0.3333333333333333,
             "#9c179e"
            ],
            [
             0.4444444444444444,
             "#bd3786"
            ],
            [
             0.5555555555555556,
             "#d8576b"
            ],
            [
             0.6666666666666666,
             "#ed7953"
            ],
            [
             0.7777777777777778,
             "#fb9f3a"
            ],
            [
             0.8888888888888888,
             "#fdca26"
            ],
            [
             1,
             "#f0f921"
            ]
           ]
          },
          "colorway": [
           "#636efa",
           "#EF553B",
           "#00cc96",
           "#ab63fa",
           "#FFA15A",
           "#19d3f3",
           "#FF6692",
           "#B6E880",
           "#FF97FF",
           "#FECB52"
          ],
          "font": {
           "color": "#2a3f5f"
          },
          "geo": {
           "bgcolor": "white",
           "lakecolor": "white",
           "landcolor": "#E5ECF6",
           "showlakes": true,
           "showland": true,
           "subunitcolor": "white"
          },
          "hoverlabel": {
           "align": "left"
          },
          "hovermode": "closest",
          "mapbox": {
           "style": "light"
          },
          "paper_bgcolor": "white",
          "plot_bgcolor": "#E5ECF6",
          "polar": {
           "angularaxis": {
            "gridcolor": "white",
            "linecolor": "white",
            "ticks": ""
           },
           "bgcolor": "#E5ECF6",
           "radialaxis": {
            "gridcolor": "white",
            "linecolor": "white",
            "ticks": ""
           }
          },
          "scene": {
           "xaxis": {
            "backgroundcolor": "#E5ECF6",
            "gridcolor": "white",
            "gridwidth": 2,
            "linecolor": "white",
            "showbackground": true,
            "ticks": "",
            "zerolinecolor": "white"
           },
           "yaxis": {
            "backgroundcolor": "#E5ECF6",
            "gridcolor": "white",
            "gridwidth": 2,
            "linecolor": "white",
            "showbackground": true,
            "ticks": "",
            "zerolinecolor": "white"
           },
           "zaxis": {
            "backgroundcolor": "#E5ECF6",
            "gridcolor": "white",
            "gridwidth": 2,
            "linecolor": "white",
            "showbackground": true,
            "ticks": "",
            "zerolinecolor": "white"
           }
          },
          "shapedefaults": {
           "line": {
            "color": "#2a3f5f"
           }
          },
          "ternary": {
           "aaxis": {
            "gridcolor": "white",
            "linecolor": "white",
            "ticks": ""
           },
           "baxis": {
            "gridcolor": "white",
            "linecolor": "white",
            "ticks": ""
           },
           "bgcolor": "#E5ECF6",
           "caxis": {
            "gridcolor": "white",
            "linecolor": "white",
            "ticks": ""
           }
          },
          "title": {
           "x": 0.05
          },
          "xaxis": {
           "automargin": true,
           "gridcolor": "white",
           "linecolor": "white",
           "ticks": "",
           "title": {
            "standoff": 15
           },
           "zerolinecolor": "white",
           "zerolinewidth": 2
          },
          "yaxis": {
           "automargin": true,
           "gridcolor": "white",
           "linecolor": "white",
           "ticks": "",
           "title": {
            "standoff": 15
           },
           "zerolinecolor": "white",
           "zerolinewidth": 2
          }
         }
        },
        "title": {
         "text": "Distribuição de Sp_def por Tipo de Pokémon"
        },
        "width": 1000,
        "xaxis": {
         "anchor": "y",
         "categoryarray": [
          "psychic",
          "fairy",
          "ghost",
          "steel",
          "dragon",
          "ice",
          "rock",
          "grass",
          "fire",
          "fighting",
          "poison",
          "dark",
          "water",
          "flying",
          "electric",
          "ground",
          "bug",
          "normal"
         ],
         "categoryorder": "array",
         "domain": [
          0,
          1
         ],
         "title": {
          "text": "Tipo"
         }
        },
        "yaxis": {
         "anchor": "x",
         "domain": [
          0,
          1
         ],
         "title": {
          "text": "Sp_def"
         }
        }
       }
      }
     },
     "metadata": {},
     "output_type": "display_data"
    },
    {
     "data": {
      "application/vnd.plotly.v1+json": {
       "config": {
        "plotlyServerURL": "https://plot.ly"
       },
       "data": [
        {
         "alignmentgroup": "True",
         "boxpoints": "all",
         "hovertemplate": "Tipo=%{x}<br>Speed=%{y}<extra></extra>",
         "legendgroup": "",
         "marker": {
          "color": "#636efa"
         },
         "name": "",
         "notched": false,
         "offsetgroup": "",
         "orientation": "v",
         "showlegend": false,
         "type": "box",
         "x": [
          "grass",
          "poison",
          "grass",
          "poison",
          "grass",
          "poison",
          "fire",
          "fire",
          "fire",
          "flying",
          "water",
          "water",
          "water",
          "bug",
          "bug",
          "bug",
          "flying",
          "bug",
          "poison",
          "bug",
          "poison",
          "bug",
          "poison",
          "normal",
          "flying",
          "normal",
          "flying",
          "normal",
          "flying",
          "normal",
          "normal",
          "normal",
          "flying",
          "normal",
          "flying",
          "poison",
          "poison",
          "electric",
          "electric",
          "ground",
          "ground",
          "poison",
          "poison",
          "poison",
          "ground",
          "poison",
          "poison",
          "poison",
          "ground",
          "fairy",
          "fairy",
          "fire",
          "fire",
          "normal",
          "fairy",
          "normal",
          "fairy",
          "poison",
          "flying",
          "poison",
          "flying",
          "grass",
          "poison",
          "grass",
          "poison",
          "grass",
          "poison",
          "bug",
          "grass",
          "bug",
          "grass",
          "bug",
          "poison",
          "bug",
          "poison",
          "ground",
          "ground",
          "normal",
          "normal",
          "water",
          "water",
          "fighting",
          "fighting",
          "fire",
          "fire",
          "water",
          "water",
          "water",
          "fighting",
          "psychic",
          "psychic",
          "psychic",
          "fighting",
          "fighting",
          "fighting",
          "grass",
          "poison",
          "grass",
          "poison",
          "grass",
          "poison",
          "water",
          "poison",
          "water",
          "poison",
          "rock",
          "ground",
          "rock",
          "ground",
          "rock",
          "ground",
          "fire",
          "fire",
          "water",
          "psychic",
          "water",
          "psychic",
          "electric",
          "steel",
          "electric",
          "steel",
          "normal",
          "flying",
          "normal",
          "flying",
          "normal",
          "flying",
          "water",
          "water",
          "ice",
          "poison",
          "poison",
          "water",
          "water",
          "ice",
          "ghost",
          "poison",
          "ghost",
          "poison",
          "ghost",
          "poison",
          "rock",
          "ground",
          "psychic",
          "psychic",
          "water",
          "water",
          "electric",
          "electric",
          "grass",
          "psychic",
          "grass",
          "psychic",
          "ground",
          "ground",
          "fighting",
          "fighting",
          "normal",
          "poison",
          "poison",
          "ground",
          "rock",
          "ground",
          "rock",
          "normal",
          "grass",
          "normal",
          "water",
          "water",
          "water",
          "water",
          "water",
          "water",
          "psychic",
          "psychic",
          "fairy",
          "bug",
          "flying",
          "ice",
          "psychic",
          "electric",
          "fire",
          "bug",
          "normal",
          "water",
          "water",
          "flying",
          "water",
          "ice",
          "normal",
          "normal",
          "water",
          "electric",
          "fire",
          "normal",
          "rock",
          "water",
          "rock",
          "water",
          "rock",
          "water",
          "rock",
          "water",
          "rock",
          "flying",
          "normal",
          "ice",
          "flying",
          "electric",
          "flying",
          "fire",
          "flying",
          "dragon",
          "dragon",
          "dragon",
          "flying",
          "psychic",
          "psychic",
          "grass",
          "grass",
          "grass",
          "fire",
          "fire",
          "fire",
          "water",
          "water",
          "water",
          "normal",
          "normal",
          "normal",
          "flying",
          "normal",
          "flying",
          "bug",
          "flying",
          "bug",
          "flying",
          "bug",
          "poison",
          "bug",
          "poison",
          "poison",
          "flying",
          "water",
          "electric",
          "water",
          "electric",
          "electric",
          "fairy",
          "normal",
          "fairy",
          "fairy",
          "fairy",
          "flying",
          "psychic",
          "flying",
          "psychic",
          "flying",
          "electric",
          "electric",
          "electric",
          "grass",
          "water",
          "fairy",
          "water",
          "fairy",
          "rock",
          "water",
          "grass",
          "flying",
          "grass",
          "flying",
          "grass",
          "flying",
          "normal",
          "grass",
          "grass",
          "bug",
          "flying",
          "water",
          "ground",
          "water",
          "ground",
          "psychic",
          "dark",
          "dark",
          "flying",
          "water",
          "psychic",
          "ghost",
          "psychic",
          "psychic",
          "normal",
          "psychic",
          "bug",
          "bug",
          "steel",
          "normal",
          "ground",
          "flying",
          "steel",
          "ground",
          "fairy",
          "fairy",
          "water",
          "poison",
          "bug",
          "steel",
          "bug",
          "rock",
          "bug",
          "fighting",
          "dark",
          "ice",
          "normal",
          "normal",
          "fire",
          "fire",
          "rock",
          "ice",
          "ground",
          "ice",
          "ground",
          "water",
          "rock",
          "water",
          "water",
          "ice",
          "flying",
          "water",
          "flying",
          "steel",
          "flying",
          "dark",
          "fire",
          "dark",
          "fire",
          "water",
          "dragon",
          "ground",
          "ground",
          "normal",
          "normal",
          "normal",
          "fighting",
          "fighting",
          "ice",
          "psychic",
          "electric",
          "fire",
          "normal",
          "normal",
          "electric",
          "fire",
          "water",
          "rock",
          "ground",
          "rock",
          "ground",
          "rock",
          "dark",
          "psychic",
          "flying",
          "fire",
          "flying",
          "psychic",
          "grass",
          "grass",
          "grass",
          "grass",
          "fire",
          "fire",
          "fighting",
          "fire",
          "fighting",
          "water",
          "water",
          "ground",
          "water",
          "ground",
          "dark",
          "dark",
          "normal",
          "normal",
          "bug",
          "bug",
          "bug",
          "flying",
          "bug",
          "bug",
          "poison",
          "water",
          "grass",
          "water",
          "grass",
          "water",
          "grass",
          "grass",
          "grass",
          "dark",
          "grass",
          "dark",
          "normal",
          "flying",
          "normal",
          "flying",
          "water",
          "flying",
          "water",
          "flying",
          "psychic",
          "fairy",
          "psychic",
          "fairy",
          "psychic",
          "fairy",
          "bug",
          "water",
          "bug",
          "flying",
          "grass",
          "grass",
          "fighting",
          "normal",
          "normal",
          "normal",
          "bug",
          "ground",
          "bug",
          "flying",
          "bug",
          "ghost",
          "normal",
          "normal",
          "normal",
          "fighting",
          "fighting",
          "normal",
          "fairy",
          "rock",
          "normal",
          "normal",
          "dark",
          "ghost",
          "steel",
          "fairy",
          "steel",
          "rock",
          "steel",
          "rock",
          "steel",
          "rock",
          "fighting",
          "psychic",
          "fighting",
          "psychic",
          "electric",
          "electric",
          "electric",
          "electric",
          "bug",
          "bug",
          "grass",
          "poison",
          "poison",
          "poison",
          "water",
          "dark",
          "water",
          "dark",
          "water",
          "water",
          "fire",
          "ground",
          "fire",
          "ground",
          "fire",
          "psychic",
          "psychic",
          "normal",
          "ground",
          "ground",
          "dragon",
          "ground",
          "dragon",
          "grass",
          "grass",
          "dark",
          "normal",
          "flying",
          "dragon",
          "flying",
          "normal",
          "poison",
          "rock",
          "psychic",
          "rock",
          "psychic",
          "water",
          "ground",
          "water",
          "ground",
          "water",
          "water",
          "dark",
          "ground",
          "psychic",
          "ground",
          "psychic",
          "rock",
          "grass",
          "rock",
          "grass",
          "rock",
          "bug",
          "rock",
          "bug",
          "water",
          "water",
          "normal",
          "normal",
          "ghost",
          "ghost",
          "ghost",
          "ghost",
          "grass",
          "flying",
          "psychic",
          "dark",
          "psychic",
          "ice",
          "ice",
          "ice",
          "water",
          "ice",
          "water",
          "ice",
          "water",
          "water",
          "water",
          "water",
          "water",
          "rock",
          "water",
          "dragon",
          "dragon",
          "dragon",
          "flying",
          "steel",
          "psychic",
          "steel",
          "psychic",
          "steel",
          "psychic",
          "rock",
          "ice",
          "steel",
          "dragon",
          "psychic",
          "dragon",
          "psychic",
          "water",
          "ground",
          "dragon",
          "flying",
          "steel",
          "psychic",
          "psychic",
          "grass",
          "grass",
          "grass",
          "ground",
          "fire",
          "fire",
          "fighting",
          "fire",
          "fighting",
          "water",
          "water",
          "water",
          "steel",
          "normal",
          "flying",
          "normal",
          "flying",
          "normal",
          "flying",
          "normal",
          "normal",
          "water",
          "bug",
          "bug",
          "electric",
          "electric",
          "electric",
          "grass",
          "poison",
          "grass",
          "poison",
          "rock",
          "rock",
          "rock",
          "steel",
          "rock",
          "steel",
          "bug",
          "bug",
          "grass",
          "bug",
          "flying",
          "bug",
          "flying",
          "bug",
          "flying",
          "electric",
          "water",
          "water",
          "grass",
          "grass",
          "water",
          "water",
          "ground",
          "normal",
          "ghost",
          "flying",
          "ghost",
          "flying",
          "normal",
          "normal",
          "ghost",
          "dark",
          "flying",
          "normal",
          "normal",
          "psychic",
          "poison",
          "dark",
          "poison",
          "dark",
          "steel",
          "psychic",
          "steel",
          "psychic",
          "rock",
          "psychic",
          "fairy",
          "normal",
          "normal",
          "flying",
          "ghost",
          "dark",
          "dragon",
          "ground",
          "dragon",
          "ground",
          "dragon",
          "ground",
          "normal",
          "fighting",
          "fighting",
          "steel",
          "ground",
          "ground",
          "poison",
          "bug",
          "poison",
          "dark",
          "poison",
          "fighting",
          "poison",
          "fighting",
          "grass",
          "water",
          "water",
          "water",
          "flying",
          "grass",
          "ice",
          "grass",
          "ice",
          "dark",
          "ice",
          "electric",
          "steel",
          "normal",
          "ground",
          "rock",
          "grass",
          "electric",
          "fire",
          "fairy",
          "flying",
          "bug",
          "flying",
          "grass",
          "ice",
          "ground",
          "flying",
          "ice",
          "ground",
          "normal",
          "psychic",
          "fighting",
          "rock",
          "steel",
          "ghost",
          "ice",
          "ghost",
          "electric",
          "ghost",
          "psychic",
          "psychic",
          "psychic",
          "steel",
          "dragon",
          "water",
          "dragon",
          "fire",
          "steel",
          "normal",
          "ghost",
          "dragon",
          "psychic",
          "water",
          "water",
          "dark",
          "grass",
          "normal",
          "psychic",
          "fire",
          "grass",
          "grass",
          "grass",
          "fire",
          "fire",
          "fighting",
          "fire",
          "fighting",
          "water",
          "water",
          "water",
          "normal",
          "normal",
          "normal",
          "normal",
          "normal",
          "dark",
          "dark",
          "grass",
          "grass",
          "fire",
          "fire",
          "water",
          "water",
          "psychic",
          "psychic",
          "normal",
          "flying",
          "normal",
          "flying",
          "normal",
          "flying",
          "electric",
          "electric",
          "rock",
          "rock",
          "rock",
          "psychic",
          "flying",
          "psychic",
          "flying",
          "ground",
          "ground",
          "steel",
          "normal",
          "fighting",
          "fighting",
          "fighting",
          "water",
          "water",
          "ground",
          "water",
          "ground",
          "fighting",
          "fighting",
          "bug",
          "grass",
          "bug",
          "grass",
          "bug",
          "grass",
          "bug",
          "poison",
          "bug",
          "poison",
          "bug",
          "poison",
          "grass",
          "fairy",
          "grass",
          "fairy",
          "grass",
          "grass",
          "water",
          "ground",
          "dark",
          "ground",
          "dark",
          "ground",
          "dark",
          "fire",
          "fire",
          "grass",
          "bug",
          "rock",
          "bug",
          "rock",
          "dark",
          "fighting",
          "dark",
          "fighting",
          "psychic",
          "flying",
          "ghost",
          "ghost",
          "water",
          "rock",
          "water",
          "rock",
          "rock",
          "flying",
          "rock",
          "flying",
          "poison",
          "poison",
          "dark",
          "dark",
          "normal",
          "normal",
          "psychic",
          "psychic",
          "psychic",
          "psychic",
          "psychic",
          "psychic",
          "water",
          "flying",
          "water",
          "flying",
          "ice",
          "ice",
          "ice",
          "normal",
          "grass",
          "normal",
          "grass",
          "electric",
          "flying",
          "bug",
          "bug",
          "steel",
          "grass",
          "poison",
          "grass",
          "poison",
          "water",
          "ghost",
          "water",
          "ghost",
          "water",
          "bug",
          "electric",
          "bug",
          "electric",
          "grass",
          "steel",
          "grass",
          "steel",
          "steel",
          "steel",
          "steel",
          "electric",
          "electric",
          "electric",
          "psychic",
          "psychic",
          "ghost",
          "fire",
          "ghost",
          "fire",
          "ghost",
          "fire",
          "dragon",
          "dragon",
          "dragon",
          "ice",
          "ice",
          "ice",
          "bug",
          "bug",
          "ground",
          "electric",
          "fighting",
          "fighting",
          "dragon",
          "ground",
          "ghost",
          "ground",
          "ghost",
          "dark",
          "steel",
          "dark",
          "steel",
          "normal",
          "normal",
          "flying",
          "normal",
          "flying",
          "dark",
          "flying",
          "dark",
          "flying",
          "fire",
          "bug",
          "steel",
          "dark",
          "dragon",
          "dark",
          "dragon",
          "dark",
          "dragon",
          "bug",
          "fire",
          "bug",
          "fire",
          "steel",
          "fighting",
          "rock",
          "fighting",
          "grass",
          "fighting",
          "flying",
          "electric",
          "flying",
          "dragon",
          "fire",
          "dragon",
          "electric",
          "ground",
          "flying",
          "dragon",
          "ice",
          "water",
          "fighting",
          "normal",
          "psychic",
          "bug",
          "steel",
          "grass",
          "grass",
          "grass",
          "fighting",
          "fire",
          "fire",
          "fire",
          "psychic",
          "water",
          "water",
          "water",
          "dark",
          "normal",
          "normal",
          "ground",
          "normal",
          "flying",
          "fire",
          "flying",
          "fire",
          "flying",
          "bug",
          "bug",
          "bug",
          "flying",
          "fire",
          "normal",
          "fire",
          "normal",
          "fairy",
          "fairy",
          "fairy",
          "grass",
          "grass",
          "fighting",
          "fighting",
          "dark",
          "normal",
          "psychic",
          "psychic",
          "steel",
          "ghost",
          "steel",
          "ghost",
          "steel",
          "ghost",
          "fairy",
          "fairy",
          "fairy",
          "fairy",
          "dark",
          "psychic",
          "dark",
          "psychic",
          "rock",
          "water",
          "rock",
          "water",
          "poison",
          "water",
          "poison",
          "dragon",
          "water",
          "water",
          "electric",
          "normal",
          "electric",
          "normal",
          "rock",
          "dragon",
          "rock",
          "dragon",
          "rock",
          "ice",
          "rock",
          "ice",
          "fairy",
          "fighting",
          "flying",
          "electric",
          "fairy",
          "rock",
          "fairy",
          "dragon",
          "dragon",
          "dragon",
          "steel",
          "fairy",
          "ghost",
          "grass",
          "ghost",
          "grass",
          "ghost",
          "grass",
          "ghost",
          "grass",
          "ice",
          "ice",
          "flying",
          "dragon",
          "flying",
          "dragon",
          "fairy",
          "dark",
          "flying",
          "dragon",
          "ground",
          "rock",
          "fairy",
          "psychic",
          "ghost",
          "fire",
          "water",
          "grass",
          "flying",
          "grass",
          "flying",
          "grass",
          "ghost",
          "fire",
          "fire",
          "fire",
          "dark",
          "water",
          "water",
          "water",
          "fairy",
          "normal",
          "flying",
          "normal",
          "flying",
          "normal",
          "flying",
          "normal",
          "normal",
          "bug",
          "bug",
          "electric",
          "bug",
          "electric",
          "fighting",
          "fighting",
          "ice",
          "fire",
          "flying",
          "bug",
          "fairy",
          "bug",
          "fairy",
          "rock",
          "rock",
          "water",
          "poison",
          "water",
          "poison",
          "water",
          "ground",
          "ground",
          "water",
          "bug",
          "water",
          "bug",
          "grass",
          "grass",
          "grass",
          "fairy",
          "grass",
          "fairy",
          "poison",
          "fire",
          "poison",
          "fire",
          "normal",
          "fighting",
          "normal",
          "fighting",
          "grass",
          "grass",
          "grass",
          "fairy",
          "normal",
          "psychic",
          "fighting",
          "bug",
          "water",
          "bug",
          "water",
          "ghost",
          "ground",
          "ghost",
          "ground",
          "water",
          "normal",
          "normal",
          "rock",
          "flying",
          "normal",
          "fire",
          "dragon",
          "electric",
          "steel",
          "ghost",
          "fairy",
          "water",
          "psychic",
          "normal",
          "dragon",
          "ghost",
          "grass",
          "dragon",
          "dragon",
          "fighting",
          "dragon",
          "fighting",
          "electric",
          "fairy",
          "psychic",
          "fairy",
          "grass",
          "fairy",
          "water",
          "fairy",
          "psychic",
          "psychic",
          "psychic",
          "steel",
          "psychic",
          "ghost",
          "rock",
          "poison",
          "bug",
          "fighting",
          "bug",
          "fighting",
          "electric",
          "steel",
          "flying",
          "grass",
          "steel",
          "dark",
          "dragon",
          "psychic",
          "steel",
          "fairy",
          "fighting",
          "ghost",
          "poison",
          "poison",
          "dragon",
          "rock",
          "steel",
          "fire",
          "ghost",
          "electric",
          "steel",
          "steel",
          "grass",
          "grass",
          "grass",
          "fire",
          "fire",
          "fire",
          "water",
          "water",
          "water",
          "normal",
          "normal",
          "flying",
          "flying",
          "flying",
          "steel",
          "bug",
          "bug",
          "psychic",
          "bug",
          "psychic",
          "dark",
          "dark",
          "grass",
          "grass",
          "normal",
          "normal",
          "water",
          "water",
          "rock",
          "electric",
          "electric",
          "rock",
          "rock",
          "fire",
          "rock",
          "fire",
          "grass",
          "dragon",
          "grass",
          "dragon",
          "grass",
          "dragon",
          "ground",
          "ground",
          "flying",
          "water",
          "water",
          "water",
          "electric",
          "poison",
          "electric",
          "poison",
          "fire",
          "bug",
          "fire",
          "bug",
          "fighting",
          "fighting",
          "ghost",
          "ghost",
          "psychic",
          "psychic",
          "psychic",
          "fairy",
          "dark",
          "fairy",
          "dark",
          "fairy",
          "dark",
          "fairy",
          "dark",
          "normal",
          "steel",
          "ghost",
          "fighting",
          "ice",
          "psychic",
          "ground",
          "ghost",
          "fairy",
          "fairy",
          "fighting",
          "electric",
          "ice",
          "bug",
          "ice",
          "bug",
          "rock",
          "ice",
          "psychic",
          "normal",
          "electric",
          "dark",
          "steel",
          "steel",
          "electric",
          "dragon",
          "electric",
          "ice",
          "water",
          "dragon",
          "water",
          "ice",
          "steel",
          "dragon",
          "dragon",
          "ghost",
          "dragon",
          "ghost",
          "dragon",
          "ghost",
          "fairy",
          "fighting",
          "poison",
          "dragon",
          "fighting",
          "fighting",
          "dark",
          "dark",
          "grass",
          "electric",
          "dragon",
          "ice",
          "ghost",
          "psychic",
          "grass",
          "normal",
          "psychic",
          "bug",
          "rock",
          "ground",
          "normal",
          "water",
          "ghost",
          "fighting",
          "poison",
          "dark",
          "poison",
          "fairy",
          "flying",
          "grass",
          "grass",
          "grass",
          "dark",
          "fire",
          "fire",
          "fire",
          "ghost",
          "water",
          "water",
          "water",
          "fighting",
          "normal",
          "normal",
          "bug",
          "bug",
          "bug",
          "bug",
          "dark",
          "electric",
          "electric",
          "fighting",
          "electric",
          "fighting",
          "normal",
          "normal",
          "fairy",
          "fairy",
          "grass",
          "normal",
          "grass",
          "normal",
          "grass",
          "normal",
          "normal",
          "flying",
          "rock",
          "rock",
          "rock",
          "fire",
          "fire",
          "psychic",
          "fire",
          "ghost",
          "electric",
          "electric",
          "electric",
          "flying",
          "electric",
          "flying",
          "dark",
          "dark",
          "poison",
          "normal",
          "poison",
          "normal",
          "grass",
          "ghost",
          "grass",
          "ghost",
          "ground",
          "grass",
          "ground",
          "grass",
          "rock",
          "grass",
          "grass",
          "fire",
          "bug",
          "bug",
          "psychic",
          "psychic",
          "psychic",
          "fairy",
          "steel",
          "fairy",
          "steel",
          "fairy",
          "steel",
          "water",
          "water",
          "flying",
          "dark",
          "water",
          "water",
          "steel",
          "poison",
          "steel",
          "poison",
          "dragon",
          "normal",
          "steel",
          "rock",
          "poison",
          "rock",
          "poison",
          "ghost",
          "ghost",
          "flying",
          "fighting",
          "ice",
          "ice",
          "water",
          "psychic",
          "water",
          "dragon",
          "water",
          "fighting",
          "ghost",
          "poison",
          "ground",
          "normal",
          "psychic",
          "normal",
          "dark",
          "steel",
          "ground",
          "fighting",
          "fairy",
          "psychic",
          "grass",
          "dark",
          "ghost",
          "fairy",
          "bug",
          "fighting",
          "electric",
          "ground",
          "ground",
          "steel",
          "ice",
          "water",
          "fighting",
          "electric",
          "dark",
          "flying",
          "fire",
          "poison",
          "rock",
          "electric",
          "dragon",
          "ice",
          "dragon",
          "ice",
          "dragon",
          "ice",
          "ghost",
          "steel",
          "ghost",
          "dark",
          "grass",
          "dark",
          "ice",
          "dark",
          "ground",
          "dark",
          "fire",
          "dragon",
          "dark",
          "fairy",
          "fighting",
          "fighting",
          "dragon",
          "electric",
          "dragon",
          "water",
          "dragon",
          "grass",
          "psychic",
          "grass",
          "dragon",
          "grass",
          "ghost",
          "grass",
          "ghost",
          "poison",
          "fighting",
          "poison",
          "psychic",
          "poison",
          "fairy",
          "grass",
          "steel",
          "dragon",
          "grass",
          "dragon",
          "fire",
          "dragon",
          "electric",
          "dragon",
          "rock",
          "psychic",
          "steel",
          "psychic",
          "normal",
          "poison",
          "ghost"
         ],
         "x0": " ",
         "xaxis": "x",
         "y": {
          "bdata": "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",
          "dtype": "f8"
         },
         "y0": " ",
         "yaxis": "y"
        }
       ],
       "layout": {
        "boxmode": "group",
        "height": 500,
        "legend": {
         "tracegroupgap": 0
        },
        "template": {
         "data": {
          "bar": [
           {
            "error_x": {
             "color": "#2a3f5f"
            },
            "error_y": {
             "color": "#2a3f5f"
            },
            "marker": {
             "line": {
              "color": "#E5ECF6",
              "width": 0.5
             },
             "pattern": {
              "fillmode": "overlay",
              "size": 10,
              "solidity": 0.2
             }
            },
            "type": "bar"
           }
          ],
          "barpolar": [
           {
            "marker": {
             "line": {
              "color": "#E5ECF6",
              "width": 0.5
             },
             "pattern": {
              "fillmode": "overlay",
              "size": 10,
              "solidity": 0.2
             }
            },
            "type": "barpolar"
           }
          ],
          "carpet": [
           {
            "aaxis": {
             "endlinecolor": "#2a3f5f",
             "gridcolor": "white",
             "linecolor": "white",
             "minorgridcolor": "white",
             "startlinecolor": "#2a3f5f"
            },
            "baxis": {
             "endlinecolor": "#2a3f5f",
             "gridcolor": "white",
             "linecolor": "white",
             "minorgridcolor": "white",
             "startlinecolor": "#2a3f5f"
            },
            "type": "carpet"
           }
          ],
          "choropleth": [
           {
            "colorbar": {
             "outlinewidth": 0,
             "ticks": ""
            },
            "type": "choropleth"
           }
          ],
          "contour": [
           {
            "colorbar": {
             "outlinewidth": 0,
             "ticks": ""
            },
            "colorscale": [
             [
              0,
              "#0d0887"
             ],
             [
              0.1111111111111111,
              "#46039f"
             ],
             [
              0.2222222222222222,
              "#7201a8"
             ],
             [
              0.3333333333333333,
              "#9c179e"
             ],
             [
              0.4444444444444444,
              "#bd3786"
             ],
             [
              0.5555555555555556,
              "#d8576b"
             ],
             [
              0.6666666666666666,
              "#ed7953"
             ],
             [
              0.7777777777777778,
              "#fb9f3a"
             ],
             [
              0.8888888888888888,
              "#fdca26"
             ],
             [
              1,
              "#f0f921"
             ]
            ],
            "type": "contour"
           }
          ],
          "contourcarpet": [
           {
            "colorbar": {
             "outlinewidth": 0,
             "ticks": ""
            },
            "type": "contourcarpet"
           }
          ],
          "heatmap": [
           {
            "colorbar": {
             "outlinewidth": 0,
             "ticks": ""
            },
            "colorscale": [
             [
              0,
              "#0d0887"
             ],
             [
              0.1111111111111111,
              "#46039f"
             ],
             [
              0.2222222222222222,
              "#7201a8"
             ],
             [
              0.3333333333333333,
              "#9c179e"
             ],
             [
              0.4444444444444444,
              "#bd3786"
             ],
             [
              0.5555555555555556,
              "#d8576b"
             ],
             [
              0.6666666666666666,
              "#ed7953"
             ],
             [
              0.7777777777777778,
              "#fb9f3a"
             ],
             [
              0.8888888888888888,
              "#fdca26"
             ],
             [
              1,
              "#f0f921"
             ]
            ],
            "type": "heatmap"
           }
          ],
          "histogram": [
           {
            "marker": {
             "pattern": {
              "fillmode": "overlay",
              "size": 10,
              "solidity": 0.2
             }
            },
            "type": "histogram"
           }
          ],
          "histogram2d": [
           {
            "colorbar": {
             "outlinewidth": 0,
             "ticks": ""
            },
            "colorscale": [
             [
              0,
              "#0d0887"
             ],
             [
              0.1111111111111111,
              "#46039f"
             ],
             [
              0.2222222222222222,
              "#7201a8"
             ],
             [
              0.3333333333333333,
              "#9c179e"
             ],
             [
              0.4444444444444444,
              "#bd3786"
             ],
             [
              0.5555555555555556,
              "#d8576b"
             ],
             [
              0.6666666666666666,
              "#ed7953"
             ],
             [
              0.7777777777777778,
              "#fb9f3a"
             ],
             [
              0.8888888888888888,
              "#fdca26"
             ],
             [
              1,
              "#f0f921"
             ]
            ],
            "type": "histogram2d"
           }
          ],
          "histogram2dcontour": [
           {
            "colorbar": {
             "outlinewidth": 0,
             "ticks": ""
            },
            "colorscale": [
             [
              0,
              "#0d0887"
             ],
             [
              0.1111111111111111,
              "#46039f"
             ],
             [
              0.2222222222222222,
              "#7201a8"
             ],
             [
              0.3333333333333333,
              "#9c179e"
             ],
             [
              0.4444444444444444,
              "#bd3786"
             ],
             [
              0.5555555555555556,
              "#d8576b"
             ],
             [
              0.6666666666666666,
              "#ed7953"
             ],
             [
              0.7777777777777778,
              "#fb9f3a"
             ],
             [
              0.8888888888888888,
              "#fdca26"
             ],
             [
              1,
              "#f0f921"
             ]
            ],
            "type": "histogram2dcontour"
           }
          ],
          "mesh3d": [
           {
            "colorbar": {
             "outlinewidth": 0,
             "ticks": ""
            },
            "type": "mesh3d"
           }
          ],
          "parcoords": [
           {
            "line": {
             "colorbar": {
              "outlinewidth": 0,
              "ticks": ""
             }
            },
            "type": "parcoords"
           }
          ],
          "pie": [
           {
            "automargin": true,
            "type": "pie"
           }
          ],
          "scatter": [
           {
            "fillpattern": {
             "fillmode": "overlay",
             "size": 10,
             "solidity": 0.2
            },
            "type": "scatter"
           }
          ],
          "scatter3d": [
           {
            "line": {
             "colorbar": {
              "outlinewidth": 0,
              "ticks": ""
             }
            },
            "marker": {
             "colorbar": {
              "outlinewidth": 0,
              "ticks": ""
             }
            },
            "type": "scatter3d"
           }
          ],
          "scattercarpet": [
           {
            "marker": {
             "colorbar": {
              "outlinewidth": 0,
              "ticks": ""
             }
            },
            "type": "scattercarpet"
           }
          ],
          "scattergeo": [
           {
            "marker": {
             "colorbar": {
              "outlinewidth": 0,
              "ticks": ""
             }
            },
            "type": "scattergeo"
           }
          ],
          "scattergl": [
           {
            "marker": {
             "colorbar": {
              "outlinewidth": 0,
              "ticks": ""
             }
            },
            "type": "scattergl"
           }
          ],
          "scattermap": [
           {
            "marker": {
             "colorbar": {
              "outlinewidth": 0,
              "ticks": ""
             }
            },
            "type": "scattermap"
           }
          ],
          "scattermapbox": [
           {
            "marker": {
             "colorbar": {
              "outlinewidth": 0,
              "ticks": ""
             }
            },
            "type": "scattermapbox"
           }
          ],
          "scatterpolar": [
           {
            "marker": {
             "colorbar": {
              "outlinewidth": 0,
              "ticks": ""
             }
            },
            "type": "scatterpolar"
           }
          ],
          "scatterpolargl": [
           {
            "marker": {
             "colorbar": {
              "outlinewidth": 0,
              "ticks": ""
             }
            },
            "type": "scatterpolargl"
           }
          ],
          "scatterternary": [
           {
            "marker": {
             "colorbar": {
              "outlinewidth": 0,
              "ticks": ""
             }
            },
            "type": "scatterternary"
           }
          ],
          "surface": [
           {
            "colorbar": {
             "outlinewidth": 0,
             "ticks": ""
            },
            "colorscale": [
             [
              0,
              "#0d0887"
             ],
             [
              0.1111111111111111,
              "#46039f"
             ],
             [
              0.2222222222222222,
              "#7201a8"
             ],
             [
              0.3333333333333333,
              "#9c179e"
             ],
             [
              0.4444444444444444,
              "#bd3786"
             ],
             [
              0.5555555555555556,
              "#d8576b"
             ],
             [
              0.6666666666666666,
              "#ed7953"
             ],
             [
              0.7777777777777778,
              "#fb9f3a"
             ],
             [
              0.8888888888888888,
              "#fdca26"
             ],
             [
              1,
              "#f0f921"
             ]
            ],
            "type": "surface"
           }
          ],
          "table": [
           {
            "cells": {
             "fill": {
              "color": "#EBF0F8"
             },
             "line": {
              "color": "white"
             }
            },
            "header": {
             "fill": {
              "color": "#C8D4E3"
             },
             "line": {
              "color": "white"
             }
            },
            "type": "table"
           }
          ]
         },
         "layout": {
          "annotationdefaults": {
           "arrowcolor": "#2a3f5f",
           "arrowhead": 0,
           "arrowwidth": 1
          },
          "autotypenumbers": "strict",
          "coloraxis": {
           "colorbar": {
            "outlinewidth": 0,
            "ticks": ""
           }
          },
          "colorscale": {
           "diverging": [
            [
             0,
             "#8e0152"
            ],
            [
             0.1,
             "#c51b7d"
            ],
            [
             0.2,
             "#de77ae"
            ],
            [
             0.3,
             "#f1b6da"
            ],
            [
             0.4,
             "#fde0ef"
            ],
            [
             0.5,
             "#f7f7f7"
            ],
            [
             0.6,
             "#e6f5d0"
            ],
            [
             0.7,
             "#b8e186"
            ],
            [
             0.8,
             "#7fbc41"
            ],
            [
             0.9,
             "#4d9221"
            ],
            [
             1,
             "#276419"
            ]
           ],
           "sequential": [
            [
             0,
             "#0d0887"
            ],
            [
             0.1111111111111111,
             "#46039f"
            ],
            [
             0.2222222222222222,
             "#7201a8"
            ],
            [
             0.3333333333333333,
             "#9c179e"
            ],
            [
             0.4444444444444444,
             "#bd3786"
            ],
            [
             0.5555555555555556,
             "#d8576b"
            ],
            [
             0.6666666666666666,
             "#ed7953"
            ],
            [
             0.7777777777777778,
             "#fb9f3a"
            ],
            [
             0.8888888888888888,
             "#fdca26"
            ],
            [
             1,
             "#f0f921"
            ]
           ],
           "sequentialminus": [
            [
             0,
             "#0d0887"
            ],
            [
             0.1111111111111111,
             "#46039f"
            ],
            [
             0.2222222222222222,
             "#7201a8"
            ],
            [
             0.3333333333333333,
             "#9c179e"
            ],
            [
             0.4444444444444444,
             "#bd3786"
            ],
            [
             0.5555555555555556,
             "#d8576b"
            ],
            [
             0.6666666666666666,
             "#ed7953"
            ],
            [
             0.7777777777777778,
             "#fb9f3a"
            ],
            [
             0.8888888888888888,
             "#fdca26"
            ],
            [
             1,
             "#f0f921"
            ]
           ]
          },
          "colorway": [
           "#636efa",
           "#EF553B",
           "#00cc96",
           "#ab63fa",
           "#FFA15A",
           "#19d3f3",
           "#FF6692",
           "#B6E880",
           "#FF97FF",
           "#FECB52"
          ],
          "font": {
           "color": "#2a3f5f"
          },
          "geo": {
           "bgcolor": "white",
           "lakecolor": "white",
           "landcolor": "#E5ECF6",
           "showlakes": true,
           "showland": true,
           "subunitcolor": "white"
          },
          "hoverlabel": {
           "align": "left"
          },
          "hovermode": "closest",
          "mapbox": {
           "style": "light"
          },
          "paper_bgcolor": "white",
          "plot_bgcolor": "#E5ECF6",
          "polar": {
           "angularaxis": {
            "gridcolor": "white",
            "linecolor": "white",
            "ticks": ""
           },
           "bgcolor": "#E5ECF6",
           "radialaxis": {
            "gridcolor": "white",
            "linecolor": "white",
            "ticks": ""
           }
          },
          "scene": {
           "xaxis": {
            "backgroundcolor": "#E5ECF6",
            "gridcolor": "white",
            "gridwidth": 2,
            "linecolor": "white",
            "showbackground": true,
            "ticks": "",
            "zerolinecolor": "white"
           },
           "yaxis": {
            "backgroundcolor": "#E5ECF6",
            "gridcolor": "white",
            "gridwidth": 2,
            "linecolor": "white",
            "showbackground": true,
            "ticks": "",
            "zerolinecolor": "white"
           },
           "zaxis": {
            "backgroundcolor": "#E5ECF6",
            "gridcolor": "white",
            "gridwidth": 2,
            "linecolor": "white",
            "showbackground": true,
            "ticks": "",
            "zerolinecolor": "white"
           }
          },
          "shapedefaults": {
           "line": {
            "color": "#2a3f5f"
           }
          },
          "ternary": {
           "aaxis": {
            "gridcolor": "white",
            "linecolor": "white",
            "ticks": ""
           },
           "baxis": {
            "gridcolor": "white",
            "linecolor": "white",
            "ticks": ""
           },
           "bgcolor": "#E5ECF6",
           "caxis": {
            "gridcolor": "white",
            "linecolor": "white",
            "ticks": ""
           }
          },
          "title": {
           "x": 0.05
          },
          "xaxis": {
           "automargin": true,
           "gridcolor": "white",
           "linecolor": "white",
           "ticks": "",
           "title": {
            "standoff": 15
           },
           "zerolinecolor": "white",
           "zerolinewidth": 2
          },
          "yaxis": {
           "automargin": true,
           "gridcolor": "white",
           "linecolor": "white",
           "ticks": "",
           "title": {
            "standoff": 15
           },
           "zerolinecolor": "white",
           "zerolinewidth": 2
          }
         }
        },
        "title": {
         "text": "Distribuição de Speed por Tipo de Pokémon"
        },
        "width": 1000,
        "xaxis": {
         "anchor": "y",
         "categoryarray": [
          "flying",
          "electric",
          "dragon",
          "dark",
          "fighting",
          "fire",
          "psychic",
          "normal",
          "poison",
          "ghost",
          "fairy",
          "water",
          "ice",
          "steel",
          "bug",
          "grass",
          "ground",
          "rock"
         ],
         "categoryorder": "array",
         "domain": [
          0,
          1
         ],
         "title": {
          "text": "Tipo"
         }
        },
        "yaxis": {
         "anchor": "x",
         "domain": [
          0,
          1
         ],
         "title": {
          "text": "Speed"
         }
        }
       }
      }
     },
     "metadata": {},
     "output_type": "display_data"
    }
   ],
   "source": [
    "import plotly.express as px\n",
    "\n",
    "# Explode o DataFrame para que cada tipo de Pokémon fique em uma linha\n",
    "df_exploded = basicdf.explode('type')\n",
    "\n",
    "# Seleciona os atributos de interesse\n",
    "atributos = ['attack', 'defense', 'hp', 'sp_atk', 'sp_def', 'speed']\n",
    "\n",
    "for atributo in atributos:\n",
    "    # Ordena os tipos pela média do atributo (do maior para o menor)\n",
    "    ordem_tipos = (\n",
    "        df_exploded.groupby('type')[atributo]\n",
    "        .mean()\n",
    "        .sort_values(ascending=False)\n",
    "        .index.tolist()\n",
    "    )\n",
    "    fig = px.box(\n",
    "        df_exploded,\n",
    "        x='type',\n",
    "        y=atributo,\n",
    "        category_orders={'type': ordem_tipos},\n",
    "        points=\"all\",\n",
    "        title=f'Distribuição de {atributo.capitalize()} por Tipo de Pokémon',\n",
    "        labels={'type': 'Tipo', atributo: atributo.capitalize()}\n",
    "    )\n",
    "    fig.update_layout(width=1000, height=500)\n",
    "    os.makedirs('./charts/stats-per-type', exist_ok=True)\n",
    "    fig.write_image(f'./charts/stats-per-type/boxplot_{atributo}_por_tipo.png')\n",
    "    fig.show()"
   ]
  },
  {
   "cell_type": "markdown",
   "id": "a1bd7103",
   "metadata": {},
   "source": [
    "### Insights sobre a Distribuição de Pokémon por Local de Captura\n",
    "\n",
    "A análise dos novos gráficos e da tabela descritiva revela pontos importantes sobre a distribuição dos Pokémon nos diferentes locais de captura:\n",
    "\n",
    "- **Distribuição Desigual:** O gráfico de dispersão mostra que a maioria dos locais de captura possui uma quantidade pequena de espécies de Pokémon disponíveis, enquanto poucos locais concentram uma grande diversidade. Isso indica uma distribuição desigual, com muitos locais \"exclusivos\" ou pouco povoados e poucos \"hubs\" de alta diversidade.\n",
    "\n",
    "- **Moda, Mediana e Média:** A moda e a mediana da quantidade de Pokémon por local são significativamente menores que a média, reforçando que a maior parte dos locais tem poucos Pokémon, mas alguns locais com muitos Pokémon elevam a média geral.\n",
    "\n",
    "- **Locais de Alta Diversidade:** Os poucos locais que aparecem no topo do gráfico de barras são pontos estratégicos para jogadores que desejam encontrar uma grande variedade de espécies, sendo ideais para completar a Pokédex de forma eficiente.\n",
    "\n",
    "- **Top 5 Pokémon com Maior Número de Locais Capturáveis:**\n",
    "    - **Magikarp**: encontrado em 244 locais diferentes, presente em praticamente todas as regiões aquáticas.\n",
    "    - **Golbat**: aparece em 142 locais, sendo comum em cavernas e rotas.\n",
    "    - **Gyarados**: disponível em 132 locais, geralmente em áreas de água e lagos.\n",
    "    - **Zubat**: presente em 125 locais, típico de cavernas e túneis.\n",
    "    - **Tentacool**: encontrado em 113 locais, principalmente em mares e áreas costeiras."
   ]
  },
  {
   "cell_type": "code",
   "execution_count": 11,
   "id": "f859b175",
   "metadata": {},
   "outputs": [
    {
     "data": {
      "application/vnd.plotly.v1+json": {
       "config": {
        "plotlyServerURL": "https://plot.ly"
       },
       "data": [
        {
         "hovertemplate": "Pokémon=%{x}<br>Nº de Locais Capturáveis=%{marker.color}<extra></extra>",
         "legendgroup": "",
         "marker": {
          "color": {
           "bdata": "9ACOAIQAfQBxAGYAYgBeAE8ASQBGAEUARABEAEEAQABAAD8APwA6AA==",
           "dtype": "i2"
          },
          "coloraxis": "coloraxis",
          "pattern": {
           "shape": ""
          }
         },
         "name": "",
         "orientation": "v",
         "showlegend": false,
         "textposition": "auto",
         "type": "bar",
         "x": [
          "magikarp",
          "golbat",
          "gyarados",
          "zubat",
          "tentacool",
          "goldeen",
          "poliwag",
          "psyduck",
          "graveler",
          "geodude",
          "slowpoke",
          "chingling",
          "pelipper",
          "wingull",
          "seaking",
          "tentacruel",
          "krabby",
          "bronzor",
          "poliwhirl",
          "rattata"
         ],
         "xaxis": "x",
         "y": {
          "bdata": "9ACOAIQAfQBxAGYAYgBeAE8ASQBGAEUARABEAEEAQABAAD8APwA6AA==",
          "dtype": "i2"
         },
         "yaxis": "y"
        }
       ],
       "layout": {
        "barmode": "relative",
        "coloraxis": {
         "colorbar": {
          "title": {
           "text": "Nº de Locais Capturáveis"
          }
         },
         "colorscale": [
          [
           0,
           "rgb(247,251,255)"
          ],
          [
           0.125,
           "rgb(222,235,247)"
          ],
          [
           0.25,
           "rgb(198,219,239)"
          ],
          [
           0.375,
           "rgb(158,202,225)"
          ],
          [
           0.5,
           "rgb(107,174,214)"
          ],
          [
           0.625,
           "rgb(66,146,198)"
          ],
          [
           0.75,
           "rgb(33,113,181)"
          ],
          [
           0.875,
           "rgb(8,81,156)"
          ],
          [
           1,
           "rgb(8,48,107)"
          ]
         ]
        },
        "height": 500,
        "legend": {
         "tracegroupgap": 0
        },
        "template": {
         "data": {
          "bar": [
           {
            "error_x": {
             "color": "#2a3f5f"
            },
            "error_y": {
             "color": "#2a3f5f"
            },
            "marker": {
             "line": {
              "color": "#E5ECF6",
              "width": 0.5
             },
             "pattern": {
              "fillmode": "overlay",
              "size": 10,
              "solidity": 0.2
             }
            },
            "type": "bar"
           }
          ],
          "barpolar": [
           {
            "marker": {
             "line": {
              "color": "#E5ECF6",
              "width": 0.5
             },
             "pattern": {
              "fillmode": "overlay",
              "size": 10,
              "solidity": 0.2
             }
            },
            "type": "barpolar"
           }
          ],
          "carpet": [
           {
            "aaxis": {
             "endlinecolor": "#2a3f5f",
             "gridcolor": "white",
             "linecolor": "white",
             "minorgridcolor": "white",
             "startlinecolor": "#2a3f5f"
            },
            "baxis": {
             "endlinecolor": "#2a3f5f",
             "gridcolor": "white",
             "linecolor": "white",
             "minorgridcolor": "white",
             "startlinecolor": "#2a3f5f"
            },
            "type": "carpet"
           }
          ],
          "choropleth": [
           {
            "colorbar": {
             "outlinewidth": 0,
             "ticks": ""
            },
            "type": "choropleth"
           }
          ],
          "contour": [
           {
            "colorbar": {
             "outlinewidth": 0,
             "ticks": ""
            },
            "colorscale": [
             [
              0,
              "#0d0887"
             ],
             [
              0.1111111111111111,
              "#46039f"
             ],
             [
              0.2222222222222222,
              "#7201a8"
             ],
             [
              0.3333333333333333,
              "#9c179e"
             ],
             [
              0.4444444444444444,
              "#bd3786"
             ],
             [
              0.5555555555555556,
              "#d8576b"
             ],
             [
              0.6666666666666666,
              "#ed7953"
             ],
             [
              0.7777777777777778,
              "#fb9f3a"
             ],
             [
              0.8888888888888888,
              "#fdca26"
             ],
             [
              1,
              "#f0f921"
             ]
            ],
            "type": "contour"
           }
          ],
          "contourcarpet": [
           {
            "colorbar": {
             "outlinewidth": 0,
             "ticks": ""
            },
            "type": "contourcarpet"
           }
          ],
          "heatmap": [
           {
            "colorbar": {
             "outlinewidth": 0,
             "ticks": ""
            },
            "colorscale": [
             [
              0,
              "#0d0887"
             ],
             [
              0.1111111111111111,
              "#46039f"
             ],
             [
              0.2222222222222222,
              "#7201a8"
             ],
             [
              0.3333333333333333,
              "#9c179e"
             ],
             [
              0.4444444444444444,
              "#bd3786"
             ],
             [
              0.5555555555555556,
              "#d8576b"
             ],
             [
              0.6666666666666666,
              "#ed7953"
             ],
             [
              0.7777777777777778,
              "#fb9f3a"
             ],
             [
              0.8888888888888888,
              "#fdca26"
             ],
             [
              1,
              "#f0f921"
             ]
            ],
            "type": "heatmap"
           }
          ],
          "histogram": [
           {
            "marker": {
             "pattern": {
              "fillmode": "overlay",
              "size": 10,
              "solidity": 0.2
             }
            },
            "type": "histogram"
           }
          ],
          "histogram2d": [
           {
            "colorbar": {
             "outlinewidth": 0,
             "ticks": ""
            },
            "colorscale": [
             [
              0,
              "#0d0887"
             ],
             [
              0.1111111111111111,
              "#46039f"
             ],
             [
              0.2222222222222222,
              "#7201a8"
             ],
             [
              0.3333333333333333,
              "#9c179e"
             ],
             [
              0.4444444444444444,
              "#bd3786"
             ],
             [
              0.5555555555555556,
              "#d8576b"
             ],
             [
              0.6666666666666666,
              "#ed7953"
             ],
             [
              0.7777777777777778,
              "#fb9f3a"
             ],
             [
              0.8888888888888888,
              "#fdca26"
             ],
             [
              1,
              "#f0f921"
             ]
            ],
            "type": "histogram2d"
           }
          ],
          "histogram2dcontour": [
           {
            "colorbar": {
             "outlinewidth": 0,
             "ticks": ""
            },
            "colorscale": [
             [
              0,
              "#0d0887"
             ],
             [
              0.1111111111111111,
              "#46039f"
             ],
             [
              0.2222222222222222,
              "#7201a8"
             ],
             [
              0.3333333333333333,
              "#9c179e"
             ],
             [
              0.4444444444444444,
              "#bd3786"
             ],
             [
              0.5555555555555556,
              "#d8576b"
             ],
             [
              0.6666666666666666,
              "#ed7953"
             ],
             [
              0.7777777777777778,
              "#fb9f3a"
             ],
             [
              0.8888888888888888,
              "#fdca26"
             ],
             [
              1,
              "#f0f921"
             ]
            ],
            "type": "histogram2dcontour"
           }
          ],
          "mesh3d": [
           {
            "colorbar": {
             "outlinewidth": 0,
             "ticks": ""
            },
            "type": "mesh3d"
           }
          ],
          "parcoords": [
           {
            "line": {
             "colorbar": {
              "outlinewidth": 0,
              "ticks": ""
             }
            },
            "type": "parcoords"
           }
          ],
          "pie": [
           {
            "automargin": true,
            "type": "pie"
           }
          ],
          "scatter": [
           {
            "fillpattern": {
             "fillmode": "overlay",
             "size": 10,
             "solidity": 0.2
            },
            "type": "scatter"
           }
          ],
          "scatter3d": [
           {
            "line": {
             "colorbar": {
              "outlinewidth": 0,
              "ticks": ""
             }
            },
            "marker": {
             "colorbar": {
              "outlinewidth": 0,
              "ticks": ""
             }
            },
            "type": "scatter3d"
           }
          ],
          "scattercarpet": [
           {
            "marker": {
             "colorbar": {
              "outlinewidth": 0,
              "ticks": ""
             }
            },
            "type": "scattercarpet"
           }
          ],
          "scattergeo": [
           {
            "marker": {
             "colorbar": {
              "outlinewidth": 0,
              "ticks": ""
             }
            },
            "type": "scattergeo"
           }
          ],
          "scattergl": [
           {
            "marker": {
             "colorbar": {
              "outlinewidth": 0,
              "ticks": ""
             }
            },
            "type": "scattergl"
           }
          ],
          "scattermap": [
           {
            "marker": {
             "colorbar": {
              "outlinewidth": 0,
              "ticks": ""
             }
            },
            "type": "scattermap"
           }
          ],
          "scattermapbox": [
           {
            "marker": {
             "colorbar": {
              "outlinewidth": 0,
              "ticks": ""
             }
            },
            "type": "scattermapbox"
           }
          ],
          "scatterpolar": [
           {
            "marker": {
             "colorbar": {
              "outlinewidth": 0,
              "ticks": ""
             }
            },
            "type": "scatterpolar"
           }
          ],
          "scatterpolargl": [
           {
            "marker": {
             "colorbar": {
              "outlinewidth": 0,
              "ticks": ""
             }
            },
            "type": "scatterpolargl"
           }
          ],
          "scatterternary": [
           {
            "marker": {
             "colorbar": {
              "outlinewidth": 0,
              "ticks": ""
             }
            },
            "type": "scatterternary"
           }
          ],
          "surface": [
           {
            "colorbar": {
             "outlinewidth": 0,
             "ticks": ""
            },
            "colorscale": [
             [
              0,
              "#0d0887"
             ],
             [
              0.1111111111111111,
              "#46039f"
             ],
             [
              0.2222222222222222,
              "#7201a8"
             ],
             [
              0.3333333333333333,
              "#9c179e"
             ],
             [
              0.4444444444444444,
              "#bd3786"
             ],
             [
              0.5555555555555556,
              "#d8576b"
             ],
             [
              0.6666666666666666,
              "#ed7953"
             ],
             [
              0.7777777777777778,
              "#fb9f3a"
             ],
             [
              0.8888888888888888,
              "#fdca26"
             ],
             [
              1,
              "#f0f921"
             ]
            ],
            "type": "surface"
           }
          ],
          "table": [
           {
            "cells": {
             "fill": {
              "color": "#EBF0F8"
             },
             "line": {
              "color": "white"
             }
            },
            "header": {
             "fill": {
              "color": "#C8D4E3"
             },
             "line": {
              "color": "white"
             }
            },
            "type": "table"
           }
          ]
         },
         "layout": {
          "annotationdefaults": {
           "arrowcolor": "#2a3f5f",
           "arrowhead": 0,
           "arrowwidth": 1
          },
          "autotypenumbers": "strict",
          "coloraxis": {
           "colorbar": {
            "outlinewidth": 0,
            "ticks": ""
           }
          },
          "colorscale": {
           "diverging": [
            [
             0,
             "#8e0152"
            ],
            [
             0.1,
             "#c51b7d"
            ],
            [
             0.2,
             "#de77ae"
            ],
            [
             0.3,
             "#f1b6da"
            ],
            [
             0.4,
             "#fde0ef"
            ],
            [
             0.5,
             "#f7f7f7"
            ],
            [
             0.6,
             "#e6f5d0"
            ],
            [
             0.7,
             "#b8e186"
            ],
            [
             0.8,
             "#7fbc41"
            ],
            [
             0.9,
             "#4d9221"
            ],
            [
             1,
             "#276419"
            ]
           ],
           "sequential": [
            [
             0,
             "#0d0887"
            ],
            [
             0.1111111111111111,
             "#46039f"
            ],
            [
             0.2222222222222222,
             "#7201a8"
            ],
            [
             0.3333333333333333,
             "#9c179e"
            ],
            [
             0.4444444444444444,
             "#bd3786"
            ],
            [
             0.5555555555555556,
             "#d8576b"
            ],
            [
             0.6666666666666666,
             "#ed7953"
            ],
            [
             0.7777777777777778,
             "#fb9f3a"
            ],
            [
             0.8888888888888888,
             "#fdca26"
            ],
            [
             1,
             "#f0f921"
            ]
           ],
           "sequentialminus": [
            [
             0,
             "#0d0887"
            ],
            [
             0.1111111111111111,
             "#46039f"
            ],
            [
             0.2222222222222222,
             "#7201a8"
            ],
            [
             0.3333333333333333,
             "#9c179e"
            ],
            [
             0.4444444444444444,
             "#bd3786"
            ],
            [
             0.5555555555555556,
             "#d8576b"
            ],
            [
             0.6666666666666666,
             "#ed7953"
            ],
            [
             0.7777777777777778,
             "#fb9f3a"
            ],
            [
             0.8888888888888888,
             "#fdca26"
            ],
            [
             1,
             "#f0f921"
            ]
           ]
          },
          "colorway": [
           "#636efa",
           "#EF553B",
           "#00cc96",
           "#ab63fa",
           "#FFA15A",
           "#19d3f3",
           "#FF6692",
           "#B6E880",
           "#FF97FF",
           "#FECB52"
          ],
          "font": {
           "color": "#2a3f5f"
          },
          "geo": {
           "bgcolor": "white",
           "lakecolor": "white",
           "landcolor": "#E5ECF6",
           "showlakes": true,
           "showland": true,
           "subunitcolor": "white"
          },
          "hoverlabel": {
           "align": "left"
          },
          "hovermode": "closest",
          "mapbox": {
           "style": "light"
          },
          "paper_bgcolor": "white",
          "plot_bgcolor": "#E5ECF6",
          "polar": {
           "angularaxis": {
            "gridcolor": "white",
            "linecolor": "white",
            "ticks": ""
           },
           "bgcolor": "#E5ECF6",
           "radialaxis": {
            "gridcolor": "white",
            "linecolor": "white",
            "ticks": ""
           }
          },
          "scene": {
           "xaxis": {
            "backgroundcolor": "#E5ECF6",
            "gridcolor": "white",
            "gridwidth": 2,
            "linecolor": "white",
            "showbackground": true,
            "ticks": "",
            "zerolinecolor": "white"
           },
           "yaxis": {
            "backgroundcolor": "#E5ECF6",
            "gridcolor": "white",
            "gridwidth": 2,
            "linecolor": "white",
            "showbackground": true,
            "ticks": "",
            "zerolinecolor": "white"
           },
           "zaxis": {
            "backgroundcolor": "#E5ECF6",
            "gridcolor": "white",
            "gridwidth": 2,
            "linecolor": "white",
            "showbackground": true,
            "ticks": "",
            "zerolinecolor": "white"
           }
          },
          "shapedefaults": {
           "line": {
            "color": "#2a3f5f"
           }
          },
          "ternary": {
           "aaxis": {
            "gridcolor": "white",
            "linecolor": "white",
            "ticks": ""
           },
           "baxis": {
            "gridcolor": "white",
            "linecolor": "white",
            "ticks": ""
           },
           "bgcolor": "#E5ECF6",
           "caxis": {
            "gridcolor": "white",
            "linecolor": "white",
            "ticks": ""
           }
          },
          "title": {
           "x": 0.05
          },
          "xaxis": {
           "automargin": true,
           "gridcolor": "white",
           "linecolor": "white",
           "ticks": "",
           "title": {
            "standoff": 15
           },
           "zerolinecolor": "white",
           "zerolinewidth": 2
          },
          "yaxis": {
           "automargin": true,
           "gridcolor": "white",
           "linecolor": "white",
           "ticks": "",
           "title": {
            "standoff": 15
           },
           "zerolinecolor": "white",
           "zerolinewidth": 2
          }
         }
        },
        "title": {
         "text": "Top 20 Pokémon com Maior Número de Locais Capturáveis"
        },
        "width": 900,
        "xaxis": {
         "anchor": "y",
         "domain": [
          0,
          1
         ],
         "tickangle": 45,
         "title": {
          "text": "Pokémon"
         }
        },
        "yaxis": {
         "anchor": "x",
         "domain": [
          0,
          1
         ],
         "title": {
          "text": "Nº de Locais Capturáveis"
         }
        }
       }
      }
     },
     "metadata": {},
     "output_type": "display_data"
    },
    {
     "data": {
      "application/vnd.plotly.v1+json": {
       "config": {
        "plotlyServerURL": "https://plot.ly"
       },
       "data": [
        {
         "hovertemplate": "Local de Captura=%{x}<br>Frequência=%{y}<extra></extra>",
         "legendgroup": "poke-pelago-elite-four-defeated",
         "marker": {
          "color": "#636efa",
          "pattern": {
           "shape": ""
          }
         },
         "name": "poke-pelago-elite-four-defeated",
         "orientation": "v",
         "showlegend": true,
         "textposition": "auto",
         "type": "bar",
         "x": [
          "poke-pelago-elite-four-defeated"
         ],
         "xaxis": "x",
         "y": {
          "bdata": "LQ==",
          "dtype": "i1"
         },
         "yaxis": "y"
        },
        {
         "hovertemplate": "Local de Captura=%{x}<br>Frequência=%{y}<extra></extra>",
         "legendgroup": "poke-pelago-poni-island-reached",
         "marker": {
          "color": "#EF553B",
          "pattern": {
           "shape": ""
          }
         },
         "name": "poke-pelago-poni-island-reached",
         "orientation": "v",
         "showlegend": true,
         "textposition": "auto",
         "type": "bar",
         "x": [
          "poke-pelago-poni-island-reached"
         ],
         "xaxis": "x",
         "y": {
          "bdata": "Jg==",
          "dtype": "i1"
         },
         "yaxis": "y"
        },
        {
         "hovertemplate": "Local de Captura=%{x}<br>Frequência=%{y}<extra></extra>",
         "legendgroup": "johto-route-34-area",
         "marker": {
          "color": "#00cc96",
          "pattern": {
           "shape": ""
          }
         },
         "name": "johto-route-34-area",
         "orientation": "v",
         "showlegend": true,
         "textposition": "auto",
         "type": "bar",
         "x": [
          "johto-route-34-area"
         ],
         "xaxis": "x",
         "y": {
          "bdata": "JQ==",
          "dtype": "i1"
         },
         "yaxis": "y"
        },
        {
         "hovertemplate": "Local de Captura=%{x}<br>Frequência=%{y}<extra></extra>",
         "legendgroup": "cerulean-cave-1f",
         "marker": {
          "color": "#ab63fa",
          "pattern": {
           "shape": ""
          }
         },
         "name": "cerulean-cave-1f",
         "orientation": "v",
         "showlegend": true,
         "textposition": "auto",
         "type": "bar",
         "x": [
          "cerulean-cave-1f"
         ],
         "xaxis": "x",
         "y": {
          "bdata": "JA==",
          "dtype": "i1"
         },
         "yaxis": "y"
        },
        {
         "hovertemplate": "Local de Captura=%{x}<br>Frequência=%{y}<extra></extra>",
         "legendgroup": "cerulean-cave-b1f",
         "marker": {
          "color": "#FFA15A",
          "pattern": {
           "shape": ""
          }
         },
         "name": "cerulean-cave-b1f",
         "orientation": "v",
         "showlegend": true,
         "textposition": "auto",
         "type": "bar",
         "x": [
          "cerulean-cave-b1f"
         ],
         "xaxis": "x",
         "y": {
          "bdata": "Iw==",
          "dtype": "i1"
         },
         "yaxis": "y"
        },
        {
         "hovertemplate": "Local de Captura=%{x}<br>Frequência=%{y}<extra></extra>",
         "legendgroup": "kanto-route-10-area",
         "marker": {
          "color": "#19d3f3",
          "pattern": {
           "shape": ""
          }
         },
         "name": "kanto-route-10-area",
         "orientation": "v",
         "showlegend": true,
         "textposition": "auto",
         "type": "bar",
         "x": [
          "kanto-route-10-area"
         ],
         "xaxis": "x",
         "y": {
          "bdata": "Ig==",
          "dtype": "i1"
         },
         "yaxis": "y"
        },
        {
         "hovertemplate": "Local de Captura=%{x}<br>Frequência=%{y}<extra></extra>",
         "legendgroup": "kanto-route-13-area",
         "marker": {
          "color": "#FF6692",
          "pattern": {
           "shape": ""
          }
         },
         "name": "kanto-route-13-area",
         "orientation": "v",
         "showlegend": true,
         "textposition": "auto",
         "type": "bar",
         "x": [
          "kanto-route-13-area"
         ],
         "xaxis": "x",
         "y": {
          "bdata": "IQ==",
          "dtype": "i1"
         },
         "yaxis": "y"
        },
        {
         "hovertemplate": "Local de Captura=%{x}<br>Frequência=%{y}<extra></extra>",
         "legendgroup": "cerulean-cave-2f",
         "marker": {
          "color": "#B6E880",
          "pattern": {
           "shape": ""
          }
         },
         "name": "cerulean-cave-2f",
         "orientation": "v",
         "showlegend": true,
         "textposition": "auto",
         "type": "bar",
         "x": [
          "cerulean-cave-2f"
         ],
         "xaxis": "x",
         "y": {
          "bdata": "Hw==",
          "dtype": "i1"
         },
         "yaxis": "y"
        },
        {
         "hovertemplate": "Local de Captura=%{x}<br>Frequência=%{y}<extra></extra>",
         "legendgroup": "kanto-route-25-area",
         "marker": {
          "color": "#FF97FF",
          "pattern": {
           "shape": ""
          }
         },
         "name": "kanto-route-25-area",
         "orientation": "v",
         "showlegend": true,
         "textposition": "auto",
         "type": "bar",
         "x": [
          "kanto-route-25-area"
         ],
         "xaxis": "x",
         "y": {
          "bdata": "Hw==",
          "dtype": "i1"
         },
         "yaxis": "y"
        },
        {
         "hovertemplate": "Local de Captura=%{x}<br>Frequência=%{y}<extra></extra>",
         "legendgroup": "poke-pelago-ulaula-island-reached",
         "marker": {
          "color": "#FECB52",
          "pattern": {
           "shape": ""
          }
         },
         "name": "poke-pelago-ulaula-island-reached",
         "orientation": "v",
         "showlegend": true,
         "textposition": "auto",
         "type": "bar",
         "x": [
          "poke-pelago-ulaula-island-reached"
         ],
         "xaxis": "x",
         "y": {
          "bdata": "Hg==",
          "dtype": "i1"
         },
         "yaxis": "y"
        },
        {
         "hovertemplate": "Local de Captura=%{x}<br>Frequência=%{y}<extra></extra>",
         "legendgroup": "johto-route-35-area",
         "marker": {
          "color": "#636efa",
          "pattern": {
           "shape": ""
          }
         },
         "name": "johto-route-35-area",
         "orientation": "v",
         "showlegend": true,
         "textposition": "auto",
         "type": "bar",
         "x": [
          "johto-route-35-area"
         ],
         "xaxis": "x",
         "y": {
          "bdata": "Hg==",
          "dtype": "i1"
         },
         "yaxis": "y"
        },
        {
         "hovertemplate": "Local de Captura=%{x}<br>Frequência=%{y}<extra></extra>",
         "legendgroup": "kanto-route-24-area",
         "marker": {
          "color": "#EF553B",
          "pattern": {
           "shape": ""
          }
         },
         "name": "kanto-route-24-area",
         "orientation": "v",
         "showlegend": true,
         "textposition": "auto",
         "type": "bar",
         "x": [
          "kanto-route-24-area"
         ],
         "xaxis": "x",
         "y": {
          "bdata": "Hg==",
          "dtype": "i1"
         },
         "yaxis": "y"
        },
        {
         "hovertemplate": "Local de Captura=%{x}<br>Frequência=%{y}<extra></extra>",
         "legendgroup": "kanto-route-27-area",
         "marker": {
          "color": "#00cc96",
          "pattern": {
           "shape": ""
          }
         },
         "name": "kanto-route-27-area",
         "orientation": "v",
         "showlegend": true,
         "textposition": "auto",
         "type": "bar",
         "x": [
          "kanto-route-27-area"
         ],
         "xaxis": "x",
         "y": {
          "bdata": "HQ==",
          "dtype": "i1"
         },
         "yaxis": "y"
        },
        {
         "hovertemplate": "Local de Captura=%{x}<br>Frequência=%{y}<extra></extra>",
         "legendgroup": "lostlorn-forest-area",
         "marker": {
          "color": "#ab63fa",
          "pattern": {
           "shape": ""
          }
         },
         "name": "lostlorn-forest-area",
         "orientation": "v",
         "showlegend": true,
         "textposition": "auto",
         "type": "bar",
         "x": [
          "lostlorn-forest-area"
         ],
         "xaxis": "x",
         "y": {
          "bdata": "HQ==",
          "dtype": "i1"
         },
         "yaxis": "y"
        },
        {
         "hovertemplate": "Local de Captura=%{x}<br>Frequência=%{y}<extra></extra>",
         "legendgroup": "abundant-shrine-area",
         "marker": {
          "color": "#FFA15A",
          "pattern": {
           "shape": ""
          }
         },
         "name": "abundant-shrine-area",
         "orientation": "v",
         "showlegend": true,
         "textposition": "auto",
         "type": "bar",
         "x": [
          "abundant-shrine-area"
         ],
         "xaxis": "x",
         "y": {
          "bdata": "HQ==",
          "dtype": "i1"
         },
         "yaxis": "y"
        },
        {
         "hovertemplate": "Local de Captura=%{x}<br>Frequência=%{y}<extra></extra>",
         "legendgroup": "kanto-route-26-area",
         "marker": {
          "color": "#19d3f3",
          "pattern": {
           "shape": ""
          }
         },
         "name": "kanto-route-26-area",
         "orientation": "v",
         "showlegend": true,
         "textposition": "auto",
         "type": "bar",
         "x": [
          "kanto-route-26-area"
         ],
         "xaxis": "x",
         "y": {
          "bdata": "HA==",
          "dtype": "i1"
         },
         "yaxis": "y"
        },
        {
         "hovertemplate": "Local de Captura=%{x}<br>Frequência=%{y}<extra></extra>",
         "legendgroup": "kanto-route-6-area",
         "marker": {
          "color": "#FF6692",
          "pattern": {
           "shape": ""
          }
         },
         "name": "kanto-route-6-area",
         "orientation": "v",
         "showlegend": true,
         "textposition": "auto",
         "type": "bar",
         "x": [
          "kanto-route-6-area"
         ],
         "xaxis": "x",
         "y": {
          "bdata": "HA==",
          "dtype": "i1"
         },
         "yaxis": "y"
        },
        {
         "hovertemplate": "Local de Captura=%{x}<br>Frequência=%{y}<extra></extra>",
         "legendgroup": "sinnoh-route-229-area",
         "marker": {
          "color": "#B6E880",
          "pattern": {
           "shape": ""
          }
         },
         "name": "sinnoh-route-229-area",
         "orientation": "v",
         "showlegend": true,
         "textposition": "auto",
         "type": "bar",
         "x": [
          "sinnoh-route-229-area"
         ],
         "xaxis": "x",
         "y": {
          "bdata": "HA==",
          "dtype": "i1"
         },
         "yaxis": "y"
        },
        {
         "hovertemplate": "Local de Captura=%{x}<br>Frequência=%{y}<extra></extra>",
         "legendgroup": "kanto-route-11-area",
         "marker": {
          "color": "#FF97FF",
          "pattern": {
           "shape": ""
          }
         },
         "name": "kanto-route-11-area",
         "orientation": "v",
         "showlegend": true,
         "textposition": "auto",
         "type": "bar",
         "x": [
          "kanto-route-11-area"
         ],
         "xaxis": "x",
         "y": {
          "bdata": "Gw==",
          "dtype": "i1"
         },
         "yaxis": "y"
        },
        {
         "hovertemplate": "Local de Captura=%{x}<br>Frequência=%{y}<extra></extra>",
         "legendgroup": "kanto-sea-route-21-area",
         "marker": {
          "color": "#FECB52",
          "pattern": {
           "shape": ""
          }
         },
         "name": "kanto-sea-route-21-area",
         "orientation": "v",
         "showlegend": true,
         "textposition": "auto",
         "type": "bar",
         "x": [
          "kanto-sea-route-21-area"
         ],
         "xaxis": "x",
         "y": {
          "bdata": "Gg==",
          "dtype": "i1"
         },
         "yaxis": "y"
        }
       ],
       "layout": {
        "barmode": "relative",
        "height": 500,
        "legend": {
         "title": {
          "text": "Local de Captura"
         },
         "tracegroupgap": 0
        },
        "template": {
         "data": {
          "bar": [
           {
            "error_x": {
             "color": "#2a3f5f"
            },
            "error_y": {
             "color": "#2a3f5f"
            },
            "marker": {
             "line": {
              "color": "#E5ECF6",
              "width": 0.5
             },
             "pattern": {
              "fillmode": "overlay",
              "size": 10,
              "solidity": 0.2
             }
            },
            "type": "bar"
           }
          ],
          "barpolar": [
           {
            "marker": {
             "line": {
              "color": "#E5ECF6",
              "width": 0.5
             },
             "pattern": {
              "fillmode": "overlay",
              "size": 10,
              "solidity": 0.2
             }
            },
            "type": "barpolar"
           }
          ],
          "carpet": [
           {
            "aaxis": {
             "endlinecolor": "#2a3f5f",
             "gridcolor": "white",
             "linecolor": "white",
             "minorgridcolor": "white",
             "startlinecolor": "#2a3f5f"
            },
            "baxis": {
             "endlinecolor": "#2a3f5f",
             "gridcolor": "white",
             "linecolor": "white",
             "minorgridcolor": "white",
             "startlinecolor": "#2a3f5f"
            },
            "type": "carpet"
           }
          ],
          "choropleth": [
           {
            "colorbar": {
             "outlinewidth": 0,
             "ticks": ""
            },
            "type": "choropleth"
           }
          ],
          "contour": [
           {
            "colorbar": {
             "outlinewidth": 0,
             "ticks": ""
            },
            "colorscale": [
             [
              0,
              "#0d0887"
             ],
             [
              0.1111111111111111,
              "#46039f"
             ],
             [
              0.2222222222222222,
              "#7201a8"
             ],
             [
              0.3333333333333333,
              "#9c179e"
             ],
             [
              0.4444444444444444,
              "#bd3786"
             ],
             [
              0.5555555555555556,
              "#d8576b"
             ],
             [
              0.6666666666666666,
              "#ed7953"
             ],
             [
              0.7777777777777778,
              "#fb9f3a"
             ],
             [
              0.8888888888888888,
              "#fdca26"
             ],
             [
              1,
              "#f0f921"
             ]
            ],
            "type": "contour"
           }
          ],
          "contourcarpet": [
           {
            "colorbar": {
             "outlinewidth": 0,
             "ticks": ""
            },
            "type": "contourcarpet"
           }
          ],
          "heatmap": [
           {
            "colorbar": {
             "outlinewidth": 0,
             "ticks": ""
            },
            "colorscale": [
             [
              0,
              "#0d0887"
             ],
             [
              0.1111111111111111,
              "#46039f"
             ],
             [
              0.2222222222222222,
              "#7201a8"
             ],
             [
              0.3333333333333333,
              "#9c179e"
             ],
             [
              0.4444444444444444,
              "#bd3786"
             ],
             [
              0.5555555555555556,
              "#d8576b"
             ],
             [
              0.6666666666666666,
              "#ed7953"
             ],
             [
              0.7777777777777778,
              "#fb9f3a"
             ],
             [
              0.8888888888888888,
              "#fdca26"
             ],
             [
              1,
              "#f0f921"
             ]
            ],
            "type": "heatmap"
           }
          ],
          "histogram": [
           {
            "marker": {
             "pattern": {
              "fillmode": "overlay",
              "size": 10,
              "solidity": 0.2
             }
            },
            "type": "histogram"
           }
          ],
          "histogram2d": [
           {
            "colorbar": {
             "outlinewidth": 0,
             "ticks": ""
            },
            "colorscale": [
             [
              0,
              "#0d0887"
             ],
             [
              0.1111111111111111,
              "#46039f"
             ],
             [
              0.2222222222222222,
              "#7201a8"
             ],
             [
              0.3333333333333333,
              "#9c179e"
             ],
             [
              0.4444444444444444,
              "#bd3786"
             ],
             [
              0.5555555555555556,
              "#d8576b"
             ],
             [
              0.6666666666666666,
              "#ed7953"
             ],
             [
              0.7777777777777778,
              "#fb9f3a"
             ],
             [
              0.8888888888888888,
              "#fdca26"
             ],
             [
              1,
              "#f0f921"
             ]
            ],
            "type": "histogram2d"
           }
          ],
          "histogram2dcontour": [
           {
            "colorbar": {
             "outlinewidth": 0,
             "ticks": ""
            },
            "colorscale": [
             [
              0,
              "#0d0887"
             ],
             [
              0.1111111111111111,
              "#46039f"
             ],
             [
              0.2222222222222222,
              "#7201a8"
             ],
             [
              0.3333333333333333,
              "#9c179e"
             ],
             [
              0.4444444444444444,
              "#bd3786"
             ],
             [
              0.5555555555555556,
              "#d8576b"
             ],
             [
              0.6666666666666666,
              "#ed7953"
             ],
             [
              0.7777777777777778,
              "#fb9f3a"
             ],
             [
              0.8888888888888888,
              "#fdca26"
             ],
             [
              1,
              "#f0f921"
             ]
            ],
            "type": "histogram2dcontour"
           }
          ],
          "mesh3d": [
           {
            "colorbar": {
             "outlinewidth": 0,
             "ticks": ""
            },
            "type": "mesh3d"
           }
          ],
          "parcoords": [
           {
            "line": {
             "colorbar": {
              "outlinewidth": 0,
              "ticks": ""
             }
            },
            "type": "parcoords"
           }
          ],
          "pie": [
           {
            "automargin": true,
            "type": "pie"
           }
          ],
          "scatter": [
           {
            "fillpattern": {
             "fillmode": "overlay",
             "size": 10,
             "solidity": 0.2
            },
            "type": "scatter"
           }
          ],
          "scatter3d": [
           {
            "line": {
             "colorbar": {
              "outlinewidth": 0,
              "ticks": ""
             }
            },
            "marker": {
             "colorbar": {
              "outlinewidth": 0,
              "ticks": ""
             }
            },
            "type": "scatter3d"
           }
          ],
          "scattercarpet": [
           {
            "marker": {
             "colorbar": {
              "outlinewidth": 0,
              "ticks": ""
             }
            },
            "type": "scattercarpet"
           }
          ],
          "scattergeo": [
           {
            "marker": {
             "colorbar": {
              "outlinewidth": 0,
              "ticks": ""
             }
            },
            "type": "scattergeo"
           }
          ],
          "scattergl": [
           {
            "marker": {
             "colorbar": {
              "outlinewidth": 0,
              "ticks": ""
             }
            },
            "type": "scattergl"
           }
          ],
          "scattermap": [
           {
            "marker": {
             "colorbar": {
              "outlinewidth": 0,
              "ticks": ""
             }
            },
            "type": "scattermap"
           }
          ],
          "scattermapbox": [
           {
            "marker": {
             "colorbar": {
              "outlinewidth": 0,
              "ticks": ""
             }
            },
            "type": "scattermapbox"
           }
          ],
          "scatterpolar": [
           {
            "marker": {
             "colorbar": {
              "outlinewidth": 0,
              "ticks": ""
             }
            },
            "type": "scatterpolar"
           }
          ],
          "scatterpolargl": [
           {
            "marker": {
             "colorbar": {
              "outlinewidth": 0,
              "ticks": ""
             }
            },
            "type": "scatterpolargl"
           }
          ],
          "scatterternary": [
           {
            "marker": {
             "colorbar": {
              "outlinewidth": 0,
              "ticks": ""
             }
            },
            "type": "scatterternary"
           }
          ],
          "surface": [
           {
            "colorbar": {
             "outlinewidth": 0,
             "ticks": ""
            },
            "colorscale": [
             [
              0,
              "#0d0887"
             ],
             [
              0.1111111111111111,
              "#46039f"
             ],
             [
              0.2222222222222222,
              "#7201a8"
             ],
             [
              0.3333333333333333,
              "#9c179e"
             ],
             [
              0.4444444444444444,
              "#bd3786"
             ],
             [
              0.5555555555555556,
              "#d8576b"
             ],
             [
              0.6666666666666666,
              "#ed7953"
             ],
             [
              0.7777777777777778,
              "#fb9f3a"
             ],
             [
              0.8888888888888888,
              "#fdca26"
             ],
             [
              1,
              "#f0f921"
             ]
            ],
            "type": "surface"
           }
          ],
          "table": [
           {
            "cells": {
             "fill": {
              "color": "#EBF0F8"
             },
             "line": {
              "color": "white"
             }
            },
            "header": {
             "fill": {
              "color": "#C8D4E3"
             },
             "line": {
              "color": "white"
             }
            },
            "type": "table"
           }
          ]
         },
         "layout": {
          "annotationdefaults": {
           "arrowcolor": "#2a3f5f",
           "arrowhead": 0,
           "arrowwidth": 1
          },
          "autotypenumbers": "strict",
          "coloraxis": {
           "colorbar": {
            "outlinewidth": 0,
            "ticks": ""
           }
          },
          "colorscale": {
           "diverging": [
            [
             0,
             "#8e0152"
            ],
            [
             0.1,
             "#c51b7d"
            ],
            [
             0.2,
             "#de77ae"
            ],
            [
             0.3,
             "#f1b6da"
            ],
            [
             0.4,
             "#fde0ef"
            ],
            [
             0.5,
             "#f7f7f7"
            ],
            [
             0.6,
             "#e6f5d0"
            ],
            [
             0.7,
             "#b8e186"
            ],
            [
             0.8,
             "#7fbc41"
            ],
            [
             0.9,
             "#4d9221"
            ],
            [
             1,
             "#276419"
            ]
           ],
           "sequential": [
            [
             0,
             "#0d0887"
            ],
            [
             0.1111111111111111,
             "#46039f"
            ],
            [
             0.2222222222222222,
             "#7201a8"
            ],
            [
             0.3333333333333333,
             "#9c179e"
            ],
            [
             0.4444444444444444,
             "#bd3786"
            ],
            [
             0.5555555555555556,
             "#d8576b"
            ],
            [
             0.6666666666666666,
             "#ed7953"
            ],
            [
             0.7777777777777778,
             "#fb9f3a"
            ],
            [
             0.8888888888888888,
             "#fdca26"
            ],
            [
             1,
             "#f0f921"
            ]
           ],
           "sequentialminus": [
            [
             0,
             "#0d0887"
            ],
            [
             0.1111111111111111,
             "#46039f"
            ],
            [
             0.2222222222222222,
             "#7201a8"
            ],
            [
             0.3333333333333333,
             "#9c179e"
            ],
            [
             0.4444444444444444,
             "#bd3786"
            ],
            [
             0.5555555555555556,
             "#d8576b"
            ],
            [
             0.6666666666666666,
             "#ed7953"
            ],
            [
             0.7777777777777778,
             "#fb9f3a"
            ],
            [
             0.8888888888888888,
             "#fdca26"
            ],
            [
             1,
             "#f0f921"
            ]
           ]
          },
          "colorway": [
           "#636efa",
           "#EF553B",
           "#00cc96",
           "#ab63fa",
           "#FFA15A",
           "#19d3f3",
           "#FF6692",
           "#B6E880",
           "#FF97FF",
           "#FECB52"
          ],
          "font": {
           "color": "#2a3f5f"
          },
          "geo": {
           "bgcolor": "white",
           "lakecolor": "white",
           "landcolor": "#E5ECF6",
           "showlakes": true,
           "showland": true,
           "subunitcolor": "white"
          },
          "hoverlabel": {
           "align": "left"
          },
          "hovermode": "closest",
          "mapbox": {
           "style": "light"
          },
          "paper_bgcolor": "white",
          "plot_bgcolor": "#E5ECF6",
          "polar": {
           "angularaxis": {
            "gridcolor": "white",
            "linecolor": "white",
            "ticks": ""
           },
           "bgcolor": "#E5ECF6",
           "radialaxis": {
            "gridcolor": "white",
            "linecolor": "white",
            "ticks": ""
           }
          },
          "scene": {
           "xaxis": {
            "backgroundcolor": "#E5ECF6",
            "gridcolor": "white",
            "gridwidth": 2,
            "linecolor": "white",
            "showbackground": true,
            "ticks": "",
            "zerolinecolor": "white"
           },
           "yaxis": {
            "backgroundcolor": "#E5ECF6",
            "gridcolor": "white",
            "gridwidth": 2,
            "linecolor": "white",
            "showbackground": true,
            "ticks": "",
            "zerolinecolor": "white"
           },
           "zaxis": {
            "backgroundcolor": "#E5ECF6",
            "gridcolor": "white",
            "gridwidth": 2,
            "linecolor": "white",
            "showbackground": true,
            "ticks": "",
            "zerolinecolor": "white"
           }
          },
          "shapedefaults": {
           "line": {
            "color": "#2a3f5f"
           }
          },
          "ternary": {
           "aaxis": {
            "gridcolor": "white",
            "linecolor": "white",
            "ticks": ""
           },
           "baxis": {
            "gridcolor": "white",
            "linecolor": "white",
            "ticks": ""
           },
           "bgcolor": "#E5ECF6",
           "caxis": {
            "gridcolor": "white",
            "linecolor": "white",
            "ticks": ""
           }
          },
          "title": {
           "x": 0.05
          },
          "xaxis": {
           "automargin": true,
           "gridcolor": "white",
           "linecolor": "white",
           "ticks": "",
           "title": {
            "standoff": 15
           },
           "zerolinecolor": "white",
           "zerolinewidth": 2
          },
          "yaxis": {
           "automargin": true,
           "gridcolor": "white",
           "linecolor": "white",
           "ticks": "",
           "title": {
            "standoff": 15
           },
           "zerolinecolor": "white",
           "zerolinewidth": 2
          }
         }
        },
        "title": {
         "text": "Top 20 Locais de Captura Com Maior Diversidade de Pokémon"
        },
        "width": 1000,
        "xaxis": {
         "anchor": "y",
         "categoryarray": [
          "poke-pelago-elite-four-defeated",
          "poke-pelago-poni-island-reached",
          "johto-route-34-area",
          "cerulean-cave-1f",
          "cerulean-cave-b1f",
          "kanto-route-10-area",
          "kanto-route-13-area",
          "cerulean-cave-2f",
          "kanto-route-25-area",
          "poke-pelago-ulaula-island-reached",
          "johto-route-35-area",
          "kanto-route-24-area",
          "kanto-route-27-area",
          "lostlorn-forest-area",
          "abundant-shrine-area",
          "kanto-route-26-area",
          "kanto-route-6-area",
          "sinnoh-route-229-area",
          "kanto-route-11-area",
          "kanto-sea-route-21-area"
         ],
         "categoryorder": "array",
         "domain": [
          0,
          1
         ],
         "tickangle": 45,
         "title": {
          "text": "Local de Captura"
         }
        },
        "yaxis": {
         "anchor": "x",
         "domain": [
          0,
          1
         ],
         "title": {
          "text": "Frequência"
         }
        }
       }
      }
     },
     "metadata": {},
     "output_type": "display_data"
    },
    {
     "data": {
      "application/vnd.plotly.v1+json": {
       "config": {
        "plotlyServerURL": "https://plot.ly"
       },
       "data": [
        {
         "bingroup": "x",
         "hovertemplate": "Quantidade de Pokémon no Local=%{x}<br>count=%{y}<extra></extra>",
         "legendgroup": "",
         "marker": {
          "color": "#636efa",
          "pattern": {
           "shape": ""
          }
         },
         "name": "",
         "nbinsx": 30,
         "orientation": "v",
         "showlegend": false,
         "type": "histogram",
         "x": {
          "bdata": "LSYlJCMiIR8fHh4eHR0dHBwcGxoZGRkZGRgYGBgYGBcXFxcXFxcXFxcXFxcWFhYWFhYWFRUVFRUVFRUVFRUUFBQUFBQUFBQUFBQUFBQUExMTExMTExMTExMTExMTExMTExISEhISEhISEhISEhISEREREREREREREREREREREREQEBAQEBAQEBAQEBAQEBAQEBAPDw8PDw8PDw8PDw8PDw8PDw8PDw4ODg4ODg4ODg4ODg4ODg4ODg4ODg4ODg4ODg4ODg4NDQ0NDQ0NDQ0NDQ0NDQ0NDQ0NDQ0NDQ0NDAwMDAwMDAwMDAwMDAwMDAwMDAwMDAwMDAwMDAwMDAwMDAwLCwsLCwsLCwsLCwsLCwsLCwsLCwsLCwsLCwsLCwsLCwsLCwsLCgoKCgoKCgoKCgoKCgoKCgoKCgoKCgoKCgoKCgoKCgoKCgoKCgoKCgoKCgoJCQkJCQkJCQkJCQkJCQkJCQkJCQkJCQkJCQkJCQkJCQkJCQkICAgICAgICAgICAgICAgICAgICAgICAgICAgICAgICAgICAgICAgICAgICAgICAgICAgICAgICAgICAgICAgIBwcHBwcHBwcHBwcHBwcHBwcHBwcHBwcHBwcHBwcHBwcHBwcHBwcHBwcHBwcGBgYGBgYGBgYGBgYGBgYGBgYGBgYGBgYGBgYGBgYGBgYGBgYGBgYGBgYGBgYGBgYGBgYGBgYGBgYGBgYGBgYGBgYGBgYGBgYGBgYGBgYGBgYGBgYGBQUFBQUFBQUFBQUFBQUFBQUFBQUFBQUFBQUFBQUFBQUFBQUFBQUFBQUFBQUFBQQEBAQEBAQEBAQEBAQEBAQEBAQEBAQEBAQEBAQEBAQEBAQEAwMDAwMDAwMDAwMDAwMDAwMDAwMDAwMDAwMDAwMDAwMDAwMDAwMDAwMDAwMDAwMDAwMCAgICAgICAgICAgICAgICAgICAgICAgICAgICAgICAgICAgICAgICAgICAgICAgICAgICAQEBAQEBAQEBAQEBAQEBAQEBAQEBAQEBAQEBAQEBAQEBAQEBAQEBAQEBAQEBAQEBAQEBAQEBAQEBAQEBAQEBAQEBAQEBAQEBAQEBAQEBAQEBAQEBAQEBAQEBAQEBAQEBAQEBAQEBAQEBAQEBAQEBAQEBAQEBAQEBAQEBAQEBAQEBAQEBAQ==",
          "dtype": "i1"
         },
         "xaxis": "x",
         "yaxis": "y"
        }
       ],
       "layout": {
        "barmode": "relative",
        "height": 400,
        "legend": {
         "tracegroupgap": 0
        },
        "template": {
         "data": {
          "bar": [
           {
            "error_x": {
             "color": "#2a3f5f"
            },
            "error_y": {
             "color": "#2a3f5f"
            },
            "marker": {
             "line": {
              "color": "#E5ECF6",
              "width": 0.5
             },
             "pattern": {
              "fillmode": "overlay",
              "size": 10,
              "solidity": 0.2
             }
            },
            "type": "bar"
           }
          ],
          "barpolar": [
           {
            "marker": {
             "line": {
              "color": "#E5ECF6",
              "width": 0.5
             },
             "pattern": {
              "fillmode": "overlay",
              "size": 10,
              "solidity": 0.2
             }
            },
            "type": "barpolar"
           }
          ],
          "carpet": [
           {
            "aaxis": {
             "endlinecolor": "#2a3f5f",
             "gridcolor": "white",
             "linecolor": "white",
             "minorgridcolor": "white",
             "startlinecolor": "#2a3f5f"
            },
            "baxis": {
             "endlinecolor": "#2a3f5f",
             "gridcolor": "white",
             "linecolor": "white",
             "minorgridcolor": "white",
             "startlinecolor": "#2a3f5f"
            },
            "type": "carpet"
           }
          ],
          "choropleth": [
           {
            "colorbar": {
             "outlinewidth": 0,
             "ticks": ""
            },
            "type": "choropleth"
           }
          ],
          "contour": [
           {
            "colorbar": {
             "outlinewidth": 0,
             "ticks": ""
            },
            "colorscale": [
             [
              0,
              "#0d0887"
             ],
             [
              0.1111111111111111,
              "#46039f"
             ],
             [
              0.2222222222222222,
              "#7201a8"
             ],
             [
              0.3333333333333333,
              "#9c179e"
             ],
             [
              0.4444444444444444,
              "#bd3786"
             ],
             [
              0.5555555555555556,
              "#d8576b"
             ],
             [
              0.6666666666666666,
              "#ed7953"
             ],
             [
              0.7777777777777778,
              "#fb9f3a"
             ],
             [
              0.8888888888888888,
              "#fdca26"
             ],
             [
              1,
              "#f0f921"
             ]
            ],
            "type": "contour"
           }
          ],
          "contourcarpet": [
           {
            "colorbar": {
             "outlinewidth": 0,
             "ticks": ""
            },
            "type": "contourcarpet"
           }
          ],
          "heatmap": [
           {
            "colorbar": {
             "outlinewidth": 0,
             "ticks": ""
            },
            "colorscale": [
             [
              0,
              "#0d0887"
             ],
             [
              0.1111111111111111,
              "#46039f"
             ],
             [
              0.2222222222222222,
              "#7201a8"
             ],
             [
              0.3333333333333333,
              "#9c179e"
             ],
             [
              0.4444444444444444,
              "#bd3786"
             ],
             [
              0.5555555555555556,
              "#d8576b"
             ],
             [
              0.6666666666666666,
              "#ed7953"
             ],
             [
              0.7777777777777778,
              "#fb9f3a"
             ],
             [
              0.8888888888888888,
              "#fdca26"
             ],
             [
              1,
              "#f0f921"
             ]
            ],
            "type": "heatmap"
           }
          ],
          "histogram": [
           {
            "marker": {
             "pattern": {
              "fillmode": "overlay",
              "size": 10,
              "solidity": 0.2
             }
            },
            "type": "histogram"
           }
          ],
          "histogram2d": [
           {
            "colorbar": {
             "outlinewidth": 0,
             "ticks": ""
            },
            "colorscale": [
             [
              0,
              "#0d0887"
             ],
             [
              0.1111111111111111,
              "#46039f"
             ],
             [
              0.2222222222222222,
              "#7201a8"
             ],
             [
              0.3333333333333333,
              "#9c179e"
             ],
             [
              0.4444444444444444,
              "#bd3786"
             ],
             [
              0.5555555555555556,
              "#d8576b"
             ],
             [
              0.6666666666666666,
              "#ed7953"
             ],
             [
              0.7777777777777778,
              "#fb9f3a"
             ],
             [
              0.8888888888888888,
              "#fdca26"
             ],
             [
              1,
              "#f0f921"
             ]
            ],
            "type": "histogram2d"
           }
          ],
          "histogram2dcontour": [
           {
            "colorbar": {
             "outlinewidth": 0,
             "ticks": ""
            },
            "colorscale": [
             [
              0,
              "#0d0887"
             ],
             [
              0.1111111111111111,
              "#46039f"
             ],
             [
              0.2222222222222222,
              "#7201a8"
             ],
             [
              0.3333333333333333,
              "#9c179e"
             ],
             [
              0.4444444444444444,
              "#bd3786"
             ],
             [
              0.5555555555555556,
              "#d8576b"
             ],
             [
              0.6666666666666666,
              "#ed7953"
             ],
             [
              0.7777777777777778,
              "#fb9f3a"
             ],
             [
              0.8888888888888888,
              "#fdca26"
             ],
             [
              1,
              "#f0f921"
             ]
            ],
            "type": "histogram2dcontour"
           }
          ],
          "mesh3d": [
           {
            "colorbar": {
             "outlinewidth": 0,
             "ticks": ""
            },
            "type": "mesh3d"
           }
          ],
          "parcoords": [
           {
            "line": {
             "colorbar": {
              "outlinewidth": 0,
              "ticks": ""
             }
            },
            "type": "parcoords"
           }
          ],
          "pie": [
           {
            "automargin": true,
            "type": "pie"
           }
          ],
          "scatter": [
           {
            "fillpattern": {
             "fillmode": "overlay",
             "size": 10,
             "solidity": 0.2
            },
            "type": "scatter"
           }
          ],
          "scatter3d": [
           {
            "line": {
             "colorbar": {
              "outlinewidth": 0,
              "ticks": ""
             }
            },
            "marker": {
             "colorbar": {
              "outlinewidth": 0,
              "ticks": ""
             }
            },
            "type": "scatter3d"
           }
          ],
          "scattercarpet": [
           {
            "marker": {
             "colorbar": {
              "outlinewidth": 0,
              "ticks": ""
             }
            },
            "type": "scattercarpet"
           }
          ],
          "scattergeo": [
           {
            "marker": {
             "colorbar": {
              "outlinewidth": 0,
              "ticks": ""
             }
            },
            "type": "scattergeo"
           }
          ],
          "scattergl": [
           {
            "marker": {
             "colorbar": {
              "outlinewidth": 0,
              "ticks": ""
             }
            },
            "type": "scattergl"
           }
          ],
          "scattermap": [
           {
            "marker": {
             "colorbar": {
              "outlinewidth": 0,
              "ticks": ""
             }
            },
            "type": "scattermap"
           }
          ],
          "scattermapbox": [
           {
            "marker": {
             "colorbar": {
              "outlinewidth": 0,
              "ticks": ""
             }
            },
            "type": "scattermapbox"
           }
          ],
          "scatterpolar": [
           {
            "marker": {
             "colorbar": {
              "outlinewidth": 0,
              "ticks": ""
             }
            },
            "type": "scatterpolar"
           }
          ],
          "scatterpolargl": [
           {
            "marker": {
             "colorbar": {
              "outlinewidth": 0,
              "ticks": ""
             }
            },
            "type": "scatterpolargl"
           }
          ],
          "scatterternary": [
           {
            "marker": {
             "colorbar": {
              "outlinewidth": 0,
              "ticks": ""
             }
            },
            "type": "scatterternary"
           }
          ],
          "surface": [
           {
            "colorbar": {
             "outlinewidth": 0,
             "ticks": ""
            },
            "colorscale": [
             [
              0,
              "#0d0887"
             ],
             [
              0.1111111111111111,
              "#46039f"
             ],
             [
              0.2222222222222222,
              "#7201a8"
             ],
             [
              0.3333333333333333,
              "#9c179e"
             ],
             [
              0.4444444444444444,
              "#bd3786"
             ],
             [
              0.5555555555555556,
              "#d8576b"
             ],
             [
              0.6666666666666666,
              "#ed7953"
             ],
             [
              0.7777777777777778,
              "#fb9f3a"
             ],
             [
              0.8888888888888888,
              "#fdca26"
             ],
             [
              1,
              "#f0f921"
             ]
            ],
            "type": "surface"
           }
          ],
          "table": [
           {
            "cells": {
             "fill": {
              "color": "#EBF0F8"
             },
             "line": {
              "color": "white"
             }
            },
            "header": {
             "fill": {
              "color": "#C8D4E3"
             },
             "line": {
              "color": "white"
             }
            },
            "type": "table"
           }
          ]
         },
         "layout": {
          "annotationdefaults": {
           "arrowcolor": "#2a3f5f",
           "arrowhead": 0,
           "arrowwidth": 1
          },
          "autotypenumbers": "strict",
          "coloraxis": {
           "colorbar": {
            "outlinewidth": 0,
            "ticks": ""
           }
          },
          "colorscale": {
           "diverging": [
            [
             0,
             "#8e0152"
            ],
            [
             0.1,
             "#c51b7d"
            ],
            [
             0.2,
             "#de77ae"
            ],
            [
             0.3,
             "#f1b6da"
            ],
            [
             0.4,
             "#fde0ef"
            ],
            [
             0.5,
             "#f7f7f7"
            ],
            [
             0.6,
             "#e6f5d0"
            ],
            [
             0.7,
             "#b8e186"
            ],
            [
             0.8,
             "#7fbc41"
            ],
            [
             0.9,
             "#4d9221"
            ],
            [
             1,
             "#276419"
            ]
           ],
           "sequential": [
            [
             0,
             "#0d0887"
            ],
            [
             0.1111111111111111,
             "#46039f"
            ],
            [
             0.2222222222222222,
             "#7201a8"
            ],
            [
             0.3333333333333333,
             "#9c179e"
            ],
            [
             0.4444444444444444,
             "#bd3786"
            ],
            [
             0.5555555555555556,
             "#d8576b"
            ],
            [
             0.6666666666666666,
             "#ed7953"
            ],
            [
             0.7777777777777778,
             "#fb9f3a"
            ],
            [
             0.8888888888888888,
             "#fdca26"
            ],
            [
             1,
             "#f0f921"
            ]
           ],
           "sequentialminus": [
            [
             0,
             "#0d0887"
            ],
            [
             0.1111111111111111,
             "#46039f"
            ],
            [
             0.2222222222222222,
             "#7201a8"
            ],
            [
             0.3333333333333333,
             "#9c179e"
            ],
            [
             0.4444444444444444,
             "#bd3786"
            ],
            [
             0.5555555555555556,
             "#d8576b"
            ],
            [
             0.6666666666666666,
             "#ed7953"
            ],
            [
             0.7777777777777778,
             "#fb9f3a"
            ],
            [
             0.8888888888888888,
             "#fdca26"
            ],
            [
             1,
             "#f0f921"
            ]
           ]
          },
          "colorway": [
           "#636efa",
           "#EF553B",
           "#00cc96",
           "#ab63fa",
           "#FFA15A",
           "#19d3f3",
           "#FF6692",
           "#B6E880",
           "#FF97FF",
           "#FECB52"
          ],
          "font": {
           "color": "#2a3f5f"
          },
          "geo": {
           "bgcolor": "white",
           "lakecolor": "white",
           "landcolor": "#E5ECF6",
           "showlakes": true,
           "showland": true,
           "subunitcolor": "white"
          },
          "hoverlabel": {
           "align": "left"
          },
          "hovermode": "closest",
          "mapbox": {
           "style": "light"
          },
          "paper_bgcolor": "white",
          "plot_bgcolor": "#E5ECF6",
          "polar": {
           "angularaxis": {
            "gridcolor": "white",
            "linecolor": "white",
            "ticks": ""
           },
           "bgcolor": "#E5ECF6",
           "radialaxis": {
            "gridcolor": "white",
            "linecolor": "white",
            "ticks": ""
           }
          },
          "scene": {
           "xaxis": {
            "backgroundcolor": "#E5ECF6",
            "gridcolor": "white",
            "gridwidth": 2,
            "linecolor": "white",
            "showbackground": true,
            "ticks": "",
            "zerolinecolor": "white"
           },
           "yaxis": {
            "backgroundcolor": "#E5ECF6",
            "gridcolor": "white",
            "gridwidth": 2,
            "linecolor": "white",
            "showbackground": true,
            "ticks": "",
            "zerolinecolor": "white"
           },
           "zaxis": {
            "backgroundcolor": "#E5ECF6",
            "gridcolor": "white",
            "gridwidth": 2,
            "linecolor": "white",
            "showbackground": true,
            "ticks": "",
            "zerolinecolor": "white"
           }
          },
          "shapedefaults": {
           "line": {
            "color": "#2a3f5f"
           }
          },
          "ternary": {
           "aaxis": {
            "gridcolor": "white",
            "linecolor": "white",
            "ticks": ""
           },
           "baxis": {
            "gridcolor": "white",
            "linecolor": "white",
            "ticks": ""
           },
           "bgcolor": "#E5ECF6",
           "caxis": {
            "gridcolor": "white",
            "linecolor": "white",
            "ticks": ""
           }
          },
          "title": {
           "x": 0.05
          },
          "xaxis": {
           "automargin": true,
           "gridcolor": "white",
           "linecolor": "white",
           "ticks": "",
           "title": {
            "standoff": 15
           },
           "zerolinecolor": "white",
           "zerolinewidth": 2
          },
          "yaxis": {
           "automargin": true,
           "gridcolor": "white",
           "linecolor": "white",
           "ticks": "",
           "title": {
            "standoff": 15
           },
           "zerolinecolor": "white",
           "zerolinewidth": 2
          }
         }
        },
        "title": {
         "text": "Distribuição da Quantidade de Pokémon por Local de Captura"
        },
        "width": 900,
        "xaxis": {
         "anchor": "y",
         "domain": [
          0,
          1
         ],
         "title": {
          "text": "Quantidade de Pokémon no Local"
         }
        },
        "yaxis": {
         "anchor": "x",
         "domain": [
          0,
          1
         ],
         "title": {
          "text": "count"
         }
        }
       }
      }
     },
     "metadata": {},
     "output_type": "display_data"
    },
    {
     "data": {
      "application/vnd.plotly.v1+json": {
       "config": {
        "plotlyServerURL": "https://plot.ly"
       },
       "data": [
        {
         "cells": {
          "align": "left",
          "fill": {
           "color": "lavender"
          },
          "values": [
           [
            "Média",
            "Mediana",
            "Moda",
            "Mínimo",
            "Máximo",
            "Desvio Padrão",
            "Total de Locais"
           ],
           [
            "8.87",
            "7.00",
            1,
            1,
            45,
            "7.02",
            883
           ]
          ]
         },
         "header": {
          "align": "left",
          "fill": {
           "color": "paleturquoise"
          },
          "values": [
           "Estatística",
           "Valor"
          ]
         },
         "type": "table"
        }
       ],
       "layout": {
        "height": 400,
        "template": {
         "data": {
          "bar": [
           {
            "error_x": {
             "color": "#2a3f5f"
            },
            "error_y": {
             "color": "#2a3f5f"
            },
            "marker": {
             "line": {
              "color": "#E5ECF6",
              "width": 0.5
             },
             "pattern": {
              "fillmode": "overlay",
              "size": 10,
              "solidity": 0.2
             }
            },
            "type": "bar"
           }
          ],
          "barpolar": [
           {
            "marker": {
             "line": {
              "color": "#E5ECF6",
              "width": 0.5
             },
             "pattern": {
              "fillmode": "overlay",
              "size": 10,
              "solidity": 0.2
             }
            },
            "type": "barpolar"
           }
          ],
          "carpet": [
           {
            "aaxis": {
             "endlinecolor": "#2a3f5f",
             "gridcolor": "white",
             "linecolor": "white",
             "minorgridcolor": "white",
             "startlinecolor": "#2a3f5f"
            },
            "baxis": {
             "endlinecolor": "#2a3f5f",
             "gridcolor": "white",
             "linecolor": "white",
             "minorgridcolor": "white",
             "startlinecolor": "#2a3f5f"
            },
            "type": "carpet"
           }
          ],
          "choropleth": [
           {
            "colorbar": {
             "outlinewidth": 0,
             "ticks": ""
            },
            "type": "choropleth"
           }
          ],
          "contour": [
           {
            "colorbar": {
             "outlinewidth": 0,
             "ticks": ""
            },
            "colorscale": [
             [
              0,
              "#0d0887"
             ],
             [
              0.1111111111111111,
              "#46039f"
             ],
             [
              0.2222222222222222,
              "#7201a8"
             ],
             [
              0.3333333333333333,
              "#9c179e"
             ],
             [
              0.4444444444444444,
              "#bd3786"
             ],
             [
              0.5555555555555556,
              "#d8576b"
             ],
             [
              0.6666666666666666,
              "#ed7953"
             ],
             [
              0.7777777777777778,
              "#fb9f3a"
             ],
             [
              0.8888888888888888,
              "#fdca26"
             ],
             [
              1,
              "#f0f921"
             ]
            ],
            "type": "contour"
           }
          ],
          "contourcarpet": [
           {
            "colorbar": {
             "outlinewidth": 0,
             "ticks": ""
            },
            "type": "contourcarpet"
           }
          ],
          "heatmap": [
           {
            "colorbar": {
             "outlinewidth": 0,
             "ticks": ""
            },
            "colorscale": [
             [
              0,
              "#0d0887"
             ],
             [
              0.1111111111111111,
              "#46039f"
             ],
             [
              0.2222222222222222,
              "#7201a8"
             ],
             [
              0.3333333333333333,
              "#9c179e"
             ],
             [
              0.4444444444444444,
              "#bd3786"
             ],
             [
              0.5555555555555556,
              "#d8576b"
             ],
             [
              0.6666666666666666,
              "#ed7953"
             ],
             [
              0.7777777777777778,
              "#fb9f3a"
             ],
             [
              0.8888888888888888,
              "#fdca26"
             ],
             [
              1,
              "#f0f921"
             ]
            ],
            "type": "heatmap"
           }
          ],
          "histogram": [
           {
            "marker": {
             "pattern": {
              "fillmode": "overlay",
              "size": 10,
              "solidity": 0.2
             }
            },
            "type": "histogram"
           }
          ],
          "histogram2d": [
           {
            "colorbar": {
             "outlinewidth": 0,
             "ticks": ""
            },
            "colorscale": [
             [
              0,
              "#0d0887"
             ],
             [
              0.1111111111111111,
              "#46039f"
             ],
             [
              0.2222222222222222,
              "#7201a8"
             ],
             [
              0.3333333333333333,
              "#9c179e"
             ],
             [
              0.4444444444444444,
              "#bd3786"
             ],
             [
              0.5555555555555556,
              "#d8576b"
             ],
             [
              0.6666666666666666,
              "#ed7953"
             ],
             [
              0.7777777777777778,
              "#fb9f3a"
             ],
             [
              0.8888888888888888,
              "#fdca26"
             ],
             [
              1,
              "#f0f921"
             ]
            ],
            "type": "histogram2d"
           }
          ],
          "histogram2dcontour": [
           {
            "colorbar": {
             "outlinewidth": 0,
             "ticks": ""
            },
            "colorscale": [
             [
              0,
              "#0d0887"
             ],
             [
              0.1111111111111111,
              "#46039f"
             ],
             [
              0.2222222222222222,
              "#7201a8"
             ],
             [
              0.3333333333333333,
              "#9c179e"
             ],
             [
              0.4444444444444444,
              "#bd3786"
             ],
             [
              0.5555555555555556,
              "#d8576b"
             ],
             [
              0.6666666666666666,
              "#ed7953"
             ],
             [
              0.7777777777777778,
              "#fb9f3a"
             ],
             [
              0.8888888888888888,
              "#fdca26"
             ],
             [
              1,
              "#f0f921"
             ]
            ],
            "type": "histogram2dcontour"
           }
          ],
          "mesh3d": [
           {
            "colorbar": {
             "outlinewidth": 0,
             "ticks": ""
            },
            "type": "mesh3d"
           }
          ],
          "parcoords": [
           {
            "line": {
             "colorbar": {
              "outlinewidth": 0,
              "ticks": ""
             }
            },
            "type": "parcoords"
           }
          ],
          "pie": [
           {
            "automargin": true,
            "type": "pie"
           }
          ],
          "scatter": [
           {
            "fillpattern": {
             "fillmode": "overlay",
             "size": 10,
             "solidity": 0.2
            },
            "type": "scatter"
           }
          ],
          "scatter3d": [
           {
            "line": {
             "colorbar": {
              "outlinewidth": 0,
              "ticks": ""
             }
            },
            "marker": {
             "colorbar": {
              "outlinewidth": 0,
              "ticks": ""
             }
            },
            "type": "scatter3d"
           }
          ],
          "scattercarpet": [
           {
            "marker": {
             "colorbar": {
              "outlinewidth": 0,
              "ticks": ""
             }
            },
            "type": "scattercarpet"
           }
          ],
          "scattergeo": [
           {
            "marker": {
             "colorbar": {
              "outlinewidth": 0,
              "ticks": ""
             }
            },
            "type": "scattergeo"
           }
          ],
          "scattergl": [
           {
            "marker": {
             "colorbar": {
              "outlinewidth": 0,
              "ticks": ""
             }
            },
            "type": "scattergl"
           }
          ],
          "scattermap": [
           {
            "marker": {
             "colorbar": {
              "outlinewidth": 0,
              "ticks": ""
             }
            },
            "type": "scattermap"
           }
          ],
          "scattermapbox": [
           {
            "marker": {
             "colorbar": {
              "outlinewidth": 0,
              "ticks": ""
             }
            },
            "type": "scattermapbox"
           }
          ],
          "scatterpolar": [
           {
            "marker": {
             "colorbar": {
              "outlinewidth": 0,
              "ticks": ""
             }
            },
            "type": "scatterpolar"
           }
          ],
          "scatterpolargl": [
           {
            "marker": {
             "colorbar": {
              "outlinewidth": 0,
              "ticks": ""
             }
            },
            "type": "scatterpolargl"
           }
          ],
          "scatterternary": [
           {
            "marker": {
             "colorbar": {
              "outlinewidth": 0,
              "ticks": ""
             }
            },
            "type": "scatterternary"
           }
          ],
          "surface": [
           {
            "colorbar": {
             "outlinewidth": 0,
             "ticks": ""
            },
            "colorscale": [
             [
              0,
              "#0d0887"
             ],
             [
              0.1111111111111111,
              "#46039f"
             ],
             [
              0.2222222222222222,
              "#7201a8"
             ],
             [
              0.3333333333333333,
              "#9c179e"
             ],
             [
              0.4444444444444444,
              "#bd3786"
             ],
             [
              0.5555555555555556,
              "#d8576b"
             ],
             [
              0.6666666666666666,
              "#ed7953"
             ],
             [
              0.7777777777777778,
              "#fb9f3a"
             ],
             [
              0.8888888888888888,
              "#fdca26"
             ],
             [
              1,
              "#f0f921"
             ]
            ],
            "type": "surface"
           }
          ],
          "table": [
           {
            "cells": {
             "fill": {
              "color": "#EBF0F8"
             },
             "line": {
              "color": "white"
             }
            },
            "header": {
             "fill": {
              "color": "#C8D4E3"
             },
             "line": {
              "color": "white"
             }
            },
            "type": "table"
           }
          ]
         },
         "layout": {
          "annotationdefaults": {
           "arrowcolor": "#2a3f5f",
           "arrowhead": 0,
           "arrowwidth": 1
          },
          "autotypenumbers": "strict",
          "coloraxis": {
           "colorbar": {
            "outlinewidth": 0,
            "ticks": ""
           }
          },
          "colorscale": {
           "diverging": [
            [
             0,
             "#8e0152"
            ],
            [
             0.1,
             "#c51b7d"
            ],
            [
             0.2,
             "#de77ae"
            ],
            [
             0.3,
             "#f1b6da"
            ],
            [
             0.4,
             "#fde0ef"
            ],
            [
             0.5,
             "#f7f7f7"
            ],
            [
             0.6,
             "#e6f5d0"
            ],
            [
             0.7,
             "#b8e186"
            ],
            [
             0.8,
             "#7fbc41"
            ],
            [
             0.9,
             "#4d9221"
            ],
            [
             1,
             "#276419"
            ]
           ],
           "sequential": [
            [
             0,
             "#0d0887"
            ],
            [
             0.1111111111111111,
             "#46039f"
            ],
            [
             0.2222222222222222,
             "#7201a8"
            ],
            [
             0.3333333333333333,
             "#9c179e"
            ],
            [
             0.4444444444444444,
             "#bd3786"
            ],
            [
             0.5555555555555556,
             "#d8576b"
            ],
            [
             0.6666666666666666,
             "#ed7953"
            ],
            [
             0.7777777777777778,
             "#fb9f3a"
            ],
            [
             0.8888888888888888,
             "#fdca26"
            ],
            [
             1,
             "#f0f921"
            ]
           ],
           "sequentialminus": [
            [
             0,
             "#0d0887"
            ],
            [
             0.1111111111111111,
             "#46039f"
            ],
            [
             0.2222222222222222,
             "#7201a8"
            ],
            [
             0.3333333333333333,
             "#9c179e"
            ],
            [
             0.4444444444444444,
             "#bd3786"
            ],
            [
             0.5555555555555556,
             "#d8576b"
            ],
            [
             0.6666666666666666,
             "#ed7953"
            ],
            [
             0.7777777777777778,
             "#fb9f3a"
            ],
            [
             0.8888888888888888,
             "#fdca26"
            ],
            [
             1,
             "#f0f921"
            ]
           ]
          },
          "colorway": [
           "#636efa",
           "#EF553B",
           "#00cc96",
           "#ab63fa",
           "#FFA15A",
           "#19d3f3",
           "#FF6692",
           "#B6E880",
           "#FF97FF",
           "#FECB52"
          ],
          "font": {
           "color": "#2a3f5f"
          },
          "geo": {
           "bgcolor": "white",
           "lakecolor": "white",
           "landcolor": "#E5ECF6",
           "showlakes": true,
           "showland": true,
           "subunitcolor": "white"
          },
          "hoverlabel": {
           "align": "left"
          },
          "hovermode": "closest",
          "mapbox": {
           "style": "light"
          },
          "paper_bgcolor": "white",
          "plot_bgcolor": "#E5ECF6",
          "polar": {
           "angularaxis": {
            "gridcolor": "white",
            "linecolor": "white",
            "ticks": ""
           },
           "bgcolor": "#E5ECF6",
           "radialaxis": {
            "gridcolor": "white",
            "linecolor": "white",
            "ticks": ""
           }
          },
          "scene": {
           "xaxis": {
            "backgroundcolor": "#E5ECF6",
            "gridcolor": "white",
            "gridwidth": 2,
            "linecolor": "white",
            "showbackground": true,
            "ticks": "",
            "zerolinecolor": "white"
           },
           "yaxis": {
            "backgroundcolor": "#E5ECF6",
            "gridcolor": "white",
            "gridwidth": 2,
            "linecolor": "white",
            "showbackground": true,
            "ticks": "",
            "zerolinecolor": "white"
           },
           "zaxis": {
            "backgroundcolor": "#E5ECF6",
            "gridcolor": "white",
            "gridwidth": 2,
            "linecolor": "white",
            "showbackground": true,
            "ticks": "",
            "zerolinecolor": "white"
           }
          },
          "shapedefaults": {
           "line": {
            "color": "#2a3f5f"
           }
          },
          "ternary": {
           "aaxis": {
            "gridcolor": "white",
            "linecolor": "white",
            "ticks": ""
           },
           "baxis": {
            "gridcolor": "white",
            "linecolor": "white",
            "ticks": ""
           },
           "bgcolor": "#E5ECF6",
           "caxis": {
            "gridcolor": "white",
            "linecolor": "white",
            "ticks": ""
           }
          },
          "title": {
           "x": 0.05
          },
          "xaxis": {
           "automargin": true,
           "gridcolor": "white",
           "linecolor": "white",
           "ticks": "",
           "title": {
            "standoff": 15
           },
           "zerolinecolor": "white",
           "zerolinewidth": 2
          },
          "yaxis": {
           "automargin": true,
           "gridcolor": "white",
           "linecolor": "white",
           "ticks": "",
           "title": {
            "standoff": 15
           },
           "zerolinecolor": "white",
           "zerolinewidth": 2
          }
         }
        },
        "title": {
         "text": "Estatísticas - Pokémon por Local de Captura"
        },
        "width": 600
       }
      }
     },
     "metadata": {},
     "output_type": "display_data"
    }
   ],
   "source": [
    "import plotly.express as px\n",
    "import os\n",
    "\n",
    "# Explode a coluna 'capture_location' para que cada local ocupe uma linha\n",
    "df_locais = basicdf.explode('capture_location')\n",
    "\n",
    "# Remove valores nulos/vazios\n",
    "df_locais = df_locais[df_locais['capture_location'].notnull() & (df_locais['capture_location'] != '')]\n",
    "\n",
    "# Conta a frequência de cada local de captura\n",
    "freq_locais = df_locais['capture_location'].value_counts().reset_index()\n",
    "freq_locais.columns = ['Local de Captura', 'Frequência']\n",
    "\n",
    "# Top 20 pokémons com maior número de locais capturáveis\n",
    "basicdf['num_locais'] = basicdf['capture_location'].apply(lambda x: len(x) if isinstance(x, list) else 0)\n",
    "top20 = basicdf.sort_values('num_locais', ascending=False)[['name', 'num_locais']].head(20)\n",
    "\n",
    "fig = px.bar(\n",
    "    top20,\n",
    "    x='name',\n",
    "    y='num_locais',\n",
    "    title='Top 20 Pokémon com Maior Número de Locais Capturáveis',\n",
    "    labels={'name': 'Pokémon', 'num_locais': 'Nº de Locais Capturáveis'},\n",
    "    color='num_locais',\n",
    "    color_continuous_scale='Blues'\n",
    ")\n",
    "fig.update_layout(xaxis_tickangle=45, width=900, height=500)\n",
    "os.makedirs('./charts/capture-regions', exist_ok=True)\n",
    "fig.write_image('./charts/capture-regions/top20_pokemons_locais_captura.png')\n",
    "fig.show()\n",
    "\n",
    "# Gera o histograma dos 20 locais mais frequentes\n",
    "fig = px.bar(\n",
    "    freq_locais.head(20),\n",
    "    x='Local de Captura',\n",
    "    y='Frequência',\n",
    "    title='Top 20 Locais de Captura Com Maior Diversidade de Pokémon',\n",
    "    color='Local de Captura'\n",
    ")\n",
    "fig.update_layout(xaxis_tickangle=45, width=1000, height=500)\n",
    "fig.write_image('./charts/capture-regions/histograma_top20_locais_captura.png')\n",
    "fig.show()\n",
    "\n",
    "# Gráfico de dispersão da quantidade de Pokémon por local de captura (todas as áreas)\n",
    "fig_disp = px.histogram(\n",
    "    freq_locais,\n",
    "    x='Frequência',\n",
    "    nbins=30,\n",
    "    title='Distribuição da Quantidade de Pokémon por Local de Captura',\n",
    "    labels={'Frequência': 'Quantidade de Pokémon no Local'}\n",
    ")\n",
    "fig_disp.update_layout(width=900, height=400)\n",
    "fig_disp.write_image('./charts/capture-regions/dispersao_pokemons_por_local.png')\n",
    "fig_disp.show()\n",
    "\n",
    "# Estatísticas descritivas\n",
    "\n",
    "# freq_locais já contém a contagem de pokémons por local de captura\n",
    "freq_locais.columns = ['Local de Captura', 'Frequência']\n",
    "desc_stats = {\n",
    "    \"Média\": freq_locais['Frequência'].mean(),\n",
    "    \"Mediana\": freq_locais['Frequência'].median(),\n",
    "    \"Moda\": freq_locais['Frequência'].mode().iloc[0] if not freq_locais['Frequência'].mode().empty else np.nan,\n",
    "    \"Mínimo\": freq_locais['Frequência'].min(),\n",
    "    \"Máximo\": freq_locais['Frequência'].max(),\n",
    "    \"Desvio Padrão\": freq_locais['Frequência'].std(),\n",
    "    \"Total de Locais\": freq_locais.shape[0]\n",
    "}\n",
    "\n",
    "# Monta a tabela para exibição\n",
    "tabela = pd.DataFrame({\n",
    "    \"Estatística\": list(desc_stats.keys()),\n",
    "    \"Valor\": [f\"{v:.2f}\" if isinstance(v, float) else v for v in desc_stats.values()]\n",
    "})\n",
    "\n",
    "# Exibe a tabela com plotly\n",
    "fig = go.Figure(data=[go.Table(\n",
    "    header=dict(values=[\"Estatística\", \"Valor\"], fill_color='paleturquoise', align='left'),\n",
    "    cells=dict(values=[tabela['Estatística'], tabela['Valor']], fill_color='lavender', align='left')\n",
    ")])\n",
    "fig.update_layout(width=600, height=400, title=\"Estatísticas - Pokémon por Local de Captura\")\n",
    "fig.write_image('./charts/capture-regions/estatisticas_locais_captura.png')\n",
    "fig.show()\n",
    "\n"
   ]
  },
  {
   "cell_type": "markdown",
   "id": "ff0131e1",
   "metadata": {},
   "source": [
    "### Matriz de Correlação entre Atributos Numéricos dos Pokémon\n",
    "\n",
    "- **total × outros atributos:**  \n",
    "  O atributo \"total\" apresenta alta correlação com todos os atributos individuais, especialmente ataque, defesa, HP e ataque especial, pois é a soma direta desses valores.\n",
    "\n",
    "- **height × weight (0.63):**  \n",
    "  Altura e peso têm uma correlação forte, como esperado, já que Pokémon mais altos tendem a ser mais pesados.\n",
    "\n",
    "- **speed × outros atributos:**  \n",
    "  Velocidade apresenta correlação mais baixa com os demais atributos, indicando que ser rápido não necessariamente significa ter outros atributos altos.\n",
    "\n",
    "- **sp_atk e sp_def:**  \n",
    "  A correlação entre defesa especial e defesa é moderada, enquanto a correlação entre ataque especial e ataque é fraca. \n",
    "\n",
    "**Resumo:**  \n",
    "A matriz revela que Altura e Peso tem relação, assim como defesa especial e defesa. Já velocidade é um atributo mais \"independente\", variando bastante entre Pokémon de diferentes perfis."
   ]
  },
  {
   "cell_type": "code",
   "execution_count": 12,
   "id": "479258c4",
   "metadata": {},
   "outputs": [
    {
     "data": {
      "image/png": "[encoded data removed]",
      "text/plain": [
       "<Figure size 1000x800 with 2 Axes>"
      ]
     },
     "metadata": {},
     "output_type": "display_data"
    }
   ],
   "source": [
    "import seaborn as sns\n",
    "import matplotlib.pyplot as plt\n",
    "\n",
    "# Seleciona apenas as colunas numéricas relevantes\n",
    "numeric_cols = ['attack', 'defense', 'hp', 'sp_atk', 'sp_def', 'speed', 'total', 'height', 'weight']\n",
    "\n",
    "# Calcula a matriz de correlação\n",
    "corr_matrix = basicdf[numeric_cols].corr()\n",
    "\n",
    "# Exibe a matriz de correlação como um heatmap\n",
    "plt.figure(figsize=(10, 8))\n",
    "sns.heatmap(corr_matrix, annot=True, cmap='Blues', fmt=\".2f\", linewidths=0.5)\n",
    "plt.title('Matriz de Correlação entre Atributos Numéricos dos Pokémon')\n",
    "plt.tight_layout()\n",
    "os.makedirs('./charts/stats-correlation', exist_ok=True)\n",
    "plt.savefig('./charts/stats-correlation/matriz_correlacao_pokemon.png')\n",
    "plt.show()"
   ]
  },
  {
   "cell_type": "markdown",
   "id": "03d1243b",
   "metadata": {},
   "source": [
    "## Analises com Inteligência Artificial"
   ]
  }
 ],
 "metadata": {
  "kernelspec": {
   "display_name": "Python 3",
   "language": "python",
   "name": "python3"
  },
  "language_info": {
   "codemirror_mode": {
    "name": "ipython",
    "version": 3
   },
   "file_extension": ".py",
   "mimetype": "text/x-python",
   "name": "python",
   "nbconvert_exporter": "python",
   "pygments_lexer": "ipython3",
   "version": "3.12.4"
  }
 },
 "nbformat": 4,
 "nbformat_minor": 5
}
