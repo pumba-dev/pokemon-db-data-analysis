{
 "cells": [
  {
   "cell_type": "markdown",
   "id": "3415ba3d",
   "metadata": {},
   "source": [
    "# POKEMON DATABASE - DATA ANALYSIS\n",
    "\n",
    "> Neste notebook, vamos explorar e analisar uma base de dados completa de Pokémon, extraída de fontes públicas e enriquecida com informações adicionais, como atributos de batalha, habilidades, fraquezas e locais de captura.\n",
    "\n",
    "O objetivo deste trabalho é aplicar técnicas de análise de dados para responder perguntas relevantes, identificar padrões, tendências e insights que possam ser úteis para jogadores, pesquisadores ou entusiastas do universo Pokémon.\n",
    "\n",
    "Ao longo do notebook, você encontrará:\n",
    "- Bibliotecas utilizadas\n",
    "- Extração, limpeza e preparação dos dados \n",
    "- Dicionário de dados\n",
    "- Análise de qualidade e exploratória dos dados\n",
    "- Visualizações para facilitar a compreensão dos dados\n",
    "- Descoberta de relações entre tipos, habilidades, fraquezas e desempenho\n",
    "- Insights sobre distribuição, raridade e características marcantes dos Pokémon"
   ]
  },
  {
   "cell_type": "markdown",
   "id": "7bd7014b",
   "metadata": {},
   "source": [
    "## Bibliotecas Utilizadas\n"
   ]
  },
  {
   "cell_type": "markdown",
   "id": "d217a665",
   "metadata": {},
   "source": [
    "Para realizar a análise e manipulação dos dados neste notebook, utilizamos as seguintes bibliotecas Python:\n",
    "\n",
    "- **pandas**  \n",
    "  Utilizada para manipulação, limpeza e análise de dados em formato tabular (DataFrames). É a principal biblioteca para análise de dados estruturados em Python.\n",
    "\n",
    "- **beautifulsoup4**  \n",
    "  Usada para fazer parsing e extração de informações de arquivos HTML, permitindo coletar dados de páginas web de forma eficiente.\n",
    "\n",
    "- **requests**  \n",
    "  Permite realizar requisições HTTP para acessar APIs e baixar dados diretamente da internet, como a PokeAPI.\n",
    "\n",
    "- **plotly**  \n",
    "  Biblioteca para criação de visualizações interativas e dinâmicas, como gráficos e tabelas, facilitando a exploração visual dos dados.\n",
    "\n",
    "- **nbformat**  \n",
    "  Necessária para o funcionamento correto de notebooks Jupyter, especialmente para renderização de gráficos interativos (como os do Plotly) dentro do ambiente do notebook.\n"
   ]
  },
  {
   "cell_type": "code",
   "execution_count": null,
   "id": "c49b49bd",
   "metadata": {},
   "outputs": [],
   "source": [
    "\n",
    "%pip install pandas\n",
    "%pip install beautifulsoup4\n",
    "%pip install requests\n",
    "%pip install plotly\n",
    "%pip install nbformat\n",
    "%pip install scipy\n",
    "%pip install kaleido\n",
    "%pip install seaborn\n",
    "%pip install matplotlib"
   ]
  },
  {
   "cell_type": "markdown",
   "id": "197e7927",
   "metadata": {},
   "source": [
    "## Extração, Limpeza e Preparação dos Dados"
   ]
  },
  {
   "cell_type": "markdown",
   "id": "041b702d",
   "metadata": {},
   "source": [
    "O processo de construção da base de dados utilizada nesta análise envolveu diversas etapas de extração, enriquecimento e preparação dos dados, conforme descrito abaixo:\n",
    "\n",
    "- **Extração Inicial:**  \n",
    "  A base principal de Pokémon foi extraída do site oficial [Pokédex Pokémon](https://www.pokemon.com/br/pokedex), contendo informações básicas de cada espécie.\n",
    "\n",
    "- **Enriquecimento com Localização de Captura:**  \n",
    "  Utilizou-se a [PokeAPI](https://pokeapi.co/) para complementar a base, adicionando as localizações de captura de cada Pokémon, tornando a análise mais rica e detalhada.\n",
    "\n",
    "- **Resgate de Dados de Status:**  \n",
    "  Os dados de status dos Pokémon (HP, Attack, Defense, Sp. Attack, Sp. Defense e Speed) foram extraídos do site [Pokémon Database](https://pokemondb.net/pokedex/all) utilizando a biblioteca BeautifulSoup para leitura do HTML.  \n",
    "  - Para Pokémon com diferentes formas, foi considerado o status da forma padrão/normal.\n",
    "\n",
    "- **Normalização dos valores:**  \n",
    "  Para garantir a consistência e facilitar a análise, os valores numéricos de altura (`height`) e peso (`weight`) dos Pokémon foram convertidos para o tipo `float`, representando metros e quilogramas, respectivamente. Além disso, todos os nomes, tipos, habilidades e fraquezas foram padronizados para letras minúsculas, evitando duplicidade de categorias devido a diferenças de capitalização.\n",
    "\n",
    "- **Codificação de Dados Categóricos:**  \n",
    "  Para lidar com atributos que possuem múltiplos valores (como habilidades, tipos, fraquezas e locais de captura), foi aplicada a técnica de One Hot Encoding, facilitando a análise e a modelagem dos dados.\n",
    "\n",
    "Essas etapas garantem uma base de dados consolidada, limpa e pronta para análises mais profundas e visualizações"
   ]
  },
  {
   "cell_type": "code",
   "execution_count": null,
   "id": "07c06187",
   "metadata": {},
   "outputs": [],
   "source": [
    "import json\n",
    "import pandas as pd\n",
    "\n",
    "# Ler o JSON extraindo do site oficial da pokedex\n",
    "with open('./assets/pokedex-db.json', \"r\", encoding=\"utf-8\") as f:\n",
    "    pokedex_data = json.load(f)\n",
    "\n",
    "# Converter para DataFrame\n",
    "df = pd.DataFrame(pokedex_data)\n",
    "\n",
    "print(f\"Tamanho do DataFrame: {df.shape}\")\n",
    "print(f\"Colunas do DataFrame: {df.columns.tolist()}\")"
   ]
  },
  {
   "cell_type": "code",
   "execution_count": null,
   "id": "14b36020",
   "metadata": {},
   "outputs": [],
   "source": [
    "\n",
    "# Removendo colunas desnecessárias se existirem\n",
    "if 'number' in df.columns:\n",
    "    df.drop(columns=['number'], inplace=True)\n",
    "if 'detailPageURL' in df.columns:\n",
    "    df.drop(columns=['detailPageURL'], inplace=True)\n",
    "if 'collectibles_slug' in df.columns:\n",
    "    df.drop(columns=['collectibles_slug'], inplace=True)\n",
    "if 'featured' in df.columns:\n",
    "    df.drop(columns=['featured'], inplace=True)\n",
    "if 'slug' in df.columns:\n",
    "    df.drop(columns=['slug'], inplace=True)\n",
    "if 'ThumbnailAltText' in df.columns:\n",
    "    df.drop(columns=['ThumbnailAltText'], inplace=True)\n",
    "if 'ThumbnailImage' in df.columns:\n",
    "    df.drop(columns=['ThumbnailImage'], inplace=True)\n",
    "    \n",
    "# Converter valores das colunas de tipo string para minusculo\n",
    "df['name'] = df['name'].str.lower()\n",
    "for col in ['type', 'abilities', 'weakness']:\n",
    "    df[col] = df[col].apply(lambda x: [i.lower() for i in x] if isinstance(x, list) else x)\n",
    "     \n",
    "print(f\"Tamanho do DataFrame após remoção de colunas: {df.shape}\\n\\n\")\n",
    "print(df.head(5))\n",
    "        "
   ]
  },
  {
   "cell_type": "code",
   "execution_count": null,
   "id": "9803c4a1",
   "metadata": {},
   "outputs": [],
   "source": [
    "from bs4 import BeautifulSoup\n",
    "import json\n",
    "\n",
    "# Abra e leia o arquivo HTML\n",
    "with open('./assets/pokemondb-net.html', 'r', encoding='utf-8') as f:\n",
    "    html = f.read()\n",
    "\n",
    "soup = BeautifulSoup(html, 'html.parser')\n",
    "\n",
    "# Encontre a tabela com id=\"pokedex\"\n",
    "table = soup.find('table', {'id': 'pokedex'})\n",
    "\n",
    "# Pegue o cabeçalho da tabela\n",
    "headers = [th.get_text(strip=True) for th in table.find('thead').find_all('th')]\n",
    "\n",
    "# Descubra o índice da coluna 'Type'\n",
    "type_index = headers.index('Type')\n",
    "\n",
    "# Remova 'Type' dos headers\n",
    "headers.pop(type_index)\n",
    "\n",
    "# Extraia os dados das linhas\n",
    "data = []\n",
    "for row in table.find('tbody').find_all('tr'):\n",
    "    cols = row.find_all('td')\n",
    "    if not cols:\n",
    "        continue\n",
    "\n",
    "    # Extrai os textos das colunas, exceto 'Type'\n",
    "    col_texts = [td.get_text(strip=True) for td in cols]\n",
    "    col_texts.pop(type_index)\n",
    "\n",
    "    # Tratamento especial para a coluna 'Name'\n",
    "    name_td = cols[headers.index('Name')]\n",
    "    name_a = name_td.find('a')\n",
    "    name = name_a.get_text(strip=True) if name_a else name_td.get_text(strip=True)\n",
    "    form_small = name_td.find('small')\n",
    "    form = form_small.get_text(strip=True) if form_small else None\n",
    "\n",
    "    # Substitui o valor da coluna 'Name' pelo nome extraído\n",
    "    col_texts[headers.index('Name')] = name\n",
    "\n",
    "    # Cria o dicionário\n",
    "    item = dict(zip(headers, col_texts))\n",
    "    if form:\n",
    "        item['form'] = form\n",
    "    data.append(item)\n",
    "    \n",
    "# Remover os pokemons repetidos mantendo apenas o que primeiro aparece na lista\n",
    "unique_data = []\n",
    "seen_ids = set()\n",
    "for item in data:\n",
    "    poke_id = item.get(\"#\")\n",
    "    if poke_id and poke_id not in seen_ids:\n",
    "        unique_data.append(item)\n",
    "        seen_ids.add(poke_id)\n",
    " \n",
    "# Salvar em um arquivo JSON\n",
    "with open('./outputs/pokemon-stats-db.json', 'w', encoding='utf-8') as f:\n",
    "    json.dump(unique_data, f, ensure_ascii=False, indent=4)\n",
    "\n",
    "# Concatenar os dados de 'attack', 'defense', 'hp', 'sp_atk', 'sp_def', 'speed' ao DataFrame df comparando o \"id\" do df com o \"#\" do unique_data\n",
    "for item in unique_data:\n",
    "    poke_id = item.get(\"#\")\n",
    "    if poke_id and poke_id.isdigit():\n",
    "        poke_id = int(poke_id)\n",
    "\n",
    "        df.loc[df['id'] == poke_id, ['attack', 'defense', 'hp', 'sp_atk', 'sp_def', 'speed', 'total']] = [\n",
    "            int(item.get('Attack')),\n",
    "            int(item.get('Defense')),\n",
    "            int(item.get('HP')),\n",
    "            int(item.get('Sp. Atk')),\n",
    "            int(item.get('Sp. Def')),\n",
    "            int(item.get('Speed')),\n",
    "            int(item.get('Total'))\n",
    "        ]\n",
    "        \n",
    "    \n",
    "# Ordenando colunas\n",
    "df = df[['id', 'name', 'type', 'height', 'weight', 'attack', 'defense', 'hp', 'sp_atk', 'sp_def', 'speed', 'total', 'abilities', 'weakness']]\n",
    "         \n",
    "print(f\"Tamanho do DataFrame após atualização: {df.shape}\\n\\n\")\n",
    "print(df.head())  # Exibir as primeiras linhas do DataFrame atualizado"
   ]
  },
  {
   "cell_type": "code",
   "execution_count": null,
   "id": "71b12020",
   "metadata": {},
   "outputs": [],
   "source": [
    "import requests\n",
    "import time\n",
    "import os\n",
    "\n",
    "# Verificando Cache\n",
    "if os.path.exists('./outputs/pokemon_capture_locations.json'):\n",
    "    df_capture_locations = pd.read_json('./outputs/pokemon_capture_locations.json', orient='records')\n",
    "    df = df.merge(df_capture_locations, on='id', how='outer')\n",
    "    print(\"Dados de localizações de captura carregados do cache.\")\n",
    "    \n",
    "# Resgatando Localizações de Captura \n",
    "else:\n",
    "    def get_capture_locations(number):\n",
    "        url = f\"https://pokeapi.co/api/v2/pokemon/{number}/encounters\"\n",
    "        try:\n",
    "            response = requests.get(url, timeout=10)\n",
    "            if response.status_code == 200:\n",
    "                data = response.json()\n",
    "                \n",
    "                # Extrai o nome dos locais de captura\n",
    "                locations = [loc['location_area']['name'] for loc in data]\n",
    "                # Converte os nomes para minúsculas\n",
    "                locations = [loc.lower() for loc in locations]\n",
    "                return locations\n",
    "            else:\n",
    "                return []\n",
    "        except Exception as e:\n",
    "            return []\n",
    "    \n",
    "    # Adicionar coluna para localizações de captura\n",
    "    df['capture_location'] = None\n",
    "        \n",
    "    # Para cada item da base de dados, resgata as localizações de captura\n",
    "    for index, row in df.iterrows():\n",
    "        number = row['id']\n",
    "        locations = get_capture_locations(number)\n",
    "        print(f\"Localizações de captura para o Pokémon número {number}: {locations}\")\n",
    "        df.at[index, 'capture_location'] = locations\n",
    "        # time.sleep(1)  # Respeitar o limite de requisições\n",
    "\n",
    "    # Salvar a base apenas com colunas ID e locations para resgatar e evitar fazer requisição novamente\n",
    "    df_capture_locations = df[['id', 'capture_location']]\n",
    "    df_capture_locations.to_json('./outputs/pokemon_capture_locations.json', orient='records', force_ascii=False, indent=4)\n",
    "    \n",
    "\n",
    "# Salvar \n",
    "basicdf = df\n",
    "df.to_csv('./outputs/pokemon-basic-db.csv', index=False)\n",
    "\n",
    "print(f\"Tamanho do DataFrame atualizado: {df.shape}\")\n",
    "print(df.head())  # Exibir as primeiras linhas do DataFrame atualizado\n"
   ]
  },
  {
   "cell_type": "code",
   "execution_count": null,
   "id": "f44da374",
   "metadata": {},
   "outputs": [],
   "source": [
    "# One-hot encoding para cada campo de array\n",
    "\n",
    "# Garante que os campos de array estejam como listas (caso estejam ausentes)\n",
    "for col in ['abilities', 'type', 'weakness', 'capture_location']:\n",
    "    df[col] = df[col].apply(lambda x: x if isinstance(x, list) else [])\n",
    "\n",
    "# Extrair valores únicos de habilidades, tipos, fraquezas e localizações de captura\n",
    "abilities_dummies = df['abilities'].explode().str.strip().str.lower().dropna().unique()\n",
    "type_dummies = df['type'].explode().str.strip().str.lower().dropna().unique()\n",
    "weakness_dummies = df['weakness'].explode().str.strip().str.lower().dropna().unique()\n",
    "capture_location_dummies = df['capture_location'].explode().str.strip().str.lower().dropna().unique()\n",
    "\n",
    "# Para cada habilidade, tipo, fraqueza e localização de captura, cria colunas one-hot verificando se o valor está presente\n",
    "df_abilities = df['abilities'].apply(lambda x: pd.Series({f'ability_{a}': int(a in x) for a in abilities_dummies}))\n",
    "df_type = df['type'].apply(lambda x: pd.Series({f'type_{t}': int(t in x) for t in type_dummies}))\n",
    "df_weakness = df['weakness'].apply(lambda x: pd.Series({f'weakness_{w}': int(w in x) for w in weakness_dummies}))\n",
    "df_capture_location = df['capture_location'].apply(lambda x: pd.Series({f'location_{l}': int(l in x) for l in capture_location_dummies}))\n",
    "\n",
    "# Concatenar tudo\n",
    "df_final = pd.concat([\n",
    "    df.drop(['abilities', 'type', 'weakness', 'capture_location'], axis=1),\n",
    "    df_abilities,\n",
    "    df_type,\n",
    "    df_weakness,\n",
    "    df_capture_location\n",
    "], axis=1)\n",
    "\n",
    "# Salvar em CSV\n",
    "df_final.to_csv('./outputs/pokedex-encoded-db.csv', index=False, encoding='utf-8')\n",
    "\n",
    "print(\"CSV com one-hot encoding gerado com sucesso!\")\n",
    "print(f\"Tamanho do DataFrame final: {df_final.shape}\\n\\n\")\n",
    "print(df_final.head(5))"
   ]
  },
  {
   "cell_type": "markdown",
   "id": "2dc85bfa",
   "metadata": {},
   "source": [
    "## Dicionário de dados"
   ]
  },
  {
   "cell_type": "code",
   "execution_count": null,
   "id": "cce6b5ce",
   "metadata": {},
   "outputs": [],
   "source": [
    "import plotly.graph_objects as go\n",
    "\n",
    "# Defina o dicionário de dados\n",
    "data_dictionary = [\n",
    "    {\"Coluna\": \"id\", \"Tipo\": \"int\", \"Formato\": \"Numérico\", \"Descrição\": \"Identificador único do Pokémon (inteiro, corresponde ao número oficial na Pokédex).\"},\n",
    "    {\"Coluna\": \"name\", \"Tipo\": \"str\", \"Formato\": \"Categórico\", \"Descrição\": \"Nome do Pokémon.\"},\n",
    "    {\"Coluna\": \"type\", \"Tipo\": \"list[str]\", \"Formato\": \"Categórico (lista)\", \"Descrição\": \"Lista de tipos do Pokémon (ex: ['grass', 'poison']). Um Pokémon pode ter um ou dois tipos.\"},\n",
    "    {\"Coluna\": \"height\", \"Tipo\": \"float\", \"Formato\": \"Numérico\", \"Descrição\": \"Altura do Pokémon em metros (float, ex: 0.7).\"},\n",
    "    {\"Coluna\": \"weight\", \"Tipo\": \"float\", \"Formato\": \"Numérico\", \"Descrição\": \"Peso do Pokémon em quilogramas (float, ex: 6.9).\"},\n",
    "    {\"Coluna\": \"attack\", \"Tipo\": \"int\", \"Formato\": \"Numérico\", \"Descrição\": \"Valor numérico do atributo de ataque base do Pokémon.\"},\n",
    "    {\"Coluna\": \"defense\", \"Tipo\": \"int\", \"Formato\": \"Numérico\", \"Descrição\": \"Valor numérico do atributo de defesa base do Pokémon.\"},\n",
    "    {\"Coluna\": \"hp\", \"Tipo\": \"int\", \"Formato\": \"Numérico\", \"Descrição\": \"Valor numérico dos pontos de vida (HP) base do Pokémon.\"},\n",
    "    {\"Coluna\": \"sp_atk\", \"Tipo\": \"int\", \"Formato\": \"Numérico\", \"Descrição\": \"Valor numérico do ataque especial base do Pokémon.\"},\n",
    "    {\"Coluna\": \"sp_def\", \"Tipo\": \"int\", \"Formato\": \"Numérico\", \"Descrição\": \"Valor numérico da defesa especial base do Pokémon.\"},\n",
    "    {\"Coluna\": \"speed\", \"Tipo\": \"int\", \"Formato\": \"Numérico\", \"Descrição\": \"Valor numérico da velocidade base do Pokémon.\"},\n",
    "    {\"Coluna\": \"total\", \"Tipo\": \"int\", \"Formato\": \"Numérico\", \"Descrição\": \"Soma total dos atributos base (attack, defense, hp, sp_atk, sp_def, speed) do Pokémon.\"},\n",
    "    {\"Coluna\": \"abilities\", \"Tipo\": \"list[str]\", \"Formato\": \"Categórico (lista)\", \"Descrição\": \"Lista de habilidades do Pokémon (ex: ['Overgrow', 'Chlorophyll']).\"},\n",
    "    {\"Coluna\": \"weakness\", \"Tipo\": \"list[str]\", \"Formato\": \"Categórico (lista)\", \"Descrição\": \"Lista de fraquezas do Pokémon, ou seja, tipos contra os quais ele é vulnerável (ex: ['fire', 'ice']).\"},\n",
    "    {\"Coluna\": \"capture_location\", \"Tipo\": \"list[str]\", \"Formato\": \"Categórico (lista)\", \"Descrição\": \"Lista de locais onde o Pokémon pode ser capturado nos jogos (ex: ['kanto-route-2', 'kanto-viridian-forest']).\"}\n",
    "]\n",
    "\n",
    "# Crie a tabela com plotly\n",
    "fig = go.Figure(data=[go.Table(\n",
    "    header=dict(values=[\"Coluna\", \"Tipo\", \"Formato\", \"Descrição\"], fill_color='paleturquoise', align='left'),\n",
    "    cells=dict(values=[\n",
    "        [d[\"Coluna\"] for d in data_dictionary],\n",
    "        [d[\"Tipo\"] for d in data_dictionary],\n",
    "        [d[\"Formato\"] for d in data_dictionary],\n",
    "        [d[\"Descrição\"] for d in data_dictionary]\n",
    "    ], fill_color='lavender', align='left')\n",
    ")])\n",
    "\n",
    "fig.update_layout(width=1200, height=600, title=\"Dicionário de Dados - DataFrame Básico\")"
   ]
  },
  {
   "cell_type": "markdown",
   "id": "879eb9be",
   "metadata": {},
   "source": [
    "## Análise Descritiva dos Dados"
   ]
  },
  {
   "cell_type": "markdown",
   "id": "29e5a669",
   "metadata": {},
   "source": [
    "### Introdução\n",
    "\n",
    "Nessa sessão serão realizada análises descritivas que  ajudam a entender o comportamento geral dos dados e as relações entre atributos.\n",
    "\n",
    "    - Distribuição estatística das variáveis numéricas\n",
    "    - Histograma e boxplot por atributos\n",
    "    - Tipos de Pokémon mais comuns\n",
    "    - Matriz de correlação entre atributos numéricos\n",
    "    - Quantidade de locais por Pokémon\n",
    "    - Análise por combinação de tipos"
   ]
  },
  {
   "cell_type": "markdown",
   "id": "bdea2acf",
   "metadata": {},
   "source": [
    "### Estatísticas Descritivas das Variáveis Numéricas\n",
    "\n",
    "A análise estatística das variáveis numéricas dos Pokémon revela alguns pontos importantes sobre a base de dados:\n",
    "\n",
    "- **Diversidade física:**  \n",
    "  Os valores de altura (`height`) e peso (`weight`) apresentam grande variação, com desvios padrão elevados. Isso indica que existem Pokémon extremamente pequenos e leves, assim como outros muito grandes e pesados, refletindo a diversidade do universo Pokémon.\n",
    "\n",
    "- **Atributos de batalha equilibrados:**  \n",
    "  As médias dos atributos de batalha (`attack`, `defense`, `hp`, `sp_atk`, `sp_def`, `speed`) estão próximas, sugerindo que a maioria dos Pokémon possui valores relativamente equilibrados nesses quesitos. No entanto, os valores máximos mostram que existem Pokémon com atributos muito acima da média, geralmente lendários ou formas especiais.\n",
    "\n",
    "- **Maior parte dos pokemons são fracos:**  \n",
    "  Para muitos atributos, a moda é menor que a média, indicando que a maior parte dos Pokémon possui valores baixos, mas há alguns com valores muito altos que elevam a média.\n",
    "\n",
    "- **Distribuição assimétrica:**  \n",
    "  A diferença entre média, mediana e moda em algumas variáveis sugere distribuições assimétricas, com cauda para valores altos (presença de outliers)."
   ]
  },
  {
   "cell_type": "code",
   "execution_count": null,
   "id": "ac18e1b6",
   "metadata": {},
   "outputs": [],
   "source": [
    "import numpy as np\n",
    "from scipy import stats\n",
    "\n",
    "# Seleciona as colunas numéricas\n",
    "numeric_cols = ['height', 'weight', 'attack', 'defense', 'hp', 'sp_atk', 'sp_def', 'speed', 'total']\n",
    "\n",
    "# Calcula as estatísticas manualmente\n",
    "stats_dict = {\n",
    "    \"Média\": [df[col].mean() for col in numeric_cols],\n",
    "    \"Mediana\": [df[col].median() for col in numeric_cols],\n",
    "    \"Moda\": [stats.mode(df[col], nan_policy='omit').mode.item() for col in numeric_cols],\n",
    "    \"Mínimo\": [df[col].min() for col in numeric_cols],\n",
    "    \"Máximo\": [df[col].max() for col in numeric_cols],\n",
    "    \"Desvio Padrão\": [df[col].std() for col in numeric_cols],\n",
    "    \"Q1 (25%)\": [df[col].quantile(0.25) for col in numeric_cols],\n",
    "    \"Q2 (50%)\": [df[col].quantile(0.5) for col in numeric_cols],   # igual à mediana\n",
    "    \"Q3 (75%)\": [df[col].quantile(0.75) for col in numeric_cols]\n",
    "}\n",
    "\n",
    "# Cria a tabela com plotly\n",
    "fig = go.Figure(data=[go.Table(\n",
    "    header=dict(values=[\"Atributo\"] + list(stats_dict.keys()), fill_color='paleturquoise', align='left'),\n",
    "    cells=dict(values=[\n",
    "        numeric_cols,\n",
    "        stats_dict[\"Média\"],\n",
    "        stats_dict[\"Mediana\"],\n",
    "        stats_dict[\"Moda\"],\n",
    "        stats_dict[\"Mínimo\"],\n",
    "        stats_dict[\"Máximo\"],\n",
    "        stats_dict[\"Desvio Padrão\"],\n",
    "        stats_dict[\"Q1 (25%)\"],\n",
    "        stats_dict[\"Q2 (50%)\"],\n",
    "        stats_dict[\"Q3 (75%)\"]\n",
    "    ], fill_color='lavender', align='left', format=[None] + [\".2f\"]*9)\n",
    ")])\n",
    "\n",
    "fig.update_layout(\n",
    "    width=1400,\n",
    "    height=600,\n",
    "    title=\"Tabela de Estatísticas Descritivas das Variáveis Numéricas\"\n",
    ")\n",
    "\n",
    "# Salvar a tabela como imagem na pasta ./charts\n",
    "os.makedirs('./charts', exist_ok=True)\n",
    "os.makedirs('./charts/descritive', exist_ok=True)\n",
    "fig.write_image('./charts/descritive/estatisticas_descritivas_pokemon.png')\n",
    "\n",
    "fig.show()"
   ]
  },
  {
   "cell_type": "markdown",
   "id": "edf0c9fa",
   "metadata": {},
   "source": [
    "### Análise da Frequência dos Tipos de Pokémon\n",
    "\n",
    "A distribuição dos tipos de Pokémon é um dos aspectos mais importantes para entender a diversidade e o equilíbrio do universo Pokémon. A seguir, analisamos a frequência dos tipos considerando três cenários:\n",
    "\n",
    "- **Tipos Primários:**  \n",
    "  O histograma dos tipos primários mostra quais tipos são mais comuns como o primeiro tipo atribuído a cada Pokémon. Isso reflete a identidade principal de cada espécie e revela tendências de design ao longo das gerações. Tipos como \"water\", \"normal\" e \"grass\" costumam aparecer entre os mais frequentes, enquanto tipos como \"ice\" e \"dragon\" são mais raros como primários.\n",
    "\n",
    "- **Tipos Secundários:**  \n",
    "  O histograma dos tipos secundários considera apenas o segundo tipo dos Pokémon que possuem dupla tipagem. Aqui, é possível observar quais tipos são mais utilizados para complementar a tipagem principal, trazendo versatilidade e estratégias diferenciadas para as batalhas. Alguns tipos aparecem com mais frequência como secundários do que como primários, indicando seu papel de suporte ou especialização.\n",
    "\n",
    "- **Todos os Tipos (Primário + Secundário):**  \n",
    "  Ao contabilizar todos os tipos presentes em cada Pokémon, temos uma visão geral da popularidade de cada tipo no universo Pokémon. Essa análise evidencia a predominância de certos tipos e a raridade de outros, além de mostrar o impacto da dupla tipagem na diversidade do jogo."
   ]
  },
  {
   "cell_type": "code",
   "execution_count": null,
   "id": "440d4a7d",
   "metadata": {},
   "outputs": [],
   "source": [
    "import plotly.express as px\n",
    "import os\n",
    "\n",
    "# Garante que a coluna 'type' está como lista\n",
    "basicdf['type'] = basicdf['type'].apply(lambda x: x if isinstance(x, list) else [])\n",
    "\n",
    "# Histograma considerando apenas o primeiro tipo de cada Pokémon\n",
    "basicdf['type_primario'] = basicdf['type'].apply(lambda x: x[0] if len(x) > 0 else None)\n",
    "freq_primario = basicdf['type_primario'].value_counts().reset_index()\n",
    "freq_primario.columns = ['Tipo Primário', 'Frequência']\n",
    "\n",
    "fig1 = px.bar(\n",
    "    freq_primario,\n",
    "    x='Tipo Primário',\n",
    "    y='Frequência',\n",
    "    title='Frequência dos Tipos Primários dos Pokémon',\n",
    "    color='Tipo Primário'\n",
    ")\n",
    "os.makedirs('./charts/type-frequency', exist_ok=True)\n",
    "fig1.write_image('./charts/type-frequency/histograma_tipo_primario.png')\n",
    "fig1.show()\n",
    "\n",
    "# Histograma considerando apenas o segundo tipo de cada Pokémon (tipos secundários)\n",
    "basicdf['type_secundario'] = basicdf['type'].apply(lambda x: x[1] if len(x) > 1 else None)\n",
    "freq_secundario = basicdf['type_secundario'].value_counts().reset_index()\n",
    "freq_secundario = freq_secundario[freq_secundario['type_secundario'].notnull()]\n",
    "freq_secundario.columns = ['Tipo Secundário', 'Frequência']\n",
    "\n",
    "fig2 = px.bar(\n",
    "    freq_secundario,\n",
    "    x='Tipo Secundário',\n",
    "    y='Frequência',\n",
    "    title='Frequência dos Tipos Secundários dos Pokémon',\n",
    "    color='Tipo Secundário'\n",
    ")\n",
    "fig2.write_image('./charts/type-frequency/histograma_tipo_secundario.png')\n",
    "fig2.show()\n",
    "\n",
    "# Histograma considerando todos os tipos (explode)\n",
    "df_types_exploded = basicdf.explode('type')\n",
    "freq_todos = df_types_exploded['type'].value_counts().reset_index()\n",
    "freq_todos.columns = ['Tipo', 'Frequência']\n",
    "\n",
    "fig3 = px.bar(\n",
    "    freq_todos,\n",
    "    x='Tipo',\n",
    "    y='Frequência',\n",
    "    title='Frequência de Todos os Tipos dos Pokémon (Primário + Secundário)',\n",
    "    color='Tipo'\n",
    ")\n",
    "fig3.write_image('./charts/type-frequency/histograma_todos_tipos.png')\n",
    "fig3.show()"
   ]
  },
  {
   "cell_type": "markdown",
   "id": "76dcdd5f",
   "metadata": {},
   "source": [
    "### Análise dos Status Médios por Tipo de Pokémon\n",
    "\n",
    "A seguir, apresentamos os três tipos de Pokémon com as maiores médias em cada atributo de status, acompanhados da respectiva margem de erro (intervalo de confiança de 95%). Esses dados ajudam a identificar quais tipos se destacam em cada aspecto de batalha.\n",
    "\n",
    "#### Top 3 Tipos por Status\n",
    "\n",
    "| Status         | 1º Tipo   | Média   | Margem de Erro | 2º Tipo   | Média   | Margem de Erro | 3º Tipo   | Média   | Margem de Erro |\n",
    "|----------------|-----------|---------|----------------|-----------|---------|----------------|-----------|---------|----------------|\n",
    "| **Attack**     | Fighting  | 104.33  | ±5.81          | Dragon    | 94.00   | ±6.34          | Dark      | 93.59   | ±6.07          |\n",
    "| **Defense**    | Steel     | 107.88  | ±8.25          | Rock      | 103.53  | ±8.96          | Ground    | 85.45   | ±7.53          |\n",
    "| **HP**         | Dragon    | 84.07   | ±7.69          | Ice       | 80.08   | ±7.72          | Fighting  | 77.75   | ±5.43          |\n",
    "| **Sp. Atk**    | Psychic   | 88.04   | ±6.11          | Dragon    | 87.20   | ±8.04          | Fire      | 86.31   | ±6.25          |\n",
    "| **Sp. Def**    | Psychic   | 84.20   | ±5.13          | Fairy     | 83.92   | ±7.87          | Ghost     | 79.09   | ±6.88          |\n",
    "| **Speed**      | Flying    | 82.43   | ±4.29          | Electric  | 81.87   | ±7.96          | Dragon    | 78.17   | ±6.66          |\n",
    "| **Total**      | Dragon    | 504.76  | ±29.19         | Steel     | 479.72  | ±24.80         | Fighting  | 467.14  | ±23.15         |\n",
    "\n",
    "- **Fighting** lidera em ataque, enquanto **Steel** domina em defesa.\n",
    "- **Dragon** aparece entre os três melhores em ataque, HP, ataque especial, velocidade **e também possui o maior total médio de atributos** (504.76 ±29.19), mostrando sua versatilidade e força geral.\n",
    "- **Steel** além de ser o melhor em defesa, também está entre os maiores totais médios (479.72 ±24.80), indicando Pokémon geralmente bem equilibrados e resistentes.\n",
    "- **Fighting** destaca-se em ataque e também figura entre os maiores totais médios (467.14 ±23.15), reforçando seu perfil ofensivo.\n",
    "- **Psychic** é destaque em ataque especial e defesa especial.\n",
    "- **Flying** e **Electric** são os tipos mais rápidos, com médias de velocidade superiores aos demais."
   ]
  },
  {
   "cell_type": "code",
   "execution_count": null,
   "id": "3be35cb9",
   "metadata": {},
   "outputs": [],
   "source": [
    "import plotly.express as px\n",
    "\n",
    "# Explode o DataFrame para que cada tipo de Pokémon fique em uma linha\n",
    "df_exploded = basicdf.explode('type')\n",
    "\n",
    "# Seleciona os atributos de interesse\n",
    "atributos = ['attack', 'defense', 'hp', 'sp_atk', 'sp_def', 'speed', 'total']\n",
    "\n",
    "for atributo in atributos:\n",
    "    # Ordena os tipos pela média do atributo (do maior para o menor)\n",
    "    ordem_tipos = (\n",
    "        df_exploded.groupby('type')[atributo]\n",
    "        .mean()\n",
    "        .sort_values(ascending=False)\n",
    "        .index.tolist()\n",
    "    )\n",
    "    fig = px.box(\n",
    "        df_exploded,\n",
    "        x='type',\n",
    "        y=atributo,\n",
    "        category_orders={'type': ordem_tipos},\n",
    "        points=\"all\",\n",
    "        title=f'Distribuição de {atributo.capitalize()} por Tipo de Pokémon',\n",
    "        labels={'type': 'Tipo', atributo: atributo.capitalize()}\n",
    "    )\n",
    "    fig.update_layout(width=1000, height=500)\n",
    "    os.makedirs('./charts/stats-per-type', exist_ok=True)\n",
    "    fig.write_image(f'./charts/stats-per-type/boxplot_{atributo}_por_tipo.png')\n",
    "    fig.show()"
   ]
  },
  {
   "cell_type": "markdown",
   "id": "4e30e7ef",
   "metadata": {},
   "source": [
    "### Assimetria e Curtose dos Atributos Numéricos dos Pokémon\n",
    "\n",
    "- **Altura (`height`) e Peso (`weight`):**\n",
    "  - Apresentam valores extremamente altos de assimetria (6.55 e 4.34) e curtose (72.29 e 23.59), indicando distribuições altamente assimétricas e com caudas longas. Isso significa que a maioria dos Pokémon é pequena/leve, mas existem poucos Pokémon muito grandes e pesados (outliers), como Wailord ou Celesteela.\n",
    "- **Atributos de batalha (attack, defense, hp, sp_atk, sp_def, speed):**\n",
    "  - Todos apresentam assimetria positiva, mas moderada, indicando que a maioria dos Pokémon possui valores baixos nesses atributos, com poucos indivíduos com valores muito altos.\n",
    "  - A curtose é próxima de zero ou levemente positiva para a maioria dos atributos, sugerindo distribuições próximas da normal, mas com leve presença de outliers (Pokémon lendários ou formas especiais).\n",
    "  - O atributo `hp` se destaca com curtose 6.06, mostrando maior concentração de valores próximos à média, mas com alguns Pokémon com HP muito elevado.\n",
    "- **Total:**\n",
    "  - O atributo `total` apresenta assimetria e curtose próximas de zero (-0.09 e -0.80), indicando uma distribuição quase simétrica e levemente platicúrtica (menos caudas que uma normal). Isso sugere que a soma dos atributos é mais equilibrada entre as espécies.\n",
    "- **Resumo geral:**\n",
    "  - Os dados confirmam que a maioria dos Pokémon possui atributos físicos e de batalha modestos, com poucos extremos. Altura e peso são os atributos mais desbalanceados, enquanto o total de pontos tende a ser mais distribuído de forma homogênea."
   ]
  },
  {
   "cell_type": "code",
   "execution_count": 18,
   "id": "35379bae",
   "metadata": {},
   "outputs": [
    {
     "data": {
      "application/vnd.plotly.v1+json": {
       "config": {
        "plotlyServerURL": "https://plot.ly"
       },
       "data": [
        {
         "cells": {
          "align": "left",
          "fill": {
           "color": "lavender"
          },
          "values": [
           [
            "height",
            "weight",
            "attack",
            "defense",
            "hp",
            "sp_atk",
            "sp_def",
            "speed",
            "total"
           ],
           [
            "6.55",
            "4.34",
            "0.28",
            "0.96",
            "1.50",
            "0.58",
            "0.82",
            "0.39",
            "-0.09"
           ],
           [
            "72.29",
            "23.59",
            "-0.44",
            "1.87",
            "6.06",
            "-0.25",
            "1.54",
            "-0.07",
            "-0.80"
           ]
          ]
         },
         "header": {
          "align": "left",
          "fill": {
           "color": "paleturquoise"
          },
          "values": [
           "Atributo",
           "Assimetria (Skewness)",
           "Curtose"
          ]
         },
         "type": "table"
        }
       ],
       "layout": {
        "height": 500,
        "template": {
         "data": {
          "bar": [
           {
            "error_x": {
             "color": "#2a3f5f"
            },
            "error_y": {
             "color": "#2a3f5f"
            },
            "marker": {
             "line": {
              "color": "#E5ECF6",
              "width": 0.5
             },
             "pattern": {
              "fillmode": "overlay",
              "size": 10,
              "solidity": 0.2
             }
            },
            "type": "bar"
           }
          ],
          "barpolar": [
           {
            "marker": {
             "line": {
              "color": "#E5ECF6",
              "width": 0.5
             },
             "pattern": {
              "fillmode": "overlay",
              "size": 10,
              "solidity": 0.2
             }
            },
            "type": "barpolar"
           }
          ],
          "carpet": [
           {
            "aaxis": {
             "endlinecolor": "#2a3f5f",
             "gridcolor": "white",
             "linecolor": "white",
             "minorgridcolor": "white",
             "startlinecolor": "#2a3f5f"
            },
            "baxis": {
             "endlinecolor": "#2a3f5f",
             "gridcolor": "white",
             "linecolor": "white",
             "minorgridcolor": "white",
             "startlinecolor": "#2a3f5f"
            },
            "type": "carpet"
           }
          ],
          "choropleth": [
           {
            "colorbar": {
             "outlinewidth": 0,
             "ticks": ""
            },
            "type": "choropleth"
           }
          ],
          "contour": [
           {
            "colorbar": {
             "outlinewidth": 0,
             "ticks": ""
            },
            "colorscale": [
             [
              0,
              "#0d0887"
             ],
             [
              0.1111111111111111,
              "#46039f"
             ],
             [
              0.2222222222222222,
              "#7201a8"
             ],
             [
              0.3333333333333333,
              "#9c179e"
             ],
             [
              0.4444444444444444,
              "#bd3786"
             ],
             [
              0.5555555555555556,
              "#d8576b"
             ],
             [
              0.6666666666666666,
              "#ed7953"
             ],
             [
              0.7777777777777778,
              "#fb9f3a"
             ],
             [
              0.8888888888888888,
              "#fdca26"
             ],
             [
              1,
              "#f0f921"
             ]
            ],
            "type": "contour"
           }
          ],
          "contourcarpet": [
           {
            "colorbar": {
             "outlinewidth": 0,
             "ticks": ""
            },
            "type": "contourcarpet"
           }
          ],
          "heatmap": [
           {
            "colorbar": {
             "outlinewidth": 0,
             "ticks": ""
            },
            "colorscale": [
             [
              0,
              "#0d0887"
             ],
             [
              0.1111111111111111,
              "#46039f"
             ],
             [
              0.2222222222222222,
              "#7201a8"
             ],
             [
              0.3333333333333333,
              "#9c179e"
             ],
             [
              0.4444444444444444,
              "#bd3786"
             ],
             [
              0.5555555555555556,
              "#d8576b"
             ],
             [
              0.6666666666666666,
              "#ed7953"
             ],
             [
              0.7777777777777778,
              "#fb9f3a"
             ],
             [
              0.8888888888888888,
              "#fdca26"
             ],
             [
              1,
              "#f0f921"
             ]
            ],
            "type": "heatmap"
           }
          ],
          "histogram": [
           {
            "marker": {
             "pattern": {
              "fillmode": "overlay",
              "size": 10,
              "solidity": 0.2
             }
            },
            "type": "histogram"
           }
          ],
          "histogram2d": [
           {
            "colorbar": {
             "outlinewidth": 0,
             "ticks": ""
            },
            "colorscale": [
             [
              0,
              "#0d0887"
             ],
             [
              0.1111111111111111,
              "#46039f"
             ],
             [
              0.2222222222222222,
              "#7201a8"
             ],
             [
              0.3333333333333333,
              "#9c179e"
             ],
             [
              0.4444444444444444,
              "#bd3786"
             ],
             [
              0.5555555555555556,
              "#d8576b"
             ],
             [
              0.6666666666666666,
              "#ed7953"
             ],
             [
              0.7777777777777778,
              "#fb9f3a"
             ],
             [
              0.8888888888888888,
              "#fdca26"
             ],
             [
              1,
              "#f0f921"
             ]
            ],
            "type": "histogram2d"
           }
          ],
          "histogram2dcontour": [
           {
            "colorbar": {
             "outlinewidth": 0,
             "ticks": ""
            },
            "colorscale": [
             [
              0,
              "#0d0887"
             ],
             [
              0.1111111111111111,
              "#46039f"
             ],
             [
              0.2222222222222222,
              "#7201a8"
             ],
             [
              0.3333333333333333,
              "#9c179e"
             ],
             [
              0.4444444444444444,
              "#bd3786"
             ],
             [
              0.5555555555555556,
              "#d8576b"
             ],
             [
              0.6666666666666666,
              "#ed7953"
             ],
             [
              0.7777777777777778,
              "#fb9f3a"
             ],
             [
              0.8888888888888888,
              "#fdca26"
             ],
             [
              1,
              "#f0f921"
             ]
            ],
            "type": "histogram2dcontour"
           }
          ],
          "mesh3d": [
           {
            "colorbar": {
             "outlinewidth": 0,
             "ticks": ""
            },
            "type": "mesh3d"
           }
          ],
          "parcoords": [
           {
            "line": {
             "colorbar": {
              "outlinewidth": 0,
              "ticks": ""
             }
            },
            "type": "parcoords"
           }
          ],
          "pie": [
           {
            "automargin": true,
            "type": "pie"
           }
          ],
          "scatter": [
           {
            "fillpattern": {
             "fillmode": "overlay",
             "size": 10,
             "solidity": 0.2
            },
            "type": "scatter"
           }
          ],
          "scatter3d": [
           {
            "line": {
             "colorbar": {
              "outlinewidth": 0,
              "ticks": ""
             }
            },
            "marker": {
             "colorbar": {
              "outlinewidth": 0,
              "ticks": ""
             }
            },
            "type": "scatter3d"
           }
          ],
          "scattercarpet": [
           {
            "marker": {
             "colorbar": {
              "outlinewidth": 0,
              "ticks": ""
             }
            },
            "type": "scattercarpet"
           }
          ],
          "scattergeo": [
           {
            "marker": {
             "colorbar": {
              "outlinewidth": 0,
              "ticks": ""
             }
            },
            "type": "scattergeo"
           }
          ],
          "scattergl": [
           {
            "marker": {
             "colorbar": {
              "outlinewidth": 0,
              "ticks": ""
             }
            },
            "type": "scattergl"
           }
          ],
          "scattermap": [
           {
            "marker": {
             "colorbar": {
              "outlinewidth": 0,
              "ticks": ""
             }
            },
            "type": "scattermap"
           }
          ],
          "scattermapbox": [
           {
            "marker": {
             "colorbar": {
              "outlinewidth": 0,
              "ticks": ""
             }
            },
            "type": "scattermapbox"
           }
          ],
          "scatterpolar": [
           {
            "marker": {
             "colorbar": {
              "outlinewidth": 0,
              "ticks": ""
             }
            },
            "type": "scatterpolar"
           }
          ],
          "scatterpolargl": [
           {
            "marker": {
             "colorbar": {
              "outlinewidth": 0,
              "ticks": ""
             }
            },
            "type": "scatterpolargl"
           }
          ],
          "scatterternary": [
           {
            "marker": {
             "colorbar": {
              "outlinewidth": 0,
              "ticks": ""
             }
            },
            "type": "scatterternary"
           }
          ],
          "surface": [
           {
            "colorbar": {
             "outlinewidth": 0,
             "ticks": ""
            },
            "colorscale": [
             [
              0,
              "#0d0887"
             ],
             [
              0.1111111111111111,
              "#46039f"
             ],
             [
              0.2222222222222222,
              "#7201a8"
             ],
             [
              0.3333333333333333,
              "#9c179e"
             ],
             [
              0.4444444444444444,
              "#bd3786"
             ],
             [
              0.5555555555555556,
              "#d8576b"
             ],
             [
              0.6666666666666666,
              "#ed7953"
             ],
             [
              0.7777777777777778,
              "#fb9f3a"
             ],
             [
              0.8888888888888888,
              "#fdca26"
             ],
             [
              1,
              "#f0f921"
             ]
            ],
            "type": "surface"
           }
          ],
          "table": [
           {
            "cells": {
             "fill": {
              "color": "#EBF0F8"
             },
             "line": {
              "color": "white"
             }
            },
            "header": {
             "fill": {
              "color": "#C8D4E3"
             },
             "line": {
              "color": "white"
             }
            },
            "type": "table"
           }
          ]
         },
         "layout": {
          "annotationdefaults": {
           "arrowcolor": "#2a3f5f",
           "arrowhead": 0,
           "arrowwidth": 1
          },
          "autotypenumbers": "strict",
          "coloraxis": {
           "colorbar": {
            "outlinewidth": 0,
            "ticks": ""
           }
          },
          "colorscale": {
           "diverging": [
            [
             0,
             "#8e0152"
            ],
            [
             0.1,
             "#c51b7d"
            ],
            [
             0.2,
             "#de77ae"
            ],
            [
             0.3,
             "#f1b6da"
            ],
            [
             0.4,
             "#fde0ef"
            ],
            [
             0.5,
             "#f7f7f7"
            ],
            [
             0.6,
             "#e6f5d0"
            ],
            [
             0.7,
             "#b8e186"
            ],
            [
             0.8,
             "#7fbc41"
            ],
            [
             0.9,
             "#4d9221"
            ],
            [
             1,
             "#276419"
            ]
           ],
           "sequential": [
            [
             0,
             "#0d0887"
            ],
            [
             0.1111111111111111,
             "#46039f"
            ],
            [
             0.2222222222222222,
             "#7201a8"
            ],
            [
             0.3333333333333333,
             "#9c179e"
            ],
            [
             0.4444444444444444,
             "#bd3786"
            ],
            [
             0.5555555555555556,
             "#d8576b"
            ],
            [
             0.6666666666666666,
             "#ed7953"
            ],
            [
             0.7777777777777778,
             "#fb9f3a"
            ],
            [
             0.8888888888888888,
             "#fdca26"
            ],
            [
             1,
             "#f0f921"
            ]
           ],
           "sequentialminus": [
            [
             0,
             "#0d0887"
            ],
            [
             0.1111111111111111,
             "#46039f"
            ],
            [
             0.2222222222222222,
             "#7201a8"
            ],
            [
             0.3333333333333333,
             "#9c179e"
            ],
            [
             0.4444444444444444,
             "#bd3786"
            ],
            [
             0.5555555555555556,
             "#d8576b"
            ],
            [
             0.6666666666666666,
             "#ed7953"
            ],
            [
             0.7777777777777778,
             "#fb9f3a"
            ],
            [
             0.8888888888888888,
             "#fdca26"
            ],
            [
             1,
             "#f0f921"
            ]
           ]
          },
          "colorway": [
           "#636efa",
           "#EF553B",
           "#00cc96",
           "#ab63fa",
           "#FFA15A",
           "#19d3f3",
           "#FF6692",
           "#B6E880",
           "#FF97FF",
           "#FECB52"
          ],
          "font": {
           "color": "#2a3f5f"
          },
          "geo": {
           "bgcolor": "white",
           "lakecolor": "white",
           "landcolor": "#E5ECF6",
           "showlakes": true,
           "showland": true,
           "subunitcolor": "white"
          },
          "hoverlabel": {
           "align": "left"
          },
          "hovermode": "closest",
          "mapbox": {
           "style": "light"
          },
          "paper_bgcolor": "white",
          "plot_bgcolor": "#E5ECF6",
          "polar": {
           "angularaxis": {
            "gridcolor": "white",
            "linecolor": "white",
            "ticks": ""
           },
           "bgcolor": "#E5ECF6",
           "radialaxis": {
            "gridcolor": "white",
            "linecolor": "white",
            "ticks": ""
           }
          },
          "scene": {
           "xaxis": {
            "backgroundcolor": "#E5ECF6",
            "gridcolor": "white",
            "gridwidth": 2,
            "linecolor": "white",
            "showbackground": true,
            "ticks": "",
            "zerolinecolor": "white"
           },
           "yaxis": {
            "backgroundcolor": "#E5ECF6",
            "gridcolor": "white",
            "gridwidth": 2,
            "linecolor": "white",
            "showbackground": true,
            "ticks": "",
            "zerolinecolor": "white"
           },
           "zaxis": {
            "backgroundcolor": "#E5ECF6",
            "gridcolor": "white",
            "gridwidth": 2,
            "linecolor": "white",
            "showbackground": true,
            "ticks": "",
            "zerolinecolor": "white"
           }
          },
          "shapedefaults": {
           "line": {
            "color": "#2a3f5f"
           }
          },
          "ternary": {
           "aaxis": {
            "gridcolor": "white",
            "linecolor": "white",
            "ticks": ""
           },
           "baxis": {
            "gridcolor": "white",
            "linecolor": "white",
            "ticks": ""
           },
           "bgcolor": "#E5ECF6",
           "caxis": {
            "gridcolor": "white",
            "linecolor": "white",
            "ticks": ""
           }
          },
          "title": {
           "x": 0.05
          },
          "xaxis": {
           "automargin": true,
           "gridcolor": "white",
           "linecolor": "white",
           "ticks": "",
           "title": {
            "standoff": 15
           },
           "zerolinecolor": "white",
           "zerolinewidth": 2
          },
          "yaxis": {
           "automargin": true,
           "gridcolor": "white",
           "linecolor": "white",
           "ticks": "",
           "title": {
            "standoff": 15
           },
           "zerolinecolor": "white",
           "zerolinewidth": 2
          }
         }
        },
        "title": {
         "text": "Assimetria e Curtose dos Atributos Numéricos dos Pokémon"
        },
        "width": 800
       }
      }
     },
     "metadata": {},
     "output_type": "display_data"
    }
   ],
   "source": [
    "import pandas as pd\n",
    "import plotly.graph_objects as go\n",
    "from scipy.stats import skew, kurtosis\n",
    "import matplotlib.pyplot as plt\n",
    "import seaborn as sns\n",
    "import os\n",
    "\n",
    "# Seleciona as colunas numéricas\n",
    "numeric_cols = ['height', 'weight', 'attack', 'defense', 'hp', 'sp_atk', 'sp_def', 'speed', 'total']\n",
    "\n",
    "# Calcula assimetria (skewness) e curtose para cada atributo\n",
    "skewness = [skew(basicdf[col].dropna()) for col in numeric_cols]\n",
    "kurt = [kurtosis(basicdf[col].dropna(), fisher=True) for col in numeric_cols]\n",
    "\n",
    "# Monta DataFrame para exibição\n",
    "tabela_assimetria = pd.DataFrame({\n",
    "    \"Atributo\": numeric_cols,\n",
    "    \"Assimetria (Skewness)\": [f\"{v:.2f}\" for v in skewness],\n",
    "    \"Curtose\": [f\"{v:.2f}\" for v in kurt]\n",
    "})\n",
    "\n",
    "# Exibe a tabela com plotly\n",
    "fig = go.Figure(data=[go.Table(\n",
    "    header=dict(values=list(tabela_assimetria.columns), fill_color='paleturquoise', align='left'),\n",
    "    cells=dict(values=[tabela_assimetria[col] for col in tabela_assimetria.columns], fill_color='lavender', align='left')\n",
    ")])\n",
    "fig.update_layout(width=800, height=500, title=\"Assimetria e Curtose dos Atributos Numéricos dos Pokémon\")\n",
    "\n",
    "# Salva a tabela como imagem\n",
    "os.makedirs('./charts/skew-kurtosis', exist_ok=True)\n",
    "fig.write_image('./charts/skew-kurtosis/assimetria_curtose_pokemon.png')\n",
    "fig.show()\n",
    "\n",
    "\n",
    "os.makedirs('./charts/skew-kurtosis/curvas', exist_ok=True)\n",
    "\n",
    "for col in numeric_cols:\n",
    "    plt.figure(figsize=(8, 4))\n",
    "    sns.kdeplot(basicdf[col].dropna(), fill=True, color='skyblue')\n",
    "    plt.title(\n",
    "        f'Distribuição de {col}\\n'\n",
    "        f'Assimetria: {skew(basicdf[col].dropna()):.2f} | Curtose: {kurtosis(basicdf[col].dropna(), fisher=True):.2f}'\n",
    "    )\n",
    "    plt.xlabel(col)\n",
    "    plt.ylabel('Densidade')\n",
    "    plt.tight_layout()\n",
    "    plt.savefig(f'./charts/skew-kurtosis/curvas/{col}_curva.png')\n",
    "    plt.close()"
   ]
  },
  {
   "cell_type": "markdown",
   "id": "a1bd7103",
   "metadata": {},
   "source": [
    "### Insights sobre a Distribuição de Pokémon por Local de Captura\n",
    "\n",
    "A análise dos novos gráficos e da tabela descritiva revela pontos importantes sobre a distribuição dos Pokémon nos diferentes locais de captura:\n",
    "\n",
    "- **Distribuição Desigual:** O gráfico de dispersão mostra que a maioria dos locais de captura possui uma quantidade pequena de espécies de Pokémon disponíveis, enquanto poucos locais concentram uma grande diversidade. Isso indica uma distribuição desigual, com muitos locais \"exclusivos\" ou pouco povoados e poucos \"hubs\" de alta diversidade.\n",
    "\n",
    "- **Moda, Mediana e Média:** A moda e a mediana da quantidade de Pokémon por local são significativamente menores que a média, reforçando que a maior parte dos locais tem poucos Pokémon, mas alguns locais com muitos Pokémon elevam a média geral.\n",
    "\n",
    "- **Locais de Alta Diversidade:** Os poucos locais que aparecem no topo do gráfico de barras são pontos estratégicos para jogadores que desejam encontrar uma grande variedade de espécies, sendo ideais para completar a Pokédex de forma eficiente.\n",
    "\n",
    "- **Top 5 Pokémon com Maior Número de Locais Capturáveis:**\n",
    "    - **Magikarp**: encontrado em 244 locais diferentes, presente em praticamente todas as regiões aquáticas.\n",
    "    - **Golbat**: aparece em 142 locais, sendo comum em cavernas e rotas.\n",
    "    - **Gyarados**: disponível em 132 locais, geralmente em áreas de água e lagos.\n",
    "    - **Zubat**: presente em 125 locais, típico de cavernas e túneis.\n",
    "    - **Tentacool**: encontrado em 113 locais, principalmente em mares e áreas costeiras."
   ]
  },
  {
   "cell_type": "code",
   "execution_count": null,
   "id": "f859b175",
   "metadata": {},
   "outputs": [],
   "source": [
    "import plotly.express as px\n",
    "import os\n",
    "\n",
    "# Explode a coluna 'capture_location' para que cada local ocupe uma linha\n",
    "df_locais = basicdf.explode('capture_location')\n",
    "\n",
    "# Remove valores nulos/vazios\n",
    "df_locais = df_locais[df_locais['capture_location'].notnull() & (df_locais['capture_location'] != '')]\n",
    "\n",
    "# Conta a frequência de cada local de captura\n",
    "freq_locais = df_locais['capture_location'].value_counts().reset_index()\n",
    "freq_locais.columns = ['Local de Captura', 'Frequência']\n",
    "\n",
    "# Top 20 pokémons com maior número de locais capturáveis\n",
    "basicdf['num_locais'] = basicdf['capture_location'].apply(lambda x: len(x) if isinstance(x, list) else 0)\n",
    "top20 = basicdf.sort_values('num_locais', ascending=False)[['name', 'num_locais']].head(20)\n",
    "\n",
    "fig = px.bar(\n",
    "    top20,\n",
    "    x='name',\n",
    "    y='num_locais',\n",
    "    title='Top 20 Pokémon com Maior Número de Locais Capturáveis',\n",
    "    labels={'name': 'Pokémon', 'num_locais': 'Nº de Locais Capturáveis'},\n",
    "    color='num_locais',\n",
    "    color_continuous_scale='Blues'\n",
    ")\n",
    "fig.update_layout(xaxis_tickangle=45, width=900, height=500)\n",
    "os.makedirs('./charts/capture-regions', exist_ok=True)\n",
    "fig.write_image('./charts/capture-regions/top20_pokemons_locais_captura.png')\n",
    "fig.show()\n",
    "\n",
    "# Gera o histograma dos 20 locais mais frequentes\n",
    "fig = px.bar(\n",
    "    freq_locais.head(20),\n",
    "    x='Local de Captura',\n",
    "    y='Frequência',\n",
    "    title='Top 20 Locais de Captura Com Maior Diversidade de Pokémon',\n",
    "    color='Local de Captura'\n",
    ")\n",
    "fig.update_layout(xaxis_tickangle=45, width=1000, height=500)\n",
    "fig.write_image('./charts/capture-regions/histograma_top20_locais_captura.png')\n",
    "fig.show()\n",
    "\n",
    "# Gráfico de dispersão da quantidade de Pokémon por local de captura (todas as áreas)\n",
    "fig_disp = px.histogram(\n",
    "    freq_locais,\n",
    "    x='Frequência',\n",
    "    nbins=30,\n",
    "    title='Distribuição da Quantidade de Pokémon por Local de Captura',\n",
    "    labels={'Frequência': 'Quantidade de Pokémon no Local'}\n",
    ")\n",
    "fig_disp.update_layout(width=900, height=400)\n",
    "fig_disp.write_image('./charts/capture-regions/dispersao_pokemons_por_local.png')\n",
    "fig_disp.show()\n",
    "\n",
    "# Estatísticas descritivas\n",
    "\n",
    "# freq_locais já contém a contagem de pokémons por local de captura\n",
    "freq_locais.columns = ['Local de Captura', 'Frequência']\n",
    "desc_stats = {\n",
    "    \"Média\": freq_locais['Frequência'].mean(),\n",
    "    \"Mediana\": freq_locais['Frequência'].median(),\n",
    "    \"Moda\": freq_locais['Frequência'].mode().iloc[0] if not freq_locais['Frequência'].mode().empty else np.nan,\n",
    "    \"Mínimo\": freq_locais['Frequência'].min(),\n",
    "    \"Máximo\": freq_locais['Frequência'].max(),\n",
    "    \"Desvio Padrão\": freq_locais['Frequência'].std(),\n",
    "    \"Total de Locais\": freq_locais.shape[0]\n",
    "}\n",
    "\n",
    "# Monta a tabela para exibição\n",
    "tabela = pd.DataFrame({\n",
    "    \"Estatística\": list(desc_stats.keys()),\n",
    "    \"Valor\": [f\"{v:.2f}\" if isinstance(v, float) else v for v in desc_stats.values()]\n",
    "})\n",
    "\n",
    "# Exibe a tabela com plotly\n",
    "fig = go.Figure(data=[go.Table(\n",
    "    header=dict(values=[\"Estatística\", \"Valor\"], fill_color='paleturquoise', align='left'),\n",
    "    cells=dict(values=[tabela['Estatística'], tabela['Valor']], fill_color='lavender', align='left')\n",
    ")])\n",
    "fig.update_layout(width=600, height=400, title=\"Estatísticas - Pokémon por Local de Captura\")\n",
    "fig.write_image('./charts/capture-regions/estatisticas_locais_captura.png')\n",
    "fig.show()\n",
    "\n"
   ]
  },
  {
   "cell_type": "markdown",
   "id": "ff0131e1",
   "metadata": {},
   "source": [
    "### Matriz de Correlação entre Atributos Numéricos dos Pokémon\n",
    "\n",
    "- **total × outros atributos:**  \n",
    "  O atributo \"total\" apresenta alta correlação com todos os atributos individuais, especialmente ataque, defesa, HP e ataque especial, pois é a soma direta desses valores.\n",
    "\n",
    "- **height × weight (0.63):**  \n",
    "  Altura e peso têm uma correlação forte, como esperado, já que Pokémon mais altos tendem a ser mais pesados.\n",
    "\n",
    "- **speed × outros atributos:**  \n",
    "  Velocidade apresenta correlação mais baixa com os demais atributos, indicando que ser rápido não necessariamente significa ter outros atributos altos.\n",
    "\n",
    "- **sp_atk e sp_def:**  \n",
    "  A correlação entre defesa especial e defesa é moderada, enquanto a correlação entre ataque especial e ataque é fraca. \n",
    "\n",
    "**Resumo:**  \n",
    "A matriz revela que Altura e Peso tem relação, assim como defesa especial e defesa. Já velocidade é um atributo mais \"independente\", variando bastante entre Pokémon de diferentes perfis."
   ]
  },
  {
   "cell_type": "code",
   "execution_count": null,
   "id": "479258c4",
   "metadata": {},
   "outputs": [],
   "source": [
    "import seaborn as sns\n",
    "import matplotlib.pyplot as plt\n",
    "\n",
    "# Seleciona apenas as colunas numéricas relevantes\n",
    "numeric_cols = ['attack', 'defense', 'hp', 'sp_atk', 'sp_def', 'speed', 'total', 'height', 'weight']\n",
    "\n",
    "# Calcula a matriz de correlação\n",
    "corr_matrix = basicdf[numeric_cols].corr()\n",
    "\n",
    "# Exibe a matriz de correlação como um heatmap\n",
    "plt.figure(figsize=(10, 8))\n",
    "sns.heatmap(corr_matrix, annot=True, cmap='Blues', fmt=\".2f\", linewidths=0.5)\n",
    "plt.title('Matriz de Correlação entre Atributos Numéricos dos Pokémon')\n",
    "plt.tight_layout()\n",
    "os.makedirs('./charts/stats-correlation', exist_ok=True)\n",
    "plt.savefig('./charts/stats-correlation/matriz_correlacao_pokemon.png')\n",
    "plt.show()"
   ]
  },
  {
   "cell_type": "markdown",
   "id": "03d1243b",
   "metadata": {},
   "source": [
    "## Analises com Inteligência Artificial"
   ]
  }
 ],
 "metadata": {
  "kernelspec": {
   "display_name": "Python 3",
   "language": "python",
   "name": "python3"
  },
  "language_info": {
   "codemirror_mode": {
    "name": "ipython",
    "version": 3
   },
   "file_extension": ".py",
   "mimetype": "text/x-python",
   "name": "python",
   "nbconvert_exporter": "python",
   "pygments_lexer": "ipython3",
   "version": "3.12.4"
  }
 },
 "nbformat": 4,
 "nbformat_minor": 5
}
