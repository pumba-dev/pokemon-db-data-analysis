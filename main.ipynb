{
 "cells": [
  {
   "cell_type": "markdown",
   "id": "3415ba3d",
   "metadata": {},
   "source": [
    "# POKEMON DATABASE - DATA ANALYSIS\n",
    "\n",
    "> Neste notebook, vamos explorar e analisar uma base de dados completa de Pokémon, extraída de fontes públicas e enriquecida com informações adicionais, como atributos de batalha, habilidades, fraquezas e locais de captura.\n",
    "\n",
    "O objetivo deste trabalho é aplicar técnicas de análise de dados para responder perguntas relevantes, identificar padrões, tendências e insights que possam ser úteis para jogadores, pesquisadores ou entusiastas do universo Pokémon.\n",
    "\n",
    "Ao longo do notebook, você encontrará:\n",
    "- Bibliotecas utilizadas\n",
    "- Extração, limpeza e preparação dos dados \n",
    "- Dicionário de dados\n",
    "- Análise de qualidade e exploratória dos dados\n",
    "- Visualizações para facilitar a compreensão dos dados\n",
    "- Descoberta de relações entre tipos, habilidades, fraquezas e desempenho\n",
    "- Insights sobre distribuição, raridade e características marcantes dos Pokémon"
   ]
  },
  {
   "cell_type": "markdown",
   "id": "7bd7014b",
   "metadata": {},
   "source": [
    "## Bibliotecas Utilizadas\n"
   ]
  },
  {
   "cell_type": "markdown",
   "id": "d217a665",
   "metadata": {},
   "source": [
    "Para realizar a análise e manipulação dos dados neste notebook, utilizamos as seguintes bibliotecas Python:\n",
    "\n",
    "- **pandas**  \n",
    "  Utilizada para manipulação, limpeza e análise de dados em formato tabular (DataFrames). É a principal biblioteca para análise de dados estruturados em Python.\n",
    "\n",
    "- **beautifulsoup4**  \n",
    "  Usada para fazer parsing e extração de informações de arquivos HTML, permitindo coletar dados de páginas web de forma eficiente.\n",
    "\n",
    "- **requests**  \n",
    "  Permite realizar requisições HTTP para acessar APIs e baixar dados diretamente da internet, como a PokeAPI.\n",
    "\n",
    "- **plotly**  \n",
    "  Biblioteca para criação de visualizações interativas e dinâmicas, como gráficos e tabelas, facilitando a exploração visual dos dados.\n",
    "\n",
    "- **nbformat**  \n",
    "  Necessária para o funcionamento correto de notebooks Jupyter, especialmente para renderização de gráficos interativos (como os do Plotly) dentro do ambiente do notebook.\n"
   ]
  },
  {
   "cell_type": "code",
   "execution_count": 3,
   "id": "c49b49bd",
   "metadata": {},
   "outputs": [
    {
     "name": "stdout",
     "output_type": "stream",
     "text": [
      "Requirement already satisfied: pandas in c:\\users\\joseg\\onedrive\\documentos\\pythonprojects\\pokemon-db-data-analysis\\venv\\lib\\site-packages (2.3.0)\n",
      "Requirement already satisfied: numpy>=1.26.0 in c:\\users\\joseg\\onedrive\\documentos\\pythonprojects\\pokemon-db-data-analysis\\venv\\lib\\site-packages (from pandas) (2.3.1)\n",
      "Requirement already satisfied: python-dateutil>=2.8.2 in c:\\users\\joseg\\onedrive\\documentos\\pythonprojects\\pokemon-db-data-analysis\\venv\\lib\\site-packages (from pandas) (2.9.0.post0)\n",
      "Requirement already satisfied: pytz>=2020.1 in c:\\users\\joseg\\onedrive\\documentos\\pythonprojects\\pokemon-db-data-analysis\\venv\\lib\\site-packages (from pandas) (2025.2)\n",
      "Requirement already satisfied: tzdata>=2022.7 in c:\\users\\joseg\\onedrive\\documentos\\pythonprojects\\pokemon-db-data-analysis\\venv\\lib\\site-packages (from pandas) (2025.2)\n",
      "Requirement already satisfied: six>=1.5 in c:\\users\\joseg\\onedrive\\documentos\\pythonprojects\\pokemon-db-data-analysis\\venv\\lib\\site-packages (from python-dateutil>=2.8.2->pandas) (1.17.0)\n",
      "Note: you may need to restart the kernel to use updated packages.\n"
     ]
    },
    {
     "name": "stderr",
     "output_type": "stream",
     "text": [
      "\n",
      "[notice] A new release of pip is available: 24.0 -> 25.1.1\n",
      "[notice] To update, run: python.exe -m pip install --upgrade pip\n"
     ]
    },
    {
     "name": "stdout",
     "output_type": "stream",
     "text": [
      "Requirement already satisfied: beautifulsoup4 in c:\\users\\joseg\\onedrive\\documentos\\pythonprojects\\pokemon-db-data-analysis\\venv\\lib\\site-packages (4.13.4)\n",
      "Requirement already satisfied: soupsieve>1.2 in c:\\users\\joseg\\onedrive\\documentos\\pythonprojects\\pokemon-db-data-analysis\\venv\\lib\\site-packages (from beautifulsoup4) (2.7)\n",
      "Requirement already satisfied: typing-extensions>=4.0.0 in c:\\users\\joseg\\onedrive\\documentos\\pythonprojects\\pokemon-db-data-analysis\\venv\\lib\\site-packages (from beautifulsoup4) (4.14.0)\n",
      "Note: you may need to restart the kernel to use updated packages.\n"
     ]
    },
    {
     "name": "stderr",
     "output_type": "stream",
     "text": [
      "\n",
      "[notice] A new release of pip is available: 24.0 -> 25.1.1\n",
      "[notice] To update, run: python.exe -m pip install --upgrade pip\n"
     ]
    },
    {
     "name": "stdout",
     "output_type": "stream",
     "text": [
      "Requirement already satisfied: requests in c:\\users\\joseg\\onedrive\\documentos\\pythonprojects\\pokemon-db-data-analysis\\venv\\lib\\site-packages (2.32.4)\n",
      "Requirement already satisfied: charset_normalizer<4,>=2 in c:\\users\\joseg\\onedrive\\documentos\\pythonprojects\\pokemon-db-data-analysis\\venv\\lib\\site-packages (from requests) (3.4.2)\n",
      "Requirement already satisfied: idna<4,>=2.5 in c:\\users\\joseg\\onedrive\\documentos\\pythonprojects\\pokemon-db-data-analysis\\venv\\lib\\site-packages (from requests) (3.10)\n",
      "Requirement already satisfied: urllib3<3,>=1.21.1 in c:\\users\\joseg\\onedrive\\documentos\\pythonprojects\\pokemon-db-data-analysis\\venv\\lib\\site-packages (from requests) (2.5.0)\n",
      "Requirement already satisfied: certifi>=2017.4.17 in c:\\users\\joseg\\onedrive\\documentos\\pythonprojects\\pokemon-db-data-analysis\\venv\\lib\\site-packages (from requests) (2025.6.15)\n",
      "Note: you may need to restart the kernel to use updated packages.\n"
     ]
    },
    {
     "name": "stderr",
     "output_type": "stream",
     "text": [
      "\n",
      "[notice] A new release of pip is available: 24.0 -> 25.1.1\n",
      "[notice] To update, run: python.exe -m pip install --upgrade pip\n"
     ]
    },
    {
     "name": "stdout",
     "output_type": "stream",
     "text": [
      "Requirement already satisfied: plotly in c:\\users\\joseg\\onedrive\\documentos\\pythonprojects\\pokemon-db-data-analysis\\venv\\lib\\site-packages (6.1.2)\n",
      "Requirement already satisfied: narwhals>=1.15.1 in c:\\users\\joseg\\onedrive\\documentos\\pythonprojects\\pokemon-db-data-analysis\\venv\\lib\\site-packages (from plotly) (1.43.1)\n",
      "Requirement already satisfied: packaging in c:\\users\\joseg\\onedrive\\documentos\\pythonprojects\\pokemon-db-data-analysis\\venv\\lib\\site-packages (from plotly) (25.0)\n",
      "Note: you may need to restart the kernel to use updated packages.\n"
     ]
    },
    {
     "name": "stderr",
     "output_type": "stream",
     "text": [
      "\n",
      "[notice] A new release of pip is available: 24.0 -> 25.1.1\n",
      "[notice] To update, run: python.exe -m pip install --upgrade pip\n"
     ]
    },
    {
     "name": "stdout",
     "output_type": "stream",
     "text": [
      "Requirement already satisfied: nbformat in c:\\users\\joseg\\onedrive\\documentos\\pythonprojects\\pokemon-db-data-analysis\\venv\\lib\\site-packages (5.10.4)\n",
      "Requirement already satisfied: fastjsonschema>=2.15 in c:\\users\\joseg\\onedrive\\documentos\\pythonprojects\\pokemon-db-data-analysis\\venv\\lib\\site-packages (from nbformat) (2.21.1)\n",
      "Requirement already satisfied: jsonschema>=2.6 in c:\\users\\joseg\\onedrive\\documentos\\pythonprojects\\pokemon-db-data-analysis\\venv\\lib\\site-packages (from nbformat) (4.24.0)\n",
      "Requirement already satisfied: jupyter-core!=5.0.*,>=4.12 in c:\\users\\joseg\\onedrive\\documentos\\pythonprojects\\pokemon-db-data-analysis\\venv\\lib\\site-packages (from nbformat) (5.8.1)\n",
      "Requirement already satisfied: traitlets>=5.1 in c:\\users\\joseg\\onedrive\\documentos\\pythonprojects\\pokemon-db-data-analysis\\venv\\lib\\site-packages (from nbformat) (5.14.3)\n",
      "Requirement already satisfied: attrs>=22.2.0 in c:\\users\\joseg\\onedrive\\documentos\\pythonprojects\\pokemon-db-data-analysis\\venv\\lib\\site-packages (from jsonschema>=2.6->nbformat) (25.3.0)\n",
      "Requirement already satisfied: jsonschema-specifications>=2023.03.6 in c:\\users\\joseg\\onedrive\\documentos\\pythonprojects\\pokemon-db-data-analysis\\venv\\lib\\site-packages (from jsonschema>=2.6->nbformat) (2025.4.1)\n",
      "Requirement already satisfied: referencing>=0.28.4 in c:\\users\\joseg\\onedrive\\documentos\\pythonprojects\\pokemon-db-data-analysis\\venv\\lib\\site-packages (from jsonschema>=2.6->nbformat) (0.36.2)\n",
      "Requirement already satisfied: rpds-py>=0.7.1 in c:\\users\\joseg\\onedrive\\documentos\\pythonprojects\\pokemon-db-data-analysis\\venv\\lib\\site-packages (from jsonschema>=2.6->nbformat) (0.25.1)\n",
      "Requirement already satisfied: platformdirs>=2.5 in c:\\users\\joseg\\onedrive\\documentos\\pythonprojects\\pokemon-db-data-analysis\\venv\\lib\\site-packages (from jupyter-core!=5.0.*,>=4.12->nbformat) (4.3.8)\n",
      "Requirement already satisfied: pywin32>=300 in c:\\users\\joseg\\onedrive\\documentos\\pythonprojects\\pokemon-db-data-analysis\\venv\\lib\\site-packages (from jupyter-core!=5.0.*,>=4.12->nbformat) (310)\n",
      "Requirement already satisfied: typing-extensions>=4.4.0 in c:\\users\\joseg\\onedrive\\documentos\\pythonprojects\\pokemon-db-data-analysis\\venv\\lib\\site-packages (from referencing>=0.28.4->jsonschema>=2.6->nbformat) (4.14.0)\n",
      "Note: you may need to restart the kernel to use updated packages.\n"
     ]
    },
    {
     "name": "stderr",
     "output_type": "stream",
     "text": [
      "\n",
      "[notice] A new release of pip is available: 24.0 -> 25.1.1\n",
      "[notice] To update, run: python.exe -m pip install --upgrade pip\n"
     ]
    },
    {
     "name": "stdout",
     "output_type": "stream",
     "text": [
      "Requirement already satisfied: scipy in c:\\users\\joseg\\onedrive\\documentos\\pythonprojects\\pokemon-db-data-analysis\\venv\\lib\\site-packages (1.16.0)\n",
      "Requirement already satisfied: numpy<2.6,>=1.25.2 in c:\\users\\joseg\\onedrive\\documentos\\pythonprojects\\pokemon-db-data-analysis\\venv\\lib\\site-packages (from scipy) (2.3.1)\n",
      "Note: you may need to restart the kernel to use updated packages.\n"
     ]
    },
    {
     "name": "stderr",
     "output_type": "stream",
     "text": [
      "\n",
      "[notice] A new release of pip is available: 24.0 -> 25.1.1\n",
      "[notice] To update, run: python.exe -m pip install --upgrade pip\n"
     ]
    },
    {
     "name": "stdout",
     "output_type": "stream",
     "text": [
      "Requirement already satisfied: kaleido in c:\\users\\joseg\\onedrive\\documentos\\pythonprojects\\pokemon-db-data-analysis\\venv\\lib\\site-packages (1.0.0)\n",
      "Requirement already satisfied: choreographer>=1.0.5 in c:\\users\\joseg\\onedrive\\documentos\\pythonprojects\\pokemon-db-data-analysis\\venv\\lib\\site-packages (from kaleido) (1.0.9)\n",
      "Requirement already satisfied: logistro>=1.0.8 in c:\\users\\joseg\\onedrive\\documentos\\pythonprojects\\pokemon-db-data-analysis\\venv\\lib\\site-packages (from kaleido) (1.1.0)\n",
      "Requirement already satisfied: orjson>=3.10.15 in c:\\users\\joseg\\onedrive\\documentos\\pythonprojects\\pokemon-db-data-analysis\\venv\\lib\\site-packages (from kaleido) (3.10.18)\n",
      "Requirement already satisfied: packaging in c:\\users\\joseg\\onedrive\\documentos\\pythonprojects\\pokemon-db-data-analysis\\venv\\lib\\site-packages (from kaleido) (25.0)\n",
      "Requirement already satisfied: simplejson>=3.19.3 in c:\\users\\joseg\\onedrive\\documentos\\pythonprojects\\pokemon-db-data-analysis\\venv\\lib\\site-packages (from choreographer>=1.0.5->kaleido) (3.20.1)\n",
      "Note: you may need to restart the kernel to use updated packages.\n"
     ]
    },
    {
     "name": "stderr",
     "output_type": "stream",
     "text": [
      "\n",
      "[notice] A new release of pip is available: 24.0 -> 25.1.1\n",
      "[notice] To update, run: python.exe -m pip install --upgrade pip\n"
     ]
    },
    {
     "name": "stdout",
     "output_type": "stream",
     "text": [
      "Requirement already satisfied: seaborn in c:\\users\\joseg\\onedrive\\documentos\\pythonprojects\\pokemon-db-data-analysis\\venv\\lib\\site-packages (0.13.2)\n",
      "Requirement already satisfied: numpy!=1.24.0,>=1.20 in c:\\users\\joseg\\onedrive\\documentos\\pythonprojects\\pokemon-db-data-analysis\\venv\\lib\\site-packages (from seaborn) (2.3.1)\n",
      "Requirement already satisfied: pandas>=1.2 in c:\\users\\joseg\\onedrive\\documentos\\pythonprojects\\pokemon-db-data-analysis\\venv\\lib\\site-packages (from seaborn) (2.3.0)\n",
      "Requirement already satisfied: matplotlib!=3.6.1,>=3.4 in c:\\users\\joseg\\onedrive\\documentos\\pythonprojects\\pokemon-db-data-analysis\\venv\\lib\\site-packages (from seaborn) (3.10.3)\n",
      "Requirement already satisfied: contourpy>=1.0.1 in c:\\users\\joseg\\onedrive\\documentos\\pythonprojects\\pokemon-db-data-analysis\\venv\\lib\\site-packages (from matplotlib!=3.6.1,>=3.4->seaborn) (1.3.2)\n",
      "Requirement already satisfied: cycler>=0.10 in c:\\users\\joseg\\onedrive\\documentos\\pythonprojects\\pokemon-db-data-analysis\\venv\\lib\\site-packages (from matplotlib!=3.6.1,>=3.4->seaborn) (0.12.1)\n",
      "Requirement already satisfied: fonttools>=4.22.0 in c:\\users\\joseg\\onedrive\\documentos\\pythonprojects\\pokemon-db-data-analysis\\venv\\lib\\site-packages (from matplotlib!=3.6.1,>=3.4->seaborn) (4.58.4)\n",
      "Requirement already satisfied: kiwisolver>=1.3.1 in c:\\users\\joseg\\onedrive\\documentos\\pythonprojects\\pokemon-db-data-analysis\\venv\\lib\\site-packages (from matplotlib!=3.6.1,>=3.4->seaborn) (1.4.8)\n",
      "Requirement already satisfied: packaging>=20.0 in c:\\users\\joseg\\onedrive\\documentos\\pythonprojects\\pokemon-db-data-analysis\\venv\\lib\\site-packages (from matplotlib!=3.6.1,>=3.4->seaborn) (25.0)\n",
      "Requirement already satisfied: pillow>=8 in c:\\users\\joseg\\onedrive\\documentos\\pythonprojects\\pokemon-db-data-analysis\\venv\\lib\\site-packages (from matplotlib!=3.6.1,>=3.4->seaborn) (11.2.1)\n",
      "Requirement already satisfied: pyparsing>=2.3.1 in c:\\users\\joseg\\onedrive\\documentos\\pythonprojects\\pokemon-db-data-analysis\\venv\\lib\\site-packages (from matplotlib!=3.6.1,>=3.4->seaborn) (3.2.3)\n",
      "Requirement already satisfied: python-dateutil>=2.7 in c:\\users\\joseg\\onedrive\\documentos\\pythonprojects\\pokemon-db-data-analysis\\venv\\lib\\site-packages (from matplotlib!=3.6.1,>=3.4->seaborn) (2.9.0.post0)\n",
      "Requirement already satisfied: pytz>=2020.1 in c:\\users\\joseg\\onedrive\\documentos\\pythonprojects\\pokemon-db-data-analysis\\venv\\lib\\site-packages (from pandas>=1.2->seaborn) (2025.2)\n",
      "Requirement already satisfied: tzdata>=2022.7 in c:\\users\\joseg\\onedrive\\documentos\\pythonprojects\\pokemon-db-data-analysis\\venv\\lib\\site-packages (from pandas>=1.2->seaborn) (2025.2)\n",
      "Requirement already satisfied: six>=1.5 in c:\\users\\joseg\\onedrive\\documentos\\pythonprojects\\pokemon-db-data-analysis\\venv\\lib\\site-packages (from python-dateutil>=2.7->matplotlib!=3.6.1,>=3.4->seaborn) (1.17.0)\n",
      "Note: you may need to restart the kernel to use updated packages.\n"
     ]
    },
    {
     "name": "stderr",
     "output_type": "stream",
     "text": [
      "\n",
      "[notice] A new release of pip is available: 24.0 -> 25.1.1\n",
      "[notice] To update, run: python.exe -m pip install --upgrade pip\n"
     ]
    },
    {
     "name": "stdout",
     "output_type": "stream",
     "text": [
      "Requirement already satisfied: matplotlib in c:\\users\\joseg\\onedrive\\documentos\\pythonprojects\\pokemon-db-data-analysis\\venv\\lib\\site-packages (3.10.3)\n",
      "Requirement already satisfied: contourpy>=1.0.1 in c:\\users\\joseg\\onedrive\\documentos\\pythonprojects\\pokemon-db-data-analysis\\venv\\lib\\site-packages (from matplotlib) (1.3.2)\n",
      "Requirement already satisfied: cycler>=0.10 in c:\\users\\joseg\\onedrive\\documentos\\pythonprojects\\pokemon-db-data-analysis\\venv\\lib\\site-packages (from matplotlib) (0.12.1)\n",
      "Requirement already satisfied: fonttools>=4.22.0 in c:\\users\\joseg\\onedrive\\documentos\\pythonprojects\\pokemon-db-data-analysis\\venv\\lib\\site-packages (from matplotlib) (4.58.4)\n",
      "Requirement already satisfied: kiwisolver>=1.3.1 in c:\\users\\joseg\\onedrive\\documentos\\pythonprojects\\pokemon-db-data-analysis\\venv\\lib\\site-packages (from matplotlib) (1.4.8)\n",
      "Requirement already satisfied: numpy>=1.23 in c:\\users\\joseg\\onedrive\\documentos\\pythonprojects\\pokemon-db-data-analysis\\venv\\lib\\site-packages (from matplotlib) (2.3.1)\n",
      "Requirement already satisfied: packaging>=20.0 in c:\\users\\joseg\\onedrive\\documentos\\pythonprojects\\pokemon-db-data-analysis\\venv\\lib\\site-packages (from matplotlib) (25.0)\n",
      "Requirement already satisfied: pillow>=8 in c:\\users\\joseg\\onedrive\\documentos\\pythonprojects\\pokemon-db-data-analysis\\venv\\lib\\site-packages (from matplotlib) (11.2.1)\n",
      "Requirement already satisfied: pyparsing>=2.3.1 in c:\\users\\joseg\\onedrive\\documentos\\pythonprojects\\pokemon-db-data-analysis\\venv\\lib\\site-packages (from matplotlib) (3.2.3)\n",
      "Requirement already satisfied: python-dateutil>=2.7 in c:\\users\\joseg\\onedrive\\documentos\\pythonprojects\\pokemon-db-data-analysis\\venv\\lib\\site-packages (from matplotlib) (2.9.0.post0)\n",
      "Requirement already satisfied: six>=1.5 in c:\\users\\joseg\\onedrive\\documentos\\pythonprojects\\pokemon-db-data-analysis\\venv\\lib\\site-packages (from python-dateutil>=2.7->matplotlib) (1.17.0)\n",
      "Note: you may need to restart the kernel to use updated packages.\n"
     ]
    },
    {
     "name": "stderr",
     "output_type": "stream",
     "text": [
      "\n",
      "[notice] A new release of pip is available: 24.0 -> 25.1.1\n",
      "[notice] To update, run: python.exe -m pip install --upgrade pip\n"
     ]
    }
   ],
   "source": [
    "\n",
    "%pip install pandas\n",
    "%pip install beautifulsoup4\n",
    "%pip install requests\n",
    "%pip install plotly\n",
    "%pip install nbformat\n",
    "%pip install scipy\n",
    "%pip install kaleido\n",
    "%pip install seaborn\n",
    "%pip install matplotlib"
   ]
  },
  {
   "cell_type": "markdown",
   "id": "197e7927",
   "metadata": {},
   "source": [
    "## Extração, Limpeza e Preparação dos Dados"
   ]
  },
  {
   "cell_type": "markdown",
   "id": "041b702d",
   "metadata": {},
   "source": [
    "O processo de construção da base de dados utilizada nesta análise envolveu diversas etapas de extração, enriquecimento e preparação dos dados, conforme descrito abaixo:\n",
    "\n",
    "- **Extração Inicial:**  \n",
    "  A base principal de Pokémon foi extraída do site oficial [Pokédex Pokémon](https://www.pokemon.com/br/pokedex), contendo informações básicas de cada espécie.\n",
    "\n",
    "- **Enriquecimento com Localização de Captura:**  \n",
    "  Utilizou-se a [PokeAPI](https://pokeapi.co/) para complementar a base, adicionando as localizações de captura de cada Pokémon, tornando a análise mais rica e detalhada.\n",
    "\n",
    "- **Resgate de Dados de Status:**  \n",
    "  Os dados de status dos Pokémon (HP, Attack, Defense, Sp. Attack, Sp. Defense e Speed) foram extraídos do site [Pokémon Database](https://pokemondb.net/pokedex/all) utilizando a biblioteca BeautifulSoup para leitura do HTML.  \n",
    "  - Para Pokémon com diferentes formas, foi considerado o status da forma padrão/normal.\n",
    "\n",
    "- **Normalização dos valores:**  \n",
    "  Para garantir a consistência e facilitar a análise, os valores numéricos de altura (`height`) e peso (`weight`) dos Pokémon foram convertidos para o tipo `float`, representando metros e quilogramas, respectivamente. Além disso, todos os nomes, tipos, habilidades e fraquezas foram padronizados para letras minúsculas, evitando duplicidade de categorias devido a diferenças de capitalização.\n",
    "\n",
    "- **Codificação de Dados Categóricos:**  \n",
    "  Para lidar com atributos que possuem múltiplos valores (como habilidades, tipos, fraquezas e locais de captura), foi aplicada a técnica de One Hot Encoding, facilitando a análise e a modelagem dos dados.\n",
    "\n",
    "Essas etapas garantem uma base de dados consolidada, limpa e pronta para análises mais profundas e visualizações"
   ]
  },
  {
   "cell_type": "code",
   "execution_count": 4,
   "id": "07c06187",
   "metadata": {},
   "outputs": [
    {
     "name": "stdout",
     "output_type": "stream",
     "text": [
      "Tamanho do DataFrame: (1025, 14)\n",
      "Colunas do DataFrame: ['abilities', 'detailPageURL', 'weight', 'weakness', 'number', 'height', 'collectibles_slug', 'featured', 'slug', 'name', 'ThumbnailAltText', 'ThumbnailImage', 'id', 'type']\n"
     ]
    }
   ],
   "source": [
    "import json\n",
    "import pandas as pd\n",
    "\n",
    "# Ler o JSON extraindo do site oficial da pokedex\n",
    "with open('./assets/pokedex-db.json', \"r\", encoding=\"utf-8\") as f:\n",
    "    pokedex_data = json.load(f)\n",
    "\n",
    "# Converter para DataFrame\n",
    "df = pd.DataFrame(pokedex_data)\n",
    "\n",
    "print(f\"Tamanho do DataFrame: {df.shape}\")\n",
    "print(f\"Colunas do DataFrame: {df.columns.tolist()}\")"
   ]
  },
  {
   "cell_type": "code",
   "execution_count": 5,
   "id": "14b36020",
   "metadata": {},
   "outputs": [
    {
     "name": "stdout",
     "output_type": "stream",
     "text": [
      "Tamanho do DataFrame após remoção de colunas: (1025, 7)\n",
      "\n",
      "\n",
      "    abilities  weight                      weakness  height        name  id  \\\n",
      "0  [overgrow]     6.9  [fire, ice, flying, psychic]     0.7   bulbasaur   1   \n",
      "1  [overgrow]    13.0  [fire, ice, flying, psychic]     1.0     ivysaur   2   \n",
      "2  [overgrow]   100.0  [fire, ice, flying, psychic]     2.0    venusaur   3   \n",
      "3     [blaze]     8.5         [water, ground, rock]     0.6  charmander   4   \n",
      "4     [blaze]    19.0         [water, ground, rock]     1.1  charmeleon   5   \n",
      "\n",
      "              type  \n",
      "0  [grass, poison]  \n",
      "1  [grass, poison]  \n",
      "2  [grass, poison]  \n",
      "3           [fire]  \n",
      "4           [fire]  \n"
     ]
    }
   ],
   "source": [
    "\n",
    "# Removendo colunas desnecessárias se existirem\n",
    "if 'number' in df.columns:\n",
    "    df.drop(columns=['number'], inplace=True)\n",
    "if 'detailPageURL' in df.columns:\n",
    "    df.drop(columns=['detailPageURL'], inplace=True)\n",
    "if 'collectibles_slug' in df.columns:\n",
    "    df.drop(columns=['collectibles_slug'], inplace=True)\n",
    "if 'featured' in df.columns:\n",
    "    df.drop(columns=['featured'], inplace=True)\n",
    "if 'slug' in df.columns:\n",
    "    df.drop(columns=['slug'], inplace=True)\n",
    "if 'ThumbnailAltText' in df.columns:\n",
    "    df.drop(columns=['ThumbnailAltText'], inplace=True)\n",
    "if 'ThumbnailImage' in df.columns:\n",
    "    df.drop(columns=['ThumbnailImage'], inplace=True)\n",
    "    \n",
    "# Converter valores das colunas de tipo string para minusculo\n",
    "df['name'] = df['name'].str.lower()\n",
    "for col in ['type', 'abilities', 'weakness']:\n",
    "    df[col] = df[col].apply(lambda x: [i.lower() for i in x] if isinstance(x, list) else x)\n",
    "     \n",
    "print(f\"Tamanho do DataFrame após remoção de colunas: {df.shape}\\n\\n\")\n",
    "print(df.head(5))\n",
    "        "
   ]
  },
  {
   "cell_type": "code",
   "execution_count": 6,
   "id": "9803c4a1",
   "metadata": {},
   "outputs": [
    {
     "name": "stdout",
     "output_type": "stream",
     "text": [
      "Tamanho do DataFrame após atualização: (1025, 14)\n",
      "\n",
      "\n",
      "   id        name             type  height  weight  attack  defense    hp  \\\n",
      "0   1   bulbasaur  [grass, poison]     0.7     6.9    49.0     49.0  45.0   \n",
      "1   2     ivysaur  [grass, poison]     1.0    13.0    62.0     63.0  60.0   \n",
      "2   3    venusaur  [grass, poison]     2.0   100.0    82.0     83.0  80.0   \n",
      "3   4  charmander           [fire]     0.6     8.5    52.0     43.0  39.0   \n",
      "4   5  charmeleon           [fire]     1.1    19.0    64.0     58.0  58.0   \n",
      "\n",
      "   sp_atk  sp_def  speed  total   abilities                      weakness  \n",
      "0    65.0    65.0   45.0  318.0  [overgrow]  [fire, ice, flying, psychic]  \n",
      "1    80.0    80.0   60.0  405.0  [overgrow]  [fire, ice, flying, psychic]  \n",
      "2   100.0   100.0   80.0  525.0  [overgrow]  [fire, ice, flying, psychic]  \n",
      "3    60.0    50.0   65.0  309.0     [blaze]         [water, ground, rock]  \n",
      "4    80.0    65.0   80.0  405.0     [blaze]         [water, ground, rock]  \n"
     ]
    }
   ],
   "source": [
    "from bs4 import BeautifulSoup\n",
    "import json\n",
    "\n",
    "# Abra e leia o arquivo HTML\n",
    "with open('./assets/pokemondb-net.html', 'r', encoding='utf-8') as f:\n",
    "    html = f.read()\n",
    "\n",
    "soup = BeautifulSoup(html, 'html.parser')\n",
    "\n",
    "# Encontre a tabela com id=\"pokedex\"\n",
    "table = soup.find('table', {'id': 'pokedex'})\n",
    "\n",
    "# Pegue o cabeçalho da tabela\n",
    "headers = [th.get_text(strip=True) for th in table.find('thead').find_all('th')]\n",
    "\n",
    "# Descubra o índice da coluna 'Type'\n",
    "type_index = headers.index('Type')\n",
    "\n",
    "# Remova 'Type' dos headers\n",
    "headers.pop(type_index)\n",
    "\n",
    "# Extraia os dados das linhas\n",
    "data = []\n",
    "for row in table.find('tbody').find_all('tr'):\n",
    "    cols = row.find_all('td')\n",
    "    if not cols:\n",
    "        continue\n",
    "\n",
    "    # Extrai os textos das colunas, exceto 'Type'\n",
    "    col_texts = [td.get_text(strip=True) for td in cols]\n",
    "    col_texts.pop(type_index)\n",
    "\n",
    "    # Tratamento especial para a coluna 'Name'\n",
    "    name_td = cols[headers.index('Name')]\n",
    "    name_a = name_td.find('a')\n",
    "    name = name_a.get_text(strip=True) if name_a else name_td.get_text(strip=True)\n",
    "    form_small = name_td.find('small')\n",
    "    form = form_small.get_text(strip=True) if form_small else None\n",
    "\n",
    "    # Substitui o valor da coluna 'Name' pelo nome extraído\n",
    "    col_texts[headers.index('Name')] = name\n",
    "\n",
    "    # Cria o dicionário\n",
    "    item = dict(zip(headers, col_texts))\n",
    "    if form:\n",
    "        item['form'] = form\n",
    "    data.append(item)\n",
    "    \n",
    "# Remover os pokemons repetidos mantendo apenas o que primeiro aparece na lista\n",
    "unique_data = []\n",
    "seen_ids = set()\n",
    "for item in data:\n",
    "    poke_id = item.get(\"#\")\n",
    "    if poke_id and poke_id not in seen_ids:\n",
    "        unique_data.append(item)\n",
    "        seen_ids.add(poke_id)\n",
    " \n",
    "# Salvar em um arquivo JSON\n",
    "with open('./outputs/pokemon-stats-db.json', 'w', encoding='utf-8') as f:\n",
    "    json.dump(unique_data, f, ensure_ascii=False, indent=4)\n",
    "\n",
    "# Concatenar os dados de 'attack', 'defense', 'hp', 'sp_atk', 'sp_def', 'speed' ao DataFrame df comparando o \"id\" do df com o \"#\" do unique_data\n",
    "for item in unique_data:\n",
    "    poke_id = item.get(\"#\")\n",
    "    if poke_id and poke_id.isdigit():\n",
    "        poke_id = int(poke_id)\n",
    "\n",
    "        df.loc[df['id'] == poke_id, ['attack', 'defense', 'hp', 'sp_atk', 'sp_def', 'speed', 'total']] = [\n",
    "            int(item.get('Attack')),\n",
    "            int(item.get('Defense')),\n",
    "            int(item.get('HP')),\n",
    "            int(item.get('Sp. Atk')),\n",
    "            int(item.get('Sp. Def')),\n",
    "            int(item.get('Speed')),\n",
    "            int(item.get('Total'))\n",
    "        ]\n",
    "        \n",
    "    \n",
    "# Ordenando colunas\n",
    "df = df[['id', 'name', 'type', 'height', 'weight', 'attack', 'defense', 'hp', 'sp_atk', 'sp_def', 'speed', 'total', 'abilities', 'weakness']]\n",
    "         \n",
    "print(f\"Tamanho do DataFrame após atualização: {df.shape}\\n\\n\")\n",
    "print(df.head())  # Exibir as primeiras linhas do DataFrame atualizado"
   ]
  },
  {
   "cell_type": "code",
   "execution_count": 7,
   "id": "71b12020",
   "metadata": {},
   "outputs": [
    {
     "name": "stdout",
     "output_type": "stream",
     "text": [
      "Dados de localizações de captura carregados do cache.\n",
      "Tamanho do DataFrame atualizado: (1025, 15)\n",
      "   id        name             type  height  weight  attack  defense    hp  \\\n",
      "0   1   bulbasaur  [grass, poison]     0.7     6.9    49.0     49.0  45.0   \n",
      "1   2     ivysaur  [grass, poison]     1.0    13.0    62.0     63.0  60.0   \n",
      "2   3    venusaur  [grass, poison]     2.0   100.0    82.0     83.0  80.0   \n",
      "3   4  charmander           [fire]     0.6     8.5    52.0     43.0  39.0   \n",
      "4   5  charmeleon           [fire]     1.1    19.0    64.0     58.0  58.0   \n",
      "\n",
      "   sp_atk  sp_def  speed  total   abilities                      weakness  \\\n",
      "0    65.0    65.0   45.0  318.0  [overgrow]  [fire, ice, flying, psychic]   \n",
      "1    80.0    80.0   60.0  405.0  [overgrow]  [fire, ice, flying, psychic]   \n",
      "2   100.0   100.0   80.0  525.0  [overgrow]  [fire, ice, flying, psychic]   \n",
      "3    60.0    50.0   65.0  309.0     [blaze]         [water, ground, rock]   \n",
      "4    80.0    65.0   80.0  405.0     [blaze]         [water, ground, rock]   \n",
      "\n",
      "                                    capture_location  \n",
      "0  [cerulean-city-area, pallet-town-area, lumiose...  \n",
      "1                                                 []  \n",
      "2                                                 []  \n",
      "3  [pallet-town-area, kanto-route-24-area, lumios...  \n",
      "4                                                 []  \n"
     ]
    }
   ],
   "source": [
    "import requests\n",
    "import time\n",
    "import os\n",
    "\n",
    "# Verificando Cache\n",
    "if os.path.exists('./outputs/pokemon_capture_locations.json'):\n",
    "    df_capture_locations = pd.read_json('./outputs/pokemon_capture_locations.json', orient='records')\n",
    "    df = df.merge(df_capture_locations, on='id', how='outer')\n",
    "    print(\"Dados de localizações de captura carregados do cache.\")\n",
    "    \n",
    "# Resgatando Localizações de Captura \n",
    "else:\n",
    "    def get_capture_locations(number):\n",
    "        url = f\"https://pokeapi.co/api/v2/pokemon/{number}/encounters\"\n",
    "        try:\n",
    "            response = requests.get(url, timeout=10)\n",
    "            if response.status_code == 200:\n",
    "                data = response.json()\n",
    "                \n",
    "                # Extrai o nome dos locais de captura\n",
    "                locations = [loc['location_area']['name'] for loc in data]\n",
    "                # Converte os nomes para minúsculas\n",
    "                locations = [loc.lower() for loc in locations]\n",
    "                return locations\n",
    "            else:\n",
    "                return []\n",
    "        except Exception as e:\n",
    "            return []\n",
    "    \n",
    "    # Adicionar coluna para localizações de captura\n",
    "    df['capture_location'] = None\n",
    "        \n",
    "    # Para cada item da base de dados, resgata as localizações de captura\n",
    "    for index, row in df.iterrows():\n",
    "        number = row['id']\n",
    "        locations = get_capture_locations(number)\n",
    "        print(f\"Localizações de captura para o Pokémon número {number}: {locations}\")\n",
    "        df.at[index, 'capture_location'] = locations\n",
    "        # time.sleep(1)  # Respeitar o limite de requisições\n",
    "\n",
    "    # Salvar a base apenas com colunas ID e locations para resgatar e evitar fazer requisição novamente\n",
    "    df_capture_locations = df[['id', 'capture_location']]\n",
    "    df_capture_locations.to_json('./outputs/pokemon_capture_locations.json', orient='records', force_ascii=False, indent=4)\n",
    "    \n",
    "\n",
    "# Salvar \n",
    "basicdf = df\n",
    "df.to_csv('./outputs/pokemon-basic-db.csv', index=False)\n",
    "\n",
    "print(f\"Tamanho do DataFrame atualizado: {df.shape}\")\n",
    "print(df.head())  # Exibir as primeiras linhas do DataFrame atualizado\n"
   ]
  },
  {
   "cell_type": "code",
   "execution_count": 8,
   "id": "f44da374",
   "metadata": {},
   "outputs": [
    {
     "ename": "KeyboardInterrupt",
     "evalue": "",
     "output_type": "error",
     "traceback": [
      "\u001b[31m---------------------------------------------------------------------------\u001b[39m",
      "\u001b[31mKeyboardInterrupt\u001b[39m                         Traceback (most recent call last)",
      "\u001b[36mCell\u001b[39m\u001b[36m \u001b[39m\u001b[32mIn[8]\u001b[39m\u001b[32m, line 16\u001b[39m\n\u001b[32m     14\u001b[39m df_abilities = df[\u001b[33m'\u001b[39m\u001b[33mabilities\u001b[39m\u001b[33m'\u001b[39m].apply(\u001b[38;5;28;01mlambda\u001b[39;00m x: pd.Series({\u001b[33mf\u001b[39m\u001b[33m'\u001b[39m\u001b[33mability_\u001b[39m\u001b[38;5;132;01m{\u001b[39;00ma\u001b[38;5;132;01m}\u001b[39;00m\u001b[33m'\u001b[39m: \u001b[38;5;28mint\u001b[39m(a \u001b[38;5;129;01min\u001b[39;00m x) \u001b[38;5;28;01mfor\u001b[39;00m a \u001b[38;5;129;01min\u001b[39;00m abilities_dummies}))\n\u001b[32m     15\u001b[39m df_type = df[\u001b[33m'\u001b[39m\u001b[33mtype\u001b[39m\u001b[33m'\u001b[39m].apply(\u001b[38;5;28;01mlambda\u001b[39;00m x: pd.Series({\u001b[33mf\u001b[39m\u001b[33m'\u001b[39m\u001b[33mtype_\u001b[39m\u001b[38;5;132;01m{\u001b[39;00mt\u001b[38;5;132;01m}\u001b[39;00m\u001b[33m'\u001b[39m: \u001b[38;5;28mint\u001b[39m(t \u001b[38;5;129;01min\u001b[39;00m x) \u001b[38;5;28;01mfor\u001b[39;00m t \u001b[38;5;129;01min\u001b[39;00m type_dummies}))\n\u001b[32m---> \u001b[39m\u001b[32m16\u001b[39m df_weakness = \u001b[43mdf\u001b[49m\u001b[43m[\u001b[49m\u001b[33;43m'\u001b[39;49m\u001b[33;43mweakness\u001b[39;49m\u001b[33;43m'\u001b[39;49m\u001b[43m]\u001b[49m\u001b[43m.\u001b[49m\u001b[43mapply\u001b[49m\u001b[43m(\u001b[49m\u001b[38;5;28;43;01mlambda\u001b[39;49;00m\u001b[43m \u001b[49m\u001b[43mx\u001b[49m\u001b[43m:\u001b[49m\u001b[43m \u001b[49m\u001b[43mpd\u001b[49m\u001b[43m.\u001b[49m\u001b[43mSeries\u001b[49m\u001b[43m(\u001b[49m\u001b[43m{\u001b[49m\u001b[33;43mf\u001b[39;49m\u001b[33;43m'\u001b[39;49m\u001b[33;43mweakness_\u001b[39;49m\u001b[38;5;132;43;01m{\u001b[39;49;00m\u001b[43mw\u001b[49m\u001b[38;5;132;43;01m}\u001b[39;49;00m\u001b[33;43m'\u001b[39;49m\u001b[43m:\u001b[49m\u001b[43m \u001b[49m\u001b[38;5;28;43mint\u001b[39;49m\u001b[43m(\u001b[49m\u001b[43mw\u001b[49m\u001b[43m \u001b[49m\u001b[38;5;129;43;01min\u001b[39;49;00m\u001b[43m \u001b[49m\u001b[43mx\u001b[49m\u001b[43m)\u001b[49m\u001b[43m \u001b[49m\u001b[38;5;28;43;01mfor\u001b[39;49;00m\u001b[43m \u001b[49m\u001b[43mw\u001b[49m\u001b[43m \u001b[49m\u001b[38;5;129;43;01min\u001b[39;49;00m\u001b[43m \u001b[49m\u001b[43mweakness_dummies\u001b[49m\u001b[43m}\u001b[49m\u001b[43m)\u001b[49m\u001b[43m)\u001b[49m\n\u001b[32m     17\u001b[39m df_capture_location = df[\u001b[33m'\u001b[39m\u001b[33mcapture_location\u001b[39m\u001b[33m'\u001b[39m].apply(\u001b[38;5;28;01mlambda\u001b[39;00m x: pd.Series({\u001b[33mf\u001b[39m\u001b[33m'\u001b[39m\u001b[33mlocation_\u001b[39m\u001b[38;5;132;01m{\u001b[39;00ml\u001b[38;5;132;01m}\u001b[39;00m\u001b[33m'\u001b[39m: \u001b[38;5;28mint\u001b[39m(l \u001b[38;5;129;01min\u001b[39;00m x) \u001b[38;5;28;01mfor\u001b[39;00m l \u001b[38;5;129;01min\u001b[39;00m capture_location_dummies}))\n\u001b[32m     19\u001b[39m \u001b[38;5;66;03m# Concatenar tudo\u001b[39;00m\n",
      "\u001b[36mFile \u001b[39m\u001b[32mc:\\Users\\joseg\\OneDrive\\Documentos\\PythonProjects\\pokemon-db-data-analysis\\venv\\Lib\\site-packages\\pandas\\core\\series.py:4935\u001b[39m, in \u001b[36mSeries.apply\u001b[39m\u001b[34m(self, func, convert_dtype, args, by_row, **kwargs)\u001b[39m\n\u001b[32m   4800\u001b[39m \u001b[38;5;28;01mdef\u001b[39;00m\u001b[38;5;250m \u001b[39m\u001b[34mapply\u001b[39m(\n\u001b[32m   4801\u001b[39m     \u001b[38;5;28mself\u001b[39m,\n\u001b[32m   4802\u001b[39m     func: AggFuncType,\n\u001b[32m   (...)\u001b[39m\u001b[32m   4807\u001b[39m     **kwargs,\n\u001b[32m   4808\u001b[39m ) -> DataFrame | Series:\n\u001b[32m   4809\u001b[39m \u001b[38;5;250m    \u001b[39m\u001b[33;03m\"\"\"\u001b[39;00m\n\u001b[32m   4810\u001b[39m \u001b[33;03m    Invoke function on values of Series.\u001b[39;00m\n\u001b[32m   4811\u001b[39m \n\u001b[32m   (...)\u001b[39m\u001b[32m   4926\u001b[39m \u001b[33;03m    dtype: float64\u001b[39;00m\n\u001b[32m   4927\u001b[39m \u001b[33;03m    \"\"\"\u001b[39;00m\n\u001b[32m   4928\u001b[39m     \u001b[38;5;28;01mreturn\u001b[39;00m \u001b[43mSeriesApply\u001b[49m\u001b[43m(\u001b[49m\n\u001b[32m   4929\u001b[39m \u001b[43m        \u001b[49m\u001b[38;5;28;43mself\u001b[39;49m\u001b[43m,\u001b[49m\n\u001b[32m   4930\u001b[39m \u001b[43m        \u001b[49m\u001b[43mfunc\u001b[49m\u001b[43m,\u001b[49m\n\u001b[32m   4931\u001b[39m \u001b[43m        \u001b[49m\u001b[43mconvert_dtype\u001b[49m\u001b[43m=\u001b[49m\u001b[43mconvert_dtype\u001b[49m\u001b[43m,\u001b[49m\n\u001b[32m   4932\u001b[39m \u001b[43m        \u001b[49m\u001b[43mby_row\u001b[49m\u001b[43m=\u001b[49m\u001b[43mby_row\u001b[49m\u001b[43m,\u001b[49m\n\u001b[32m   4933\u001b[39m \u001b[43m        \u001b[49m\u001b[43margs\u001b[49m\u001b[43m=\u001b[49m\u001b[43margs\u001b[49m\u001b[43m,\u001b[49m\n\u001b[32m   4934\u001b[39m \u001b[43m        \u001b[49m\u001b[43mkwargs\u001b[49m\u001b[43m=\u001b[49m\u001b[43mkwargs\u001b[49m\u001b[43m,\u001b[49m\n\u001b[32m-> \u001b[39m\u001b[32m4935\u001b[39m \u001b[43m    \u001b[49m\u001b[43m)\u001b[49m\u001b[43m.\u001b[49m\u001b[43mapply\u001b[49m\u001b[43m(\u001b[49m\u001b[43m)\u001b[49m\n",
      "\u001b[36mFile \u001b[39m\u001b[32mc:\\Users\\joseg\\OneDrive\\Documentos\\PythonProjects\\pokemon-db-data-analysis\\venv\\Lib\\site-packages\\pandas\\core\\apply.py:1422\u001b[39m, in \u001b[36mSeriesApply.apply\u001b[39m\u001b[34m(self)\u001b[39m\n\u001b[32m   1419\u001b[39m     \u001b[38;5;28;01mreturn\u001b[39;00m \u001b[38;5;28mself\u001b[39m.apply_compat()\n\u001b[32m   1421\u001b[39m \u001b[38;5;66;03m# self.func is Callable\u001b[39;00m\n\u001b[32m-> \u001b[39m\u001b[32m1422\u001b[39m \u001b[38;5;28;01mreturn\u001b[39;00m \u001b[38;5;28;43mself\u001b[39;49m\u001b[43m.\u001b[49m\u001b[43mapply_standard\u001b[49m\u001b[43m(\u001b[49m\u001b[43m)\u001b[49m\n",
      "\u001b[36mFile \u001b[39m\u001b[32mc:\\Users\\joseg\\OneDrive\\Documentos\\PythonProjects\\pokemon-db-data-analysis\\venv\\Lib\\site-packages\\pandas\\core\\apply.py:1502\u001b[39m, in \u001b[36mSeriesApply.apply_standard\u001b[39m\u001b[34m(self)\u001b[39m\n\u001b[32m   1496\u001b[39m \u001b[38;5;66;03m# row-wise access\u001b[39;00m\n\u001b[32m   1497\u001b[39m \u001b[38;5;66;03m# apply doesn't have a `na_action` keyword and for backward compat reasons\u001b[39;00m\n\u001b[32m   1498\u001b[39m \u001b[38;5;66;03m# we need to give `na_action=\"ignore\"` for categorical data.\u001b[39;00m\n\u001b[32m   1499\u001b[39m \u001b[38;5;66;03m# TODO: remove the `na_action=\"ignore\"` when that default has been changed in\u001b[39;00m\n\u001b[32m   1500\u001b[39m \u001b[38;5;66;03m#  Categorical (GH51645).\u001b[39;00m\n\u001b[32m   1501\u001b[39m action = \u001b[33m\"\u001b[39m\u001b[33mignore\u001b[39m\u001b[33m\"\u001b[39m \u001b[38;5;28;01mif\u001b[39;00m \u001b[38;5;28misinstance\u001b[39m(obj.dtype, CategoricalDtype) \u001b[38;5;28;01melse\u001b[39;00m \u001b[38;5;28;01mNone\u001b[39;00m\n\u001b[32m-> \u001b[39m\u001b[32m1502\u001b[39m mapped = \u001b[43mobj\u001b[49m\u001b[43m.\u001b[49m\u001b[43m_map_values\u001b[49m\u001b[43m(\u001b[49m\n\u001b[32m   1503\u001b[39m \u001b[43m    \u001b[49m\u001b[43mmapper\u001b[49m\u001b[43m=\u001b[49m\u001b[43mcurried\u001b[49m\u001b[43m,\u001b[49m\u001b[43m \u001b[49m\u001b[43mna_action\u001b[49m\u001b[43m=\u001b[49m\u001b[43maction\u001b[49m\u001b[43m,\u001b[49m\u001b[43m \u001b[49m\u001b[43mconvert\u001b[49m\u001b[43m=\u001b[49m\u001b[38;5;28;43mself\u001b[39;49m\u001b[43m.\u001b[49m\u001b[43mconvert_dtype\u001b[49m\n\u001b[32m   1504\u001b[39m \u001b[43m\u001b[49m\u001b[43m)\u001b[49m\n\u001b[32m   1506\u001b[39m \u001b[38;5;28;01mif\u001b[39;00m \u001b[38;5;28mlen\u001b[39m(mapped) \u001b[38;5;129;01mand\u001b[39;00m \u001b[38;5;28misinstance\u001b[39m(mapped[\u001b[32m0\u001b[39m], ABCSeries):\n\u001b[32m   1507\u001b[39m     \u001b[38;5;66;03m# GH#43986 Need to do list(mapped) in order to get treated as nested\u001b[39;00m\n\u001b[32m   1508\u001b[39m     \u001b[38;5;66;03m#  See also GH#25959 regarding EA support\u001b[39;00m\n\u001b[32m   1509\u001b[39m     \u001b[38;5;28;01mreturn\u001b[39;00m obj._constructor_expanddim(\u001b[38;5;28mlist\u001b[39m(mapped), index=obj.index)\n",
      "\u001b[36mFile \u001b[39m\u001b[32mc:\\Users\\joseg\\OneDrive\\Documentos\\PythonProjects\\pokemon-db-data-analysis\\venv\\Lib\\site-packages\\pandas\\core\\base.py:925\u001b[39m, in \u001b[36mIndexOpsMixin._map_values\u001b[39m\u001b[34m(self, mapper, na_action, convert)\u001b[39m\n\u001b[32m    922\u001b[39m \u001b[38;5;28;01mif\u001b[39;00m \u001b[38;5;28misinstance\u001b[39m(arr, ExtensionArray):\n\u001b[32m    923\u001b[39m     \u001b[38;5;28;01mreturn\u001b[39;00m arr.map(mapper, na_action=na_action)\n\u001b[32m--> \u001b[39m\u001b[32m925\u001b[39m \u001b[38;5;28;01mreturn\u001b[39;00m \u001b[43malgorithms\u001b[49m\u001b[43m.\u001b[49m\u001b[43mmap_array\u001b[49m\u001b[43m(\u001b[49m\u001b[43marr\u001b[49m\u001b[43m,\u001b[49m\u001b[43m \u001b[49m\u001b[43mmapper\u001b[49m\u001b[43m,\u001b[49m\u001b[43m \u001b[49m\u001b[43mna_action\u001b[49m\u001b[43m=\u001b[49m\u001b[43mna_action\u001b[49m\u001b[43m,\u001b[49m\u001b[43m \u001b[49m\u001b[43mconvert\u001b[49m\u001b[43m=\u001b[49m\u001b[43mconvert\u001b[49m\u001b[43m)\u001b[49m\n",
      "\u001b[36mFile \u001b[39m\u001b[32mc:\\Users\\joseg\\OneDrive\\Documentos\\PythonProjects\\pokemon-db-data-analysis\\venv\\Lib\\site-packages\\pandas\\core\\algorithms.py:1743\u001b[39m, in \u001b[36mmap_array\u001b[39m\u001b[34m(arr, mapper, na_action, convert)\u001b[39m\n\u001b[32m   1741\u001b[39m values = arr.astype(\u001b[38;5;28mobject\u001b[39m, copy=\u001b[38;5;28;01mFalse\u001b[39;00m)\n\u001b[32m   1742\u001b[39m \u001b[38;5;28;01mif\u001b[39;00m na_action \u001b[38;5;129;01mis\u001b[39;00m \u001b[38;5;28;01mNone\u001b[39;00m:\n\u001b[32m-> \u001b[39m\u001b[32m1743\u001b[39m     \u001b[38;5;28;01mreturn\u001b[39;00m \u001b[43mlib\u001b[49m\u001b[43m.\u001b[49m\u001b[43mmap_infer\u001b[49m\u001b[43m(\u001b[49m\u001b[43mvalues\u001b[49m\u001b[43m,\u001b[49m\u001b[43m \u001b[49m\u001b[43mmapper\u001b[49m\u001b[43m,\u001b[49m\u001b[43m \u001b[49m\u001b[43mconvert\u001b[49m\u001b[43m=\u001b[49m\u001b[43mconvert\u001b[49m\u001b[43m)\u001b[49m\n\u001b[32m   1744\u001b[39m \u001b[38;5;28;01melse\u001b[39;00m:\n\u001b[32m   1745\u001b[39m     \u001b[38;5;28;01mreturn\u001b[39;00m lib.map_infer_mask(\n\u001b[32m   1746\u001b[39m         values, mapper, mask=isna(values).view(np.uint8), convert=convert\n\u001b[32m   1747\u001b[39m     )\n",
      "\u001b[36mFile \u001b[39m\u001b[32mpandas/_libs/lib.pyx:2999\u001b[39m, in \u001b[36mpandas._libs.lib.map_infer\u001b[39m\u001b[34m()\u001b[39m\n",
      "\u001b[36mCell\u001b[39m\u001b[36m \u001b[39m\u001b[32mIn[8]\u001b[39m\u001b[32m, line 16\u001b[39m, in \u001b[36m<lambda>\u001b[39m\u001b[34m(x)\u001b[39m\n\u001b[32m     14\u001b[39m df_abilities = df[\u001b[33m'\u001b[39m\u001b[33mabilities\u001b[39m\u001b[33m'\u001b[39m].apply(\u001b[38;5;28;01mlambda\u001b[39;00m x: pd.Series({\u001b[33mf\u001b[39m\u001b[33m'\u001b[39m\u001b[33mability_\u001b[39m\u001b[38;5;132;01m{\u001b[39;00ma\u001b[38;5;132;01m}\u001b[39;00m\u001b[33m'\u001b[39m: \u001b[38;5;28mint\u001b[39m(a \u001b[38;5;129;01min\u001b[39;00m x) \u001b[38;5;28;01mfor\u001b[39;00m a \u001b[38;5;129;01min\u001b[39;00m abilities_dummies}))\n\u001b[32m     15\u001b[39m df_type = df[\u001b[33m'\u001b[39m\u001b[33mtype\u001b[39m\u001b[33m'\u001b[39m].apply(\u001b[38;5;28;01mlambda\u001b[39;00m x: pd.Series({\u001b[33mf\u001b[39m\u001b[33m'\u001b[39m\u001b[33mtype_\u001b[39m\u001b[38;5;132;01m{\u001b[39;00mt\u001b[38;5;132;01m}\u001b[39;00m\u001b[33m'\u001b[39m: \u001b[38;5;28mint\u001b[39m(t \u001b[38;5;129;01min\u001b[39;00m x) \u001b[38;5;28;01mfor\u001b[39;00m t \u001b[38;5;129;01min\u001b[39;00m type_dummies}))\n\u001b[32m---> \u001b[39m\u001b[32m16\u001b[39m df_weakness = df[\u001b[33m'\u001b[39m\u001b[33mweakness\u001b[39m\u001b[33m'\u001b[39m].apply(\u001b[38;5;28;01mlambda\u001b[39;00m x: \u001b[43mpd\u001b[49m\u001b[43m.\u001b[49m\u001b[43mSeries\u001b[49m\u001b[43m(\u001b[49m\u001b[43m{\u001b[49m\u001b[33;43mf\u001b[39;49m\u001b[33;43m'\u001b[39;49m\u001b[33;43mweakness_\u001b[39;49m\u001b[38;5;132;43;01m{\u001b[39;49;00m\u001b[43mw\u001b[49m\u001b[38;5;132;43;01m}\u001b[39;49;00m\u001b[33;43m'\u001b[39;49m\u001b[43m:\u001b[49m\u001b[43m \u001b[49m\u001b[38;5;28;43mint\u001b[39;49m\u001b[43m(\u001b[49m\u001b[43mw\u001b[49m\u001b[43m \u001b[49m\u001b[38;5;129;43;01min\u001b[39;49;00m\u001b[43m \u001b[49m\u001b[43mx\u001b[49m\u001b[43m)\u001b[49m\u001b[43m \u001b[49m\u001b[38;5;28;43;01mfor\u001b[39;49;00m\u001b[43m \u001b[49m\u001b[43mw\u001b[49m\u001b[43m \u001b[49m\u001b[38;5;129;43;01min\u001b[39;49;00m\u001b[43m \u001b[49m\u001b[43mweakness_dummies\u001b[49m\u001b[43m}\u001b[49m\u001b[43m)\u001b[49m)\n\u001b[32m     17\u001b[39m df_capture_location = df[\u001b[33m'\u001b[39m\u001b[33mcapture_location\u001b[39m\u001b[33m'\u001b[39m].apply(\u001b[38;5;28;01mlambda\u001b[39;00m x: pd.Series({\u001b[33mf\u001b[39m\u001b[33m'\u001b[39m\u001b[33mlocation_\u001b[39m\u001b[38;5;132;01m{\u001b[39;00ml\u001b[38;5;132;01m}\u001b[39;00m\u001b[33m'\u001b[39m: \u001b[38;5;28mint\u001b[39m(l \u001b[38;5;129;01min\u001b[39;00m x) \u001b[38;5;28;01mfor\u001b[39;00m l \u001b[38;5;129;01min\u001b[39;00m capture_location_dummies}))\n\u001b[32m     19\u001b[39m \u001b[38;5;66;03m# Concatenar tudo\u001b[39;00m\n",
      "\u001b[36mFile \u001b[39m\u001b[32mc:\\Users\\joseg\\OneDrive\\Documentos\\PythonProjects\\pokemon-db-data-analysis\\venv\\Lib\\site-packages\\pandas\\core\\series.py:537\u001b[39m, in \u001b[36mSeries.__init__\u001b[39m\u001b[34m(self, data, index, dtype, name, copy, fastpath)\u001b[39m\n\u001b[32m    535\u001b[39m         data = data._mgr\n\u001b[32m    536\u001b[39m \u001b[38;5;28;01melif\u001b[39;00m \u001b[38;5;28misinstance\u001b[39m(data, Mapping):\n\u001b[32m--> \u001b[39m\u001b[32m537\u001b[39m     data, index = \u001b[38;5;28;43mself\u001b[39;49m\u001b[43m.\u001b[49m\u001b[43m_init_dict\u001b[49m\u001b[43m(\u001b[49m\u001b[43mdata\u001b[49m\u001b[43m,\u001b[49m\u001b[43m \u001b[49m\u001b[43mindex\u001b[49m\u001b[43m,\u001b[49m\u001b[43m \u001b[49m\u001b[43mdtype\u001b[49m\u001b[43m)\u001b[49m\n\u001b[32m    538\u001b[39m     dtype = \u001b[38;5;28;01mNone\u001b[39;00m\n\u001b[32m    539\u001b[39m     copy = \u001b[38;5;28;01mFalse\u001b[39;00m\n",
      "\u001b[36mFile \u001b[39m\u001b[32mc:\\Users\\joseg\\OneDrive\\Documentos\\PythonProjects\\pokemon-db-data-analysis\\venv\\Lib\\site-packages\\pandas\\core\\series.py:651\u001b[39m, in \u001b[36mSeries._init_dict\u001b[39m\u001b[34m(self, data, index, dtype)\u001b[39m\n\u001b[32m    648\u001b[39m     keys, values = default_index(\u001b[32m0\u001b[39m), []\n\u001b[32m    650\u001b[39m \u001b[38;5;66;03m# Input is now list-like, so rely on \"standard\" construction:\u001b[39;00m\n\u001b[32m--> \u001b[39m\u001b[32m651\u001b[39m s = \u001b[43mSeries\u001b[49m\u001b[43m(\u001b[49m\u001b[43mvalues\u001b[49m\u001b[43m,\u001b[49m\u001b[43m \u001b[49m\u001b[43mindex\u001b[49m\u001b[43m=\u001b[49m\u001b[43mkeys\u001b[49m\u001b[43m,\u001b[49m\u001b[43m \u001b[49m\u001b[43mdtype\u001b[49m\u001b[43m=\u001b[49m\u001b[43mdtype\u001b[49m\u001b[43m)\u001b[49m\n\u001b[32m    653\u001b[39m \u001b[38;5;66;03m# Now we just make sure the order is respected, if any\u001b[39;00m\n\u001b[32m    654\u001b[39m \u001b[38;5;28;01mif\u001b[39;00m data \u001b[38;5;129;01mand\u001b[39;00m index \u001b[38;5;129;01mis\u001b[39;00m \u001b[38;5;129;01mnot\u001b[39;00m \u001b[38;5;28;01mNone\u001b[39;00m:\n",
      "\u001b[36mFile \u001b[39m\u001b[32mc:\\Users\\joseg\\OneDrive\\Documentos\\PythonProjects\\pokemon-db-data-analysis\\venv\\Lib\\site-packages\\pandas\\core\\series.py:586\u001b[39m, in \u001b[36mSeries.__init__\u001b[39m\u001b[34m(self, data, index, dtype, name, copy, fastpath)\u001b[39m\n\u001b[32m    583\u001b[39m \u001b[38;5;28;01melse\u001b[39;00m:\n\u001b[32m    584\u001b[39m     data = sanitize_array(data, index, dtype, copy)\n\u001b[32m--> \u001b[39m\u001b[32m586\u001b[39m     manager = \u001b[43m_get_option\u001b[49m\u001b[43m(\u001b[49m\u001b[33;43m\"\u001b[39;49m\u001b[33;43mmode.data_manager\u001b[39;49m\u001b[33;43m\"\u001b[39;49m\u001b[43m,\u001b[49m\u001b[43m \u001b[49m\u001b[43msilent\u001b[49m\u001b[43m=\u001b[49m\u001b[38;5;28;43;01mTrue\u001b[39;49;00m\u001b[43m)\u001b[49m\n\u001b[32m    587\u001b[39m     \u001b[38;5;28;01mif\u001b[39;00m manager == \u001b[33m\"\u001b[39m\u001b[33mblock\u001b[39m\u001b[33m\"\u001b[39m:\n\u001b[32m    588\u001b[39m         data = SingleBlockManager.from_array(data, index, refs=refs)\n",
      "\u001b[36mFile \u001b[39m\u001b[32mc:\\Users\\joseg\\OneDrive\\Documentos\\PythonProjects\\pokemon-db-data-analysis\\venv\\Lib\\site-packages\\pandas\\_config\\config.py:146\u001b[39m, in \u001b[36m_get_option\u001b[39m\u001b[34m(pat, silent)\u001b[39m\n\u001b[32m    145\u001b[39m \u001b[38;5;28;01mdef\u001b[39;00m\u001b[38;5;250m \u001b[39m\u001b[34m_get_option\u001b[39m(pat: \u001b[38;5;28mstr\u001b[39m, silent: \u001b[38;5;28mbool\u001b[39m = \u001b[38;5;28;01mFalse\u001b[39;00m) -> Any:\n\u001b[32m--> \u001b[39m\u001b[32m146\u001b[39m     key = \u001b[43m_get_single_key\u001b[49m\u001b[43m(\u001b[49m\u001b[43mpat\u001b[49m\u001b[43m,\u001b[49m\u001b[43m \u001b[49m\u001b[43msilent\u001b[49m\u001b[43m)\u001b[49m\n\u001b[32m    148\u001b[39m     \u001b[38;5;66;03m# walk the nested dict\u001b[39;00m\n\u001b[32m    149\u001b[39m     root, k = _get_root(key)\n",
      "\u001b[36mFile \u001b[39m\u001b[32mc:\\Users\\joseg\\OneDrive\\Documentos\\PythonProjects\\pokemon-db-data-analysis\\venv\\Lib\\site-packages\\pandas\\_config\\config.py:127\u001b[39m, in \u001b[36m_get_single_key\u001b[39m\u001b[34m(pat, silent)\u001b[39m\n\u001b[32m    110\u001b[39m \u001b[38;5;250m    \u001b[39m\u001b[33;03m\"\"\"\u001b[39;00m\n\u001b[32m    111\u001b[39m \u001b[33;03m    Exception raised for pandas.options.\u001b[39;00m\n\u001b[32m    112\u001b[39m \n\u001b[32m   (...)\u001b[39m\u001b[32m    119\u001b[39m \u001b[33;03m    OptionError: No such option\u001b[39;00m\n\u001b[32m    120\u001b[39m \u001b[33;03m    \"\"\"\u001b[39;00m\n\u001b[32m    123\u001b[39m \u001b[38;5;66;03m#\u001b[39;00m\n\u001b[32m    124\u001b[39m \u001b[38;5;66;03m# User API\u001b[39;00m\n\u001b[32m--> \u001b[39m\u001b[32m127\u001b[39m \u001b[38;5;28;01mdef\u001b[39;00m\u001b[38;5;250m \u001b[39m\u001b[34m_get_single_key\u001b[39m(pat: \u001b[38;5;28mstr\u001b[39m, silent: \u001b[38;5;28mbool\u001b[39m) -> \u001b[38;5;28mstr\u001b[39m:\n\u001b[32m    128\u001b[39m     keys = _select_options(pat)\n\u001b[32m    129\u001b[39m     \u001b[38;5;28;01mif\u001b[39;00m \u001b[38;5;28mlen\u001b[39m(keys) == \u001b[32m0\u001b[39m:\n",
      "\u001b[31mKeyboardInterrupt\u001b[39m: "
     ]
    }
   ],
   "source": [
    "# One-hot encoding para cada campo de array\n",
    "\n",
    "# Garante que os campos de array estejam como listas (caso estejam ausentes)\n",
    "for col in ['abilities', 'type', 'weakness', 'capture_location']:\n",
    "    df[col] = df[col].apply(lambda x: x if isinstance(x, list) else [])\n",
    "\n",
    "# Extrair valores únicos de habilidades, tipos, fraquezas e localizações de captura\n",
    "abilities_dummies = df['abilities'].explode().str.strip().str.lower().dropna().unique()\n",
    "type_dummies = df['type'].explode().str.strip().str.lower().dropna().unique()\n",
    "weakness_dummies = df['weakness'].explode().str.strip().str.lower().dropna().unique()\n",
    "capture_location_dummies = df['capture_location'].explode().str.strip().str.lower().dropna().unique()\n",
    "\n",
    "# Para cada habilidade, tipo, fraqueza e localização de captura, cria colunas one-hot verificando se o valor está presente\n",
    "df_abilities = df['abilities'].apply(lambda x: pd.Series({f'ability_{a}': int(a in x) for a in abilities_dummies}))\n",
    "df_type = df['type'].apply(lambda x: pd.Series({f'type_{t}': int(t in x) for t in type_dummies}))\n",
    "df_weakness = df['weakness'].apply(lambda x: pd.Series({f'weakness_{w}': int(w in x) for w in weakness_dummies}))\n",
    "df_capture_location = df['capture_location'].apply(lambda x: pd.Series({f'location_{l}': int(l in x) for l in capture_location_dummies}))\n",
    "\n",
    "# Concatenar tudo\n",
    "df_final = pd.concat([\n",
    "    df.drop(['abilities', 'type', 'weakness', 'capture_location'], axis=1),\n",
    "    df_abilities,\n",
    "    df_type,\n",
    "    df_weakness,\n",
    "    df_capture_location\n",
    "], axis=1)\n",
    "\n",
    "# Salvar em CSV\n",
    "df_final.to_csv('./outputs/pokedex-encoded-db.csv', index=False, encoding='utf-8')\n",
    "\n",
    "print(\"CSV com one-hot encoding gerado com sucesso!\")\n",
    "print(f\"Tamanho do DataFrame final: {df_final.shape}\\n\\n\")\n",
    "print(df_final.head(5))"
   ]
  },
  {
   "cell_type": "markdown",
   "id": "2dc85bfa",
   "metadata": {},
   "source": [
    "## Dicionário de dados"
   ]
  },
  {
   "cell_type": "code",
   "execution_count": null,
   "id": "cce6b5ce",
   "metadata": {},
   "outputs": [
    {
     "data": {
      "application/vnd.plotly.v1+json": {
       "config": {
        "plotlyServerURL": "https://plot.ly"
       },
       "data": [
        {
         "cells": {
          "align": "left",
          "fill": {
           "color": "lavender"
          },
          "values": [
           [
            "id",
            "name",
            "type",
            "height",
            "weight",
            "attack",
            "defense",
            "hp",
            "sp_atk",
            "sp_def",
            "speed",
            "total",
            "abilities",
            "weakness",
            "capture_location"
           ],
           [
            "int",
            "str",
            "list[str]",
            "float",
            "float",
            "int",
            "int",
            "int",
            "int",
            "int",
            "int",
            "int",
            "list[str]",
            "list[str]",
            "list[str]"
           ],
           [
            "Numérico",
            "Categórico",
            "Categórico (lista)",
            "Numérico",
            "Numérico",
            "Numérico",
            "Numérico",
            "Numérico",
            "Numérico",
            "Numérico",
            "Numérico",
            "Numérico",
            "Categórico (lista)",
            "Categórico (lista)",
            "Categórico (lista)"
           ],
           [
            "Identificador único do Pokémon (inteiro, corresponde ao número oficial na Pokédex).",
            "Nome do Pokémon.",
            "Lista de tipos do Pokémon (ex: ['grass', 'poison']). Um Pokémon pode ter um ou dois tipos.",
            "Altura do Pokémon em metros (float, ex: 0.7).",
            "Peso do Pokémon em quilogramas (float, ex: 6.9).",
            "Valor numérico do atributo de ataque base do Pokémon.",
            "Valor numérico do atributo de defesa base do Pokémon.",
            "Valor numérico dos pontos de vida (HP) base do Pokémon.",
            "Valor numérico do ataque especial base do Pokémon.",
            "Valor numérico da defesa especial base do Pokémon.",
            "Valor numérico da velocidade base do Pokémon.",
            "Soma total dos atributos base (attack, defense, hp, sp_atk, sp_def, speed) do Pokémon.",
            "Lista de habilidades do Pokémon (ex: ['Overgrow', 'Chlorophyll']).",
            "Lista de fraquezas do Pokémon, ou seja, tipos contra os quais ele é vulnerável (ex: ['fire', 'ice']).",
            "Lista de locais onde o Pokémon pode ser capturado nos jogos (ex: ['kanto-route-2', 'kanto-viridian-forest'])."
           ]
          ]
         },
         "header": {
          "align": "left",
          "fill": {
           "color": "paleturquoise"
          },
          "values": [
           "Coluna",
           "Tipo",
           "Formato",
           "Descrição"
          ]
         },
         "type": "table"
        }
       ],
       "layout": {
        "height": 600,
        "template": {
         "data": {
          "bar": [
           {
            "error_x": {
             "color": "#2a3f5f"
            },
            "error_y": {
             "color": "#2a3f5f"
            },
            "marker": {
             "line": {
              "color": "#E5ECF6",
              "width": 0.5
             },
             "pattern": {
              "fillmode": "overlay",
              "size": 10,
              "solidity": 0.2
             }
            },
            "type": "bar"
           }
          ],
          "barpolar": [
           {
            "marker": {
             "line": {
              "color": "#E5ECF6",
              "width": 0.5
             },
             "pattern": {
              "fillmode": "overlay",
              "size": 10,
              "solidity": 0.2
             }
            },
            "type": "barpolar"
           }
          ],
          "carpet": [
           {
            "aaxis": {
             "endlinecolor": "#2a3f5f",
             "gridcolor": "white",
             "linecolor": "white",
             "minorgridcolor": "white",
             "startlinecolor": "#2a3f5f"
            },
            "baxis": {
             "endlinecolor": "#2a3f5f",
             "gridcolor": "white",
             "linecolor": "white",
             "minorgridcolor": "white",
             "startlinecolor": "#2a3f5f"
            },
            "type": "carpet"
           }
          ],
          "choropleth": [
           {
            "colorbar": {
             "outlinewidth": 0,
             "ticks": ""
            },
            "type": "choropleth"
           }
          ],
          "contour": [
           {
            "colorbar": {
             "outlinewidth": 0,
             "ticks": ""
            },
            "colorscale": [
             [
              0,
              "#0d0887"
             ],
             [
              0.1111111111111111,
              "#46039f"
             ],
             [
              0.2222222222222222,
              "#7201a8"
             ],
             [
              0.3333333333333333,
              "#9c179e"
             ],
             [
              0.4444444444444444,
              "#bd3786"
             ],
             [
              0.5555555555555556,
              "#d8576b"
             ],
             [
              0.6666666666666666,
              "#ed7953"
             ],
             [
              0.7777777777777778,
              "#fb9f3a"
             ],
             [
              0.8888888888888888,
              "#fdca26"
             ],
             [
              1,
              "#f0f921"
             ]
            ],
            "type": "contour"
           }
          ],
          "contourcarpet": [
           {
            "colorbar": {
             "outlinewidth": 0,
             "ticks": ""
            },
            "type": "contourcarpet"
           }
          ],
          "heatmap": [
           {
            "colorbar": {
             "outlinewidth": 0,
             "ticks": ""
            },
            "colorscale": [
             [
              0,
              "#0d0887"
             ],
             [
              0.1111111111111111,
              "#46039f"
             ],
             [
              0.2222222222222222,
              "#7201a8"
             ],
             [
              0.3333333333333333,
              "#9c179e"
             ],
             [
              0.4444444444444444,
              "#bd3786"
             ],
             [
              0.5555555555555556,
              "#d8576b"
             ],
             [
              0.6666666666666666,
              "#ed7953"
             ],
             [
              0.7777777777777778,
              "#fb9f3a"
             ],
             [
              0.8888888888888888,
              "#fdca26"
             ],
             [
              1,
              "#f0f921"
             ]
            ],
            "type": "heatmap"
           }
          ],
          "histogram": [
           {
            "marker": {
             "pattern": {
              "fillmode": "overlay",
              "size": 10,
              "solidity": 0.2
             }
            },
            "type": "histogram"
           }
          ],
          "histogram2d": [
           {
            "colorbar": {
             "outlinewidth": 0,
             "ticks": ""
            },
            "colorscale": [
             [
              0,
              "#0d0887"
             ],
             [
              0.1111111111111111,
              "#46039f"
             ],
             [
              0.2222222222222222,
              "#7201a8"
             ],
             [
              0.3333333333333333,
              "#9c179e"
             ],
             [
              0.4444444444444444,
              "#bd3786"
             ],
             [
              0.5555555555555556,
              "#d8576b"
             ],
             [
              0.6666666666666666,
              "#ed7953"
             ],
             [
              0.7777777777777778,
              "#fb9f3a"
             ],
             [
              0.8888888888888888,
              "#fdca26"
             ],
             [
              1,
              "#f0f921"
             ]
            ],
            "type": "histogram2d"
           }
          ],
          "histogram2dcontour": [
           {
            "colorbar": {
             "outlinewidth": 0,
             "ticks": ""
            },
            "colorscale": [
             [
              0,
              "#0d0887"
             ],
             [
              0.1111111111111111,
              "#46039f"
             ],
             [
              0.2222222222222222,
              "#7201a8"
             ],
             [
              0.3333333333333333,
              "#9c179e"
             ],
             [
              0.4444444444444444,
              "#bd3786"
             ],
             [
              0.5555555555555556,
              "#d8576b"
             ],
             [
              0.6666666666666666,
              "#ed7953"
             ],
             [
              0.7777777777777778,
              "#fb9f3a"
             ],
             [
              0.8888888888888888,
              "#fdca26"
             ],
             [
              1,
              "#f0f921"
             ]
            ],
            "type": "histogram2dcontour"
           }
          ],
          "mesh3d": [
           {
            "colorbar": {
             "outlinewidth": 0,
             "ticks": ""
            },
            "type": "mesh3d"
           }
          ],
          "parcoords": [
           {
            "line": {
             "colorbar": {
              "outlinewidth": 0,
              "ticks": ""
             }
            },
            "type": "parcoords"
           }
          ],
          "pie": [
           {
            "automargin": true,
            "type": "pie"
           }
          ],
          "scatter": [
           {
            "fillpattern": {
             "fillmode": "overlay",
             "size": 10,
             "solidity": 0.2
            },
            "type": "scatter"
           }
          ],
          "scatter3d": [
           {
            "line": {
             "colorbar": {
              "outlinewidth": 0,
              "ticks": ""
             }
            },
            "marker": {
             "colorbar": {
              "outlinewidth": 0,
              "ticks": ""
             }
            },
            "type": "scatter3d"
           }
          ],
          "scattercarpet": [
           {
            "marker": {
             "colorbar": {
              "outlinewidth": 0,
              "ticks": ""
             }
            },
            "type": "scattercarpet"
           }
          ],
          "scattergeo": [
           {
            "marker": {
             "colorbar": {
              "outlinewidth": 0,
              "ticks": ""
             }
            },
            "type": "scattergeo"
           }
          ],
          "scattergl": [
           {
            "marker": {
             "colorbar": {
              "outlinewidth": 0,
              "ticks": ""
             }
            },
            "type": "scattergl"
           }
          ],
          "scattermap": [
           {
            "marker": {
             "colorbar": {
              "outlinewidth": 0,
              "ticks": ""
             }
            },
            "type": "scattermap"
           }
          ],
          "scattermapbox": [
           {
            "marker": {
             "colorbar": {
              "outlinewidth": 0,
              "ticks": ""
             }
            },
            "type": "scattermapbox"
           }
          ],
          "scatterpolar": [
           {
            "marker": {
             "colorbar": {
              "outlinewidth": 0,
              "ticks": ""
             }
            },
            "type": "scatterpolar"
           }
          ],
          "scatterpolargl": [
           {
            "marker": {
             "colorbar": {
              "outlinewidth": 0,
              "ticks": ""
             }
            },
            "type": "scatterpolargl"
           }
          ],
          "scatterternary": [
           {
            "marker": {
             "colorbar": {
              "outlinewidth": 0,
              "ticks": ""
             }
            },
            "type": "scatterternary"
           }
          ],
          "surface": [
           {
            "colorbar": {
             "outlinewidth": 0,
             "ticks": ""
            },
            "colorscale": [
             [
              0,
              "#0d0887"
             ],
             [
              0.1111111111111111,
              "#46039f"
             ],
             [
              0.2222222222222222,
              "#7201a8"
             ],
             [
              0.3333333333333333,
              "#9c179e"
             ],
             [
              0.4444444444444444,
              "#bd3786"
             ],
             [
              0.5555555555555556,
              "#d8576b"
             ],
             [
              0.6666666666666666,
              "#ed7953"
             ],
             [
              0.7777777777777778,
              "#fb9f3a"
             ],
             [
              0.8888888888888888,
              "#fdca26"
             ],
             [
              1,
              "#f0f921"
             ]
            ],
            "type": "surface"
           }
          ],
          "table": [
           {
            "cells": {
             "fill": {
              "color": "#EBF0F8"
             },
             "line": {
              "color": "white"
             }
            },
            "header": {
             "fill": {
              "color": "#C8D4E3"
             },
             "line": {
              "color": "white"
             }
            },
            "type": "table"
           }
          ]
         },
         "layout": {
          "annotationdefaults": {
           "arrowcolor": "#2a3f5f",
           "arrowhead": 0,
           "arrowwidth": 1
          },
          "autotypenumbers": "strict",
          "coloraxis": {
           "colorbar": {
            "outlinewidth": 0,
            "ticks": ""
           }
          },
          "colorscale": {
           "diverging": [
            [
             0,
             "#8e0152"
            ],
            [
             0.1,
             "#c51b7d"
            ],
            [
             0.2,
             "#de77ae"
            ],
            [
             0.3,
             "#f1b6da"
            ],
            [
             0.4,
             "#fde0ef"
            ],
            [
             0.5,
             "#f7f7f7"
            ],
            [
             0.6,
             "#e6f5d0"
            ],
            [
             0.7,
             "#b8e186"
            ],
            [
             0.8,
             "#7fbc41"
            ],
            [
             0.9,
             "#4d9221"
            ],
            [
             1,
             "#276419"
            ]
           ],
           "sequential": [
            [
             0,
             "#0d0887"
            ],
            [
             0.1111111111111111,
             "#46039f"
            ],
            [
             0.2222222222222222,
             "#7201a8"
            ],
            [
             0.3333333333333333,
             "#9c179e"
            ],
            [
             0.4444444444444444,
             "#bd3786"
            ],
            [
             0.5555555555555556,
             "#d8576b"
            ],
            [
             0.6666666666666666,
             "#ed7953"
            ],
            [
             0.7777777777777778,
             "#fb9f3a"
            ],
            [
             0.8888888888888888,
             "#fdca26"
            ],
            [
             1,
             "#f0f921"
            ]
           ],
           "sequentialminus": [
            [
             0,
             "#0d0887"
            ],
            [
             0.1111111111111111,
             "#46039f"
            ],
            [
             0.2222222222222222,
             "#7201a8"
            ],
            [
             0.3333333333333333,
             "#9c179e"
            ],
            [
             0.4444444444444444,
             "#bd3786"
            ],
            [
             0.5555555555555556,
             "#d8576b"
            ],
            [
             0.6666666666666666,
             "#ed7953"
            ],
            [
             0.7777777777777778,
             "#fb9f3a"
            ],
            [
             0.8888888888888888,
             "#fdca26"
            ],
            [
             1,
             "#f0f921"
            ]
           ]
          },
          "colorway": [
           "#636efa",
           "#EF553B",
           "#00cc96",
           "#ab63fa",
           "#FFA15A",
           "#19d3f3",
           "#FF6692",
           "#B6E880",
           "#FF97FF",
           "#FECB52"
          ],
          "font": {
           "color": "#2a3f5f"
          },
          "geo": {
           "bgcolor": "white",
           "lakecolor": "white",
           "landcolor": "#E5ECF6",
           "showlakes": true,
           "showland": true,
           "subunitcolor": "white"
          },
          "hoverlabel": {
           "align": "left"
          },
          "hovermode": "closest",
          "mapbox": {
           "style": "light"
          },
          "paper_bgcolor": "white",
          "plot_bgcolor": "#E5ECF6",
          "polar": {
           "angularaxis": {
            "gridcolor": "white",
            "linecolor": "white",
            "ticks": ""
           },
           "bgcolor": "#E5ECF6",
           "radialaxis": {
            "gridcolor": "white",
            "linecolor": "white",
            "ticks": ""
           }
          },
          "scene": {
           "xaxis": {
            "backgroundcolor": "#E5ECF6",
            "gridcolor": "white",
            "gridwidth": 2,
            "linecolor": "white",
            "showbackground": true,
            "ticks": "",
            "zerolinecolor": "white"
           },
           "yaxis": {
            "backgroundcolor": "#E5ECF6",
            "gridcolor": "white",
            "gridwidth": 2,
            "linecolor": "white",
            "showbackground": true,
            "ticks": "",
            "zerolinecolor": "white"
           },
           "zaxis": {
            "backgroundcolor": "#E5ECF6",
            "gridcolor": "white",
            "gridwidth": 2,
            "linecolor": "white",
            "showbackground": true,
            "ticks": "",
            "zerolinecolor": "white"
           }
          },
          "shapedefaults": {
           "line": {
            "color": "#2a3f5f"
           }
          },
          "ternary": {
           "aaxis": {
            "gridcolor": "white",
            "linecolor": "white",
            "ticks": ""
           },
           "baxis": {
            "gridcolor": "white",
            "linecolor": "white",
            "ticks": ""
           },
           "bgcolor": "#E5ECF6",
           "caxis": {
            "gridcolor": "white",
            "linecolor": "white",
            "ticks": ""
           }
          },
          "title": {
           "x": 0.05
          },
          "xaxis": {
           "automargin": true,
           "gridcolor": "white",
           "linecolor": "white",
           "ticks": "",
           "title": {
            "standoff": 15
           },
           "zerolinecolor": "white",
           "zerolinewidth": 2
          },
          "yaxis": {
           "automargin": true,
           "gridcolor": "white",
           "linecolor": "white",
           "ticks": "",
           "title": {
            "standoff": 15
           },
           "zerolinecolor": "white",
           "zerolinewidth": 2
          }
         }
        },
        "title": {
         "text": "Dicionário de Dados - DataFrame Básico"
        },
        "width": 1200
       }
      }
     },
     "metadata": {},
     "output_type": "display_data"
    }
   ],
   "source": [
    "import plotly.graph_objects as go\n",
    "\n",
    "# Defina o dicionário de dados\n",
    "data_dictionary = [\n",
    "    {\"Coluna\": \"id\", \"Tipo\": \"int\", \"Formato\": \"Numérico\", \"Descrição\": \"Identificador único do Pokémon (inteiro, corresponde ao número oficial na Pokédex).\"},\n",
    "    {\"Coluna\": \"name\", \"Tipo\": \"str\", \"Formato\": \"Categórico\", \"Descrição\": \"Nome do Pokémon.\"},\n",
    "    {\"Coluna\": \"type\", \"Tipo\": \"list[str]\", \"Formato\": \"Categórico (lista)\", \"Descrição\": \"Lista de tipos do Pokémon (ex: ['grass', 'poison']). Um Pokémon pode ter um ou dois tipos.\"},\n",
    "    {\"Coluna\": \"height\", \"Tipo\": \"float\", \"Formato\": \"Numérico\", \"Descrição\": \"Altura do Pokémon em metros (float, ex: 0.7).\"},\n",
    "    {\"Coluna\": \"weight\", \"Tipo\": \"float\", \"Formato\": \"Numérico\", \"Descrição\": \"Peso do Pokémon em quilogramas (float, ex: 6.9).\"},\n",
    "    {\"Coluna\": \"attack\", \"Tipo\": \"int\", \"Formato\": \"Numérico\", \"Descrição\": \"Valor numérico do atributo de ataque base do Pokémon.\"},\n",
    "    {\"Coluna\": \"defense\", \"Tipo\": \"int\", \"Formato\": \"Numérico\", \"Descrição\": \"Valor numérico do atributo de defesa base do Pokémon.\"},\n",
    "    {\"Coluna\": \"hp\", \"Tipo\": \"int\", \"Formato\": \"Numérico\", \"Descrição\": \"Valor numérico dos pontos de vida (HP) base do Pokémon.\"},\n",
    "    {\"Coluna\": \"sp_atk\", \"Tipo\": \"int\", \"Formato\": \"Numérico\", \"Descrição\": \"Valor numérico do ataque especial base do Pokémon.\"},\n",
    "    {\"Coluna\": \"sp_def\", \"Tipo\": \"int\", \"Formato\": \"Numérico\", \"Descrição\": \"Valor numérico da defesa especial base do Pokémon.\"},\n",
    "    {\"Coluna\": \"speed\", \"Tipo\": \"int\", \"Formato\": \"Numérico\", \"Descrição\": \"Valor numérico da velocidade base do Pokémon.\"},\n",
    "    {\"Coluna\": \"total\", \"Tipo\": \"int\", \"Formato\": \"Numérico\", \"Descrição\": \"Soma total dos atributos base (attack, defense, hp, sp_atk, sp_def, speed) do Pokémon.\"},\n",
    "    {\"Coluna\": \"abilities\", \"Tipo\": \"list[str]\", \"Formato\": \"Categórico (lista)\", \"Descrição\": \"Lista de habilidades do Pokémon (ex: ['Overgrow', 'Chlorophyll']).\"},\n",
    "    {\"Coluna\": \"weakness\", \"Tipo\": \"list[str]\", \"Formato\": \"Categórico (lista)\", \"Descrição\": \"Lista de fraquezas do Pokémon, ou seja, tipos contra os quais ele é vulnerável (ex: ['fire', 'ice']).\"},\n",
    "    {\"Coluna\": \"capture_location\", \"Tipo\": \"list[str]\", \"Formato\": \"Categórico (lista)\", \"Descrição\": \"Lista de locais onde o Pokémon pode ser capturado nos jogos (ex: ['kanto-route-2', 'kanto-viridian-forest']).\"}\n",
    "]\n",
    "\n",
    "# Crie a tabela com plotly\n",
    "fig = go.Figure(data=[go.Table(\n",
    "    header=dict(values=[\"Coluna\", \"Tipo\", \"Formato\", \"Descrição\"], fill_color='paleturquoise', align='left'),\n",
    "    cells=dict(values=[\n",
    "        [d[\"Coluna\"] for d in data_dictionary],\n",
    "        [d[\"Tipo\"] for d in data_dictionary],\n",
    "        [d[\"Formato\"] for d in data_dictionary],\n",
    "        [d[\"Descrição\"] for d in data_dictionary]\n",
    "    ], fill_color='lavender', align='left')\n",
    ")])\n",
    "\n",
    "fig.update_layout(width=1200, height=600, title=\"Dicionário de Dados - DataFrame Básico\")"
   ]
  },
  {
   "cell_type": "markdown",
   "id": "879eb9be",
   "metadata": {},
   "source": [
    "## Análise Descritiva dos Dados"
   ]
  },
  {
   "cell_type": "markdown",
   "id": "29e5a669",
   "metadata": {},
   "source": [
    "### Introdução\n",
    "\n",
    "Nessa sessão serão realizada análises descritivas que  ajudam a entender o comportamento geral dos dados e as relações entre atributos.\n",
    "\n",
    "    - Distribuição estatística das variáveis numéricas\n",
    "    - Histograma e boxplot por atributos\n",
    "    - Tipos de Pokémon mais comuns\n",
    "    - Matriz de correlação entre atributos numéricos\n",
    "    - Quantidade de locais por Pokémon\n",
    "    - Análise por combinação de tipos"
   ]
  },
  {
   "cell_type": "markdown",
   "id": "bdea2acf",
   "metadata": {},
   "source": [
    "### Estatísticas Descritivas das Variáveis Numéricas\n",
    "\n",
    "A análise estatística das variáveis numéricas dos Pokémon revela alguns pontos importantes sobre a base de dados:\n",
    "\n",
    "- **Diversidade física:**  \n",
    "  Os valores de altura (`height`) e peso (`weight`) apresentam grande variação, com desvios padrão elevados. Isso indica que existem Pokémon extremamente pequenos e leves, assim como outros muito grandes e pesados, refletindo a diversidade do universo Pokémon.\n",
    "\n",
    "- **Atributos de batalha equilibrados:**  \n",
    "  As médias dos atributos de batalha (`attack`, `defense`, `hp`, `sp_atk`, `sp_def`, `speed`) estão próximas, sugerindo que a maioria dos Pokémon possui valores relativamente equilibrados nesses quesitos. No entanto, os valores máximos mostram que existem Pokémon com atributos muito acima da média, geralmente lendários ou formas especiais.\n",
    "\n",
    "- **Maior parte dos pokemons são fracos:**  \n",
    "  Para muitos atributos, a moda é menor que a média, indicando que a maior parte dos Pokémon possui valores baixos, mas há alguns com valores muito altos que elevam a média.\n",
    "\n",
    "- **Distribuição assimétrica:**  \n",
    "  A diferença entre média, mediana e moda em algumas variáveis sugere distribuições assimétricas, com cauda para valores altos (presença de outliers)."
   ]
  },
  {
   "cell_type": "code",
   "execution_count": null,
   "id": "ac18e1b6",
   "metadata": {},
   "outputs": [],
   "source": [
    "import numpy as np\n",
    "from scipy import stats\n",
    "\n",
    "# Seleciona as colunas numéricas\n",
    "numeric_cols = ['height', 'weight', 'attack', 'defense', 'hp', 'sp_atk', 'sp_def', 'speed', 'total']\n",
    "\n",
    "# Calcula as estatísticas manualmente\n",
    "stats_dict = {\n",
    "    \"Média\": [df[col].mean() for col in numeric_cols],\n",
    "    \"Mediana\": [df[col].median() for col in numeric_cols],\n",
    "    \"Moda\": [stats.mode(df[col], nan_policy='omit').mode.item() for col in numeric_cols],\n",
    "    \"Mínimo\": [df[col].min() for col in numeric_cols],\n",
    "    \"Máximo\": [df[col].max() for col in numeric_cols],\n",
    "    \"Desvio Padrão\": [df[col].std() for col in numeric_cols],\n",
    "    \"Q1 (25%)\": [df[col].quantile(0.25) for col in numeric_cols],\n",
    "    \"Q2 (50%)\": [df[col].quantile(0.5) for col in numeric_cols],   # igual à mediana\n",
    "    \"Q3 (75%)\": [df[col].quantile(0.75) for col in numeric_cols]\n",
    "}\n",
    "\n",
    "# Cria a tabela com plotly\n",
    "fig = go.Figure(data=[go.Table(\n",
    "    header=dict(values=[\"Atributo\"] + list(stats_dict.keys()), fill_color='paleturquoise', align='left'),\n",
    "    cells=dict(values=[\n",
    "        numeric_cols,\n",
    "        stats_dict[\"Média\"],\n",
    "        stats_dict[\"Mediana\"],\n",
    "        stats_dict[\"Moda\"],\n",
    "        stats_dict[\"Mínimo\"],\n",
    "        stats_dict[\"Máximo\"],\n",
    "        stats_dict[\"Desvio Padrão\"],\n",
    "        stats_dict[\"Q1 (25%)\"],\n",
    "        stats_dict[\"Q2 (50%)\"],\n",
    "        stats_dict[\"Q3 (75%)\"]\n",
    "    ], fill_color='lavender', align='left', format=[None] + [\".2f\"]*9)\n",
    ")])\n",
    "\n",
    "fig.update_layout(\n",
    "    width=1400,\n",
    "    height=600,\n",
    "    title=\"Tabela de Estatísticas Descritivas das Variáveis Numéricas\"\n",
    ")\n",
    "\n",
    "# Salvar a tabela como imagem na pasta ./charts\n",
    "os.makedirs('./charts', exist_ok=True)\n",
    "os.makedirs('./charts/descritive', exist_ok=True)\n",
    "fig.write_image('./charts/descritive/estatisticas_descritivas_pokemon.png')\n",
    "\n",
    "fig.show()"
   ]
  },
  {
   "cell_type": "markdown",
   "id": "edf0c9fa",
   "metadata": {},
   "source": [
    "### Análise da Frequência dos Tipos de Pokémon\n",
    "\n",
    "A distribuição dos tipos de Pokémon é um dos aspectos mais importantes para entender a diversidade e o equilíbrio do universo Pokémon. A seguir, analisamos a frequência dos tipos considerando três cenários:\n",
    "\n",
    "- **Tipos Primários:**  \n",
    "  O histograma dos tipos primários mostra quais tipos são mais comuns como o primeiro tipo atribuído a cada Pokémon. Isso reflete a identidade principal de cada espécie e revela tendências de design ao longo das gerações. Tipos como \"water\", \"normal\" e \"grass\" costumam aparecer entre os mais frequentes, enquanto tipos como \"ice\" e \"dragon\" são mais raros como primários.\n",
    "\n",
    "- **Tipos Secundários:**  \n",
    "  O histograma dos tipos secundários considera apenas o segundo tipo dos Pokémon que possuem dupla tipagem. Aqui, é possível observar quais tipos são mais utilizados para complementar a tipagem principal, trazendo versatilidade e estratégias diferenciadas para as batalhas. Alguns tipos aparecem com mais frequência como secundários do que como primários, indicando seu papel de suporte ou especialização.\n",
    "\n",
    "- **Todos os Tipos (Primário + Secundário):**  \n",
    "  Ao contabilizar todos os tipos presentes em cada Pokémon, temos uma visão geral da popularidade de cada tipo no universo Pokémon. Essa análise evidencia a predominância de certos tipos e a raridade de outros, além de mostrar o impacto da dupla tipagem na diversidade do jogo."
   ]
  },
  {
   "cell_type": "code",
   "execution_count": null,
   "id": "440d4a7d",
   "metadata": {},
   "outputs": [],
   "source": [
    "import plotly.express as px\n",
    "import os\n",
    "\n",
    "# Garante que a coluna 'type' está como lista\n",
    "basicdf['type'] = basicdf['type'].apply(lambda x: x if isinstance(x, list) else [])\n",
    "\n",
    "# Histograma considerando apenas o primeiro tipo de cada Pokémon\n",
    "basicdf['type_primario'] = basicdf['type'].apply(lambda x: x[0] if len(x) > 0 else None)\n",
    "freq_primario = basicdf['type_primario'].value_counts().reset_index()\n",
    "freq_primario.columns = ['Tipo Primário', 'Frequência']\n",
    "\n",
    "fig1 = px.bar(\n",
    "    freq_primario,\n",
    "    x='Tipo Primário',\n",
    "    y='Frequência',\n",
    "    title='Frequência dos Tipos Primários dos Pokémon',\n",
    "    color='Tipo Primário'\n",
    ")\n",
    "os.makedirs('./charts/type-frequency', exist_ok=True)\n",
    "fig1.write_image('./charts/type-frequency/histograma_tipo_primario.png')\n",
    "fig1.show()\n",
    "\n",
    "# Histograma considerando apenas o segundo tipo de cada Pokémon (tipos secundários)\n",
    "basicdf['type_secundario'] = basicdf['type'].apply(lambda x: x[1] if len(x) > 1 else None)\n",
    "freq_secundario = basicdf['type_secundario'].value_counts().reset_index()\n",
    "freq_secundario = freq_secundario[freq_secundario['type_secundario'].notnull()]\n",
    "freq_secundario.columns = ['Tipo Secundário', 'Frequência']\n",
    "\n",
    "fig2 = px.bar(\n",
    "    freq_secundario,\n",
    "    x='Tipo Secundário',\n",
    "    y='Frequência',\n",
    "    title='Frequência dos Tipos Secundários dos Pokémon',\n",
    "    color='Tipo Secundário'\n",
    ")\n",
    "fig2.write_image('./charts/type-frequency/histograma_tipo_secundario.png')\n",
    "fig2.show()\n",
    "\n",
    "# Histograma considerando todos os tipos (explode)\n",
    "df_types_exploded = basicdf.explode('type')\n",
    "freq_todos = df_types_exploded['type'].value_counts().reset_index()\n",
    "freq_todos.columns = ['Tipo', 'Frequência']\n",
    "\n",
    "fig3 = px.bar(\n",
    "    freq_todos,\n",
    "    x='Tipo',\n",
    "    y='Frequência',\n",
    "    title='Frequência de Todos os Tipos dos Pokémon (Primário + Secundário)',\n",
    "    color='Tipo'\n",
    ")\n",
    "fig3.write_image('./charts/type-frequency/histograma_todos_tipos.png')\n",
    "fig3.show()"
   ]
  },
  {
   "cell_type": "markdown",
   "id": "76dcdd5f",
   "metadata": {},
   "source": [
    "### Análise dos Status Médios por Tipo de Pokémon\n",
    "\n",
    "A seguir, apresentamos os três tipos de Pokémon com as maiores médias em cada atributo de status, acompanhados da respectiva margem de erro (intervalo de confiança de 95%). Esses dados ajudam a identificar quais tipos se destacam em cada aspecto de batalha.\n",
    "\n",
    "#### Top 3 Tipos por Status\n",
    "\n",
    "| Status         | 1º Tipo   | Média   | Margem de Erro | 2º Tipo   | Média   | Margem de Erro | 3º Tipo   | Média   | Margem de Erro |\n",
    "|----------------|-----------|---------|----------------|-----------|---------|----------------|-----------|---------|----------------|\n",
    "| **Attack**     | Fighting  | 104.33  | ±5.81          | Dragon    | 94.00   | ±6.34          | Dark      | 93.59   | ±6.07          |\n",
    "| **Defense**    | Steel     | 107.88  | ±8.25          | Rock      | 103.53  | ±8.96          | Ground    | 85.45   | ±7.53          |\n",
    "| **HP**         | Dragon    | 84.07   | ±7.69          | Ice       | 80.08   | ±7.72          | Fighting  | 77.75   | ±5.43          |\n",
    "| **Sp. Atk**    | Psychic   | 88.04   | ±6.11          | Dragon    | 87.20   | ±8.04          | Fire      | 86.31   | ±6.25          |\n",
    "| **Sp. Def**    | Psychic   | 84.20   | ±5.13          | Fairy     | 83.92   | ±7.87          | Ghost     | 79.09   | ±6.88          |\n",
    "| **Speed**      | Flying    | 82.43   | ±4.29          | Electric  | 81.87   | ±7.96          | Dragon    | 78.17   | ±6.66          |\n",
    "| **Total**      | Dragon    | 504.76  | ±29.19         | Steel     | 479.72  | ±24.80         | Fighting  | 467.14  | ±23.15         |\n",
    "\n",
    "- **Fighting** lidera em ataque, enquanto **Steel** domina em defesa.\n",
    "- **Dragon** aparece entre os três melhores em ataque, HP, ataque especial, velocidade **e também possui o maior total médio de atributos** (504.76 ±29.19), mostrando sua versatilidade e força geral.\n",
    "- **Steel** além de ser o melhor em defesa, também está entre os maiores totais médios (479.72 ±24.80), indicando Pokémon geralmente bem equilibrados e resistentes.\n",
    "- **Fighting** destaca-se em ataque e também figura entre os maiores totais médios (467.14 ±23.15), reforçando seu perfil ofensivo.\n",
    "- **Psychic** é destaque em ataque especial e defesa especial.\n",
    "- **Flying** e **Electric** são os tipos mais rápidos, com médias de velocidade superiores aos demais."
   ]
  },
  {
   "cell_type": "code",
   "execution_count": null,
   "id": "3be35cb9",
   "metadata": {},
   "outputs": [],
   "source": [
    "import plotly.express as px\n",
    "\n",
    "# Explode o DataFrame para que cada tipo de Pokémon fique em uma linha\n",
    "df_exploded = basicdf.explode('type')\n",
    "\n",
    "# Seleciona os atributos de interesse\n",
    "atributos = ['attack', 'defense', 'hp', 'sp_atk', 'sp_def', 'speed', 'total']\n",
    "\n",
    "for atributo in atributos:\n",
    "    # Ordena os tipos pela média do atributo (do maior para o menor)\n",
    "    ordem_tipos = (\n",
    "        df_exploded.groupby('type')[atributo]\n",
    "        .mean()\n",
    "        .sort_values(ascending=False)\n",
    "        .index.tolist()\n",
    "    )\n",
    "    fig = px.box(\n",
    "        df_exploded,\n",
    "        x='type',\n",
    "        y=atributo,\n",
    "        category_orders={'type': ordem_tipos},\n",
    "        points=\"all\",\n",
    "        title=f'Distribuição de {atributo.capitalize()} por Tipo de Pokémon',\n",
    "        labels={'type': 'Tipo', atributo: atributo.capitalize()}\n",
    "    )\n",
    "    fig.update_layout(width=1000, height=500)\n",
    "    os.makedirs('./charts/stats-per-type', exist_ok=True)\n",
    "    fig.write_image(f'./charts/stats-per-type/boxplot_{atributo}_por_tipo.png')\n",
    "    fig.show()"
   ]
  },
  {
   "cell_type": "markdown",
   "id": "4e30e7ef",
   "metadata": {},
   "source": [
    "### Assimetria e Curtose dos Atributos Numéricos dos Pokémon\n",
    "\n",
    "- **Altura (`height`) e Peso (`weight`):**\n",
    "  - Apresentam valores extremamente altos de assimetria (6.55 e 4.34) e curtose (72.29 e 23.59), indicando distribuições altamente assimétricas e com caudas longas. Isso significa que a maioria dos Pokémon é pequena/leve, mas existem poucos Pokémon muito grandes e pesados (outliers), como Wailord ou Celesteela.\n",
    "- **Atributos de batalha (attack, defense, hp, sp_atk, sp_def, speed):**\n",
    "  - Todos apresentam assimetria positiva, mas moderada, indicando que a maioria dos Pokémon possui valores baixos nesses atributos, com poucos indivíduos com valores muito altos.\n",
    "  - A curtose é próxima de zero ou levemente positiva para a maioria dos atributos, sugerindo distribuições próximas da normal, mas com leve presença de outliers (Pokémon lendários ou formas especiais).\n",
    "  - O atributo `hp` se destaca com curtose 6.06, mostrando maior concentração de valores próximos à média, mas com alguns Pokémon com HP muito elevado.\n",
    "- **Total:**\n",
    "  - O atributo `total` apresenta assimetria e curtose próximas de zero (-0.09 e -0.80), indicando uma distribuição quase simétrica e levemente platicúrtica (menos caudas que uma normal). Isso sugere que a soma dos atributos é mais equilibrada entre as espécies.\n",
    "- **Resumo geral:**\n",
    "  - Os dados confirmam que a maioria dos Pokémon possui atributos físicos e de batalha modestos, com poucos extremos. Altura e peso são os atributos mais desbalanceados, enquanto o total de pontos tende a ser mais distribuído de forma homogênea."
   ]
  },
  {
   "cell_type": "code",
   "execution_count": null,
   "id": "35379bae",
   "metadata": {},
   "outputs": [
    {
     "data": {
      "application/vnd.plotly.v1+json": {
       "config": {
        "plotlyServerURL": "https://plot.ly"
       },
       "data": [
        {
         "cells": {
          "align": "left",
          "fill": {
           "color": "lavender"
          },
          "values": [
           [
            "height",
            "weight",
            "attack",
            "defense",
            "hp",
            "sp_atk",
            "sp_def",
            "speed",
            "total"
           ],
           [
            "6.55",
            "4.34",
            "0.28",
            "0.96",
            "1.50",
            "0.58",
            "0.82",
            "0.39",
            "-0.09"
           ],
           [
            "72.29",
            "23.59",
            "-0.44",
            "1.87",
            "6.06",
            "-0.25",
            "1.54",
            "-0.07",
            "-0.80"
           ]
          ]
         },
         "header": {
          "align": "left",
          "fill": {
           "color": "paleturquoise"
          },
          "values": [
           "Atributo",
           "Assimetria (Skewness)",
           "Curtose"
          ]
         },
         "type": "table"
        }
       ],
       "layout": {
        "height": 500,
        "template": {
         "data": {
          "bar": [
           {
            "error_x": {
             "color": "#2a3f5f"
            },
            "error_y": {
             "color": "#2a3f5f"
            },
            "marker": {
             "line": {
              "color": "#E5ECF6",
              "width": 0.5
             },
             "pattern": {
              "fillmode": "overlay",
              "size": 10,
              "solidity": 0.2
             }
            },
            "type": "bar"
           }
          ],
          "barpolar": [
           {
            "marker": {
             "line": {
              "color": "#E5ECF6",
              "width": 0.5
             },
             "pattern": {
              "fillmode": "overlay",
              "size": 10,
              "solidity": 0.2
             }
            },
            "type": "barpolar"
           }
          ],
          "carpet": [
           {
            "aaxis": {
             "endlinecolor": "#2a3f5f",
             "gridcolor": "white",
             "linecolor": "white",
             "minorgridcolor": "white",
             "startlinecolor": "#2a3f5f"
            },
            "baxis": {
             "endlinecolor": "#2a3f5f",
             "gridcolor": "white",
             "linecolor": "white",
             "minorgridcolor": "white",
             "startlinecolor": "#2a3f5f"
            },
            "type": "carpet"
           }
          ],
          "choropleth": [
           {
            "colorbar": {
             "outlinewidth": 0,
             "ticks": ""
            },
            "type": "choropleth"
           }
          ],
          "contour": [
           {
            "colorbar": {
             "outlinewidth": 0,
             "ticks": ""
            },
            "colorscale": [
             [
              0,
              "#0d0887"
             ],
             [
              0.1111111111111111,
              "#46039f"
             ],
             [
              0.2222222222222222,
              "#7201a8"
             ],
             [
              0.3333333333333333,
              "#9c179e"
             ],
             [
              0.4444444444444444,
              "#bd3786"
             ],
             [
              0.5555555555555556,
              "#d8576b"
             ],
             [
              0.6666666666666666,
              "#ed7953"
             ],
             [
              0.7777777777777778,
              "#fb9f3a"
             ],
             [
              0.8888888888888888,
              "#fdca26"
             ],
             [
              1,
              "#f0f921"
             ]
            ],
            "type": "contour"
           }
          ],
          "contourcarpet": [
           {
            "colorbar": {
             "outlinewidth": 0,
             "ticks": ""
            },
            "type": "contourcarpet"
           }
          ],
          "heatmap": [
           {
            "colorbar": {
             "outlinewidth": 0,
             "ticks": ""
            },
            "colorscale": [
             [
              0,
              "#0d0887"
             ],
             [
              0.1111111111111111,
              "#46039f"
             ],
             [
              0.2222222222222222,
              "#7201a8"
             ],
             [
              0.3333333333333333,
              "#9c179e"
             ],
             [
              0.4444444444444444,
              "#bd3786"
             ],
             [
              0.5555555555555556,
              "#d8576b"
             ],
             [
              0.6666666666666666,
              "#ed7953"
             ],
             [
              0.7777777777777778,
              "#fb9f3a"
             ],
             [
              0.8888888888888888,
              "#fdca26"
             ],
             [
              1,
              "#f0f921"
             ]
            ],
            "type": "heatmap"
           }
          ],
          "histogram": [
           {
            "marker": {
             "pattern": {
              "fillmode": "overlay",
              "size": 10,
              "solidity": 0.2
             }
            },
            "type": "histogram"
           }
          ],
          "histogram2d": [
           {
            "colorbar": {
             "outlinewidth": 0,
             "ticks": ""
            },
            "colorscale": [
             [
              0,
              "#0d0887"
             ],
             [
              0.1111111111111111,
              "#46039f"
             ],
             [
              0.2222222222222222,
              "#7201a8"
             ],
             [
              0.3333333333333333,
              "#9c179e"
             ],
             [
              0.4444444444444444,
              "#bd3786"
             ],
             [
              0.5555555555555556,
              "#d8576b"
             ],
             [
              0.6666666666666666,
              "#ed7953"
             ],
             [
              0.7777777777777778,
              "#fb9f3a"
             ],
             [
              0.8888888888888888,
              "#fdca26"
             ],
             [
              1,
              "#f0f921"
             ]
            ],
            "type": "histogram2d"
           }
          ],
          "histogram2dcontour": [
           {
            "colorbar": {
             "outlinewidth": 0,
             "ticks": ""
            },
            "colorscale": [
             [
              0,
              "#0d0887"
             ],
             [
              0.1111111111111111,
              "#46039f"
             ],
             [
              0.2222222222222222,
              "#7201a8"
             ],
             [
              0.3333333333333333,
              "#9c179e"
             ],
             [
              0.4444444444444444,
              "#bd3786"
             ],
             [
              0.5555555555555556,
              "#d8576b"
             ],
             [
              0.6666666666666666,
              "#ed7953"
             ],
             [
              0.7777777777777778,
              "#fb9f3a"
             ],
             [
              0.8888888888888888,
              "#fdca26"
             ],
             [
              1,
              "#f0f921"
             ]
            ],
            "type": "histogram2dcontour"
           }
          ],
          "mesh3d": [
           {
            "colorbar": {
             "outlinewidth": 0,
             "ticks": ""
            },
            "type": "mesh3d"
           }
          ],
          "parcoords": [
           {
            "line": {
             "colorbar": {
              "outlinewidth": 0,
              "ticks": ""
             }
            },
            "type": "parcoords"
           }
          ],
          "pie": [
           {
            "automargin": true,
            "type": "pie"
           }
          ],
          "scatter": [
           {
            "fillpattern": {
             "fillmode": "overlay",
             "size": 10,
             "solidity": 0.2
            },
            "type": "scatter"
           }
          ],
          "scatter3d": [
           {
            "line": {
             "colorbar": {
              "outlinewidth": 0,
              "ticks": ""
             }
            },
            "marker": {
             "colorbar": {
              "outlinewidth": 0,
              "ticks": ""
             }
            },
            "type": "scatter3d"
           }
          ],
          "scattercarpet": [
           {
            "marker": {
             "colorbar": {
              "outlinewidth": 0,
              "ticks": ""
             }
            },
            "type": "scattercarpet"
           }
          ],
          "scattergeo": [
           {
            "marker": {
             "colorbar": {
              "outlinewidth": 0,
              "ticks": ""
             }
            },
            "type": "scattergeo"
           }
          ],
          "scattergl": [
           {
            "marker": {
             "colorbar": {
              "outlinewidth": 0,
              "ticks": ""
             }
            },
            "type": "scattergl"
           }
          ],
          "scattermap": [
           {
            "marker": {
             "colorbar": {
              "outlinewidth": 0,
              "ticks": ""
             }
            },
            "type": "scattermap"
           }
          ],
          "scattermapbox": [
           {
            "marker": {
             "colorbar": {
              "outlinewidth": 0,
              "ticks": ""
             }
            },
            "type": "scattermapbox"
           }
          ],
          "scatterpolar": [
           {
            "marker": {
             "colorbar": {
              "outlinewidth": 0,
              "ticks": ""
             }
            },
            "type": "scatterpolar"
           }
          ],
          "scatterpolargl": [
           {
            "marker": {
             "colorbar": {
              "outlinewidth": 0,
              "ticks": ""
             }
            },
            "type": "scatterpolargl"
           }
          ],
          "scatterternary": [
           {
            "marker": {
             "colorbar": {
              "outlinewidth": 0,
              "ticks": ""
             }
            },
            "type": "scatterternary"
           }
          ],
          "surface": [
           {
            "colorbar": {
             "outlinewidth": 0,
             "ticks": ""
            },
            "colorscale": [
             [
              0,
              "#0d0887"
             ],
             [
              0.1111111111111111,
              "#46039f"
             ],
             [
              0.2222222222222222,
              "#7201a8"
             ],
             [
              0.3333333333333333,
              "#9c179e"
             ],
             [
              0.4444444444444444,
              "#bd3786"
             ],
             [
              0.5555555555555556,
              "#d8576b"
             ],
             [
              0.6666666666666666,
              "#ed7953"
             ],
             [
              0.7777777777777778,
              "#fb9f3a"
             ],
             [
              0.8888888888888888,
              "#fdca26"
             ],
             [
              1,
              "#f0f921"
             ]
            ],
            "type": "surface"
           }
          ],
          "table": [
           {
            "cells": {
             "fill": {
              "color": "#EBF0F8"
             },
             "line": {
              "color": "white"
             }
            },
            "header": {
             "fill": {
              "color": "#C8D4E3"
             },
             "line": {
              "color": "white"
             }
            },
            "type": "table"
           }
          ]
         },
         "layout": {
          "annotationdefaults": {
           "arrowcolor": "#2a3f5f",
           "arrowhead": 0,
           "arrowwidth": 1
          },
          "autotypenumbers": "strict",
          "coloraxis": {
           "colorbar": {
            "outlinewidth": 0,
            "ticks": ""
           }
          },
          "colorscale": {
           "diverging": [
            [
             0,
             "#8e0152"
            ],
            [
             0.1,
             "#c51b7d"
            ],
            [
             0.2,
             "#de77ae"
            ],
            [
             0.3,
             "#f1b6da"
            ],
            [
             0.4,
             "#fde0ef"
            ],
            [
             0.5,
             "#f7f7f7"
            ],
            [
             0.6,
             "#e6f5d0"
            ],
            [
             0.7,
             "#b8e186"
            ],
            [
             0.8,
             "#7fbc41"
            ],
            [
             0.9,
             "#4d9221"
            ],
            [
             1,
             "#276419"
            ]
           ],
           "sequential": [
            [
             0,
             "#0d0887"
            ],
            [
             0.1111111111111111,
             "#46039f"
            ],
            [
             0.2222222222222222,
             "#7201a8"
            ],
            [
             0.3333333333333333,
             "#9c179e"
            ],
            [
             0.4444444444444444,
             "#bd3786"
            ],
            [
             0.5555555555555556,
             "#d8576b"
            ],
            [
             0.6666666666666666,
             "#ed7953"
            ],
            [
             0.7777777777777778,
             "#fb9f3a"
            ],
            [
             0.8888888888888888,
             "#fdca26"
            ],
            [
             1,
             "#f0f921"
            ]
           ],
           "sequentialminus": [
            [
             0,
             "#0d0887"
            ],
            [
             0.1111111111111111,
             "#46039f"
            ],
            [
             0.2222222222222222,
             "#7201a8"
            ],
            [
             0.3333333333333333,
             "#9c179e"
            ],
            [
             0.4444444444444444,
             "#bd3786"
            ],
            [
             0.5555555555555556,
             "#d8576b"
            ],
            [
             0.6666666666666666,
             "#ed7953"
            ],
            [
             0.7777777777777778,
             "#fb9f3a"
            ],
            [
             0.8888888888888888,
             "#fdca26"
            ],
            [
             1,
             "#f0f921"
            ]
           ]
          },
          "colorway": [
           "#636efa",
           "#EF553B",
           "#00cc96",
           "#ab63fa",
           "#FFA15A",
           "#19d3f3",
           "#FF6692",
           "#B6E880",
           "#FF97FF",
           "#FECB52"
          ],
          "font": {
           "color": "#2a3f5f"
          },
          "geo": {
           "bgcolor": "white",
           "lakecolor": "white",
           "landcolor": "#E5ECF6",
           "showlakes": true,
           "showland": true,
           "subunitcolor": "white"
          },
          "hoverlabel": {
           "align": "left"
          },
          "hovermode": "closest",
          "mapbox": {
           "style": "light"
          },
          "paper_bgcolor": "white",
          "plot_bgcolor": "#E5ECF6",
          "polar": {
           "angularaxis": {
            "gridcolor": "white",
            "linecolor": "white",
            "ticks": ""
           },
           "bgcolor": "#E5ECF6",
           "radialaxis": {
            "gridcolor": "white",
            "linecolor": "white",
            "ticks": ""
           }
          },
          "scene": {
           "xaxis": {
            "backgroundcolor": "#E5ECF6",
            "gridcolor": "white",
            "gridwidth": 2,
            "linecolor": "white",
            "showbackground": true,
            "ticks": "",
            "zerolinecolor": "white"
           },
           "yaxis": {
            "backgroundcolor": "#E5ECF6",
            "gridcolor": "white",
            "gridwidth": 2,
            "linecolor": "white",
            "showbackground": true,
            "ticks": "",
            "zerolinecolor": "white"
           },
           "zaxis": {
            "backgroundcolor": "#E5ECF6",
            "gridcolor": "white",
            "gridwidth": 2,
            "linecolor": "white",
            "showbackground": true,
            "ticks": "",
            "zerolinecolor": "white"
           }
          },
          "shapedefaults": {
           "line": {
            "color": "#2a3f5f"
           }
          },
          "ternary": {
           "aaxis": {
            "gridcolor": "white",
            "linecolor": "white",
            "ticks": ""
           },
           "baxis": {
            "gridcolor": "white",
            "linecolor": "white",
            "ticks": ""
           },
           "bgcolor": "#E5ECF6",
           "caxis": {
            "gridcolor": "white",
            "linecolor": "white",
            "ticks": ""
           }
          },
          "title": {
           "x": 0.05
          },
          "xaxis": {
           "automargin": true,
           "gridcolor": "white",
           "linecolor": "white",
           "ticks": "",
           "title": {
            "standoff": 15
           },
           "zerolinecolor": "white",
           "zerolinewidth": 2
          },
          "yaxis": {
           "automargin": true,
           "gridcolor": "white",
           "linecolor": "white",
           "ticks": "",
           "title": {
            "standoff": 15
           },
           "zerolinecolor": "white",
           "zerolinewidth": 2
          }
         }
        },
        "title": {
         "text": "Assimetria e Curtose dos Atributos Numéricos dos Pokémon"
        },
        "width": 800
       }
      }
     },
     "metadata": {},
     "output_type": "display_data"
    }
   ],
   "source": [
    "import pandas as pd\n",
    "import plotly.graph_objects as go\n",
    "from scipy.stats import skew, kurtosis\n",
    "import matplotlib.pyplot as plt\n",
    "import seaborn as sns\n",
    "import os\n",
    "\n",
    "# Seleciona as colunas numéricas\n",
    "numeric_cols = ['height', 'weight', 'attack', 'defense', 'hp', 'sp_atk', 'sp_def', 'speed', 'total']\n",
    "\n",
    "# Calcula assimetria (skewness) e curtose para cada atributo\n",
    "skewness = [skew(basicdf[col].dropna()) for col in numeric_cols]\n",
    "kurt = [kurtosis(basicdf[col].dropna(), fisher=True) for col in numeric_cols]\n",
    "\n",
    "# Monta DataFrame para exibição\n",
    "tabela_assimetria = pd.DataFrame({\n",
    "    \"Atributo\": numeric_cols,\n",
    "    \"Assimetria (Skewness)\": [f\"{v:.2f}\" for v in skewness],\n",
    "    \"Curtose\": [f\"{v:.2f}\" for v in kurt]\n",
    "})\n",
    "\n",
    "# Exibe a tabela com plotly\n",
    "fig = go.Figure(data=[go.Table(\n",
    "    header=dict(values=list(tabela_assimetria.columns), fill_color='paleturquoise', align='left'),\n",
    "    cells=dict(values=[tabela_assimetria[col] for col in tabela_assimetria.columns], fill_color='lavender', align='left')\n",
    ")])\n",
    "fig.update_layout(width=800, height=500, title=\"Assimetria e Curtose dos Atributos Numéricos dos Pokémon\")\n",
    "\n",
    "# Salva a tabela como imagem\n",
    "os.makedirs('./charts/skew-kurtosis', exist_ok=True)\n",
    "fig.write_image('./charts/skew-kurtosis/assimetria_curtose_pokemon.png')\n",
    "fig.show()\n",
    "\n",
    "\n",
    "os.makedirs('./charts/skew-kurtosis/curvas', exist_ok=True)\n",
    "\n",
    "for col in numeric_cols:\n",
    "    plt.figure(figsize=(8, 4))\n",
    "    sns.kdeplot(basicdf[col].dropna(), fill=True, color='skyblue')\n",
    "    plt.title(\n",
    "        f'Distribuição de {col}\\n'\n",
    "        f'Assimetria: {skew(basicdf[col].dropna()):.2f} | Curtose: {kurtosis(basicdf[col].dropna(), fisher=True):.2f}'\n",
    "    )\n",
    "    plt.xlabel(col)\n",
    "    plt.ylabel('Densidade')\n",
    "    plt.tight_layout()\n",
    "    plt.savefig(f'./charts/skew-kurtosis/curvas/{col}_curva.png')\n",
    "    plt.close()"
   ]
  },
  {
   "cell_type": "markdown",
   "id": "a1bd7103",
   "metadata": {},
   "source": [
    "### Insights sobre a Distribuição de Pokémon por Local de Captura\n",
    "\n",
    "A análise dos novos gráficos e da tabela descritiva revela pontos importantes sobre a distribuição dos Pokémon nos diferentes locais de captura:\n",
    "\n",
    "- **Distribuição Desigual:** O gráfico de dispersão mostra que a maioria dos locais de captura possui uma quantidade pequena de espécies de Pokémon disponíveis, enquanto poucos locais concentram uma grande diversidade. Isso indica uma distribuição desigual, com muitos locais \"exclusivos\" ou pouco povoados e poucos \"hubs\" de alta diversidade.\n",
    "\n",
    "- **Moda, Mediana e Média:** A moda e a mediana da quantidade de Pokémon por local são significativamente menores que a média, reforçando que a maior parte dos locais tem poucos Pokémon, mas alguns locais com muitos Pokémon elevam a média geral.\n",
    "\n",
    "- **Locais de Alta Diversidade:** Os poucos locais que aparecem no topo do gráfico de barras são pontos estratégicos para jogadores que desejam encontrar uma grande variedade de espécies, sendo ideais para completar a Pokédex de forma eficiente.\n",
    "\n",
    "- **Top 5 Pokémon com Maior Número de Locais Capturáveis:**\n",
    "    - **Magikarp**: encontrado em 244 locais diferentes, presente em praticamente todas as regiões aquáticas.\n",
    "    - **Golbat**: aparece em 142 locais, sendo comum em cavernas e rotas.\n",
    "    - **Gyarados**: disponível em 132 locais, geralmente em áreas de água e lagos.\n",
    "    - **Zubat**: presente em 125 locais, típico de cavernas e túneis.\n",
    "    - **Tentacool**: encontrado em 113 locais, principalmente em mares e áreas costeiras."
   ]
  },
  {
   "cell_type": "code",
   "execution_count": null,
   "id": "f859b175",
   "metadata": {},
   "outputs": [],
   "source": [
    "import plotly.express as px\n",
    "import os\n",
    "\n",
    "# Explode a coluna 'capture_location' para que cada local ocupe uma linha\n",
    "df_locais = basicdf.explode('capture_location')\n",
    "\n",
    "# Remove valores nulos/vazios\n",
    "df_locais = df_locais[df_locais['capture_location'].notnull() & (df_locais['capture_location'] != '')]\n",
    "\n",
    "# Conta a frequência de cada local de captura\n",
    "freq_locais = df_locais['capture_location'].value_counts().reset_index()\n",
    "freq_locais.columns = ['Local de Captura', 'Frequência']\n",
    "\n",
    "# Top 20 pokémons com maior número de locais capturáveis\n",
    "basicdf['num_locais'] = basicdf['capture_location'].apply(lambda x: len(x) if isinstance(x, list) else 0)\n",
    "top20 = basicdf.sort_values('num_locais', ascending=False)[['name', 'num_locais']].head(20)\n",
    "\n",
    "fig = px.bar(\n",
    "    top20,\n",
    "    x='name',\n",
    "    y='num_locais',\n",
    "    title='Top 20 Pokémon com Maior Número de Locais Capturáveis',\n",
    "    labels={'name': 'Pokémon', 'num_locais': 'Nº de Locais Capturáveis'},\n",
    "    color='num_locais',\n",
    "    color_continuous_scale='Blues'\n",
    ")\n",
    "fig.update_layout(xaxis_tickangle=45, width=900, height=500)\n",
    "os.makedirs('./charts/capture-regions', exist_ok=True)\n",
    "fig.write_image('./charts/capture-regions/top20_pokemons_locais_captura.png')\n",
    "fig.show()\n",
    "\n",
    "# Gera o histograma dos 20 locais mais frequentes\n",
    "fig = px.bar(\n",
    "    freq_locais.head(20),\n",
    "    x='Local de Captura',\n",
    "    y='Frequência',\n",
    "    title='Top 20 Locais de Captura Com Maior Diversidade de Pokémon',\n",
    "    color='Local de Captura'\n",
    ")\n",
    "fig.update_layout(xaxis_tickangle=45, width=1000, height=500)\n",
    "fig.write_image('./charts/capture-regions/histograma_top20_locais_captura.png')\n",
    "fig.show()\n",
    "\n",
    "# Gráfico de dispersão da quantidade de Pokémon por local de captura (todas as áreas)\n",
    "fig_disp = px.histogram(\n",
    "    freq_locais,\n",
    "    x='Frequência',\n",
    "    nbins=30,\n",
    "    title='Distribuição da Quantidade de Pokémon por Local de Captura',\n",
    "    labels={'Frequência': 'Quantidade de Pokémon no Local'}\n",
    ")\n",
    "fig_disp.update_layout(width=900, height=400)\n",
    "fig_disp.write_image('./charts/capture-regions/dispersao_pokemons_por_local.png')\n",
    "fig_disp.show()\n",
    "\n",
    "# Estatísticas descritivas\n",
    "\n",
    "# freq_locais já contém a contagem de pokémons por local de captura\n",
    "freq_locais.columns = ['Local de Captura', 'Frequência']\n",
    "desc_stats = {\n",
    "    \"Média\": freq_locais['Frequência'].mean(),\n",
    "    \"Mediana\": freq_locais['Frequência'].median(),\n",
    "    \"Moda\": freq_locais['Frequência'].mode().iloc[0] if not freq_locais['Frequência'].mode().empty else np.nan,\n",
    "    \"Mínimo\": freq_locais['Frequência'].min(),\n",
    "    \"Máximo\": freq_locais['Frequência'].max(),\n",
    "    \"Desvio Padrão\": freq_locais['Frequência'].std(),\n",
    "    \"Total de Locais\": freq_locais.shape[0]\n",
    "}\n",
    "\n",
    "# Monta a tabela para exibição\n",
    "tabela = pd.DataFrame({\n",
    "    \"Estatística\": list(desc_stats.keys()),\n",
    "    \"Valor\": [f\"{v:.2f}\" if isinstance(v, float) else v for v in desc_stats.values()]\n",
    "})\n",
    "\n",
    "# Exibe a tabela com plotly\n",
    "fig = go.Figure(data=[go.Table(\n",
    "    header=dict(values=[\"Estatística\", \"Valor\"], fill_color='paleturquoise', align='left'),\n",
    "    cells=dict(values=[tabela['Estatística'], tabela['Valor']], fill_color='lavender', align='left')\n",
    ")])\n",
    "fig.update_layout(width=600, height=400, title=\"Estatísticas - Pokémon por Local de Captura\")\n",
    "fig.write_image('./charts/capture-regions/estatisticas_locais_captura.png')\n",
    "fig.show()\n",
    "\n"
   ]
  },
  {
   "cell_type": "markdown",
   "id": "ff0131e1",
   "metadata": {},
   "source": [
    "### Matriz de Correlação entre Atributos Numéricos dos Pokémon\n",
    "\n",
    "- **total × outros atributos:**  \n",
    "  O atributo \"total\" apresenta alta correlação com todos os atributos individuais, especialmente ataque, defesa, HP e ataque especial, pois é a soma direta desses valores.\n",
    "\n",
    "- **height × weight (0.63):**  \n",
    "  Altura e peso têm uma correlação forte, como esperado, já que Pokémon mais altos tendem a ser mais pesados.\n",
    "\n",
    "- **speed × outros atributos:**  \n",
    "  Velocidade apresenta correlação mais baixa com os demais atributos, indicando que ser rápido não necessariamente significa ter outros atributos altos.\n",
    "\n",
    "- **sp_atk e sp_def:**  \n",
    "  A correlação entre defesa especial e defesa é moderada, enquanto a correlação entre ataque especial e ataque é fraca. \n",
    "\n",
    "**Resumo:**  \n",
    "A matriz revela que Altura e Peso tem relação, assim como defesa especial e defesa. Já velocidade é um atributo mais \"independente\", variando bastante entre Pokémon de diferentes perfis."
   ]
  },
  {
   "cell_type": "code",
   "execution_count": null,
   "id": "479258c4",
   "metadata": {},
   "outputs": [],
   "source": [
    "import seaborn as sns\n",
    "import matplotlib.pyplot as plt\n",
    "\n",
    "# Seleciona apenas as colunas numéricas relevantes\n",
    "numeric_cols = ['attack', 'defense', 'hp', 'sp_atk', 'sp_def', 'speed', 'total', 'height', 'weight']\n",
    "\n",
    "# Calcula a matriz de correlação\n",
    "corr_matrix = basicdf[numeric_cols].corr()\n",
    "\n",
    "# Exibe a matriz de correlação como um heatmap\n",
    "plt.figure(figsize=(10, 8))\n",
    "sns.heatmap(corr_matrix, annot=True, cmap='Blues', fmt=\".2f\", linewidths=0.5)\n",
    "plt.title('Matriz de Correlação entre Atributos Numéricos dos Pokémon')\n",
    "plt.tight_layout()\n",
    "os.makedirs('./charts/stats-correlation', exist_ok=True)\n",
    "plt.savefig('./charts/stats-correlation/matriz_correlacao_pokemon.png')\n",
    "plt.show()"
   ]
  },
  {
   "cell_type": "markdown",
   "id": "03d1243b",
   "metadata": {},
   "source": [
    "## Analises com Inteligência Artificial"
   ]
  },
  {
   "cell_type": "markdown",
   "id": "43f52d88",
   "metadata": {},
   "source": [
    "## Montagem de Time Ideal com Algoritmo Genético\n",
    "\n",
    "Nesta etapa, aplicamos um **Algoritmo Genético (GA)** para otimizar a montagem de um time ideal de Pokémon. Essa abordagem é inspirada na evolução natural e consiste em simular um processo de seleção e reprodução de times com o objetivo de encontrar a melhor combinação possível.\n",
    "\n",
    "---\n",
    "\n",
    "### Objetivo\n",
    "\n",
    "Selecionar **6 pokémons ideais** a partir de uma amostra aleatória da base, considerando critérios como:\n",
    "\n",
    "- **Diversidade de Tipos (Critério Primário)**:\n",
    "   - **Objetivo**: Evitar sobreposição de tipos e maximizar cobertura ofensiva/defensiva.\n",
    "   - **Métricas**:\n",
    "      - +2 pontos por tipo único no time\n",
    "      - Bônus se cobrir todos os 18 tipos elementares\n",
    "      - Penalizar times com >2 Pokémon do mesmo tipo\n",
    "- **Cobertura de Fraquezas (Critério Defensivo)**:\n",
    "   - **Objetivo**: Garantir que toda fraqueza do time seja neutralizada por outro membro.\n",
    "   - **Métricas**:\n",
    "      - +1 ponto por fraqueza coberta (ex: Se um Pokémon é fraco contra Água, outro deve resistir a Água)\n",
    "      - Penalidade para fraquezas descobertas (ex: Time com 3 Pokémon fracos contra Pedra sem resistência)\n",
    "- **Balanceamento de Atributos (Critério de Combate)**:\n",
    "   - **Objetivo**: Distribuição equilibrada de funções táticas. Esta parte é realizada por um processo de clusterização utilizando o algoritmo de K-means para realizar a categorização dos grupos baseados nos atributos de combate.\n",
    "   - **Tipo de clusterização utilizada**:\n",
    "\n",
    "   | Cluster | Atributos-Chave | Função                      |\n",
    "   |----------------|---------------------|--------------------------------|\n",
    "   | 0           | Alto attack / speed                   | Atacante Físico       |\n",
    "   | 1           | Alto sp_atk / sp_def                   | Atacante Especial          |\n",
    "   | 2         | Alto defense / hp                   | Tanque |\n",
    "   | 3       | Balanceado                   |           All-Rounder                     |\n",
    "\n",
    "   - **Pontuação**:\n",
    "      - +1.5 pontos por cluster dentro do time.\n",
    "\n",
    "---\n",
    "\n",
    "### Etapas do Algoritmo Genético\n",
    "\n",
    "1. **Inicialização**  \n",
    "   Geração de uma população inicial de times aleatórios (indivíduos).\n",
    "\n",
    "2. **Avaliação (Fitness)**  \n",
    "   Cada time recebe uma pontuação com base nos critérios mencionados acima.\n",
    "\n",
    "3. **Seleção**  \n",
    "   Os melhores times da população são selecionados como \"pais\" para gerar a próxima geração.\n",
    "\n",
    "4. **Cruzamento (Crossover)**  \n",
    "   Combinações de times (pais) são misturadas para formar novos times (filhos), tentando herdar as melhores características de ambos.\n",
    "\n",
    "5. **Mutação**  \n",
    "   Com uma pequena chance, um pokémon aleatório do time é substituído para aumentar a diversidade da população.\n",
    "\n",
    "6. **Iterações**  \n",
    "   O processo é repetido por várias gerações até que o time ideal seja encontrado (ou o número máximo de gerações seja atingido).\n",
    "\n",
    "---\n",
    "\n",
    "### Visualização\n",
    "\n",
    "Ao final, os atributos dos pokémons do time ideal são visualizados em gráficos do tipo **radar plot**, permitindo comparar peso e altura entre os integrantes da equipe.\n",
    "\n",
    "---\n",
    "\n",
    "### Justificativa do Método\n",
    "\n",
    "O uso de algoritmos genéticos permite simular uma otimização multiobjetivo de forma simples e intuitiva. Apesar de não ser determinístico (pode gerar resultados diferentes a cada execução), ele é muito útil para problemas de **busca em espaço combinatório**, como a seleção ótima de pokémons em um conjunto com muitas possibilidades.\n",
    "\n",
    "---\n",
    "\n",
    "### Conclusão\n",
    "\n",
    "O time ideal gerado por este algoritmo apresenta:\n",
    "\n",
    "- Boa cobertura de tipos e fraquezas.\n",
    "- Equilíbrio nos atributos físicos.\n",
    "- Diversidade estratégica.\n",
    "\n",
    "Essa abordagem mostra como técnicas de Inteligência Artificial podem ser aplicadas para resolver problemas inspirados em jogos e tomadas de decisão complexas.\n"
   ]
  },
  {
   "cell_type": "markdown",
   "id": "25c6568d",
   "metadata": {},
   "source": [
    "# Etapas do processo"
   ]
  },
  {
   "cell_type": "markdown",
   "id": "f6955ed0",
   "metadata": {},
   "source": [
    "- **Inicialização e Clusterização por atributos de combate**"
   ]
  },
  {
   "cell_type": "code",
   "execution_count": 52,
   "id": "d5dec0ce",
   "metadata": {},
   "outputs": [
    {
     "data": {
      "text/html": [
       "<div>\n",
       "<style scoped>\n",
       "    .dataframe tbody tr th:only-of-type {\n",
       "        vertical-align: middle;\n",
       "    }\n",
       "\n",
       "    .dataframe tbody tr th {\n",
       "        vertical-align: top;\n",
       "    }\n",
       "\n",
       "    .dataframe thead th {\n",
       "        text-align: right;\n",
       "    }\n",
       "</style>\n",
       "<table border=\"1\" class=\"dataframe\">\n",
       "  <thead>\n",
       "    <tr style=\"text-align: right;\">\n",
       "      <th></th>\n",
       "      <th>name</th>\n",
       "      <th>combat_role</th>\n",
       "    </tr>\n",
       "  </thead>\n",
       "  <tbody>\n",
       "    <tr>\n",
       "      <th>0</th>\n",
       "      <td>bulbasaur</td>\n",
       "      <td>All-Rounder</td>\n",
       "    </tr>\n",
       "    <tr>\n",
       "      <th>1</th>\n",
       "      <td>ivysaur</td>\n",
       "      <td>Atacante Especial</td>\n",
       "    </tr>\n",
       "    <tr>\n",
       "      <th>2</th>\n",
       "      <td>venusaur</td>\n",
       "      <td>Atacante Físico</td>\n",
       "    </tr>\n",
       "    <tr>\n",
       "      <th>3</th>\n",
       "      <td>charmander</td>\n",
       "      <td>All-Rounder</td>\n",
       "    </tr>\n",
       "    <tr>\n",
       "      <th>4</th>\n",
       "      <td>charmeleon</td>\n",
       "      <td>Atacante Físico</td>\n",
       "    </tr>\n",
       "    <tr>\n",
       "      <th>5</th>\n",
       "      <td>charizard</td>\n",
       "      <td>Atacante Físico</td>\n",
       "    </tr>\n",
       "    <tr>\n",
       "      <th>6</th>\n",
       "      <td>squirtle</td>\n",
       "      <td>All-Rounder</td>\n",
       "    </tr>\n",
       "    <tr>\n",
       "      <th>7</th>\n",
       "      <td>wartortle</td>\n",
       "      <td>Atacante Especial</td>\n",
       "    </tr>\n",
       "    <tr>\n",
       "      <th>8</th>\n",
       "      <td>blastoise</td>\n",
       "      <td>Atacante Especial</td>\n",
       "    </tr>\n",
       "    <tr>\n",
       "      <th>9</th>\n",
       "      <td>caterpie</td>\n",
       "      <td>All-Rounder</td>\n",
       "    </tr>\n",
       "  </tbody>\n",
       "</table>\n",
       "</div>"
      ],
      "text/plain": [
       "         name        combat_role\n",
       "0   bulbasaur        All-Rounder\n",
       "1     ivysaur  Atacante Especial\n",
       "2    venusaur    Atacante Físico\n",
       "3  charmander        All-Rounder\n",
       "4  charmeleon    Atacante Físico\n",
       "5   charizard    Atacante Físico\n",
       "6    squirtle        All-Rounder\n",
       "7   wartortle  Atacante Especial\n",
       "8   blastoise  Atacante Especial\n",
       "9    caterpie        All-Rounder"
      ]
     },
     "execution_count": 52,
     "metadata": {},
     "output_type": "execute_result"
    }
   ],
   "source": [
    "from sklearn.cluster import KMeans\n",
    "from sklearn.preprocessing import StandardScaler\n",
    "import numpy as np\n",
    "import matplotlib.pyplot as plt\n",
    "\n",
    "df_cluster = basicdf.copy()\n",
    "\n",
    "# Clusterização por atributos de combate\n",
    "combat_features = ['attack', 'defense', 'sp_atk', 'sp_def', 'speed', 'hp']\n",
    "scaler = StandardScaler()\n",
    "combat_clusters = scaler.fit_transform(df_cluster[combat_features])\n",
    "kmeans = KMeans(n_clusters=4, random_state=42)\n",
    "df_cluster['combat_role'] = kmeans.fit_predict(combat_clusters)\n",
    "\n",
    "# Mapeamento dos clusters para os papéis de combate\n",
    "role_mapping = {\n",
    "    0: \"Atacante Físico\",\n",
    "    1: \"Atacante Especial\",\n",
    "    2: \"Tanque\",\n",
    "    3: \"All-Rounder\"\n",
    "}\n",
    "\n",
    "df_cluster['combat_role'] = df_cluster['combat_role'].map(role_mapping)\n",
    "\n",
    "# Impressão de exemplos do dataframe com os clusters de combate para cada pokemon\n",
    "df_cluster[['name', 'combat_role']].head(10)"
   ]
  },
  {
   "cell_type": "markdown",
   "id": "c305700a",
   "metadata": {},
   "source": [
    "Esta célula realiza a clusterização dos Pokémon com base em seus atributos de combate, para categorizar cada um em um papel tático (role) que será usado na montagem do time ideal.\n",
    "\n",
    "**Passos realizados:**\n",
    "\n",
    "1. **Cópia do DataFrame:**  \n",
    "   Cria-se uma cópia do DataFrame principal (`basicdf`) chamada `df_cluster` para não alterar os dados originais.\n",
    "\n",
    "2. **Seleção dos atributos de combate:**  \n",
    "   São escolhidas as colunas `['attack', 'defense', 'sp_atk', 'sp_def', 'speed', 'hp']` para representar o perfil de combate de cada Pokémon.\n",
    "\n",
    "3. **Padronização dos dados:**  \n",
    "   Os valores desses atributos são padronizados usando `StandardScaler`, garantindo que todos tenham média 0 e desvio padrão 1, o que é importante para a clusterização.\n",
    "\n",
    "4. **Clusterização KMeans:**  \n",
    "   Utiliza-se o algoritmo KMeans para dividir os Pokémon em 4 clusters (grupos), cada um representando um papel de combate diferente.\n",
    "\n",
    "5. **Mapeamento dos clusters para papéis táticos:**  \n",
    "   Cada cluster é associado a um papel:\n",
    "   - 0: Atacante Físico\n",
    "   - 1: Atacante Especial\n",
    "   - 2: Tanque\n",
    "   - 3: All-Rounder (equilibrado)\n",
    "\n",
    "6. **Atribuição do papel ao DataFrame:**  \n",
    "   O resultado da clusterização é salvo na coluna `combat_role` do DataFrame, já com o nome do papel correspondente.\n",
    "\n",
    "7. **Exemplo de saída:**  \n",
    "   Exibe as 10 primeiras linhas do DataFrame mostrando o nome do Pokémon e seu papel de combate."
   ]
  },
  {
   "cell_type": "markdown",
   "id": "b9afc63d",
   "metadata": {},
   "source": [
    "- **Criação da função de avaliação(Fitness)**"
   ]
  },
  {
   "cell_type": "code",
   "execution_count": 53,
   "id": "c3d0fe16",
   "metadata": {},
   "outputs": [],
   "source": [
    "def evaluate_team(team_indices, df):\n",
    "    team = df.iloc[team_indices]\n",
    "    \n",
    "    # 1. Diversidade de Tipos\n",
    "    unique_types = set()\n",
    "    for types in team['type']:\n",
    "        unique_types.update(types)\n",
    "    type_score = 2 * len(unique_types)\n",
    "    \n",
    "    # 2. Cobertura de Fraquezas\n",
    "    all_weaknesses = set()\n",
    "    covered_weaknesses = set()\n",
    "    for weaknesses in team['weakness']:\n",
    "        all_weaknesses.update(weaknesses)\n",
    "    \n",
    "    for weakness in all_weaknesses:\n",
    "        for _, member in team.iterrows():\n",
    "            if weakness not in member['weakness']:\n",
    "                covered_weaknesses.add(weakness)\n",
    "                break\n",
    "                \n",
    "    weakness_score = len(covered_weaknesses)\n",
    "    \n",
    "    # 3. Balanceamento de Roles\n",
    "    role_score = 1.5 * len(set(team['combat_role']))\n",
    "    \n",
    "    # 4. Penalidade por sobreposição de tipos\n",
    "    overlap_penalty = 0\n",
    "    type_counts = {}\n",
    "    for types in team['type']:\n",
    "        for t in types:\n",
    "            type_counts[t] = type_counts.get(t, 0) + 1\n",
    "    for t, count in type_counts.items():\n",
    "        if count > 2:\n",
    "            overlap_penalty += 2 * (count - 2)\n",
    "    \n",
    "    total_score = type_score + weakness_score + role_score - overlap_penalty\n",
    "    \n",
    "    return total_score,\n"
   ]
  },
  {
   "cell_type": "markdown",
   "id": "fa2400aa",
   "metadata": {},
   "source": [
    "Esta célula define a função `evaluate_team`, responsável por calcular a pontuação (fitness) de um time de Pokémon para o algoritmo genético. Ela avalia o quão \"bom\" é um time de acordo com critérios estratégicos. Veja como funciona cada parte:\n",
    "\n",
    "- **Parâmetros:**  \n",
    "  - `team_indices`: lista de índices dos Pokémon que compõem o time.\n",
    "  - `df`: DataFrame contendo os dados dos Pokémon.\n",
    "\n",
    "- **Processo de avaliação:**\n",
    "  1. **Diversidade de Tipos:**  \n",
    "     Soma 2 pontos para cada tipo único presente no time, incentivando variedade de tipos.\n",
    "  2. **Cobertura de Fraquezas:**  \n",
    "     Para cada fraqueza presente no time, verifica se há pelo menos um membro que não compartilha essa fraqueza (ou seja, pode cobri-la). Soma 1 ponto para cada fraqueza coberta.\n",
    "  3. **Balanceamento de Roles:**  \n",
    "     Soma 1.5 pontos para cada papel de combate (`combat_role`) diferente presente no time, incentivando diversidade tática.\n",
    "  4. **Penalidade por Sobreposição de Tipos:**  \n",
    "     Para cada tipo que aparece mais de duas vezes no time, aplica uma penalidade proporcional ao excesso, desestimulando times repetitivos.\n",
    "\n",
    "- **Retorno:**  \n",
    "  Retorna a pontuação total do time como uma tupla (exigência da biblioteca DEAP)."
   ]
  },
  {
   "cell_type": "markdown",
   "id": "2a2dd4f5",
   "metadata": {},
   "source": [
    "- **Criação do Algoritmo Genético**"
   ]
  },
  {
   "cell_type": "code",
   "execution_count": 54,
   "id": "d1711f13",
   "metadata": {},
   "outputs": [
    {
     "name": "stderr",
     "output_type": "stream",
     "text": [
      "c:\\Users\\joseg\\OneDrive\\Documentos\\PythonProjects\\pokemon-db-data-analysis\\venv\\Lib\\site-packages\\deap\\creator.py:185: RuntimeWarning: A class named 'FitnessMax' has already been created and it will be overwritten. Consider deleting previous creation of that class or rename it.\n",
      "  warnings.warn(\"A class named '{0}' has already been created and it \"\n",
      "c:\\Users\\joseg\\OneDrive\\Documentos\\PythonProjects\\pokemon-db-data-analysis\\venv\\Lib\\site-packages\\deap\\creator.py:185: RuntimeWarning: A class named 'Individual' has already been created and it will be overwritten. Consider deleting previous creation of that class or rename it.\n",
      "  warnings.warn(\"A class named '{0}' has already been created and it \"\n"
     ]
    }
   ],
   "source": [
    "from deap import base, creator, tools, algorithms\n",
    "import random\n",
    "\n",
    "# Configuração do Algoritmo Genético\n",
    "creator.create(\"FitnessMax\", base.Fitness, weights=(1.0,))\n",
    "creator.create(\"Individual\", list, fitness=creator.FitnessMax)\n",
    "\n",
    "toolbox = base.Toolbox()\n",
    "toolbox.register(\"indices\", random.sample, range(len(df_cluster)), 6)\n",
    "toolbox.register(\"individual\", tools.initIterate, creator.Individual, toolbox.indices)\n",
    "toolbox.register(\"population\", tools.initRepeat, list, toolbox.individual)\n",
    "\n",
    "toolbox.register(\"evaluate\", evaluate_team, df=df_cluster)\n",
    "toolbox.register(\"mate\", tools.cxTwoPoint)\n",
    "toolbox.register(\"mutate\", tools.mutUniformInt, low=0, up=len(df_cluster)-1, indpb=0.1)\n",
    "toolbox.register(\"select\", tools.selTournament, tournsize=3)\n",
    "\n",
    "pop = toolbox.population(n=50)"
   ]
  },
  {
   "cell_type": "markdown",
   "id": "3ca15413",
   "metadata": {},
   "source": [
    "Esta célula configura o algoritmo genético utilizando a biblioteca DEAP para buscar o time ideal de Pokémon.\n",
    "\n",
    "**Passos realizados:**\n",
    "\n",
    "1. **Importação das bibliotecas:**  \n",
    "   Importa os módulos necessários da DEAP e a biblioteca `random`.\n",
    "\n",
    "2. **Definição dos tipos de indivíduo e fitness:**  \n",
    "   - Cria uma classe de fitness para maximização (`FitnessMax`).\n",
    "   - Cria uma classe de indivíduo baseada em lista, associada ao fitness criado.\n",
    "\n",
    "3. **Configuração do toolbox:**  \n",
    "   - Define como gerar um indivíduo: seleciona aleatoriamente 6 índices de Pokémon do DataFrame `df_cluster`.\n",
    "   - Define como criar a população: repete o processo de criação de indivíduos.\n",
    "   - Registra as funções de avaliação (`evaluate_team`), cruzamento (`cxTwoPoint`), mutação (`mutUniformInt`) e seleção (`selTournament`).\n",
    "\n",
    "4. **Geração da população inicial:**  \n",
    "   Cria uma população de 50 times (indivíduos), cada um composto por 6 Pokémon aleatórios."
   ]
  },
  {
   "cell_type": "markdown",
   "id": "b1c50eb4",
   "metadata": {},
   "source": [
    "- **Análise da população inicial de pokemons escolhida aleatoriamente**"
   ]
  },
  {
   "cell_type": "code",
   "execution_count": 55,
   "id": "e0fed43d",
   "metadata": {},
   "outputs": [
    {
     "name": "stdout",
     "output_type": "stream",
     "text": [
      "\n",
      "=== ANÁLISE DA POPULAÇÃO INICIAL (50 indivíduos) ===\n",
      "\n",
      "Exemplos de 5 times iniciais:\n",
      "\n",
      "Time 1:\n",
      "|     | name        | type                 | combat_role     |\n",
      "|----:|:------------|:---------------------|:----------------|\n",
      "| 989 | iron treads | ['ground', 'steel']  | Tanque          |\n",
      "| 767 | golisopod   | ['bug', 'water']     | Tanque          |\n",
      "| 965 | revavroom   | ['steel', 'poison']  | Tanque          |\n",
      "| 383 | rayquaza    | ['dragon', 'flying'] | Atacante Físico |\n",
      "| 630 | heatmor     | ['fire']             | Atacante Físico |\n",
      "|   2 | venusaur    | ['grass', 'poison']  | Atacante Físico |\n",
      "Score: 32.0\n",
      "\n",
      "Time 2:\n",
      "|     | name       | type                 | combat_role       |\n",
      "|----:|:-----------|:---------------------|:------------------|\n",
      "| 944 | grafaiai   | ['poison', 'normal'] | Atacante Físico   |\n",
      "| 563 | tirtouga   | ['water', 'rock']    | All-Rounder       |\n",
      "| 238 | elekid     | ['electric']         | All-Rounder       |\n",
      "| 829 | eldegoss   | ['grass']            | Atacante Especial |\n",
      "| 588 | escavalier | ['bug', 'steel']     | Tanque            |\n",
      "| 128 | magikarp   | ['water']            | All-Rounder       |\n",
      "Score: 32.0\n",
      "\n",
      "Time 3:\n",
      "|     | name      | type                | combat_role       |\n",
      "|----:|:----------|:--------------------|:------------------|\n",
      "| 165 | ledian    | ['bug', 'flying']   | All-Rounder       |\n",
      "| 388 | torterra  | ['grass', 'ground'] | Tanque            |\n",
      "| 151 | chikorita | ['grass']           | All-Rounder       |\n",
      "| 385 | deoxys    | ['psychic']         | Atacante Físico   |\n",
      "|  85 | seel      | ['water']           | All-Rounder       |\n",
      "| 706 | klefki    | ['steel', 'fairy']  | Atacante Especial |\n",
      "Score: 33.0\n",
      "\n",
      "Time 4:\n",
      "|     | name        | type                 | combat_role       |\n",
      "|----:|:------------|:---------------------|:------------------|\n",
      "| 858 | impidimp    | ['dark', 'fairy']    | All-Rounder       |\n",
      "| 743 | rockruff    | ['rock']             | All-Rounder       |\n",
      "| 989 | iron treads | ['ground', 'steel']  | Tanque            |\n",
      "| 842 | silicobra   | ['ground']           | All-Rounder       |\n",
      "| 730 | pikipek     | ['normal', 'flying'] | All-Rounder       |\n",
      "| 351 | kecleon     | ['normal']           | Atacante Especial |\n",
      "Score: 29.5\n",
      "\n",
      "Time 5:\n",
      "|     | name      | type                   | combat_role     |\n",
      "|----:|:----------|:-----------------------|:----------------|\n",
      "| 382 | groudon   | ['ground']             | Tanque          |\n",
      "|  95 | drowzee   | ['psychic']            | All-Rounder     |\n",
      "| 144 | zapdos    | ['electric', 'flying'] | Atacante Físico |\n",
      "|  26 | sandshrew | ['ground']             | All-Rounder     |\n",
      "| 887 | zacian    | ['fairy']              | Atacante Físico |\n",
      "| 731 | trumbeak  | ['normal', 'flying']   | All-Rounder     |\n",
      "Score: 26.5\n",
      "\n",
      "● Distribuição geral de roles:\n",
      "All-Rounder          118\n",
      "Tanque                72\n",
      "Atacante Físico       59\n",
      "Atacante Especial     51\n",
      "Name: count, dtype: int64\n",
      "\n",
      "● Média de tipos únicos por time: 7.18\n",
      "● Média de fraquezas cobertas por time: 11.68\n"
     ]
    }
   ],
   "source": [
    "def analyze_population(population, df, n_samples=5):\n",
    "    print(f\"\\n=== ANÁLISE DA POPULAÇÃO INICIAL ({len(population)} indivíduos) ===\")\n",
    "    \n",
    "    # Mostrar alguns exemplos\n",
    "    print(f\"\\nExemplos de {n_samples} times iniciais:\")\n",
    "    for i in range(min(n_samples, len(population))):\n",
    "        team = df.iloc[population[i]]\n",
    "        print(f\"\\nTime {i+1}:\")\n",
    "        print(team[['name', 'type', 'combat_role']].to_markdown())\n",
    "        print(\"Score:\", evaluate_team(population[i], df)[0])\n",
    "    \n",
    "    # Estatísticas da população\n",
    "    roles_dist = []\n",
    "    type_counts = []\n",
    "    weakness_coverage = []\n",
    "    \n",
    "    for ind in population:\n",
    "        team = df.iloc[ind]\n",
    "        roles_dist.extend(team['combat_role'].tolist())\n",
    "        type_counts.append(len(set().union(*team['type'])))\n",
    "        \n",
    "        weaknesses = set().union(*team['weakness'])\n",
    "        covered = sum(1 for w in weaknesses \n",
    "                     if any(w not in m_weak for m_weak in team['weakness']))\n",
    "        weakness_coverage.append(covered)\n",
    "    \n",
    "    print(\"\\n● Distribuição geral de roles:\")\n",
    "    print(pd.Series(roles_dist).value_counts())\n",
    "    \n",
    "    print(\"\\n● Média de tipos únicos por time:\", np.mean(type_counts))\n",
    "    print(\"● Média de fraquezas cobertas por time:\", np.mean(weakness_coverage))\n",
    "\n",
    "analyze_population(pop, df_cluster)"
   ]
  },
  {
   "cell_type": "markdown",
   "id": "539df104",
   "metadata": {},
   "source": [
    "Esta célula define e executa a função `analyze_population`, que faz uma análise exploratória da população inicial de times gerados aleatoriamente pelo algoritmo genético.\n",
    "\n",
    "**O que a função faz:**\n",
    "\n",
    "1. **Exibe exemplos de times:**  \n",
    "   Mostra detalhes de alguns times iniciais (nome, tipos e papel de combate de cada Pokémon), além da pontuação (score) de cada time segundo a função de avaliação.\n",
    "\n",
    "2. **Estatísticas da população:**  \n",
    "   - **Distribuição de roles:** Conta quantos papéis de combate (roles) aparecem na população total.\n",
    "   - **Média de tipos únicos por time:** Calcula a média de tipos diferentes presentes em cada time.\n",
    "   - **Média de fraquezas cobertas por time:** Mede, em média, quantas fraquezas são cobertas dentro dos times.\n"
   ]
  },
  {
   "cell_type": "markdown",
   "id": "90d99f4a",
   "metadata": {},
   "source": [
    "- **Execução**"
   ]
  },
  {
   "cell_type": "code",
   "execution_count": 56,
   "id": "1e7640a8",
   "metadata": {},
   "outputs": [
    {
     "name": "stdout",
     "output_type": "stream",
     "text": [
      "gen\tnevals\tavg  \tmax\n",
      "0  \t50    \t30.16\t43 \n",
      "1  \t36    \t34.07\t43 \n",
      "2  \t48    \t34.4 \t43 \n",
      "3  \t44    \t36.67\t43 \n",
      "4  \t39    \t39.05\t43 \n",
      "5  \t39    \t40.81\t43 \n",
      "6  \t41    \t41.97\t43 \n",
      "7  \t40    \t42.62\t43 \n",
      "8  \t33    \t42.84\t43 \n",
      "9  \t38    \t42.6 \t43 \n",
      "10 \t40    \t42.52\t45 \n",
      "11 \t41    \t42.81\t45 \n",
      "12 \t38    \t42.6 \t45 \n",
      "13 \t37    \t42.99\t45 \n",
      "14 \t37    \t42.98\t45 \n",
      "15 \t40    \t42.64\t45 \n",
      "16 \t39    \t43.39\t45 \n",
      "17 \t36    \t43.89\t45 \n",
      "18 \t40    \t44.04\t45 \n",
      "19 \t41    \t44.52\t45 \n",
      "20 \t30    \t44.3 \t45 \n",
      "21 \t43    \t44.55\t45 \n",
      "22 \t36    \t44.51\t45 \n",
      "23 \t32    \t44.75\t45 \n",
      "24 \t40    \t44.62\t45 \n",
      "25 \t40    \t44.61\t45 \n",
      "26 \t44    \t44.5 \t45 \n",
      "27 \t34    \t44.44\t45 \n",
      "28 \t39    \t44.55\t45 \n",
      "29 \t34    \t44.96\t45 \n",
      "30 \t35    \t44.79\t47 \n",
      "31 \t38    \t44.77\t47 \n",
      "32 \t37    \t44.47\t47 \n",
      "33 \t42    \t44.63\t47 \n",
      "34 \t31    \t45.46\t47 \n",
      "35 \t39    \t45.95\t47 \n",
      "36 \t40    \t46.64\t47 \n",
      "37 \t39    \t46.81\t47 \n",
      "38 \t38    \t46.43\t47 \n",
      "39 \t45    \t46.74\t47 \n",
      "40 \t40    \t46.28\t47 \n",
      "41 \t43    \t45.72\t47 \n",
      "42 \t38    \t46.4 \t47 \n",
      "43 \t40    \t46.82\t47 \n",
      "44 \t31    \t46.85\t47 \n",
      "45 \t44    \t46.68\t47 \n",
      "46 \t38    \t46.17\t47 \n",
      "47 \t27    \t46.65\t47 \n",
      "48 \t44    \t45.84\t47 \n",
      "49 \t42    \t46.49\t47 \n",
      "50 \t37    \t46.31\t47 \n"
     ]
    }
   ],
   "source": [
    "# Execução\n",
    "hof = tools.HallOfFame(1)\n",
    "stats = tools.Statistics(lambda ind: ind.fitness.values)\n",
    "stats.register(\"avg\", np.mean)\n",
    "stats.register(\"max\", np.max)\n",
    "\n",
    "result, log = algorithms.eaSimple(\n",
    "    pop, toolbox, cxpb=0.7, mutpb=0.2, ngen=50,\n",
    "    stats=stats, halloffame=hof, verbose=True\n",
    ")\n"
   ]
  },
  {
   "cell_type": "markdown",
   "id": "780e7faf",
   "metadata": {},
   "source": [
    "Esta célula executa o processo evolutivo do algoritmo genético para encontrar o time ideal de Pokémon.\n",
    "\n",
    "**Passos realizados:**\n",
    "\n",
    "1. **Criação do Hall of Fame:**  \n",
    "   Um objeto `HallOfFame` é criado para armazenar o melhor indivíduo (time) encontrado durante a evolução.\n",
    "\n",
    "2. **Configuração das estatísticas:**  \n",
    "   Um objeto `Statistics` é configurado para registrar a média (`avg`) e o valor máximo (`max`) do fitness da população a cada geração.\n",
    "\n",
    "3. **Execução do algoritmo genético:**  \n",
    "   A função `algorithms.eaSimple` executa o ciclo evolutivo por 50 gerações, aplicando cruzamento, mutação, avaliação e seleção, enquanto registra as estatísticas e atualiza o Hall of Fame."
   ]
  },
  {
   "cell_type": "markdown",
   "id": "638653e8",
   "metadata": {},
   "source": [
    "- **Resultados**"
   ]
  },
  {
   "cell_type": "code",
   "execution_count": 57,
   "id": "1bc6a40a",
   "metadata": {},
   "outputs": [
    {
     "name": "stdout",
     "output_type": "stream",
     "text": [
      "=== MELHOR TIME ===\n",
      "|     | name     | type                  | weakness                                              | combat_role       |\n",
      "|----:|:---------|:----------------------|:------------------------------------------------------|:------------------|\n",
      "| 167 | ariados  | ['bug', 'poison']     | ['fire', 'flying', 'psychic', 'rock']                 | Tanque            |\n",
      "| 219 | swinub   | ['ice', 'ground']     | ['fire', 'water', 'grass', 'fighting', 'steel']       | All-Rounder       |\n",
      "| 276 | swellow  | ['normal', 'flying']  | ['electric', 'ice', 'rock']                           | Atacante Físico   |\n",
      "| 374 | metang   | ['steel', 'psychic']  | ['fire', 'ground', 'ghost', 'dark']                   | Atacante Especial |\n",
      "| 646 | keldeo   | ['water', 'fighting'] | ['grass', 'electric', 'flying', 'psychic', 'fairy']   | Atacante Físico   |\n",
      "| 841 | appletun | ['grass', 'dragon']   | ['ice', 'poison', 'flying', 'bug', 'dragon', 'fairy'] | Atacante Especial |\n",
      "\n",
      "Tipos únicos: 12\n",
      "Fraquezas cobertas: 17\n",
      "Distribuição de roles:\n",
      "combat_role\n",
      "Atacante Especial    2\n",
      "Atacante Físico      2\n",
      "All-Rounder          1\n",
      "Tanque               1\n",
      "Name: count, dtype: int64\n"
     ]
    },
    {
     "data": {
      "image/png": "[encoded data removed]",
      "text/plain": [
       "<Figure size 800x800 with 1 Axes>"
      ]
     },
     "metadata": {},
     "output_type": "display_data"
    }
   ],
   "source": [
    "# Resultados\n",
    "best_team = df_cluster.iloc[hof[0]]\n",
    "print(\"=== MELHOR TIME ===\")\n",
    "print(best_team[['name', 'type', 'weakness', 'combat_role']].to_markdown())\n",
    "\n",
    "# Análise\n",
    "print(f\"\\nTipos únicos: {len(set().union(*best_team['type']))}\")\n",
    "print(f\"Fraquezas cobertas: {len(set().union(*best_team['weakness']))}\")\n",
    "print(\"Distribuição de roles:\")\n",
    "print(best_team['combat_role'].value_counts())\n",
    "\n",
    "# Visualização\n",
    "attributes = ['attack','defense','sp_atk','sp_def','speed','hp']\n",
    "team_stats = best_team[attributes].values\n",
    "team_stats_normalized = team_stats / team_stats.max(axis=0)\n",
    "\n",
    "angles = np.linspace(0, 2*np.pi, len(attributes), endpoint=False).tolist()\n",
    "angles += angles[:1]\n",
    "\n",
    "fig, ax = plt.subplots(figsize=(8,8), subplot_kw={'polar': True})\n",
    "for i in range(len(best_team)):\n",
    "    values = team_stats_normalized[i].tolist()\n",
    "    values += values[:1]\n",
    "    ax.plot(angles, values, label=best_team.iloc[i]['name'])\n",
    "    ax.fill(angles, values, alpha=0.1)\n",
    "\n",
    "ax.set_xticks(angles[:-1])\n",
    "ax.set_xticklabels(attributes)\n",
    "ax.set_title('Atributos do Time', pad=20)\n",
    "ax.legend(bbox_to_anchor=(1.3, 1))\n",
    "plt.show()"
   ]
  },
  {
   "cell_type": "markdown",
   "id": "e77cbe86",
   "metadata": {},
   "source": [
    "Esta célula apresenta e analisa o melhor time de Pokémon encontrado pelo algoritmo genético após o processo evolutivo.\n",
    "\n",
    "**O que é exibido:**\n",
    "\n",
    "1. **Melhor time:**  \n",
    "   Mostra uma tabela com os nomes, tipos, fraquezas e papéis de combate dos 6 Pokémon selecionados como o time ideal.\n",
    "\n",
    "2. **Análise do time:**  \n",
    "   - Quantidade de tipos únicos presentes no time.\n",
    "   - Quantidade de fraquezas cobertas.\n",
    "   - Distribuição dos papéis de combate (roles) entre os membros do time.\n",
    "\n",
    "3. **Visualização dos atributos:**  \n",
    "   Gera um gráfico radar (radar plot) comparando os principais atributos de combate (`attack`, `defense`, `sp_atk`, `sp_def`, `speed`, `hp`) dos integrantes do time, permitindo visualizar o equilíbrio e a diversidade dos Pokémon escolhidos.\n"
   ]
  }
 ],
 "metadata": {
  "kernelspec": {
   "display_name": "venv",
   "language": "python",
   "name": "python3"
  },
  "language_info": {
   "codemirror_mode": {
    "name": "ipython",
    "version": 3
   },
   "file_extension": ".py",
   "mimetype": "text/x-python",
   "name": "python",
   "nbconvert_exporter": "python",
   "pygments_lexer": "ipython3",
   "version": "3.12.2"
  }
 },
 "nbformat": 4,
 "nbformat_minor": 5
}
