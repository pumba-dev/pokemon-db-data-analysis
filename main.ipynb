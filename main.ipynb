{
 "cells": [
  {
   "cell_type": "markdown",
   "id": "3415ba3d",
   "metadata": {},
   "source": [
    "# POKEMON DATABASE - DATA ANALYSIS\n",
    "\n",
    "> Neste notebook, vamos explorar e analisar uma base de dados completa de Pokémon, extraída de fontes públicas e enriquecida com informações adicionais, como atributos de batalha, habilidades, fraquezas e locais de captura.\n",
    "\n",
    "O objetivo deste trabalho é aplicar técnicas de análise de dados para responder perguntas relevantes, identificar padrões, tendências e insights que possam ser úteis para jogadores, pesquisadores ou entusiastas do universo Pokémon.\n",
    "\n",
    "Ao longo do notebook, você encontrará:\n",
    "- Bibliotecas utilizadas\n",
    "- Extração, limpeza e preparação dos dados \n",
    "- Dicionário de dados\n",
    "- Análise de qualidade e exploratória dos dados\n",
    "- Visualizações para facilitar a compreensão dos dados\n",
    "- Descoberta de relações entre tipos, habilidades, fraquezas e desempenho\n",
    "- Insights sobre distribuição, raridade e características marcantes dos Pokémon"
   ]
  },
  {
   "cell_type": "markdown",
   "id": "7bd7014b",
   "metadata": {},
   "source": [
    "## Bibliotecas Utilizadas\n"
   ]
  },
  {
   "cell_type": "markdown",
   "id": "d217a665",
   "metadata": {},
   "source": [
    "Para realizar a análise e manipulação dos dados neste notebook, utilizamos as seguintes bibliotecas Python:\n",
    "\n",
    "- **pandas**  \n",
    "  Utilizada para manipulação, limpeza e análise de dados em formato tabular (DataFrames). É a principal biblioteca para análise de dados estruturados em Python.\n",
    "\n",
    "- **beautifulsoup4**  \n",
    "  Usada para fazer parsing e extração de informações de arquivos HTML, permitindo coletar dados de páginas web de forma eficiente.\n",
    "\n",
    "- **requests**  \n",
    "  Permite realizar requisições HTTP para acessar APIs e baixar dados diretamente da internet, como a PokeAPI.\n",
    "\n",
    "- **plotly**  \n",
    "  Biblioteca para criação de visualizações interativas e dinâmicas, como gráficos e tabelas, facilitando a exploração visual dos dados.\n",
    "\n",
    "- **nbformat**  \n",
    "  Necessária para o funcionamento correto de notebooks Jupyter, especialmente para renderização de gráficos interativos (como os do Plotly) dentro do ambiente do notebook.\n"
   ]
  },
  {
   "cell_type": "code",
   "execution_count": 1,
   "id": "c49b49bd",
   "metadata": {},
   "outputs": [
    {
     "name": "stdout",
     "output_type": "stream",
     "text": [
      "Requirement already satisfied: pandas in c:\\users\\eduar\\appdata\\local\\programs\\python\\python312\\lib\\site-packages (2.3.0)\n",
      "Requirement already satisfied: numpy>=1.26.0 in c:\\users\\eduar\\appdata\\local\\programs\\python\\python312\\lib\\site-packages (from pandas) (2.0.0)\n",
      "Requirement already satisfied: python-dateutil>=2.8.2 in c:\\users\\eduar\\appdata\\roaming\\python\\python312\\site-packages (from pandas) (2.9.0.post0)\n",
      "Requirement already satisfied: pytz>=2020.1 in c:\\users\\eduar\\appdata\\local\\programs\\python\\python312\\lib\\site-packages (from pandas) (2025.2)\n",
      "Requirement already satisfied: tzdata>=2022.7 in c:\\users\\eduar\\appdata\\local\\programs\\python\\python312\\lib\\site-packages (from pandas) (2025.2)\n",
      "Requirement already satisfied: six>=1.5 in c:\\users\\eduar\\appdata\\local\\programs\\python\\python312\\lib\\site-packages (from python-dateutil>=2.8.2->pandas) (1.16.0)\n",
      "Note: you may need to restart the kernel to use updated packages.\n",
      "Requirement already satisfied: beautifulsoup4 in c:\\users\\eduar\\appdata\\local\\programs\\python\\python312\\lib\\site-packages (4.13.4)\n",
      "Requirement already satisfied: soupsieve>1.2 in c:\\users\\eduar\\appdata\\local\\programs\\python\\python312\\lib\\site-packages (from beautifulsoup4) (2.7)\n",
      "Requirement already satisfied: typing-extensions>=4.0.0 in c:\\users\\eduar\\appdata\\local\\programs\\python\\python312\\lib\\site-packages (from beautifulsoup4) (4.12.2)\n",
      "Note: you may need to restart the kernel to use updated packages.\n",
      "Requirement already satisfied: requests in c:\\users\\eduar\\appdata\\local\\programs\\python\\python312\\lib\\site-packages (2.32.3)\n",
      "Requirement already satisfied: charset-normalizer<4,>=2 in c:\\users\\eduar\\appdata\\local\\programs\\python\\python312\\lib\\site-packages (from requests) (3.4.1)\n",
      "Requirement already satisfied: idna<4,>=2.5 in c:\\users\\eduar\\appdata\\local\\programs\\python\\python312\\lib\\site-packages (from requests) (3.10)\n",
      "Requirement already satisfied: urllib3<3,>=1.21.1 in c:\\users\\eduar\\appdata\\local\\programs\\python\\python312\\lib\\site-packages (from requests) (2.4.0)\n",
      "Requirement already satisfied: certifi>=2017.4.17 in c:\\users\\eduar\\appdata\\local\\programs\\python\\python312\\lib\\site-packages (from requests) (2024.8.30)\n",
      "Note: you may need to restart the kernel to use updated packages.\n",
      "Requirement already satisfied: plotly in c:\\users\\eduar\\appdata\\local\\programs\\python\\python312\\lib\\site-packages (6.1.2)\n",
      "Requirement already satisfied: narwhals>=1.15.1 in c:\\users\\eduar\\appdata\\local\\programs\\python\\python312\\lib\\site-packages (from plotly) (1.43.1)\n",
      "Requirement already satisfied: packaging in c:\\users\\eduar\\appdata\\local\\programs\\python\\python312\\lib\\site-packages (from plotly) (24.1)\n",
      "Note: you may need to restart the kernel to use updated packages.\n",
      "Requirement already satisfied: nbformat in c:\\users\\eduar\\appdata\\local\\programs\\python\\python312\\lib\\site-packages (5.10.4)\n",
      "Requirement already satisfied: fastjsonschema>=2.15 in c:\\users\\eduar\\appdata\\local\\programs\\python\\python312\\lib\\site-packages (from nbformat) (2.21.1)\n",
      "Requirement already satisfied: jsonschema>=2.6 in c:\\users\\eduar\\appdata\\local\\programs\\python\\python312\\lib\\site-packages (from nbformat) (4.24.0)\n",
      "Requirement already satisfied: jupyter-core!=5.0.*,>=4.12 in c:\\users\\eduar\\appdata\\roaming\\python\\python312\\site-packages (from nbformat) (5.8.1)\n",
      "Requirement already satisfied: traitlets>=5.1 in c:\\users\\eduar\\appdata\\roaming\\python\\python312\\site-packages (from nbformat) (5.14.3)\n",
      "Requirement already satisfied: attrs>=22.2.0 in c:\\users\\eduar\\appdata\\local\\programs\\python\\python312\\lib\\site-packages (from jsonschema>=2.6->nbformat) (25.3.0)\n",
      "Requirement already satisfied: jsonschema-specifications>=2023.03.6 in c:\\users\\eduar\\appdata\\local\\programs\\python\\python312\\lib\\site-packages (from jsonschema>=2.6->nbformat) (2025.4.1)\n",
      "Requirement already satisfied: referencing>=0.28.4 in c:\\users\\eduar\\appdata\\local\\programs\\python\\python312\\lib\\site-packages (from jsonschema>=2.6->nbformat) (0.36.2)\n",
      "Requirement already satisfied: rpds-py>=0.7.1 in c:\\users\\eduar\\appdata\\local\\programs\\python\\python312\\lib\\site-packages (from jsonschema>=2.6->nbformat) (0.25.1)\n",
      "Requirement already satisfied: platformdirs>=2.5 in c:\\users\\eduar\\appdata\\roaming\\python\\python312\\site-packages (from jupyter-core!=5.0.*,>=4.12->nbformat) (4.3.8)\n",
      "Requirement already satisfied: pywin32>=300 in c:\\users\\eduar\\appdata\\local\\programs\\python\\python312\\lib\\site-packages (from jupyter-core!=5.0.*,>=4.12->nbformat) (306)\n",
      "Requirement already satisfied: typing-extensions>=4.4.0 in c:\\users\\eduar\\appdata\\local\\programs\\python\\python312\\lib\\site-packages (from referencing>=0.28.4->jsonschema>=2.6->nbformat) (4.12.2)\n",
      "Note: you may need to restart the kernel to use updated packages.\n"
     ]
    }
   ],
   "source": [
    "%pip install pandas\n",
    "%pip install beautifulsoup4\n",
    "%pip install requests\n",
    "%pip install plotly\n",
    "%pip install nbformat"
   ]
  },
  {
   "cell_type": "markdown",
   "id": "197e7927",
   "metadata": {},
   "source": [
    "## Extração, Limpeza e Preparação dos Dados"
   ]
  },
  {
   "cell_type": "markdown",
   "id": "041b702d",
   "metadata": {},
   "source": [
    "O processo de construção da base de dados utilizada nesta análise envolveu diversas etapas de extração, enriquecimento e preparação dos dados, conforme descrito abaixo:\n",
    "\n",
    "- **Extração Inicial:**  \n",
    "  A base principal de Pokémon foi extraída do site oficial [Pokédex Pokémon](https://www.pokemon.com/br/pokedex), contendo informações básicas de cada espécie.\n",
    "\n",
    "- **Enriquecimento com Localização de Captura:**  \n",
    "  Utilizou-se a [PokeAPI](https://pokeapi.co/) para complementar a base, adicionando as localizações de captura de cada Pokémon, tornando a análise mais rica e detalhada.\n",
    "\n",
    "- **Resgate de Dados de Status:**  \n",
    "  Os dados de status dos Pokémon (HP, Attack, Defense, Sp. Attack, Sp. Defense e Speed) foram extraídos do site [Pokémon Database](https://pokemondb.net/pokedex/all) utilizando a biblioteca BeautifulSoup para leitura do HTML.  \n",
    "  - Para Pokémon com diferentes formas, foi considerado o status da forma padrão/normal.\n",
    "\n",
    "- **Normalização dos valores:**  \n",
    "  Para garantir a consistência e facilitar a análise, os valores numéricos de altura (`height`) e peso (`weight`) dos Pokémon foram convertidos para o tipo `float`, representando metros e quilogramas, respectivamente. Além disso, todos os nomes, tipos, habilidades e fraquezas foram padronizados para letras minúsculas, evitando duplicidade de categorias devido a diferenças de capitalização.\n",
    "\n",
    "- **Codificação de Dados Categóricos:**  \n",
    "  Para lidar com atributos que possuem múltiplos valores (como habilidades, tipos, fraquezas e locais de captura), foi aplicada a técnica de One Hot Encoding, facilitando a análise e a modelagem dos dados.\n",
    "\n",
    "Essas etapas garantem uma base de dados consolidada, limpa e pronta para análises mais profundas e visualizações"
   ]
  },
  {
   "cell_type": "code",
   "execution_count": 2,
   "id": "07c06187",
   "metadata": {},
   "outputs": [
    {
     "name": "stdout",
     "output_type": "stream",
     "text": [
      "Tamanho do DataFrame: (1025, 14)\n",
      "Colunas do DataFrame: ['abilities', 'detailPageURL', 'weight', 'weakness', 'number', 'height', 'collectibles_slug', 'featured', 'slug', 'name', 'ThumbnailAltText', 'ThumbnailImage', 'id', 'type']\n"
     ]
    }
   ],
   "source": [
    "import json\n",
    "import pandas as pd\n",
    "\n",
    "# Ler o JSON extraindo do site oficial da pokedex\n",
    "with open('./assets/pokedex-db.json', \"r\", encoding=\"utf-8\") as f:\n",
    "    pokedex_data = json.load(f)\n",
    "\n",
    "# Converter para DataFrame\n",
    "df = pd.DataFrame(pokedex_data)\n",
    "\n",
    "print(f\"Tamanho do DataFrame: {df.shape}\")\n",
    "print(f\"Colunas do DataFrame: {df.columns.tolist()}\")"
   ]
  },
  {
   "cell_type": "code",
   "execution_count": 3,
   "id": "14b36020",
   "metadata": {},
   "outputs": [
    {
     "name": "stdout",
     "output_type": "stream",
     "text": [
      "Tamanho do DataFrame após remoção de colunas: (1025, 7)\n",
      "\n",
      "\n",
      "    abilities  weight                      weakness  height        name  id  \\\n",
      "0  [overgrow]     6.9  [fire, ice, flying, psychic]     0.7   bulbasaur   1   \n",
      "1  [overgrow]    13.0  [fire, ice, flying, psychic]     1.0     ivysaur   2   \n",
      "2  [overgrow]   100.0  [fire, ice, flying, psychic]     2.0    venusaur   3   \n",
      "3     [blaze]     8.5         [water, ground, rock]     0.6  charmander   4   \n",
      "4     [blaze]    19.0         [water, ground, rock]     1.1  charmeleon   5   \n",
      "\n",
      "              type  \n",
      "0  [grass, poison]  \n",
      "1  [grass, poison]  \n",
      "2  [grass, poison]  \n",
      "3           [fire]  \n",
      "4           [fire]  \n"
     ]
    }
   ],
   "source": [
    "\n",
    "# Removendo colunas desnecessárias se existirem\n",
    "if 'number' in df.columns:\n",
    "    df.drop(columns=['number'], inplace=True)\n",
    "if 'detailPageURL' in df.columns:\n",
    "    df.drop(columns=['detailPageURL'], inplace=True)\n",
    "if 'collectibles_slug' in df.columns:\n",
    "    df.drop(columns=['collectibles_slug'], inplace=True)\n",
    "if 'featured' in df.columns:\n",
    "    df.drop(columns=['featured'], inplace=True)\n",
    "if 'slug' in df.columns:\n",
    "    df.drop(columns=['slug'], inplace=True)\n",
    "if 'ThumbnailAltText' in df.columns:\n",
    "    df.drop(columns=['ThumbnailAltText'], inplace=True)\n",
    "if 'ThumbnailImage' in df.columns:\n",
    "    df.drop(columns=['ThumbnailImage'], inplace=True)\n",
    "    \n",
    "# Converter valores das colunas de tipo string para minusculo\n",
    "df['name'] = df['name'].str.lower()\n",
    "for col in ['type', 'abilities', 'weakness']:\n",
    "    df[col] = df[col].apply(lambda x: [i.lower() for i in x] if isinstance(x, list) else x)\n",
    "     \n",
    "print(f\"Tamanho do DataFrame após remoção de colunas: {df.shape}\\n\\n\")\n",
    "print(df.head(5))\n",
    "        "
   ]
  },
  {
   "cell_type": "code",
   "execution_count": 4,
   "id": "9803c4a1",
   "metadata": {},
   "outputs": [
    {
     "name": "stdout",
     "output_type": "stream",
     "text": [
      "Tamanho do DataFrame após atualização: (1025, 14)\n",
      "\n",
      "\n",
      "   id        name             type  height  weight  attack  defense    hp  \\\n",
      "0   1   bulbasaur  [grass, poison]     0.7     6.9    49.0     49.0  45.0   \n",
      "1   2     ivysaur  [grass, poison]     1.0    13.0    62.0     63.0  60.0   \n",
      "2   3    venusaur  [grass, poison]     2.0   100.0    82.0     83.0  80.0   \n",
      "3   4  charmander           [fire]     0.6     8.5    52.0     43.0  39.0   \n",
      "4   5  charmeleon           [fire]     1.1    19.0    64.0     58.0  58.0   \n",
      "\n",
      "   sp_atk  sp_def  speed  total   abilities                      weakness  \n",
      "0    65.0    65.0   45.0  318.0  [overgrow]  [fire, ice, flying, psychic]  \n",
      "1    80.0    80.0   60.0  405.0  [overgrow]  [fire, ice, flying, psychic]  \n",
      "2   100.0   100.0   80.0  525.0  [overgrow]  [fire, ice, flying, psychic]  \n",
      "3    60.0    50.0   65.0  309.0     [blaze]         [water, ground, rock]  \n",
      "4    80.0    65.0   80.0  405.0     [blaze]         [water, ground, rock]  \n"
     ]
    }
   ],
   "source": [
    "from bs4 import BeautifulSoup\n",
    "import json\n",
    "\n",
    "# Abra e leia o arquivo HTML\n",
    "with open('./assets/pokemondb-net.html', 'r', encoding='utf-8') as f:\n",
    "    html = f.read()\n",
    "\n",
    "soup = BeautifulSoup(html, 'html.parser')\n",
    "\n",
    "# Encontre a tabela com id=\"pokedex\"\n",
    "table = soup.find('table', {'id': 'pokedex'})\n",
    "\n",
    "# Pegue o cabeçalho da tabela\n",
    "headers = [th.get_text(strip=True) for th in table.find('thead').find_all('th')]\n",
    "\n",
    "# Descubra o índice da coluna 'Type'\n",
    "type_index = headers.index('Type')\n",
    "\n",
    "# Remova 'Type' dos headers\n",
    "headers.pop(type_index)\n",
    "\n",
    "# Extraia os dados das linhas\n",
    "data = []\n",
    "for row in table.find('tbody').find_all('tr'):\n",
    "    cols = row.find_all('td')\n",
    "    if not cols:\n",
    "        continue\n",
    "\n",
    "    # Extrai os textos das colunas, exceto 'Type'\n",
    "    col_texts = [td.get_text(strip=True) for td in cols]\n",
    "    col_texts.pop(type_index)\n",
    "\n",
    "    # Tratamento especial para a coluna 'Name'\n",
    "    name_td = cols[headers.index('Name')]\n",
    "    name_a = name_td.find('a')\n",
    "    name = name_a.get_text(strip=True) if name_a else name_td.get_text(strip=True)\n",
    "    form_small = name_td.find('small')\n",
    "    form = form_small.get_text(strip=True) if form_small else None\n",
    "\n",
    "    # Substitui o valor da coluna 'Name' pelo nome extraído\n",
    "    col_texts[headers.index('Name')] = name\n",
    "\n",
    "    # Cria o dicionário\n",
    "    item = dict(zip(headers, col_texts))\n",
    "    if form:\n",
    "        item['form'] = form\n",
    "    data.append(item)\n",
    "    \n",
    "# Remover os pokemons repetidos mantendo apenas o que primeiro aparece na lista\n",
    "unique_data = []\n",
    "seen_ids = set()\n",
    "for item in data:\n",
    "    poke_id = item.get(\"#\")\n",
    "    if poke_id and poke_id not in seen_ids:\n",
    "        unique_data.append(item)\n",
    "        seen_ids.add(poke_id)\n",
    " \n",
    "# Salvar em um arquivo JSON\n",
    "with open('./outputs/pokemon-stats-db.json', 'w', encoding='utf-8') as f:\n",
    "    json.dump(unique_data, f, ensure_ascii=False, indent=4)\n",
    "\n",
    "# Concatenar os dados de 'attack', 'defense', 'hp', 'sp_atk', 'sp_def', 'speed' ao DataFrame df comparando o \"id\" do df com o \"#\" do unique_data\n",
    "for item in unique_data:\n",
    "    poke_id = item.get(\"#\")\n",
    "    if poke_id and poke_id.isdigit():\n",
    "        poke_id = int(poke_id)\n",
    "\n",
    "        df.loc[df['id'] == poke_id, ['attack', 'defense', 'hp', 'sp_atk', 'sp_def', 'speed', 'total']] = [\n",
    "            int(item.get('Attack')),\n",
    "            int(item.get('Defense')),\n",
    "            int(item.get('HP')),\n",
    "            int(item.get('Sp. Atk')),\n",
    "            int(item.get('Sp. Def')),\n",
    "            int(item.get('Speed')),\n",
    "            int(item.get('Total'))\n",
    "        ]\n",
    "        \n",
    "    \n",
    "# Ordenando colunas\n",
    "df = df[['id', 'name', 'type', 'height', 'weight', 'attack', 'defense', 'hp', 'sp_atk', 'sp_def', 'speed', 'total', 'abilities', 'weakness']]\n",
    "         \n",
    "print(f\"Tamanho do DataFrame após atualização: {df.shape}\\n\\n\")\n",
    "print(df.head())  # Exibir as primeiras linhas do DataFrame atualizado"
   ]
  },
  {
   "cell_type": "code",
   "execution_count": null,
   "id": "71b12020",
   "metadata": {},
   "outputs": [
    {
     "name": "stdout",
     "output_type": "stream",
     "text": [
      "Dados de localizações de captura carregados do cache.\n",
      "Tamanho do DataFrame atualizado: (1025, 15)\n",
      "   id        name             type  height  weight  attack  defense    hp  \\\n",
      "0   1   bulbasaur  [grass, poison]     0.7     6.9    49.0     49.0  45.0   \n",
      "1   2     ivysaur  [grass, poison]     1.0    13.0    62.0     63.0  60.0   \n",
      "2   3    venusaur  [grass, poison]     2.0   100.0    82.0     83.0  80.0   \n",
      "3   4  charmander           [fire]     0.6     8.5    52.0     43.0  39.0   \n",
      "4   5  charmeleon           [fire]     1.1    19.0    64.0     58.0  58.0   \n",
      "\n",
      "   sp_atk  sp_def  speed  total   abilities                      weakness  \\\n",
      "0    65.0    65.0   45.0  318.0  [overgrow]  [fire, ice, flying, psychic]   \n",
      "1    80.0    80.0   60.0  405.0  [overgrow]  [fire, ice, flying, psychic]   \n",
      "2   100.0   100.0   80.0  525.0  [overgrow]  [fire, ice, flying, psychic]   \n",
      "3    60.0    50.0   65.0  309.0     [blaze]         [water, ground, rock]   \n",
      "4    80.0    65.0   80.0  405.0     [blaze]         [water, ground, rock]   \n",
      "\n",
      "                                    capture_location  \n",
      "0  [cerulean-city-area, pallet-town-area, lumiose...  \n",
      "1                                                 []  \n",
      "2                                                 []  \n",
      "3  [pallet-town-area, kanto-route-24-area, lumios...  \n",
      "4                                                 []  \n"
     ]
    }
   ],
   "source": [
    "import requests\n",
    "import time\n",
    "import os\n",
    "\n",
    "# Verificando Cache\n",
    "if os.path.exists('./outputs/pokemon_capture_locations.json'):\n",
    "    df_capture_locations = pd.read_json('./outputs/pokemon_capture_locations.json', orient='records')\n",
    "    df = df.merge(df_capture_locations, on='id', how='outer')\n",
    "    print(\"Dados de localizações de captura carregados do cache.\")\n",
    "    \n",
    "# Resgatando Localizações de Captura \n",
    "else:\n",
    "    def get_capture_locations(number):\n",
    "        url = f\"https://pokeapi.co/api/v2/pokemon/{number}/encounters\"\n",
    "        try:\n",
    "            response = requests.get(url, timeout=10)\n",
    "            if response.status_code == 200:\n",
    "                data = response.json()\n",
    "                \n",
    "                # Extrai o nome dos locais de captura\n",
    "                locations = [loc['location_area']['name'] for loc in data]\n",
    "                # Converte os nomes para minúsculas\n",
    "                locations = [loc.lower() for loc in locations]\n",
    "                return locations\n",
    "            else:\n",
    "                return []\n",
    "        except Exception as e:\n",
    "            return []\n",
    "    \n",
    "    # Adicionar coluna para localizações de captura\n",
    "    df['capture_location'] = None\n",
    "        \n",
    "    # Para cada item da base de dados, resgata as localizações de captura\n",
    "    for index, row in df.iterrows():\n",
    "        number = row['id']\n",
    "        locations = get_capture_locations(number)\n",
    "        print(f\"Localizações de captura para o Pokémon número {number}: {locations}\")\n",
    "        df.at[index, 'capture_location'] = locations\n",
    "        # time.sleep(1)  # Respeitar o limite de requisições\n",
    "\n",
    "    # Salvar a base apenas com colunas ID e locations para resgatar e evitar fazer requisição novamente\n",
    "    df_capture_locations = df[['id', 'capture_location']]\n",
    "    df_capture_locations.to_json('./outputs/pokemon_capture_locations.json', orient='records', force_ascii=False, indent=4)\n",
    "    \n",
    "\n",
    "# Salvar \n",
    "df.to_csv('./outputs/pokemon-basic-db.csv', index=False)\n",
    "\n",
    "print(f\"Tamanho do DataFrame atualizado: {df.shape}\")\n",
    "print(df.head())  # Exibir as primeiras linhas do DataFrame atualizado\n"
   ]
  },
  {
   "cell_type": "code",
   "execution_count": 6,
   "id": "f44da374",
   "metadata": {},
   "outputs": [
    {
     "name": "stdout",
     "output_type": "stream",
     "text": [
      "CSV com one-hot encoding gerado com sucesso!\n",
      "Tamanho do DataFrame final: (1025, 1188)\n",
      "\n",
      "\n",
      "   id        name  height  weight  attack  defense    hp  sp_atk  sp_def  \\\n",
      "0   1   bulbasaur     0.7     6.9    49.0     49.0  45.0    65.0    65.0   \n",
      "1   2     ivysaur     1.0    13.0    62.0     63.0  60.0    80.0    80.0   \n",
      "2   3    venusaur     2.0   100.0    82.0     83.0  80.0   100.0   100.0   \n",
      "3   4  charmander     0.6     8.5    52.0     43.0  39.0    60.0    50.0   \n",
      "4   5  charmeleon     1.1    19.0    64.0     58.0  58.0    80.0    65.0   \n",
      "\n",
      "   speed  ...  location_ultra-space-ultra-desert  \\\n",
      "0   45.0  ...                                  0   \n",
      "1   60.0  ...                                  0   \n",
      "2   80.0  ...                                  0   \n",
      "3   65.0  ...                                  0   \n",
      "4   80.0  ...                                  0   \n",
      "\n",
      "   location_verdant-cavern--trial-site-area  location_ultra-space-ultra-plant  \\\n",
      "0                                         0                                 0   \n",
      "1                                         0                                 0   \n",
      "2                                         0                                 0   \n",
      "3                                         0                                 0   \n",
      "4                                         0                                 0   \n",
      "\n",
      "   location_lush-jungle-all-areas  location_ultra-space-ultra-crater  \\\n",
      "0                               0                                  0   \n",
      "1                               0                                  0   \n",
      "2                               0                                  0   \n",
      "3                               0                                  0   \n",
      "4                               0                                  0   \n",
      "\n",
      "   location_ultra-space-ultra-forest  location_alola-route-17-all-areas  \\\n",
      "0                                  0                                  0   \n",
      "1                                  0                                  0   \n",
      "2                                  0                                  0   \n",
      "3                                  0                                  0   \n",
      "4                                  0                                  0   \n",
      "\n",
      "   location_ultra-space-ultra-ruin  location_mount-lanakila-peak  \\\n",
      "0                                0                             0   \n",
      "1                                0                             0   \n",
      "2                                0                             0   \n",
      "3                                0                             0   \n",
      "4                                0                             0   \n",
      "\n",
      "   location_ultra-megalopolis-area  \n",
      "0                                0  \n",
      "1                                0  \n",
      "2                                0  \n",
      "3                                0  \n",
      "4                                0  \n",
      "\n",
      "[5 rows x 1188 columns]\n"
     ]
    }
   ],
   "source": [
    "# One-hot encoding para cada campo de array\n",
    "\n",
    "# Garante que os campos de array estejam como listas (caso estejam ausentes)\n",
    "for col in ['abilities', 'type', 'weakness', 'capture_location']:\n",
    "    df[col] = df[col].apply(lambda x: x if isinstance(x, list) else [])\n",
    "\n",
    "# Extrair valores únicos de habilidades, tipos, fraquezas e localizações de captura\n",
    "abilities_dummies = df['abilities'].explode().str.strip().str.lower().dropna().unique()\n",
    "type_dummies = df['type'].explode().str.strip().str.lower().dropna().unique()\n",
    "weakness_dummies = df['weakness'].explode().str.strip().str.lower().dropna().unique()\n",
    "capture_location_dummies = df['capture_location'].explode().str.strip().str.lower().dropna().unique()\n",
    "\n",
    "# Para cada habilidade, tipo, fraqueza e localização de captura, cria colunas one-hot verificando se o valor está presente\n",
    "df_abilities = df['abilities'].apply(lambda x: pd.Series({f'ability_{a}': int(a in x) for a in abilities_dummies}))\n",
    "df_type = df['type'].apply(lambda x: pd.Series({f'type_{t}': int(t in x) for t in type_dummies}))\n",
    "df_weakness = df['weakness'].apply(lambda x: pd.Series({f'weakness_{w}': int(w in x) for w in weakness_dummies}))\n",
    "df_capture_location = df['capture_location'].apply(lambda x: pd.Series({f'location_{l}': int(l in x) for l in capture_location_dummies}))\n",
    "\n",
    "# Concatenar tudo\n",
    "df_final = pd.concat([\n",
    "    df.drop(['abilities', 'type', 'weakness', 'capture_location'], axis=1),\n",
    "    df_abilities,\n",
    "    df_type,\n",
    "    df_weakness,\n",
    "    df_capture_location\n",
    "], axis=1)\n",
    "\n",
    "# Salvar em CSV\n",
    "df_final.to_csv('./outputs/pokedex-encoded-db.csv', index=False, encoding='utf-8')\n",
    "\n",
    "print(\"CSV com one-hot encoding gerado com sucesso!\")\n",
    "print(f\"Tamanho do DataFrame final: {df_final.shape}\\n\\n\")\n",
    "print(df_final.head(5))"
   ]
  },
  {
   "cell_type": "markdown",
   "id": "2dc85bfa",
   "metadata": {},
   "source": [
    "## Dicionário de dados"
   ]
  },
  {
   "cell_type": "code",
   "execution_count": 7,
   "id": "cce6b5ce",
   "metadata": {},
   "outputs": [
    {
     "data": {
      "application/vnd.plotly.v1+json": {
       "config": {
        "plotlyServerURL": "https://plot.ly"
       },
       "data": [
        {
         "cells": {
          "align": "left",
          "fill": {
           "color": "lavender"
          },
          "values": [
           [
            "id",
            "name",
            "type",
            "height",
            "weight",
            "attack",
            "defense",
            "hp",
            "sp_atk",
            "sp_def",
            "speed",
            "total",
            "abilities",
            "weakness",
            "capture_location"
           ],
           [
            "int",
            "str",
            "list[str]",
            "float",
            "float",
            "int",
            "int",
            "int",
            "int",
            "int",
            "int",
            "int",
            "list[str]",
            "list[str]",
            "list[str]"
           ],
           [
            "Numérico",
            "Categórico",
            "Categórico (lista)",
            "Numérico",
            "Numérico",
            "Numérico",
            "Numérico",
            "Numérico",
            "Numérico",
            "Numérico",
            "Numérico",
            "Numérico",
            "Categórico (lista)",
            "Categórico (lista)",
            "Categórico (lista)"
           ],
           [
            "Identificador único do Pokémon (inteiro, corresponde ao número oficial na Pokédex).",
            "Nome do Pokémon.",
            "Lista de tipos do Pokémon (ex: ['grass', 'poison']). Um Pokémon pode ter um ou dois tipos.",
            "Altura do Pokémon em metros (float, ex: 0.7).",
            "Peso do Pokémon em quilogramas (float, ex: 6.9).",
            "Valor numérico do atributo de ataque base do Pokémon.",
            "Valor numérico do atributo de defesa base do Pokémon.",
            "Valor numérico dos pontos de vida (HP) base do Pokémon.",
            "Valor numérico do ataque especial base do Pokémon.",
            "Valor numérico da defesa especial base do Pokémon.",
            "Valor numérico da velocidade base do Pokémon.",
            "Soma total dos atributos base (attack, defense, hp, sp_atk, sp_def, speed) do Pokémon.",
            "Lista de habilidades do Pokémon (ex: ['Overgrow', 'Chlorophyll']).",
            "Lista de fraquezas do Pokémon, ou seja, tipos contra os quais ele é vulnerável (ex: ['fire', 'ice']).",
            "Lista de locais onde o Pokémon pode ser capturado nos jogos (ex: ['kanto-route-2', 'kanto-viridian-forest'])."
           ]
          ]
         },
         "header": {
          "align": "left",
          "fill": {
           "color": "paleturquoise"
          },
          "values": [
           "Coluna",
           "Tipo",
           "Formato",
           "Descrição"
          ]
         },
         "type": "table"
        }
       ],
       "layout": {
        "height": 600,
        "template": {
         "data": {
          "bar": [
           {
            "error_x": {
             "color": "#2a3f5f"
            },
            "error_y": {
             "color": "#2a3f5f"
            },
            "marker": {
             "line": {
              "color": "#E5ECF6",
              "width": 0.5
             },
             "pattern": {
              "fillmode": "overlay",
              "size": 10,
              "solidity": 0.2
             }
            },
            "type": "bar"
           }
          ],
          "barpolar": [
           {
            "marker": {
             "line": {
              "color": "#E5ECF6",
              "width": 0.5
             },
             "pattern": {
              "fillmode": "overlay",
              "size": 10,
              "solidity": 0.2
             }
            },
            "type": "barpolar"
           }
          ],
          "carpet": [
           {
            "aaxis": {
             "endlinecolor": "#2a3f5f",
             "gridcolor": "white",
             "linecolor": "white",
             "minorgridcolor": "white",
             "startlinecolor": "#2a3f5f"
            },
            "baxis": {
             "endlinecolor": "#2a3f5f",
             "gridcolor": "white",
             "linecolor": "white",
             "minorgridcolor": "white",
             "startlinecolor": "#2a3f5f"
            },
            "type": "carpet"
           }
          ],
          "choropleth": [
           {
            "colorbar": {
             "outlinewidth": 0,
             "ticks": ""
            },
            "type": "choropleth"
           }
          ],
          "contour": [
           {
            "colorbar": {
             "outlinewidth": 0,
             "ticks": ""
            },
            "colorscale": [
             [
              0,
              "#0d0887"
             ],
             [
              0.1111111111111111,
              "#46039f"
             ],
             [
              0.2222222222222222,
              "#7201a8"
             ],
             [
              0.3333333333333333,
              "#9c179e"
             ],
             [
              0.4444444444444444,
              "#bd3786"
             ],
             [
              0.5555555555555556,
              "#d8576b"
             ],
             [
              0.6666666666666666,
              "#ed7953"
             ],
             [
              0.7777777777777778,
              "#fb9f3a"
             ],
             [
              0.8888888888888888,
              "#fdca26"
             ],
             [
              1,
              "#f0f921"
             ]
            ],
            "type": "contour"
           }
          ],
          "contourcarpet": [
           {
            "colorbar": {
             "outlinewidth": 0,
             "ticks": ""
            },
            "type": "contourcarpet"
           }
          ],
          "heatmap": [
           {
            "colorbar": {
             "outlinewidth": 0,
             "ticks": ""
            },
            "colorscale": [
             [
              0,
              "#0d0887"
             ],
             [
              0.1111111111111111,
              "#46039f"
             ],
             [
              0.2222222222222222,
              "#7201a8"
             ],
             [
              0.3333333333333333,
              "#9c179e"
             ],
             [
              0.4444444444444444,
              "#bd3786"
             ],
             [
              0.5555555555555556,
              "#d8576b"
             ],
             [
              0.6666666666666666,
              "#ed7953"
             ],
             [
              0.7777777777777778,
              "#fb9f3a"
             ],
             [
              0.8888888888888888,
              "#fdca26"
             ],
             [
              1,
              "#f0f921"
             ]
            ],
            "type": "heatmap"
           }
          ],
          "histogram": [
           {
            "marker": {
             "pattern": {
              "fillmode": "overlay",
              "size": 10,
              "solidity": 0.2
             }
            },
            "type": "histogram"
           }
          ],
          "histogram2d": [
           {
            "colorbar": {
             "outlinewidth": 0,
             "ticks": ""
            },
            "colorscale": [
             [
              0,
              "#0d0887"
             ],
             [
              0.1111111111111111,
              "#46039f"
             ],
             [
              0.2222222222222222,
              "#7201a8"
             ],
             [
              0.3333333333333333,
              "#9c179e"
             ],
             [
              0.4444444444444444,
              "#bd3786"
             ],
             [
              0.5555555555555556,
              "#d8576b"
             ],
             [
              0.6666666666666666,
              "#ed7953"
             ],
             [
              0.7777777777777778,
              "#fb9f3a"
             ],
             [
              0.8888888888888888,
              "#fdca26"
             ],
             [
              1,
              "#f0f921"
             ]
            ],
            "type": "histogram2d"
           }
          ],
          "histogram2dcontour": [
           {
            "colorbar": {
             "outlinewidth": 0,
             "ticks": ""
            },
            "colorscale": [
             [
              0,
              "#0d0887"
             ],
             [
              0.1111111111111111,
              "#46039f"
             ],
             [
              0.2222222222222222,
              "#7201a8"
             ],
             [
              0.3333333333333333,
              "#9c179e"
             ],
             [
              0.4444444444444444,
              "#bd3786"
             ],
             [
              0.5555555555555556,
              "#d8576b"
             ],
             [
              0.6666666666666666,
              "#ed7953"
             ],
             [
              0.7777777777777778,
              "#fb9f3a"
             ],
             [
              0.8888888888888888,
              "#fdca26"
             ],
             [
              1,
              "#f0f921"
             ]
            ],
            "type": "histogram2dcontour"
           }
          ],
          "mesh3d": [
           {
            "colorbar": {
             "outlinewidth": 0,
             "ticks": ""
            },
            "type": "mesh3d"
           }
          ],
          "parcoords": [
           {
            "line": {
             "colorbar": {
              "outlinewidth": 0,
              "ticks": ""
             }
            },
            "type": "parcoords"
           }
          ],
          "pie": [
           {
            "automargin": true,
            "type": "pie"
           }
          ],
          "scatter": [
           {
            "fillpattern": {
             "fillmode": "overlay",
             "size": 10,
             "solidity": 0.2
            },
            "type": "scatter"
           }
          ],
          "scatter3d": [
           {
            "line": {
             "colorbar": {
              "outlinewidth": 0,
              "ticks": ""
             }
            },
            "marker": {
             "colorbar": {
              "outlinewidth": 0,
              "ticks": ""
             }
            },
            "type": "scatter3d"
           }
          ],
          "scattercarpet": [
           {
            "marker": {
             "colorbar": {
              "outlinewidth": 0,
              "ticks": ""
             }
            },
            "type": "scattercarpet"
           }
          ],
          "scattergeo": [
           {
            "marker": {
             "colorbar": {
              "outlinewidth": 0,
              "ticks": ""
             }
            },
            "type": "scattergeo"
           }
          ],
          "scattergl": [
           {
            "marker": {
             "colorbar": {
              "outlinewidth": 0,
              "ticks": ""
             }
            },
            "type": "scattergl"
           }
          ],
          "scattermap": [
           {
            "marker": {
             "colorbar": {
              "outlinewidth": 0,
              "ticks": ""
             }
            },
            "type": "scattermap"
           }
          ],
          "scattermapbox": [
           {
            "marker": {
             "colorbar": {
              "outlinewidth": 0,
              "ticks": ""
             }
            },
            "type": "scattermapbox"
           }
          ],
          "scatterpolar": [
           {
            "marker": {
             "colorbar": {
              "outlinewidth": 0,
              "ticks": ""
             }
            },
            "type": "scatterpolar"
           }
          ],
          "scatterpolargl": [
           {
            "marker": {
             "colorbar": {
              "outlinewidth": 0,
              "ticks": ""
             }
            },
            "type": "scatterpolargl"
           }
          ],
          "scatterternary": [
           {
            "marker": {
             "colorbar": {
              "outlinewidth": 0,
              "ticks": ""
             }
            },
            "type": "scatterternary"
           }
          ],
          "surface": [
           {
            "colorbar": {
             "outlinewidth": 0,
             "ticks": ""
            },
            "colorscale": [
             [
              0,
              "#0d0887"
             ],
             [
              0.1111111111111111,
              "#46039f"
             ],
             [
              0.2222222222222222,
              "#7201a8"
             ],
             [
              0.3333333333333333,
              "#9c179e"
             ],
             [
              0.4444444444444444,
              "#bd3786"
             ],
             [
              0.5555555555555556,
              "#d8576b"
             ],
             [
              0.6666666666666666,
              "#ed7953"
             ],
             [
              0.7777777777777778,
              "#fb9f3a"
             ],
             [
              0.8888888888888888,
              "#fdca26"
             ],
             [
              1,
              "#f0f921"
             ]
            ],
            "type": "surface"
           }
          ],
          "table": [
           {
            "cells": {
             "fill": {
              "color": "#EBF0F8"
             },
             "line": {
              "color": "white"
             }
            },
            "header": {
             "fill": {
              "color": "#C8D4E3"
             },
             "line": {
              "color": "white"
             }
            },
            "type": "table"
           }
          ]
         },
         "layout": {
          "annotationdefaults": {
           "arrowcolor": "#2a3f5f",
           "arrowhead": 0,
           "arrowwidth": 1
          },
          "autotypenumbers": "strict",
          "coloraxis": {
           "colorbar": {
            "outlinewidth": 0,
            "ticks": ""
           }
          },
          "colorscale": {
           "diverging": [
            [
             0,
             "#8e0152"
            ],
            [
             0.1,
             "#c51b7d"
            ],
            [
             0.2,
             "#de77ae"
            ],
            [
             0.3,
             "#f1b6da"
            ],
            [
             0.4,
             "#fde0ef"
            ],
            [
             0.5,
             "#f7f7f7"
            ],
            [
             0.6,
             "#e6f5d0"
            ],
            [
             0.7,
             "#b8e186"
            ],
            [
             0.8,
             "#7fbc41"
            ],
            [
             0.9,
             "#4d9221"
            ],
            [
             1,
             "#276419"
            ]
           ],
           "sequential": [
            [
             0,
             "#0d0887"
            ],
            [
             0.1111111111111111,
             "#46039f"
            ],
            [
             0.2222222222222222,
             "#7201a8"
            ],
            [
             0.3333333333333333,
             "#9c179e"
            ],
            [
             0.4444444444444444,
             "#bd3786"
            ],
            [
             0.5555555555555556,
             "#d8576b"
            ],
            [
             0.6666666666666666,
             "#ed7953"
            ],
            [
             0.7777777777777778,
             "#fb9f3a"
            ],
            [
             0.8888888888888888,
             "#fdca26"
            ],
            [
             1,
             "#f0f921"
            ]
           ],
           "sequentialminus": [
            [
             0,
             "#0d0887"
            ],
            [
             0.1111111111111111,
             "#46039f"
            ],
            [
             0.2222222222222222,
             "#7201a8"
            ],
            [
             0.3333333333333333,
             "#9c179e"
            ],
            [
             0.4444444444444444,
             "#bd3786"
            ],
            [
             0.5555555555555556,
             "#d8576b"
            ],
            [
             0.6666666666666666,
             "#ed7953"
            ],
            [
             0.7777777777777778,
             "#fb9f3a"
            ],
            [
             0.8888888888888888,
             "#fdca26"
            ],
            [
             1,
             "#f0f921"
            ]
           ]
          },
          "colorway": [
           "#636efa",
           "#EF553B",
           "#00cc96",
           "#ab63fa",
           "#FFA15A",
           "#19d3f3",
           "#FF6692",
           "#B6E880",
           "#FF97FF",
           "#FECB52"
          ],
          "font": {
           "color": "#2a3f5f"
          },
          "geo": {
           "bgcolor": "white",
           "lakecolor": "white",
           "landcolor": "#E5ECF6",
           "showlakes": true,
           "showland": true,
           "subunitcolor": "white"
          },
          "hoverlabel": {
           "align": "left"
          },
          "hovermode": "closest",
          "mapbox": {
           "style": "light"
          },
          "paper_bgcolor": "white",
          "plot_bgcolor": "#E5ECF6",
          "polar": {
           "angularaxis": {
            "gridcolor": "white",
            "linecolor": "white",
            "ticks": ""
           },
           "bgcolor": "#E5ECF6",
           "radialaxis": {
            "gridcolor": "white",
            "linecolor": "white",
            "ticks": ""
           }
          },
          "scene": {
           "xaxis": {
            "backgroundcolor": "#E5ECF6",
            "gridcolor": "white",
            "gridwidth": 2,
            "linecolor": "white",
            "showbackground": true,
            "ticks": "",
            "zerolinecolor": "white"
           },
           "yaxis": {
            "backgroundcolor": "#E5ECF6",
            "gridcolor": "white",
            "gridwidth": 2,
            "linecolor": "white",
            "showbackground": true,
            "ticks": "",
            "zerolinecolor": "white"
           },
           "zaxis": {
            "backgroundcolor": "#E5ECF6",
            "gridcolor": "white",
            "gridwidth": 2,
            "linecolor": "white",
            "showbackground": true,
            "ticks": "",
            "zerolinecolor": "white"
           }
          },
          "shapedefaults": {
           "line": {
            "color": "#2a3f5f"
           }
          },
          "ternary": {
           "aaxis": {
            "gridcolor": "white",
            "linecolor": "white",
            "ticks": ""
           },
           "baxis": {
            "gridcolor": "white",
            "linecolor": "white",
            "ticks": ""
           },
           "bgcolor": "#E5ECF6",
           "caxis": {
            "gridcolor": "white",
            "linecolor": "white",
            "ticks": ""
           }
          },
          "title": {
           "x": 0.05
          },
          "xaxis": {
           "automargin": true,
           "gridcolor": "white",
           "linecolor": "white",
           "ticks": "",
           "title": {
            "standoff": 15
           },
           "zerolinecolor": "white",
           "zerolinewidth": 2
          },
          "yaxis": {
           "automargin": true,
           "gridcolor": "white",
           "linecolor": "white",
           "ticks": "",
           "title": {
            "standoff": 15
           },
           "zerolinecolor": "white",
           "zerolinewidth": 2
          }
         }
        },
        "title": {
         "text": "Dicionário de Dados - DataFrame Básico"
        },
        "width": 1200
       }
      }
     },
     "metadata": {},
     "output_type": "display_data"
    }
   ],
   "source": [
    "import plotly.graph_objects as go\n",
    "\n",
    "# Defina o dicionário de dados\n",
    "data_dictionary = [\n",
    "    {\"Coluna\": \"id\", \"Tipo\": \"int\", \"Formato\": \"Numérico\", \"Descrição\": \"Identificador único do Pokémon (inteiro, corresponde ao número oficial na Pokédex).\"},\n",
    "    {\"Coluna\": \"name\", \"Tipo\": \"str\", \"Formato\": \"Categórico\", \"Descrição\": \"Nome do Pokémon.\"},\n",
    "    {\"Coluna\": \"type\", \"Tipo\": \"list[str]\", \"Formato\": \"Categórico (lista)\", \"Descrição\": \"Lista de tipos do Pokémon (ex: ['grass', 'poison']). Um Pokémon pode ter um ou dois tipos.\"},\n",
    "    {\"Coluna\": \"height\", \"Tipo\": \"float\", \"Formato\": \"Numérico\", \"Descrição\": \"Altura do Pokémon em metros (float, ex: 0.7).\"},\n",
    "    {\"Coluna\": \"weight\", \"Tipo\": \"float\", \"Formato\": \"Numérico\", \"Descrição\": \"Peso do Pokémon em quilogramas (float, ex: 6.9).\"},\n",
    "    {\"Coluna\": \"attack\", \"Tipo\": \"int\", \"Formato\": \"Numérico\", \"Descrição\": \"Valor numérico do atributo de ataque base do Pokémon.\"},\n",
    "    {\"Coluna\": \"defense\", \"Tipo\": \"int\", \"Formato\": \"Numérico\", \"Descrição\": \"Valor numérico do atributo de defesa base do Pokémon.\"},\n",
    "    {\"Coluna\": \"hp\", \"Tipo\": \"int\", \"Formato\": \"Numérico\", \"Descrição\": \"Valor numérico dos pontos de vida (HP) base do Pokémon.\"},\n",
    "    {\"Coluna\": \"sp_atk\", \"Tipo\": \"int\", \"Formato\": \"Numérico\", \"Descrição\": \"Valor numérico do ataque especial base do Pokémon.\"},\n",
    "    {\"Coluna\": \"sp_def\", \"Tipo\": \"int\", \"Formato\": \"Numérico\", \"Descrição\": \"Valor numérico da defesa especial base do Pokémon.\"},\n",
    "    {\"Coluna\": \"speed\", \"Tipo\": \"int\", \"Formato\": \"Numérico\", \"Descrição\": \"Valor numérico da velocidade base do Pokémon.\"},\n",
    "    {\"Coluna\": \"total\", \"Tipo\": \"int\", \"Formato\": \"Numérico\", \"Descrição\": \"Soma total dos atributos base (attack, defense, hp, sp_atk, sp_def, speed) do Pokémon.\"},\n",
    "    {\"Coluna\": \"abilities\", \"Tipo\": \"list[str]\", \"Formato\": \"Categórico (lista)\", \"Descrição\": \"Lista de habilidades do Pokémon (ex: ['Overgrow', 'Chlorophyll']).\"},\n",
    "    {\"Coluna\": \"weakness\", \"Tipo\": \"list[str]\", \"Formato\": \"Categórico (lista)\", \"Descrição\": \"Lista de fraquezas do Pokémon, ou seja, tipos contra os quais ele é vulnerável (ex: ['fire', 'ice']).\"},\n",
    "    {\"Coluna\": \"capture_location\", \"Tipo\": \"list[str]\", \"Formato\": \"Categórico (lista)\", \"Descrição\": \"Lista de locais onde o Pokémon pode ser capturado nos jogos (ex: ['kanto-route-2', 'kanto-viridian-forest']).\"}\n",
    "]\n",
    "\n",
    "# Crie a tabela com plotly\n",
    "fig = go.Figure(data=[go.Table(\n",
    "    header=dict(values=[\"Coluna\", \"Tipo\", \"Formato\", \"Descrição\"], fill_color='paleturquoise', align='left'),\n",
    "    cells=dict(values=[\n",
    "        [d[\"Coluna\"] for d in data_dictionary],\n",
    "        [d[\"Tipo\"] for d in data_dictionary],\n",
    "        [d[\"Formato\"] for d in data_dictionary],\n",
    "        [d[\"Descrição\"] for d in data_dictionary]\n",
    "    ], fill_color='lavender', align='left')\n",
    ")])\n",
    "\n",
    "fig.update_layout(width=1200, height=600, title=\"Dicionário de Dados - DataFrame Básico\")"
   ]
  }
 ],
 "metadata": {
  "kernelspec": {
   "display_name": "Python 3",
   "language": "python",
   "name": "python3"
  },
  "language_info": {
   "codemirror_mode": {
    "name": "ipython",
    "version": 3
   },
   "file_extension": ".py",
   "mimetype": "text/x-python",
   "name": "python",
   "nbconvert_exporter": "python",
   "pygments_lexer": "ipython3",
   "version": "3.12.4"
  }
 },
 "nbformat": 4,
 "nbformat_minor": 5
}
