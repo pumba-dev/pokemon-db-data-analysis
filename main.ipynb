{
 "cells": [
  {
   "cell_type": "code",
   "execution_count": null,
   "id": "f44da374",
   "metadata": {},
   "outputs": [
    {
     "name": "stdout",
     "output_type": "stream",
     "text": [
      "CSV com one-hot encoding gerado com sucesso!\n"
     ]
    }
   ],
   "source": [
    "# Parse Dex JSON to CSV com One-hot encoding para arrays\n",
    "import json\n",
    "import pandas as pd\n",
    "\n",
    "# Ler o JSON\n",
    "with open('./pokedex-db.json', \"r\", encoding=\"utf-8\") as f:\n",
    "    pokedex_data = json.load(f)\n",
    "\n",
    "# Converter para DataFrame\n",
    "df = pd.DataFrame(pokedex_data)\n",
    "\n",
    "# Garante que os campos de array estejam como listas (caso estejam ausentes)\n",
    "for col in ['abilities', 'type', 'weakness']:\n",
    "    df[col] = df[col].apply(lambda x: x if isinstance(x, list) else [])\n",
    "\n",
    "# One-hot encoding para cada campo de array\n",
    "abilities_dummies = df['abilities'].explode().str.strip().str.lower().str.title().dropna().unique()\n",
    "type_dummies = df['type'].explode().str.strip().str.lower().str.title().dropna().unique()\n",
    "weakness_dummies = df['weakness'].explode().str.strip().str.lower().str.title().dropna().unique()\n",
    "\n",
    "df_abilities = df['abilities'].apply(lambda x: pd.Series({f'ability_{a}': int(a in x) for a in abilities_dummies}))\n",
    "df_type = df['type'].apply(lambda x: pd.Series({f'type_{t}': int(t in x) for t in type_dummies}))\n",
    "df_weakness = df['weakness'].apply(lambda x: pd.Series({f'weakness_{w}': int(w in x) for w in weakness_dummies}))\n",
    "\n",
    "# Concatenar tudo\n",
    "df_final = pd.concat([\n",
    "    df.drop(['abilities', 'type', 'weakness'], axis=1),\n",
    "    df_abilities,\n",
    "    df_type,\n",
    "    df_weakness\n",
    "], axis=1)\n",
    "\n",
    "# Salvar em CSV\n",
    "df_final.to_csv('pokedex-db-parsed.csv', index=False, encoding='utf-8')\n",
    "\n",
    "print(\"CSV com one-hot encoding gerado com sucesso!\")"
   ]
  },
  {
   "cell_type": "code",
   "execution_count": null,
   "id": "71b12020",
   "metadata": {},
   "outputs": [],
   "source": [
    "import requests\n",
    "import time\n",
    "\n",
    "def get_capture_locations(number):\n",
    "    url = f\"https://pokeapi.co/api/v2/pokemon/{number}/encounters\"\n",
    "    try:\n",
    "        response = requests.get(url, timeout=10)\n",
    "        if response.status_code == 200:\n",
    "            data = response.json()\n",
    "            # Extrai o nome dos locais de captura\n",
    "            locations = [loc['location_area']['name'] for loc in data]\n",
    "            return locations\n",
    "        else:\n",
    "            return []\n",
    "    except Exception as e:\n",
    "        return []\n",
    "\n",
    "# Adiciona a coluna de locais de captura (como lista)\n",
    "df_final['capture_locations'] = df_final['number'].apply(get_capture_locations)\n",
    "\n",
    "# Aguarda um pouco entre as requisições para não sobrecarregar a API\n",
    "# (Opcional: descomente a linha abaixo se quiser ser mais cuidadoso)\n",
    "time.sleep(0.2)\n",
    "\n",
    "# Coleta todos os locais únicos\n",
    "all_locations = set()\n",
    "for locs in df_final['capture_locations']:\n",
    "    all_locations.update(locs)\n",
    "all_locations = sorted(all_locations)\n",
    "\n",
    "# One-hot encoding dos locais de captura\n",
    "for loc in all_locations:\n",
    "    col_name = f'capture_{loc}'\n",
    "    df_final[col_name] = df_final['capture_locations'].apply(lambda x: int(loc in x))\n",
    "\n",
    "# (Opcional) Remova a coluna de lista se quiser só as one-hot\n",
    "# df_final = df_final.drop(columns=['capture_locations'])\n",
    "\n",
    "# Salva novamente o CSV com as novas colunas\n",
    "df_final.to_csv('pokedex-db-with-regions.csv', index=False, encoding='utf-8')\n",
    "\n",
    "print(\"Locais de captura adicionados e one-hot encoding realizado com sucesso!\")\n",
    "\n",
    "print(df_final.head())  # Exibe as primeiras linhas do DataFrame final"
   ]
  }
 ],
 "metadata": {
  "kernelspec": {
   "display_name": "Python 3",
   "language": "python",
   "name": "python3"
  },
  "language_info": {
   "codemirror_mode": {
    "name": "ipython",
    "version": 3
   },
   "file_extension": ".py",
   "mimetype": "text/x-python",
   "name": "python",
   "nbconvert_exporter": "python",
   "pygments_lexer": "ipython3",
   "version": "3.12.4"
  }
 },
 "nbformat": 4,
 "nbformat_minor": 5
}
